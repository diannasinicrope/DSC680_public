{
 "cells": [
  {
   "cell_type": "code",
   "execution_count": 25,
   "metadata": {},
   "outputs": [],
   "source": [
    "import plotly.express as px\n",
    "import pandas as pd\n",
    "import plotly"
   ]
  },
  {
   "cell_type": "code",
   "execution_count": 26,
   "metadata": {},
   "outputs": [
    {
     "data": {
      "text/html": [
       "<div>\n",
       "<style scoped>\n",
       "    .dataframe tbody tr th:only-of-type {\n",
       "        vertical-align: middle;\n",
       "    }\n",
       "\n",
       "    .dataframe tbody tr th {\n",
       "        vertical-align: top;\n",
       "    }\n",
       "\n",
       "    .dataframe thead th {\n",
       "        text-align: right;\n",
       "    }\n",
       "</style>\n",
       "<table border=\"1\" class=\"dataframe\">\n",
       "  <thead>\n",
       "    <tr style=\"text-align: right;\">\n",
       "      <th></th>\n",
       "      <th>ID Match</th>\n",
       "      <th>CV</th>\n",
       "      <th>Sessions</th>\n",
       "      <th>Users</th>\n",
       "      <th>Productivity</th>\n",
       "      <th>Team</th>\n",
       "      <th>TEAMID</th>\n",
       "      <th>Person still here?</th>\n",
       "    </tr>\n",
       "  </thead>\n",
       "  <tbody>\n",
       "    <tr>\n",
       "      <td>0</td>\n",
       "      <td>reporter1</td>\n",
       "      <td>32981448</td>\n",
       "      <td>28159735</td>\n",
       "      <td>8397483</td>\n",
       "      <td>1347</td>\n",
       "      <td>News</td>\n",
       "      <td>1</td>\n",
       "      <td>Active</td>\n",
       "    </tr>\n",
       "    <tr>\n",
       "      <td>1</td>\n",
       "      <td>reporter2</td>\n",
       "      <td>15239051</td>\n",
       "      <td>13048773</td>\n",
       "      <td>8602754</td>\n",
       "      <td>684</td>\n",
       "      <td>News</td>\n",
       "      <td>1</td>\n",
       "      <td>Active</td>\n",
       "    </tr>\n",
       "    <tr>\n",
       "      <td>2</td>\n",
       "      <td>reporter3</td>\n",
       "      <td>15227333</td>\n",
       "      <td>11083841</td>\n",
       "      <td>5605578</td>\n",
       "      <td>608</td>\n",
       "      <td>News</td>\n",
       "      <td>1</td>\n",
       "      <td>Active</td>\n",
       "    </tr>\n",
       "    <tr>\n",
       "      <td>3</td>\n",
       "      <td>reporter4</td>\n",
       "      <td>15129163</td>\n",
       "      <td>12856806</td>\n",
       "      <td>4806779</td>\n",
       "      <td>555</td>\n",
       "      <td>News</td>\n",
       "      <td>1</td>\n",
       "      <td>Active</td>\n",
       "    </tr>\n",
       "    <tr>\n",
       "      <td>4</td>\n",
       "      <td>reporter5</td>\n",
       "      <td>14449063</td>\n",
       "      <td>12293259</td>\n",
       "      <td>2912920</td>\n",
       "      <td>1201</td>\n",
       "      <td>Pro Sports</td>\n",
       "      <td>2</td>\n",
       "      <td>Active</td>\n",
       "    </tr>\n",
       "  </tbody>\n",
       "</table>\n",
       "</div>"
      ],
      "text/plain": [
       "    ID Match        CV  Sessions    Users  Productivity        Team  TEAMID  \\\n",
       "0  reporter1  32981448  28159735  8397483          1347        News       1   \n",
       "1  reporter2  15239051  13048773  8602754           684        News       1   \n",
       "2  reporter3  15227333  11083841  5605578           608        News       1   \n",
       "3  reporter4  15129163  12856806  4806779           555        News       1   \n",
       "4  reporter5  14449063  12293259  2912920          1201  Pro Sports       2   \n",
       "\n",
       "  Person still here?  \n",
       "0             Active  \n",
       "1             Active  \n",
       "2             Active  \n",
       "3             Active  \n",
       "4             Active  "
      ]
     },
     "execution_count": 26,
     "metadata": {},
     "output_type": "execute_result"
    }
   ],
   "source": [
    "# read in csv\n",
    "file = '/Users/dsinicro/Desktop/FAUXDATA2019TotalBaseballCardfromMA.csv'\n",
    "df = pd.read_csv(file, index_col=False, header=0)\n",
    "df.head()"
   ]
  },
  {
   "cell_type": "code",
   "execution_count": 27,
   "metadata": {},
   "outputs": [],
   "source": [
    "# Create a df to exlcude reporter1 bc huge outlier\n",
    "\n",
    "df_exclreporter1= df[df['ID Match'] != 'reporter1']"
   ]
  },
  {
   "cell_type": "code",
   "execution_count": 28,
   "metadata": {
    "scrolled": false
   },
   "outputs": [
    {
     "data": {
      "application/vnd.plotly.v1+json": {
       "config": {
        "plotlyServerURL": "https://plot.ly"
       },
       "data": [
        {
         "dimensions": [
          {
           "label": "CV",
           "values": [
            32981448,
            15239051,
            15227333,
            15129163,
            14449063,
            13875398,
            11032010,
            10493866,
            10100263,
            9931112,
            9284465,
            8731923,
            8483893,
            8308101,
            7830570,
            7653566,
            7423919,
            6725939,
            6715653,
            6693322,
            6581319,
            6506326,
            6413386,
            6271736,
            6054364,
            5971873,
            5395767,
            5039634,
            4746436,
            4633493,
            4548830,
            4485460,
            4464487,
            4392585,
            4315746,
            4275258,
            4024236,
            3995978,
            3968698,
            3963086,
            3938843,
            3889447,
            3722741,
            3480795,
            3442594,
            3325928,
            3247791,
            3245435,
            3186564,
            3120293,
            3106786,
            3080586,
            3076441,
            2973911,
            2919604,
            2897260,
            2668679,
            2666488,
            2491960,
            2331106,
            2313381,
            2306829,
            2298984,
            2276027,
            2197694,
            2188947,
            2178883,
            2048102,
            1494412,
            1389167,
            1367267,
            1123008,
            1019768,
            764832,
            732616,
            670406,
            578632,
            429207,
            415534,
            390632,
            375587,
            350911,
            301061,
            183553,
            156464,
            133516,
            113428,
            104081,
            87367,
            84589,
            31659,
            29688
           ]
          },
          {
           "label": "Users",
           "values": [
            8397483,
            8602754,
            5605578,
            4806779,
            2912920,
            10466241,
            4602489,
            3992132,
            8205363,
            3759147,
            5137170,
            2119223,
            3838321,
            2031770,
            3337093,
            4249110,
            4338116,
            278516,
            3507308,
            3570942,
            3462339,
            3067761,
            3515539,
            3101578,
            3071640,
            3087026,
            2474047,
            2020916,
            1942461,
            2126480,
            2335376,
            1965884,
            2210381,
            1260584,
            2360551,
            2330972,
            1929330,
            2226304,
            1858928,
            2316126,
            1829373,
            1826552,
            1921500,
            655071,
            2775037,
            1710315,
            1690020,
            1589114,
            1495599,
            1487155,
            1529913,
            1046106,
            1811427,
            870837,
            1616449,
            3296669,
            600362,
            1655880,
            756696,
            817105,
            645025,
            576991,
            1228829,
            400044,
            1239268,
            504970,
            541620,
            925595,
            744130,
            771380,
            635576,
            297039,
            224646,
            697417,
            403281,
            478358,
            425223,
            616370,
            298286,
            215624,
            224412,
            316740,
            264598,
            215568,
            122367,
            296829,
            186926,
            877868,
            100292,
            58568,
            31197,
            29805
           ]
          },
          {
           "label": "Productivity",
           "values": [
            1347,
            684,
            608,
            555,
            1201,
            3009,
            477,
            1026,
            1240,
            415,
            709,
            1055,
            305,
            883,
            348,
            1114,
            244,
            213,
            206,
            1012,
            229,
            275,
            214,
            84,
            345,
            1246,
            603,
            1071,
            316,
            391,
            186,
            1181,
            223,
            664,
            127,
            160,
            186,
            174,
            112,
            209,
            166,
            168,
            177,
            1744,
            152,
            185,
            152,
            99,
            154,
            113,
            86,
            221,
            112,
            896,
            96,
            341,
            1078,
            173,
            849,
            795,
            789,
            659,
            124,
            1188,
            109,
            1017,
            806,
            76,
            62,
            62,
            86,
            969,
            941,
            71,
            31,
            87,
            89,
            51,
            25,
            655,
            40,
            47,
            65,
            39,
            226,
            111,
            205,
            14,
            7,
            267,
            8,
            53
           ]
          }
         ],
         "domain": {
          "x": [
           0,
           1
          ],
          "y": [
           0,
           1
          ]
         },
         "line": {
          "color": [
           1,
           1,
           1,
           1,
           2,
           2,
           1,
           2,
           2,
           1,
           2,
           2,
           1,
           2,
           1,
           2,
           1,
           1,
           1,
           2,
           1,
           1,
           1,
           1,
           1,
           2,
           1,
           2,
           1,
           2,
           1,
           2,
           1,
           2,
           1,
           1,
           1,
           1,
           1,
           4,
           1,
           1,
           1,
           3,
           1,
           2,
           1,
           1,
           1,
           1,
           1,
           1,
           1,
           3,
           1,
           2,
           3,
           1,
           3,
           3,
           3,
           3,
           1,
           3,
           1,
           3,
           3,
           1,
           1,
           1,
           1,
           3,
           3,
           1,
           1,
           1,
           1,
           1,
           1,
           3,
           1,
           1,
           2,
           3,
           3,
           3,
           3,
           1,
           1,
           3,
           1,
           3
          ],
          "coloraxis": "coloraxis"
         },
         "name": "",
         "type": "parcoords"
        }
       ],
       "layout": {
        "coloraxis": {
         "colorbar": {
          "title": {
           "text": "TEAMID"
          }
         },
         "colorscale": [
          [
           0,
           "orange"
          ],
          [
           0.25,
           "orange"
          ],
          [
           0.25,
           "green"
          ],
          [
           0.5,
           "green"
          ],
          [
           0.5,
           "purple"
          ],
          [
           0.75,
           "purple"
          ],
          [
           0.75,
           "blue"
          ],
          [
           1,
           "blue"
          ]
         ]
        },
        "legend": {
         "tracegroupgap": 0
        },
        "margin": {
         "t": 60
        },
        "template": {
         "data": {
          "bar": [
           {
            "error_x": {
             "color": "#2a3f5f"
            },
            "error_y": {
             "color": "#2a3f5f"
            },
            "marker": {
             "line": {
              "color": "#E5ECF6",
              "width": 0.5
             }
            },
            "type": "bar"
           }
          ],
          "barpolar": [
           {
            "marker": {
             "line": {
              "color": "#E5ECF6",
              "width": 0.5
             }
            },
            "type": "barpolar"
           }
          ],
          "carpet": [
           {
            "aaxis": {
             "endlinecolor": "#2a3f5f",
             "gridcolor": "white",
             "linecolor": "white",
             "minorgridcolor": "white",
             "startlinecolor": "#2a3f5f"
            },
            "baxis": {
             "endlinecolor": "#2a3f5f",
             "gridcolor": "white",
             "linecolor": "white",
             "minorgridcolor": "white",
             "startlinecolor": "#2a3f5f"
            },
            "type": "carpet"
           }
          ],
          "choropleth": [
           {
            "colorbar": {
             "outlinewidth": 0,
             "ticks": ""
            },
            "type": "choropleth"
           }
          ],
          "contour": [
           {
            "colorbar": {
             "outlinewidth": 0,
             "ticks": ""
            },
            "colorscale": [
             [
              0,
              "#0d0887"
             ],
             [
              0.1111111111111111,
              "#46039f"
             ],
             [
              0.2222222222222222,
              "#7201a8"
             ],
             [
              0.3333333333333333,
              "#9c179e"
             ],
             [
              0.4444444444444444,
              "#bd3786"
             ],
             [
              0.5555555555555556,
              "#d8576b"
             ],
             [
              0.6666666666666666,
              "#ed7953"
             ],
             [
              0.7777777777777778,
              "#fb9f3a"
             ],
             [
              0.8888888888888888,
              "#fdca26"
             ],
             [
              1,
              "#f0f921"
             ]
            ],
            "type": "contour"
           }
          ],
          "contourcarpet": [
           {
            "colorbar": {
             "outlinewidth": 0,
             "ticks": ""
            },
            "type": "contourcarpet"
           }
          ],
          "heatmap": [
           {
            "colorbar": {
             "outlinewidth": 0,
             "ticks": ""
            },
            "colorscale": [
             [
              0,
              "#0d0887"
             ],
             [
              0.1111111111111111,
              "#46039f"
             ],
             [
              0.2222222222222222,
              "#7201a8"
             ],
             [
              0.3333333333333333,
              "#9c179e"
             ],
             [
              0.4444444444444444,
              "#bd3786"
             ],
             [
              0.5555555555555556,
              "#d8576b"
             ],
             [
              0.6666666666666666,
              "#ed7953"
             ],
             [
              0.7777777777777778,
              "#fb9f3a"
             ],
             [
              0.8888888888888888,
              "#fdca26"
             ],
             [
              1,
              "#f0f921"
             ]
            ],
            "type": "heatmap"
           }
          ],
          "heatmapgl": [
           {
            "colorbar": {
             "outlinewidth": 0,
             "ticks": ""
            },
            "colorscale": [
             [
              0,
              "#0d0887"
             ],
             [
              0.1111111111111111,
              "#46039f"
             ],
             [
              0.2222222222222222,
              "#7201a8"
             ],
             [
              0.3333333333333333,
              "#9c179e"
             ],
             [
              0.4444444444444444,
              "#bd3786"
             ],
             [
              0.5555555555555556,
              "#d8576b"
             ],
             [
              0.6666666666666666,
              "#ed7953"
             ],
             [
              0.7777777777777778,
              "#fb9f3a"
             ],
             [
              0.8888888888888888,
              "#fdca26"
             ],
             [
              1,
              "#f0f921"
             ]
            ],
            "type": "heatmapgl"
           }
          ],
          "histogram": [
           {
            "marker": {
             "colorbar": {
              "outlinewidth": 0,
              "ticks": ""
             }
            },
            "type": "histogram"
           }
          ],
          "histogram2d": [
           {
            "colorbar": {
             "outlinewidth": 0,
             "ticks": ""
            },
            "colorscale": [
             [
              0,
              "#0d0887"
             ],
             [
              0.1111111111111111,
              "#46039f"
             ],
             [
              0.2222222222222222,
              "#7201a8"
             ],
             [
              0.3333333333333333,
              "#9c179e"
             ],
             [
              0.4444444444444444,
              "#bd3786"
             ],
             [
              0.5555555555555556,
              "#d8576b"
             ],
             [
              0.6666666666666666,
              "#ed7953"
             ],
             [
              0.7777777777777778,
              "#fb9f3a"
             ],
             [
              0.8888888888888888,
              "#fdca26"
             ],
             [
              1,
              "#f0f921"
             ]
            ],
            "type": "histogram2d"
           }
          ],
          "histogram2dcontour": [
           {
            "colorbar": {
             "outlinewidth": 0,
             "ticks": ""
            },
            "colorscale": [
             [
              0,
              "#0d0887"
             ],
             [
              0.1111111111111111,
              "#46039f"
             ],
             [
              0.2222222222222222,
              "#7201a8"
             ],
             [
              0.3333333333333333,
              "#9c179e"
             ],
             [
              0.4444444444444444,
              "#bd3786"
             ],
             [
              0.5555555555555556,
              "#d8576b"
             ],
             [
              0.6666666666666666,
              "#ed7953"
             ],
             [
              0.7777777777777778,
              "#fb9f3a"
             ],
             [
              0.8888888888888888,
              "#fdca26"
             ],
             [
              1,
              "#f0f921"
             ]
            ],
            "type": "histogram2dcontour"
           }
          ],
          "mesh3d": [
           {
            "colorbar": {
             "outlinewidth": 0,
             "ticks": ""
            },
            "type": "mesh3d"
           }
          ],
          "parcoords": [
           {
            "line": {
             "colorbar": {
              "outlinewidth": 0,
              "ticks": ""
             }
            },
            "type": "parcoords"
           }
          ],
          "pie": [
           {
            "automargin": true,
            "type": "pie"
           }
          ],
          "scatter": [
           {
            "marker": {
             "colorbar": {
              "outlinewidth": 0,
              "ticks": ""
             }
            },
            "type": "scatter"
           }
          ],
          "scatter3d": [
           {
            "line": {
             "colorbar": {
              "outlinewidth": 0,
              "ticks": ""
             }
            },
            "marker": {
             "colorbar": {
              "outlinewidth": 0,
              "ticks": ""
             }
            },
            "type": "scatter3d"
           }
          ],
          "scattercarpet": [
           {
            "marker": {
             "colorbar": {
              "outlinewidth": 0,
              "ticks": ""
             }
            },
            "type": "scattercarpet"
           }
          ],
          "scattergeo": [
           {
            "marker": {
             "colorbar": {
              "outlinewidth": 0,
              "ticks": ""
             }
            },
            "type": "scattergeo"
           }
          ],
          "scattergl": [
           {
            "marker": {
             "colorbar": {
              "outlinewidth": 0,
              "ticks": ""
             }
            },
            "type": "scattergl"
           }
          ],
          "scattermapbox": [
           {
            "marker": {
             "colorbar": {
              "outlinewidth": 0,
              "ticks": ""
             }
            },
            "type": "scattermapbox"
           }
          ],
          "scatterpolar": [
           {
            "marker": {
             "colorbar": {
              "outlinewidth": 0,
              "ticks": ""
             }
            },
            "type": "scatterpolar"
           }
          ],
          "scatterpolargl": [
           {
            "marker": {
             "colorbar": {
              "outlinewidth": 0,
              "ticks": ""
             }
            },
            "type": "scatterpolargl"
           }
          ],
          "scatterternary": [
           {
            "marker": {
             "colorbar": {
              "outlinewidth": 0,
              "ticks": ""
             }
            },
            "type": "scatterternary"
           }
          ],
          "surface": [
           {
            "colorbar": {
             "outlinewidth": 0,
             "ticks": ""
            },
            "colorscale": [
             [
              0,
              "#0d0887"
             ],
             [
              0.1111111111111111,
              "#46039f"
             ],
             [
              0.2222222222222222,
              "#7201a8"
             ],
             [
              0.3333333333333333,
              "#9c179e"
             ],
             [
              0.4444444444444444,
              "#bd3786"
             ],
             [
              0.5555555555555556,
              "#d8576b"
             ],
             [
              0.6666666666666666,
              "#ed7953"
             ],
             [
              0.7777777777777778,
              "#fb9f3a"
             ],
             [
              0.8888888888888888,
              "#fdca26"
             ],
             [
              1,
              "#f0f921"
             ]
            ],
            "type": "surface"
           }
          ],
          "table": [
           {
            "cells": {
             "fill": {
              "color": "#EBF0F8"
             },
             "line": {
              "color": "white"
             }
            },
            "header": {
             "fill": {
              "color": "#C8D4E3"
             },
             "line": {
              "color": "white"
             }
            },
            "type": "table"
           }
          ]
         },
         "layout": {
          "annotationdefaults": {
           "arrowcolor": "#2a3f5f",
           "arrowhead": 0,
           "arrowwidth": 1
          },
          "coloraxis": {
           "colorbar": {
            "outlinewidth": 0,
            "ticks": ""
           }
          },
          "colorscale": {
           "diverging": [
            [
             0,
             "#8e0152"
            ],
            [
             0.1,
             "#c51b7d"
            ],
            [
             0.2,
             "#de77ae"
            ],
            [
             0.3,
             "#f1b6da"
            ],
            [
             0.4,
             "#fde0ef"
            ],
            [
             0.5,
             "#f7f7f7"
            ],
            [
             0.6,
             "#e6f5d0"
            ],
            [
             0.7,
             "#b8e186"
            ],
            [
             0.8,
             "#7fbc41"
            ],
            [
             0.9,
             "#4d9221"
            ],
            [
             1,
             "#276419"
            ]
           ],
           "sequential": [
            [
             0,
             "#0d0887"
            ],
            [
             0.1111111111111111,
             "#46039f"
            ],
            [
             0.2222222222222222,
             "#7201a8"
            ],
            [
             0.3333333333333333,
             "#9c179e"
            ],
            [
             0.4444444444444444,
             "#bd3786"
            ],
            [
             0.5555555555555556,
             "#d8576b"
            ],
            [
             0.6666666666666666,
             "#ed7953"
            ],
            [
             0.7777777777777778,
             "#fb9f3a"
            ],
            [
             0.8888888888888888,
             "#fdca26"
            ],
            [
             1,
             "#f0f921"
            ]
           ],
           "sequentialminus": [
            [
             0,
             "#0d0887"
            ],
            [
             0.1111111111111111,
             "#46039f"
            ],
            [
             0.2222222222222222,
             "#7201a8"
            ],
            [
             0.3333333333333333,
             "#9c179e"
            ],
            [
             0.4444444444444444,
             "#bd3786"
            ],
            [
             0.5555555555555556,
             "#d8576b"
            ],
            [
             0.6666666666666666,
             "#ed7953"
            ],
            [
             0.7777777777777778,
             "#fb9f3a"
            ],
            [
             0.8888888888888888,
             "#fdca26"
            ],
            [
             1,
             "#f0f921"
            ]
           ]
          },
          "colorway": [
           "#636efa",
           "#EF553B",
           "#00cc96",
           "#ab63fa",
           "#FFA15A",
           "#19d3f3",
           "#FF6692",
           "#B6E880",
           "#FF97FF",
           "#FECB52"
          ],
          "font": {
           "color": "#2a3f5f"
          },
          "geo": {
           "bgcolor": "white",
           "lakecolor": "white",
           "landcolor": "#E5ECF6",
           "showlakes": true,
           "showland": true,
           "subunitcolor": "white"
          },
          "hoverlabel": {
           "align": "left"
          },
          "hovermode": "closest",
          "mapbox": {
           "style": "light"
          },
          "paper_bgcolor": "white",
          "plot_bgcolor": "#E5ECF6",
          "polar": {
           "angularaxis": {
            "gridcolor": "white",
            "linecolor": "white",
            "ticks": ""
           },
           "bgcolor": "#E5ECF6",
           "radialaxis": {
            "gridcolor": "white",
            "linecolor": "white",
            "ticks": ""
           }
          },
          "scene": {
           "xaxis": {
            "backgroundcolor": "#E5ECF6",
            "gridcolor": "white",
            "gridwidth": 2,
            "linecolor": "white",
            "showbackground": true,
            "ticks": "",
            "zerolinecolor": "white"
           },
           "yaxis": {
            "backgroundcolor": "#E5ECF6",
            "gridcolor": "white",
            "gridwidth": 2,
            "linecolor": "white",
            "showbackground": true,
            "ticks": "",
            "zerolinecolor": "white"
           },
           "zaxis": {
            "backgroundcolor": "#E5ECF6",
            "gridcolor": "white",
            "gridwidth": 2,
            "linecolor": "white",
            "showbackground": true,
            "ticks": "",
            "zerolinecolor": "white"
           }
          },
          "shapedefaults": {
           "line": {
            "color": "#2a3f5f"
           }
          },
          "ternary": {
           "aaxis": {
            "gridcolor": "white",
            "linecolor": "white",
            "ticks": ""
           },
           "baxis": {
            "gridcolor": "white",
            "linecolor": "white",
            "ticks": ""
           },
           "bgcolor": "#E5ECF6",
           "caxis": {
            "gridcolor": "white",
            "linecolor": "white",
            "ticks": ""
           }
          },
          "title": {
           "x": 0.05
          },
          "xaxis": {
           "automargin": true,
           "gridcolor": "white",
           "linecolor": "white",
           "ticks": "",
           "title": {
            "standoff": 15
           },
           "zerolinecolor": "white",
           "zerolinewidth": 2
          },
          "yaxis": {
           "automargin": true,
           "gridcolor": "white",
           "linecolor": "white",
           "ticks": "",
           "title": {
            "standoff": 15
           },
           "zerolinecolor": "white",
           "zerolinewidth": 2
          }
         }
        }
       }
      },
      "text/html": [
       "<div>\n",
       "        \n",
       "        \n",
       "            <div id=\"9ed78d45-fbb6-4d39-891c-b6c7b862849f\" class=\"plotly-graph-div\" style=\"height:525px; width:100%;\"></div>\n",
       "            <script type=\"text/javascript\">\n",
       "                require([\"plotly\"], function(Plotly) {\n",
       "                    window.PLOTLYENV=window.PLOTLYENV || {};\n",
       "                    \n",
       "                if (document.getElementById(\"9ed78d45-fbb6-4d39-891c-b6c7b862849f\")) {\n",
       "                    Plotly.newPlot(\n",
       "                        '9ed78d45-fbb6-4d39-891c-b6c7b862849f',\n",
       "                        [{\"dimensions\": [{\"label\": \"CV\", \"values\": [32981448, 15239051, 15227333, 15129163, 14449063, 13875398, 11032010, 10493866, 10100263, 9931112, 9284465, 8731923, 8483893, 8308101, 7830570, 7653566, 7423919, 6725939, 6715653, 6693322, 6581319, 6506326, 6413386, 6271736, 6054364, 5971873, 5395767, 5039634, 4746436, 4633493, 4548830, 4485460, 4464487, 4392585, 4315746, 4275258, 4024236, 3995978, 3968698, 3963086, 3938843, 3889447, 3722741, 3480795, 3442594, 3325928, 3247791, 3245435, 3186564, 3120293, 3106786, 3080586, 3076441, 2973911, 2919604, 2897260, 2668679, 2666488, 2491960, 2331106, 2313381, 2306829, 2298984, 2276027, 2197694, 2188947, 2178883, 2048102, 1494412, 1389167, 1367267, 1123008, 1019768, 764832, 732616, 670406, 578632, 429207, 415534, 390632, 375587, 350911, 301061, 183553, 156464, 133516, 113428, 104081, 87367, 84589, 31659, 29688]}, {\"label\": \"Users\", \"values\": [8397483, 8602754, 5605578, 4806779, 2912920, 10466241, 4602489, 3992132, 8205363, 3759147, 5137170, 2119223, 3838321, 2031770, 3337093, 4249110, 4338116, 278516, 3507308, 3570942, 3462339, 3067761, 3515539, 3101578, 3071640, 3087026, 2474047, 2020916, 1942461, 2126480, 2335376, 1965884, 2210381, 1260584, 2360551, 2330972, 1929330, 2226304, 1858928, 2316126, 1829373, 1826552, 1921500, 655071, 2775037, 1710315, 1690020, 1589114, 1495599, 1487155, 1529913, 1046106, 1811427, 870837, 1616449, 3296669, 600362, 1655880, 756696, 817105, 645025, 576991, 1228829, 400044, 1239268, 504970, 541620, 925595, 744130, 771380, 635576, 297039, 224646, 697417, 403281, 478358, 425223, 616370, 298286, 215624, 224412, 316740, 264598, 215568, 122367, 296829, 186926, 877868, 100292, 58568, 31197, 29805]}, {\"label\": \"Productivity\", \"values\": [1347, 684, 608, 555, 1201, 3009, 477, 1026, 1240, 415, 709, 1055, 305, 883, 348, 1114, 244, 213, 206, 1012, 229, 275, 214, 84, 345, 1246, 603, 1071, 316, 391, 186, 1181, 223, 664, 127, 160, 186, 174, 112, 209, 166, 168, 177, 1744, 152, 185, 152, 99, 154, 113, 86, 221, 112, 896, 96, 341, 1078, 173, 849, 795, 789, 659, 124, 1188, 109, 1017, 806, 76, 62, 62, 86, 969, 941, 71, 31, 87, 89, 51, 25, 655, 40, 47, 65, 39, 226, 111, 205, 14, 7, 267, 8, 53]}], \"domain\": {\"x\": [0.0, 1.0], \"y\": [0.0, 1.0]}, \"line\": {\"color\": [1, 1, 1, 1, 2, 2, 1, 2, 2, 1, 2, 2, 1, 2, 1, 2, 1, 1, 1, 2, 1, 1, 1, 1, 1, 2, 1, 2, 1, 2, 1, 2, 1, 2, 1, 1, 1, 1, 1, 4, 1, 1, 1, 3, 1, 2, 1, 1, 1, 1, 1, 1, 1, 3, 1, 2, 3, 1, 3, 3, 3, 3, 1, 3, 1, 3, 3, 1, 1, 1, 1, 3, 3, 1, 1, 1, 1, 1, 1, 3, 1, 1, 2, 3, 3, 3, 3, 1, 1, 3, 1, 3], \"coloraxis\": \"coloraxis\"}, \"name\": \"\", \"type\": \"parcoords\"}],\n",
       "                        {\"coloraxis\": {\"colorbar\": {\"title\": {\"text\": \"TEAMID\"}}, \"colorscale\": [[0.0, \"orange\"], [0.25, \"orange\"], [0.25, \"green\"], [0.5, \"green\"], [0.5, \"purple\"], [0.75, \"purple\"], [0.75, \"blue\"], [1.0, \"blue\"]]}, \"legend\": {\"tracegroupgap\": 0}, \"margin\": {\"t\": 60}, \"template\": {\"data\": {\"bar\": [{\"error_x\": {\"color\": \"#2a3f5f\"}, \"error_y\": {\"color\": \"#2a3f5f\"}, \"marker\": {\"line\": {\"color\": \"#E5ECF6\", \"width\": 0.5}}, \"type\": \"bar\"}], \"barpolar\": [{\"marker\": {\"line\": {\"color\": \"#E5ECF6\", \"width\": 0.5}}, \"type\": \"barpolar\"}], \"carpet\": [{\"aaxis\": {\"endlinecolor\": \"#2a3f5f\", \"gridcolor\": \"white\", \"linecolor\": \"white\", \"minorgridcolor\": \"white\", \"startlinecolor\": \"#2a3f5f\"}, \"baxis\": {\"endlinecolor\": \"#2a3f5f\", \"gridcolor\": \"white\", \"linecolor\": \"white\", \"minorgridcolor\": \"white\", \"startlinecolor\": \"#2a3f5f\"}, \"type\": \"carpet\"}], \"choropleth\": [{\"colorbar\": {\"outlinewidth\": 0, \"ticks\": \"\"}, \"type\": \"choropleth\"}], \"contour\": [{\"colorbar\": {\"outlinewidth\": 0, \"ticks\": \"\"}, \"colorscale\": [[0.0, \"#0d0887\"], [0.1111111111111111, \"#46039f\"], [0.2222222222222222, \"#7201a8\"], [0.3333333333333333, \"#9c179e\"], [0.4444444444444444, \"#bd3786\"], [0.5555555555555556, \"#d8576b\"], [0.6666666666666666, \"#ed7953\"], [0.7777777777777778, \"#fb9f3a\"], [0.8888888888888888, \"#fdca26\"], [1.0, \"#f0f921\"]], \"type\": \"contour\"}], \"contourcarpet\": [{\"colorbar\": {\"outlinewidth\": 0, \"ticks\": \"\"}, \"type\": \"contourcarpet\"}], \"heatmap\": [{\"colorbar\": {\"outlinewidth\": 0, \"ticks\": \"\"}, \"colorscale\": [[0.0, \"#0d0887\"], [0.1111111111111111, \"#46039f\"], [0.2222222222222222, \"#7201a8\"], [0.3333333333333333, \"#9c179e\"], [0.4444444444444444, \"#bd3786\"], [0.5555555555555556, \"#d8576b\"], [0.6666666666666666, \"#ed7953\"], [0.7777777777777778, \"#fb9f3a\"], [0.8888888888888888, \"#fdca26\"], [1.0, \"#f0f921\"]], \"type\": \"heatmap\"}], \"heatmapgl\": [{\"colorbar\": {\"outlinewidth\": 0, \"ticks\": \"\"}, \"colorscale\": [[0.0, \"#0d0887\"], [0.1111111111111111, \"#46039f\"], [0.2222222222222222, \"#7201a8\"], [0.3333333333333333, \"#9c179e\"], [0.4444444444444444, \"#bd3786\"], [0.5555555555555556, \"#d8576b\"], [0.6666666666666666, \"#ed7953\"], [0.7777777777777778, \"#fb9f3a\"], [0.8888888888888888, \"#fdca26\"], [1.0, \"#f0f921\"]], \"type\": \"heatmapgl\"}], \"histogram\": [{\"marker\": {\"colorbar\": {\"outlinewidth\": 0, \"ticks\": \"\"}}, \"type\": \"histogram\"}], \"histogram2d\": [{\"colorbar\": {\"outlinewidth\": 0, \"ticks\": \"\"}, \"colorscale\": [[0.0, \"#0d0887\"], [0.1111111111111111, \"#46039f\"], [0.2222222222222222, \"#7201a8\"], [0.3333333333333333, \"#9c179e\"], [0.4444444444444444, \"#bd3786\"], [0.5555555555555556, \"#d8576b\"], [0.6666666666666666, \"#ed7953\"], [0.7777777777777778, \"#fb9f3a\"], [0.8888888888888888, \"#fdca26\"], [1.0, \"#f0f921\"]], \"type\": \"histogram2d\"}], \"histogram2dcontour\": [{\"colorbar\": {\"outlinewidth\": 0, \"ticks\": \"\"}, \"colorscale\": [[0.0, \"#0d0887\"], [0.1111111111111111, \"#46039f\"], [0.2222222222222222, \"#7201a8\"], [0.3333333333333333, \"#9c179e\"], [0.4444444444444444, \"#bd3786\"], [0.5555555555555556, \"#d8576b\"], [0.6666666666666666, \"#ed7953\"], [0.7777777777777778, \"#fb9f3a\"], [0.8888888888888888, \"#fdca26\"], [1.0, \"#f0f921\"]], \"type\": \"histogram2dcontour\"}], \"mesh3d\": [{\"colorbar\": {\"outlinewidth\": 0, \"ticks\": \"\"}, \"type\": \"mesh3d\"}], \"parcoords\": [{\"line\": {\"colorbar\": {\"outlinewidth\": 0, \"ticks\": \"\"}}, \"type\": \"parcoords\"}], \"pie\": [{\"automargin\": true, \"type\": \"pie\"}], \"scatter\": [{\"marker\": {\"colorbar\": {\"outlinewidth\": 0, \"ticks\": \"\"}}, \"type\": \"scatter\"}], \"scatter3d\": [{\"line\": {\"colorbar\": {\"outlinewidth\": 0, \"ticks\": \"\"}}, \"marker\": {\"colorbar\": {\"outlinewidth\": 0, \"ticks\": \"\"}}, \"type\": \"scatter3d\"}], \"scattercarpet\": [{\"marker\": {\"colorbar\": {\"outlinewidth\": 0, \"ticks\": \"\"}}, \"type\": \"scattercarpet\"}], \"scattergeo\": [{\"marker\": {\"colorbar\": {\"outlinewidth\": 0, \"ticks\": \"\"}}, \"type\": \"scattergeo\"}], \"scattergl\": [{\"marker\": {\"colorbar\": {\"outlinewidth\": 0, \"ticks\": \"\"}}, \"type\": \"scattergl\"}], \"scattermapbox\": [{\"marker\": {\"colorbar\": {\"outlinewidth\": 0, \"ticks\": \"\"}}, \"type\": \"scattermapbox\"}], \"scatterpolar\": [{\"marker\": {\"colorbar\": {\"outlinewidth\": 0, \"ticks\": \"\"}}, \"type\": \"scatterpolar\"}], \"scatterpolargl\": [{\"marker\": {\"colorbar\": {\"outlinewidth\": 0, \"ticks\": \"\"}}, \"type\": \"scatterpolargl\"}], \"scatterternary\": [{\"marker\": {\"colorbar\": {\"outlinewidth\": 0, \"ticks\": \"\"}}, \"type\": \"scatterternary\"}], \"surface\": [{\"colorbar\": {\"outlinewidth\": 0, \"ticks\": \"\"}, \"colorscale\": [[0.0, \"#0d0887\"], [0.1111111111111111, \"#46039f\"], [0.2222222222222222, \"#7201a8\"], [0.3333333333333333, \"#9c179e\"], [0.4444444444444444, \"#bd3786\"], [0.5555555555555556, \"#d8576b\"], [0.6666666666666666, \"#ed7953\"], [0.7777777777777778, \"#fb9f3a\"], [0.8888888888888888, \"#fdca26\"], [1.0, \"#f0f921\"]], \"type\": \"surface\"}], \"table\": [{\"cells\": {\"fill\": {\"color\": \"#EBF0F8\"}, \"line\": {\"color\": \"white\"}}, \"header\": {\"fill\": {\"color\": \"#C8D4E3\"}, \"line\": {\"color\": \"white\"}}, \"type\": \"table\"}]}, \"layout\": {\"annotationdefaults\": {\"arrowcolor\": \"#2a3f5f\", \"arrowhead\": 0, \"arrowwidth\": 1}, \"coloraxis\": {\"colorbar\": {\"outlinewidth\": 0, \"ticks\": \"\"}}, \"colorscale\": {\"diverging\": [[0, \"#8e0152\"], [0.1, \"#c51b7d\"], [0.2, \"#de77ae\"], [0.3, \"#f1b6da\"], [0.4, \"#fde0ef\"], [0.5, \"#f7f7f7\"], [0.6, \"#e6f5d0\"], [0.7, \"#b8e186\"], [0.8, \"#7fbc41\"], [0.9, \"#4d9221\"], [1, \"#276419\"]], \"sequential\": [[0.0, \"#0d0887\"], [0.1111111111111111, \"#46039f\"], [0.2222222222222222, \"#7201a8\"], [0.3333333333333333, \"#9c179e\"], [0.4444444444444444, \"#bd3786\"], [0.5555555555555556, \"#d8576b\"], [0.6666666666666666, \"#ed7953\"], [0.7777777777777778, \"#fb9f3a\"], [0.8888888888888888, \"#fdca26\"], [1.0, \"#f0f921\"]], \"sequentialminus\": [[0.0, \"#0d0887\"], [0.1111111111111111, \"#46039f\"], [0.2222222222222222, \"#7201a8\"], [0.3333333333333333, \"#9c179e\"], [0.4444444444444444, \"#bd3786\"], [0.5555555555555556, \"#d8576b\"], [0.6666666666666666, \"#ed7953\"], [0.7777777777777778, \"#fb9f3a\"], [0.8888888888888888, \"#fdca26\"], [1.0, \"#f0f921\"]]}, \"colorway\": [\"#636efa\", \"#EF553B\", \"#00cc96\", \"#ab63fa\", \"#FFA15A\", \"#19d3f3\", \"#FF6692\", \"#B6E880\", \"#FF97FF\", \"#FECB52\"], \"font\": {\"color\": \"#2a3f5f\"}, \"geo\": {\"bgcolor\": \"white\", \"lakecolor\": \"white\", \"landcolor\": \"#E5ECF6\", \"showlakes\": true, \"showland\": true, \"subunitcolor\": \"white\"}, \"hoverlabel\": {\"align\": \"left\"}, \"hovermode\": \"closest\", \"mapbox\": {\"style\": \"light\"}, \"paper_bgcolor\": \"white\", \"plot_bgcolor\": \"#E5ECF6\", \"polar\": {\"angularaxis\": {\"gridcolor\": \"white\", \"linecolor\": \"white\", \"ticks\": \"\"}, \"bgcolor\": \"#E5ECF6\", \"radialaxis\": {\"gridcolor\": \"white\", \"linecolor\": \"white\", \"ticks\": \"\"}}, \"scene\": {\"xaxis\": {\"backgroundcolor\": \"#E5ECF6\", \"gridcolor\": \"white\", \"gridwidth\": 2, \"linecolor\": \"white\", \"showbackground\": true, \"ticks\": \"\", \"zerolinecolor\": \"white\"}, \"yaxis\": {\"backgroundcolor\": \"#E5ECF6\", \"gridcolor\": \"white\", \"gridwidth\": 2, \"linecolor\": \"white\", \"showbackground\": true, \"ticks\": \"\", \"zerolinecolor\": \"white\"}, \"zaxis\": {\"backgroundcolor\": \"#E5ECF6\", \"gridcolor\": \"white\", \"gridwidth\": 2, \"linecolor\": \"white\", \"showbackground\": true, \"ticks\": \"\", \"zerolinecolor\": \"white\"}}, \"shapedefaults\": {\"line\": {\"color\": \"#2a3f5f\"}}, \"ternary\": {\"aaxis\": {\"gridcolor\": \"white\", \"linecolor\": \"white\", \"ticks\": \"\"}, \"baxis\": {\"gridcolor\": \"white\", \"linecolor\": \"white\", \"ticks\": \"\"}, \"bgcolor\": \"#E5ECF6\", \"caxis\": {\"gridcolor\": \"white\", \"linecolor\": \"white\", \"ticks\": \"\"}}, \"title\": {\"x\": 0.05}, \"xaxis\": {\"automargin\": true, \"gridcolor\": \"white\", \"linecolor\": \"white\", \"ticks\": \"\", \"title\": {\"standoff\": 15}, \"zerolinecolor\": \"white\", \"zerolinewidth\": 2}, \"yaxis\": {\"automargin\": true, \"gridcolor\": \"white\", \"linecolor\": \"white\", \"ticks\": \"\", \"title\": {\"standoff\": 15}, \"zerolinecolor\": \"white\", \"zerolinewidth\": 2}}}},\n",
       "                        {\"responsive\": true}\n",
       "                    ).then(function(){\n",
       "                            \n",
       "var gd = document.getElementById('9ed78d45-fbb6-4d39-891c-b6c7b862849f');\n",
       "var x = new MutationObserver(function (mutations, observer) {{\n",
       "        var display = window.getComputedStyle(gd).display;\n",
       "        if (!display || display === 'none') {{\n",
       "            console.log([gd, 'removed!']);\n",
       "            Plotly.purge(gd);\n",
       "            observer.disconnect();\n",
       "        }}\n",
       "}});\n",
       "\n",
       "// Listen for the removal of the full notebook cells\n",
       "var notebookContainer = gd.closest('#notebook-container');\n",
       "if (notebookContainer) {{\n",
       "    x.observe(notebookContainer, {childList: true});\n",
       "}}\n",
       "\n",
       "// Listen for the clearing of the current output cell\n",
       "var outputEl = gd.closest('.output');\n",
       "if (outputEl) {{\n",
       "    x.observe(outputEl, {childList: true});\n",
       "}}\n",
       "\n",
       "                        })\n",
       "                };\n",
       "                });\n",
       "            </script>\n",
       "        </div>"
      ]
     },
     "metadata": {},
     "output_type": "display_data"
    }
   ],
   "source": [
    "# Parallel Coordinates\n",
    "\n",
    "\n",
    "fig = px.parallel_coordinates(df, color=\"TEAMID\",\n",
    "                              dimensions=['CV', 'Users', 'Productivity'],color_continuous_scale=[(0.00, \"orange\"),   (0.25, \"orange\"),\n",
    "                                                     (0.25, \"green\"), (0.50, \"green\"),(0.50, \"purple\"), (0.75, \"purple\"),\n",
    "                                                     (0.75, \"blue\"),  (1.00, \"blue\")])\n",
    "fig.show()\n"
   ]
  },
  {
   "cell_type": "code",
   "execution_count": 29,
   "metadata": {
    "scrolled": false
   },
   "outputs": [
    {
     "data": {
      "application/vnd.plotly.v1+json": {
       "config": {
        "plotlyServerURL": "https://plot.ly"
       },
       "data": [
        {
         "hoverlabel": {
          "namelength": 0
         },
         "hovertemplate": "<b>%{hovertext}</b><br><br>Team=News<br>Productivity=%{x}<br>CV=%{y}",
         "hovertext": [
          "reporter1",
          "reporter2",
          "reporter3",
          "reporter4",
          "reporter7",
          "reporter10",
          "reporter13",
          "reporter15",
          "reporter17",
          "reporter18",
          "reporter19",
          "reporter21",
          "reporter22",
          "reporter23",
          "reporter24",
          "reporter25",
          "reporter27",
          "reporter29",
          "reporter31",
          "reporter33",
          "reporter35",
          "reporter36",
          "reporter37",
          "reporter38",
          "reporter39",
          "reporter41",
          "reporter42",
          "reporter43",
          "reporter45",
          "reporter47",
          "reporter48",
          "reporter49",
          "reporter50",
          "reporter51",
          "reporter52",
          "reporter53",
          "reporter55",
          "reporter58",
          "reporter63",
          "reporter65",
          "reporter68",
          "reporter69",
          "reporter70",
          "reporter71",
          "reporter74",
          "reporter75",
          "reporter76",
          "reporter77",
          "reporter78",
          "reporter79",
          "reporter81",
          "reporter82",
          "reporter88",
          "reporter89",
          "reporter91"
         ],
         "legendgroup": "News",
         "marker": {
          "color": "#636efa",
          "symbol": "circle"
         },
         "mode": "markers",
         "name": "News",
         "showlegend": true,
         "type": "scatter",
         "x": [
          1347,
          684,
          608,
          555,
          477,
          415,
          305,
          348,
          244,
          213,
          206,
          229,
          275,
          214,
          84,
          345,
          603,
          316,
          186,
          223,
          127,
          160,
          186,
          174,
          112,
          166,
          168,
          177,
          152,
          152,
          99,
          154,
          113,
          86,
          221,
          112,
          96,
          173,
          124,
          109,
          76,
          62,
          62,
          86,
          71,
          31,
          87,
          89,
          51,
          25,
          40,
          47,
          14,
          7,
          8
         ],
         "xaxis": "x",
         "y": [
          32981448,
          15239051,
          15227333,
          15129163,
          11032010,
          9931112,
          8483893,
          7830570,
          7423919,
          6725939,
          6715653,
          6581319,
          6506326,
          6413386,
          6271736,
          6054364,
          5395767,
          4746436,
          4548830,
          4464487,
          4315746,
          4275258,
          4024236,
          3995978,
          3968698,
          3938843,
          3889447,
          3722741,
          3442594,
          3247791,
          3245435,
          3186564,
          3120293,
          3106786,
          3080586,
          3076441,
          2919604,
          2666488,
          2298984,
          2197694,
          2048102,
          1494412,
          1389167,
          1367267,
          764832,
          732616,
          670406,
          578632,
          429207,
          415534,
          375587,
          350911,
          104081,
          87367,
          31659
         ],
         "yaxis": "y"
        },
        {
         "alignmentgroup": "True",
         "hoverlabel": {
          "namelength": 0
         },
         "hovertemplate": "<b>%{hovertext}</b><br><br>Team=News<br>Productivity=%{x}",
         "hovertext": [
          "reporter1",
          "reporter2",
          "reporter3",
          "reporter4",
          "reporter7",
          "reporter10",
          "reporter13",
          "reporter15",
          "reporter17",
          "reporter18",
          "reporter19",
          "reporter21",
          "reporter22",
          "reporter23",
          "reporter24",
          "reporter25",
          "reporter27",
          "reporter29",
          "reporter31",
          "reporter33",
          "reporter35",
          "reporter36",
          "reporter37",
          "reporter38",
          "reporter39",
          "reporter41",
          "reporter42",
          "reporter43",
          "reporter45",
          "reporter47",
          "reporter48",
          "reporter49",
          "reporter50",
          "reporter51",
          "reporter52",
          "reporter53",
          "reporter55",
          "reporter58",
          "reporter63",
          "reporter65",
          "reporter68",
          "reporter69",
          "reporter70",
          "reporter71",
          "reporter74",
          "reporter75",
          "reporter76",
          "reporter77",
          "reporter78",
          "reporter79",
          "reporter81",
          "reporter82",
          "reporter88",
          "reporter89",
          "reporter91"
         ],
         "legendgroup": "News",
         "marker": {
          "color": "#636efa",
          "symbol": "circle"
         },
         "name": "News",
         "notched": true,
         "offsetgroup": "News",
         "showlegend": false,
         "type": "box",
         "x": [
          1347,
          684,
          608,
          555,
          477,
          415,
          305,
          348,
          244,
          213,
          206,
          229,
          275,
          214,
          84,
          345,
          603,
          316,
          186,
          223,
          127,
          160,
          186,
          174,
          112,
          166,
          168,
          177,
          152,
          152,
          99,
          154,
          113,
          86,
          221,
          112,
          96,
          173,
          124,
          109,
          76,
          62,
          62,
          86,
          71,
          31,
          87,
          89,
          51,
          25,
          40,
          47,
          14,
          7,
          8
         ],
         "xaxis": "x3",
         "yaxis": "y3"
        },
        {
         "alignmentgroup": "True",
         "hoverlabel": {
          "namelength": 0
         },
         "hovertemplate": "<b>%{hovertext}</b><br><br>Team=News<br>CV=%{y}",
         "hovertext": [
          "reporter1",
          "reporter2",
          "reporter3",
          "reporter4",
          "reporter7",
          "reporter10",
          "reporter13",
          "reporter15",
          "reporter17",
          "reporter18",
          "reporter19",
          "reporter21",
          "reporter22",
          "reporter23",
          "reporter24",
          "reporter25",
          "reporter27",
          "reporter29",
          "reporter31",
          "reporter33",
          "reporter35",
          "reporter36",
          "reporter37",
          "reporter38",
          "reporter39",
          "reporter41",
          "reporter42",
          "reporter43",
          "reporter45",
          "reporter47",
          "reporter48",
          "reporter49",
          "reporter50",
          "reporter51",
          "reporter52",
          "reporter53",
          "reporter55",
          "reporter58",
          "reporter63",
          "reporter65",
          "reporter68",
          "reporter69",
          "reporter70",
          "reporter71",
          "reporter74",
          "reporter75",
          "reporter76",
          "reporter77",
          "reporter78",
          "reporter79",
          "reporter81",
          "reporter82",
          "reporter88",
          "reporter89",
          "reporter91"
         ],
         "legendgroup": "News",
         "marker": {
          "color": "#636efa",
          "symbol": "circle"
         },
         "name": "News",
         "offsetgroup": "News",
         "scalegroup": "y",
         "showlegend": false,
         "type": "violin",
         "xaxis": "x2",
         "y": [
          32981448,
          15239051,
          15227333,
          15129163,
          11032010,
          9931112,
          8483893,
          7830570,
          7423919,
          6725939,
          6715653,
          6581319,
          6506326,
          6413386,
          6271736,
          6054364,
          5395767,
          4746436,
          4548830,
          4464487,
          4315746,
          4275258,
          4024236,
          3995978,
          3968698,
          3938843,
          3889447,
          3722741,
          3442594,
          3247791,
          3245435,
          3186564,
          3120293,
          3106786,
          3080586,
          3076441,
          2919604,
          2666488,
          2298984,
          2197694,
          2048102,
          1494412,
          1389167,
          1367267,
          764832,
          732616,
          670406,
          578632,
          429207,
          415534,
          375587,
          350911,
          104081,
          87367,
          31659
         ],
         "yaxis": "y2"
        },
        {
         "hoverlabel": {
          "namelength": 0
         },
         "hovertemplate": "<b>OLS trendline</b><br>CV = 22862 * Productivity + 63403.8<br>R<sup>2</sup>=0.902420<br><br>Team=News<br>Productivity=%{x}<br>CV=%{y} <b>(trend)</b>",
         "legendgroup": "News",
         "marker": {
          "color": "#636efa",
          "symbol": "circle"
         },
         "mode": "lines",
         "name": "News",
         "showlegend": false,
         "type": "scatter",
         "x": [
          7,
          8,
          14,
          25,
          31,
          40,
          47,
          51,
          62,
          62,
          71,
          76,
          84,
          86,
          86,
          87,
          89,
          96,
          99,
          109,
          112,
          112,
          113,
          124,
          127,
          152,
          152,
          154,
          160,
          166,
          168,
          173,
          174,
          177,
          186,
          186,
          206,
          213,
          214,
          221,
          223,
          229,
          244,
          275,
          305,
          316,
          345,
          348,
          415,
          477,
          555,
          603,
          608,
          684,
          1347
         ],
         "xaxis": "x",
         "y": [
          223437.65589229253,
          246299.62888049343,
          383471.4668096989,
          634953.1696799089,
          772125.0076091143,
          977882.7645029225,
          1137916.5754203289,
          1229364.4673731325,
          1480846.1702433424,
          1480846.1702433424,
          1686603.9271371507,
          1800913.7920781553,
          1983809.5759837625,
          2029533.5219601644,
          2029533.5219601644,
          2052395.4949483653,
          2098119.440924767,
          2258153.2518421733,
          2326739.1708067763,
          2555358.900688785,
          2623944.819653388,
          2623944.819653388,
          2646806.792641589,
          2898288.4955117987,
          2966874.4144764016,
          3538423.7391814245,
          3538423.7391814245,
          3584147.685157826,
          3721319.5230870317,
          3858491.361016237,
          3904215.306992639,
          4018525.1719336435,
          4041387.1449218444,
          4109973.063886447,
          4315730.820780255,
          4315730.820780255,
          4772970.280544274,
          4933004.091461679,
          4955866.06444988,
          5115899.875367288,
          5161623.821343688,
          5298795.659272894,
          5641725.254095908,
          6350446.416730136,
          7036305.606376164,
          7287787.309246372,
          7950784.525904199,
          8019370.444868803,
          9551122.635078264,
          10968564.96034672,
          12751798.853426391,
          13849173.556860035,
          13963483.42180104,
          15700993.368904307,
          30858481.46008151
         ],
         "yaxis": "y"
        },
        {
         "hoverlabel": {
          "namelength": 0
         },
         "hovertemplate": "<b>%{hovertext}</b><br><br>Team=Pro Sports<br>Productivity=%{x}<br>CV=%{y}",
         "hovertext": [
          "reporter5",
          "reporter6",
          "reporter8",
          "reporter9",
          "reporter11",
          "reporter12",
          "reporter14",
          "reporter16",
          "reporter20",
          "reporter26",
          "reporter28",
          "reporter30",
          "reporter32",
          "reporter34",
          "reporter46",
          "reporter56",
          "reporter83"
         ],
         "legendgroup": "Pro Sports",
         "marker": {
          "color": "#EF553B",
          "symbol": "circle"
         },
         "mode": "markers",
         "name": "Pro Sports",
         "showlegend": true,
         "type": "scatter",
         "x": [
          1201,
          3009,
          1026,
          1240,
          709,
          1055,
          883,
          1114,
          1012,
          1246,
          1071,
          391,
          1181,
          664,
          185,
          341,
          65
         ],
         "xaxis": "x",
         "y": [
          14449063,
          13875398,
          10493866,
          10100263,
          9284465,
          8731923,
          8308101,
          7653566,
          6693322,
          5971873,
          5039634,
          4633493,
          4485460,
          4392585,
          3325928,
          2897260,
          301061
         ],
         "yaxis": "y"
        },
        {
         "alignmentgroup": "True",
         "hoverlabel": {
          "namelength": 0
         },
         "hovertemplate": "<b>%{hovertext}</b><br><br>Team=Pro Sports<br>Productivity=%{x}",
         "hovertext": [
          "reporter5",
          "reporter6",
          "reporter8",
          "reporter9",
          "reporter11",
          "reporter12",
          "reporter14",
          "reporter16",
          "reporter20",
          "reporter26",
          "reporter28",
          "reporter30",
          "reporter32",
          "reporter34",
          "reporter46",
          "reporter56",
          "reporter83"
         ],
         "legendgroup": "Pro Sports",
         "marker": {
          "color": "#EF553B",
          "symbol": "circle"
         },
         "name": "Pro Sports",
         "notched": true,
         "offsetgroup": "Pro Sports",
         "showlegend": false,
         "type": "box",
         "x": [
          1201,
          3009,
          1026,
          1240,
          709,
          1055,
          883,
          1114,
          1012,
          1246,
          1071,
          391,
          1181,
          664,
          185,
          341,
          65
         ],
         "xaxis": "x3",
         "yaxis": "y3"
        },
        {
         "alignmentgroup": "True",
         "hoverlabel": {
          "namelength": 0
         },
         "hovertemplate": "<b>%{hovertext}</b><br><br>Team=Pro Sports<br>CV=%{y}",
         "hovertext": [
          "reporter5",
          "reporter6",
          "reporter8",
          "reporter9",
          "reporter11",
          "reporter12",
          "reporter14",
          "reporter16",
          "reporter20",
          "reporter26",
          "reporter28",
          "reporter30",
          "reporter32",
          "reporter34",
          "reporter46",
          "reporter56",
          "reporter83"
         ],
         "legendgroup": "Pro Sports",
         "marker": {
          "color": "#EF553B",
          "symbol": "circle"
         },
         "name": "Pro Sports",
         "offsetgroup": "Pro Sports",
         "scalegroup": "y",
         "showlegend": false,
         "type": "violin",
         "xaxis": "x2",
         "y": [
          14449063,
          13875398,
          10493866,
          10100263,
          9284465,
          8731923,
          8308101,
          7653566,
          6693322,
          5971873,
          5039634,
          4633493,
          4485460,
          4392585,
          3325928,
          2897260,
          301061
         ],
         "yaxis": "y2"
        },
        {
         "hoverlabel": {
          "namelength": 0
         },
         "hovertemplate": "<b>OLS trendline</b><br>CV = 4273.27 * Productivity + 2.97562e+06<br>R<sup>2</sup>=0.529964<br><br>Team=Pro Sports<br>Productivity=%{x}<br>CV=%{y} <b>(trend)</b>",
         "legendgroup": "Pro Sports",
         "marker": {
          "color": "#EF553B",
          "symbol": "circle"
         },
         "mode": "lines",
         "name": "Pro Sports",
         "showlegend": false,
         "type": "scatter",
         "x": [
          65,
          185,
          341,
          391,
          664,
          709,
          883,
          1012,
          1026,
          1055,
          1071,
          1114,
          1181,
          1201,
          1240,
          1246,
          3009
         ],
         "xaxis": "x",
         "y": [
          3253386.4388921363,
          3766178.366198523,
          4432807.871696826,
          4646471.174741154,
          5813072.8093631845,
          6005369.782103078,
          6748918.07669734,
          7300169.398551705,
          7359995.123404117,
          7483919.839169827,
          7552292.096144012,
          7736042.536762134,
          8022351.3628415335,
          8107816.684059265,
          8274474.06043384,
          8300113.65679916,
          15833881.72214216
         ],
         "yaxis": "y"
        },
        {
         "hoverlabel": {
          "namelength": 0
         },
         "hovertemplate": "<b>%{hovertext}</b><br><br>Team=Commerce<br>Productivity=%{x}<br>CV=%{y}",
         "hovertext": [
          "reporter40"
         ],
         "legendgroup": "Commerce",
         "marker": {
          "color": "#00cc96",
          "symbol": "circle"
         },
         "mode": "markers",
         "name": "Commerce",
         "showlegend": true,
         "type": "scatter",
         "x": [
          209
         ],
         "xaxis": "x",
         "y": [
          3963086
         ],
         "yaxis": "y"
        },
        {
         "alignmentgroup": "True",
         "hoverlabel": {
          "namelength": 0
         },
         "hovertemplate": "<b>%{hovertext}</b><br><br>Team=Commerce<br>Productivity=%{x}",
         "hovertext": [
          "reporter40"
         ],
         "legendgroup": "Commerce",
         "marker": {
          "color": "#00cc96",
          "symbol": "circle"
         },
         "name": "Commerce",
         "notched": true,
         "offsetgroup": "Commerce",
         "showlegend": false,
         "type": "box",
         "x": [
          209
         ],
         "xaxis": "x3",
         "yaxis": "y3"
        },
        {
         "alignmentgroup": "True",
         "hoverlabel": {
          "namelength": 0
         },
         "hovertemplate": "<b>%{hovertext}</b><br><br>Team=Commerce<br>CV=%{y}",
         "hovertext": [
          "reporter40"
         ],
         "legendgroup": "Commerce",
         "marker": {
          "color": "#00cc96",
          "symbol": "circle"
         },
         "name": "Commerce",
         "offsetgroup": "Commerce",
         "scalegroup": "y",
         "showlegend": false,
         "type": "violin",
         "xaxis": "x2",
         "y": [
          3963086
         ],
         "yaxis": "y2"
        },
        {
         "hoverlabel": {
          "namelength": 0
         },
         "hovertemplate": "Team=Commerce",
         "legendgroup": "Commerce",
         "marker": {
          "color": "#00cc96",
          "symbol": "circle"
         },
         "mode": "lines",
         "name": "Commerce",
         "showlegend": false,
         "type": "scatter",
         "xaxis": "x",
         "yaxis": "y"
        },
        {
         "hoverlabel": {
          "namelength": 0
         },
         "hovertemplate": "<b>%{hovertext}</b><br><br>Team=HS Sports<br>Productivity=%{x}<br>CV=%{y}",
         "hovertext": [
          "reporter44",
          "reporter54",
          "reporter57",
          "reporter59",
          "reporter60",
          "reporter61",
          "reporter62",
          "reporter64",
          "reporter66",
          "reporter67",
          "reporter72",
          "reporter73",
          "reporter80",
          "reporter84",
          "reporter85",
          "reporter86",
          "reporter87",
          "reporter90",
          "reporter92"
         ],
         "legendgroup": "HS Sports",
         "marker": {
          "color": "#ab63fa",
          "symbol": "circle"
         },
         "mode": "markers",
         "name": "HS Sports",
         "showlegend": true,
         "type": "scatter",
         "x": [
          1744,
          896,
          1078,
          849,
          795,
          789,
          659,
          1188,
          1017,
          806,
          969,
          941,
          655,
          39,
          226,
          111,
          205,
          267,
          53
         ],
         "xaxis": "x",
         "y": [
          3480795,
          2973911,
          2668679,
          2491960,
          2331106,
          2313381,
          2306829,
          2276027,
          2188947,
          2178883,
          1123008,
          1019768,
          390632,
          183553,
          156464,
          133516,
          113428,
          84589,
          29688
         ],
         "yaxis": "y"
        },
        {
         "alignmentgroup": "True",
         "hoverlabel": {
          "namelength": 0
         },
         "hovertemplate": "<b>%{hovertext}</b><br><br>Team=HS Sports<br>Productivity=%{x}",
         "hovertext": [
          "reporter44",
          "reporter54",
          "reporter57",
          "reporter59",
          "reporter60",
          "reporter61",
          "reporter62",
          "reporter64",
          "reporter66",
          "reporter67",
          "reporter72",
          "reporter73",
          "reporter80",
          "reporter84",
          "reporter85",
          "reporter86",
          "reporter87",
          "reporter90",
          "reporter92"
         ],
         "legendgroup": "HS Sports",
         "marker": {
          "color": "#ab63fa",
          "symbol": "circle"
         },
         "name": "HS Sports",
         "notched": true,
         "offsetgroup": "HS Sports",
         "showlegend": false,
         "type": "box",
         "x": [
          1744,
          896,
          1078,
          849,
          795,
          789,
          659,
          1188,
          1017,
          806,
          969,
          941,
          655,
          39,
          226,
          111,
          205,
          267,
          53
         ],
         "xaxis": "x3",
         "yaxis": "y3"
        },
        {
         "alignmentgroup": "True",
         "hoverlabel": {
          "namelength": 0
         },
         "hovertemplate": "<b>%{hovertext}</b><br><br>Team=HS Sports<br>CV=%{y}",
         "hovertext": [
          "reporter44",
          "reporter54",
          "reporter57",
          "reporter59",
          "reporter60",
          "reporter61",
          "reporter62",
          "reporter64",
          "reporter66",
          "reporter67",
          "reporter72",
          "reporter73",
          "reporter80",
          "reporter84",
          "reporter85",
          "reporter86",
          "reporter87",
          "reporter90",
          "reporter92"
         ],
         "legendgroup": "HS Sports",
         "marker": {
          "color": "#ab63fa",
          "symbol": "circle"
         },
         "name": "HS Sports",
         "offsetgroup": "HS Sports",
         "scalegroup": "y",
         "showlegend": false,
         "type": "violin",
         "xaxis": "x2",
         "y": [
          3480795,
          2973911,
          2668679,
          2491960,
          2331106,
          2313381,
          2306829,
          2276027,
          2188947,
          2178883,
          1123008,
          1019768,
          390632,
          183553,
          156464,
          133516,
          113428,
          84589,
          29688
         ],
         "yaxis": "y2"
        },
        {
         "hoverlabel": {
          "namelength": 0
         },
         "hovertemplate": "<b>OLS trendline</b><br>CV = 2224.62 * Productivity + -58600.5<br>R<sup>2</sup>=0.720943<br><br>Team=HS Sports<br>Productivity=%{x}<br>CV=%{y} <b>(trend)</b>",
         "legendgroup": "HS Sports",
         "marker": {
          "color": "#ab63fa",
          "symbol": "circle"
         },
         "mode": "lines",
         "name": "HS Sports",
         "showlegend": false,
         "type": "scatter",
         "x": [
          39,
          53,
          111,
          205,
          226,
          267,
          655,
          659,
          789,
          795,
          806,
          849,
          896,
          941,
          969,
          1017,
          1078,
          1188,
          1744
         ],
         "xaxis": "x",
         "y": [
          28159.806182700893,
          59304.53657927361,
          188332.70536507486,
          397447.3237420631,
          444164.4193369222,
          535373.9869268851,
          1398527.9436319002,
          1407426.4380309212,
          1696627.5059990962,
          1709975.2475976273,
          1734446.1071949345,
          1830104.9219844078,
          1934662.231172902,
          2034770.2931618858,
          2097059.753955031,
          2203841.686743281,
          2339543.7263283473,
          2584252.322301419,
          3821143.043765307
         ],
         "yaxis": "y"
        }
       ],
       "layout": {
        "legend": {
         "title": {
          "text": "Team"
         },
         "tracegroupgap": 0
        },
        "margin": {
         "t": 60
        },
        "template": {
         "data": {
          "bar": [
           {
            "error_x": {
             "color": "#2a3f5f"
            },
            "error_y": {
             "color": "#2a3f5f"
            },
            "marker": {
             "line": {
              "color": "#E5ECF6",
              "width": 0.5
             }
            },
            "type": "bar"
           }
          ],
          "barpolar": [
           {
            "marker": {
             "line": {
              "color": "#E5ECF6",
              "width": 0.5
             }
            },
            "type": "barpolar"
           }
          ],
          "carpet": [
           {
            "aaxis": {
             "endlinecolor": "#2a3f5f",
             "gridcolor": "white",
             "linecolor": "white",
             "minorgridcolor": "white",
             "startlinecolor": "#2a3f5f"
            },
            "baxis": {
             "endlinecolor": "#2a3f5f",
             "gridcolor": "white",
             "linecolor": "white",
             "minorgridcolor": "white",
             "startlinecolor": "#2a3f5f"
            },
            "type": "carpet"
           }
          ],
          "choropleth": [
           {
            "colorbar": {
             "outlinewidth": 0,
             "ticks": ""
            },
            "type": "choropleth"
           }
          ],
          "contour": [
           {
            "colorbar": {
             "outlinewidth": 0,
             "ticks": ""
            },
            "colorscale": [
             [
              0,
              "#0d0887"
             ],
             [
              0.1111111111111111,
              "#46039f"
             ],
             [
              0.2222222222222222,
              "#7201a8"
             ],
             [
              0.3333333333333333,
              "#9c179e"
             ],
             [
              0.4444444444444444,
              "#bd3786"
             ],
             [
              0.5555555555555556,
              "#d8576b"
             ],
             [
              0.6666666666666666,
              "#ed7953"
             ],
             [
              0.7777777777777778,
              "#fb9f3a"
             ],
             [
              0.8888888888888888,
              "#fdca26"
             ],
             [
              1,
              "#f0f921"
             ]
            ],
            "type": "contour"
           }
          ],
          "contourcarpet": [
           {
            "colorbar": {
             "outlinewidth": 0,
             "ticks": ""
            },
            "type": "contourcarpet"
           }
          ],
          "heatmap": [
           {
            "colorbar": {
             "outlinewidth": 0,
             "ticks": ""
            },
            "colorscale": [
             [
              0,
              "#0d0887"
             ],
             [
              0.1111111111111111,
              "#46039f"
             ],
             [
              0.2222222222222222,
              "#7201a8"
             ],
             [
              0.3333333333333333,
              "#9c179e"
             ],
             [
              0.4444444444444444,
              "#bd3786"
             ],
             [
              0.5555555555555556,
              "#d8576b"
             ],
             [
              0.6666666666666666,
              "#ed7953"
             ],
             [
              0.7777777777777778,
              "#fb9f3a"
             ],
             [
              0.8888888888888888,
              "#fdca26"
             ],
             [
              1,
              "#f0f921"
             ]
            ],
            "type": "heatmap"
           }
          ],
          "heatmapgl": [
           {
            "colorbar": {
             "outlinewidth": 0,
             "ticks": ""
            },
            "colorscale": [
             [
              0,
              "#0d0887"
             ],
             [
              0.1111111111111111,
              "#46039f"
             ],
             [
              0.2222222222222222,
              "#7201a8"
             ],
             [
              0.3333333333333333,
              "#9c179e"
             ],
             [
              0.4444444444444444,
              "#bd3786"
             ],
             [
              0.5555555555555556,
              "#d8576b"
             ],
             [
              0.6666666666666666,
              "#ed7953"
             ],
             [
              0.7777777777777778,
              "#fb9f3a"
             ],
             [
              0.8888888888888888,
              "#fdca26"
             ],
             [
              1,
              "#f0f921"
             ]
            ],
            "type": "heatmapgl"
           }
          ],
          "histogram": [
           {
            "marker": {
             "colorbar": {
              "outlinewidth": 0,
              "ticks": ""
             }
            },
            "type": "histogram"
           }
          ],
          "histogram2d": [
           {
            "colorbar": {
             "outlinewidth": 0,
             "ticks": ""
            },
            "colorscale": [
             [
              0,
              "#0d0887"
             ],
             [
              0.1111111111111111,
              "#46039f"
             ],
             [
              0.2222222222222222,
              "#7201a8"
             ],
             [
              0.3333333333333333,
              "#9c179e"
             ],
             [
              0.4444444444444444,
              "#bd3786"
             ],
             [
              0.5555555555555556,
              "#d8576b"
             ],
             [
              0.6666666666666666,
              "#ed7953"
             ],
             [
              0.7777777777777778,
              "#fb9f3a"
             ],
             [
              0.8888888888888888,
              "#fdca26"
             ],
             [
              1,
              "#f0f921"
             ]
            ],
            "type": "histogram2d"
           }
          ],
          "histogram2dcontour": [
           {
            "colorbar": {
             "outlinewidth": 0,
             "ticks": ""
            },
            "colorscale": [
             [
              0,
              "#0d0887"
             ],
             [
              0.1111111111111111,
              "#46039f"
             ],
             [
              0.2222222222222222,
              "#7201a8"
             ],
             [
              0.3333333333333333,
              "#9c179e"
             ],
             [
              0.4444444444444444,
              "#bd3786"
             ],
             [
              0.5555555555555556,
              "#d8576b"
             ],
             [
              0.6666666666666666,
              "#ed7953"
             ],
             [
              0.7777777777777778,
              "#fb9f3a"
             ],
             [
              0.8888888888888888,
              "#fdca26"
             ],
             [
              1,
              "#f0f921"
             ]
            ],
            "type": "histogram2dcontour"
           }
          ],
          "mesh3d": [
           {
            "colorbar": {
             "outlinewidth": 0,
             "ticks": ""
            },
            "type": "mesh3d"
           }
          ],
          "parcoords": [
           {
            "line": {
             "colorbar": {
              "outlinewidth": 0,
              "ticks": ""
             }
            },
            "type": "parcoords"
           }
          ],
          "pie": [
           {
            "automargin": true,
            "type": "pie"
           }
          ],
          "scatter": [
           {
            "marker": {
             "colorbar": {
              "outlinewidth": 0,
              "ticks": ""
             }
            },
            "type": "scatter"
           }
          ],
          "scatter3d": [
           {
            "line": {
             "colorbar": {
              "outlinewidth": 0,
              "ticks": ""
             }
            },
            "marker": {
             "colorbar": {
              "outlinewidth": 0,
              "ticks": ""
             }
            },
            "type": "scatter3d"
           }
          ],
          "scattercarpet": [
           {
            "marker": {
             "colorbar": {
              "outlinewidth": 0,
              "ticks": ""
             }
            },
            "type": "scattercarpet"
           }
          ],
          "scattergeo": [
           {
            "marker": {
             "colorbar": {
              "outlinewidth": 0,
              "ticks": ""
             }
            },
            "type": "scattergeo"
           }
          ],
          "scattergl": [
           {
            "marker": {
             "colorbar": {
              "outlinewidth": 0,
              "ticks": ""
             }
            },
            "type": "scattergl"
           }
          ],
          "scattermapbox": [
           {
            "marker": {
             "colorbar": {
              "outlinewidth": 0,
              "ticks": ""
             }
            },
            "type": "scattermapbox"
           }
          ],
          "scatterpolar": [
           {
            "marker": {
             "colorbar": {
              "outlinewidth": 0,
              "ticks": ""
             }
            },
            "type": "scatterpolar"
           }
          ],
          "scatterpolargl": [
           {
            "marker": {
             "colorbar": {
              "outlinewidth": 0,
              "ticks": ""
             }
            },
            "type": "scatterpolargl"
           }
          ],
          "scatterternary": [
           {
            "marker": {
             "colorbar": {
              "outlinewidth": 0,
              "ticks": ""
             }
            },
            "type": "scatterternary"
           }
          ],
          "surface": [
           {
            "colorbar": {
             "outlinewidth": 0,
             "ticks": ""
            },
            "colorscale": [
             [
              0,
              "#0d0887"
             ],
             [
              0.1111111111111111,
              "#46039f"
             ],
             [
              0.2222222222222222,
              "#7201a8"
             ],
             [
              0.3333333333333333,
              "#9c179e"
             ],
             [
              0.4444444444444444,
              "#bd3786"
             ],
             [
              0.5555555555555556,
              "#d8576b"
             ],
             [
              0.6666666666666666,
              "#ed7953"
             ],
             [
              0.7777777777777778,
              "#fb9f3a"
             ],
             [
              0.8888888888888888,
              "#fdca26"
             ],
             [
              1,
              "#f0f921"
             ]
            ],
            "type": "surface"
           }
          ],
          "table": [
           {
            "cells": {
             "fill": {
              "color": "#EBF0F8"
             },
             "line": {
              "color": "white"
             }
            },
            "header": {
             "fill": {
              "color": "#C8D4E3"
             },
             "line": {
              "color": "white"
             }
            },
            "type": "table"
           }
          ]
         },
         "layout": {
          "annotationdefaults": {
           "arrowcolor": "#2a3f5f",
           "arrowhead": 0,
           "arrowwidth": 1
          },
          "coloraxis": {
           "colorbar": {
            "outlinewidth": 0,
            "ticks": ""
           }
          },
          "colorscale": {
           "diverging": [
            [
             0,
             "#8e0152"
            ],
            [
             0.1,
             "#c51b7d"
            ],
            [
             0.2,
             "#de77ae"
            ],
            [
             0.3,
             "#f1b6da"
            ],
            [
             0.4,
             "#fde0ef"
            ],
            [
             0.5,
             "#f7f7f7"
            ],
            [
             0.6,
             "#e6f5d0"
            ],
            [
             0.7,
             "#b8e186"
            ],
            [
             0.8,
             "#7fbc41"
            ],
            [
             0.9,
             "#4d9221"
            ],
            [
             1,
             "#276419"
            ]
           ],
           "sequential": [
            [
             0,
             "#0d0887"
            ],
            [
             0.1111111111111111,
             "#46039f"
            ],
            [
             0.2222222222222222,
             "#7201a8"
            ],
            [
             0.3333333333333333,
             "#9c179e"
            ],
            [
             0.4444444444444444,
             "#bd3786"
            ],
            [
             0.5555555555555556,
             "#d8576b"
            ],
            [
             0.6666666666666666,
             "#ed7953"
            ],
            [
             0.7777777777777778,
             "#fb9f3a"
            ],
            [
             0.8888888888888888,
             "#fdca26"
            ],
            [
             1,
             "#f0f921"
            ]
           ],
           "sequentialminus": [
            [
             0,
             "#0d0887"
            ],
            [
             0.1111111111111111,
             "#46039f"
            ],
            [
             0.2222222222222222,
             "#7201a8"
            ],
            [
             0.3333333333333333,
             "#9c179e"
            ],
            [
             0.4444444444444444,
             "#bd3786"
            ],
            [
             0.5555555555555556,
             "#d8576b"
            ],
            [
             0.6666666666666666,
             "#ed7953"
            ],
            [
             0.7777777777777778,
             "#fb9f3a"
            ],
            [
             0.8888888888888888,
             "#fdca26"
            ],
            [
             1,
             "#f0f921"
            ]
           ]
          },
          "colorway": [
           "#636efa",
           "#EF553B",
           "#00cc96",
           "#ab63fa",
           "#FFA15A",
           "#19d3f3",
           "#FF6692",
           "#B6E880",
           "#FF97FF",
           "#FECB52"
          ],
          "font": {
           "color": "#2a3f5f"
          },
          "geo": {
           "bgcolor": "white",
           "lakecolor": "white",
           "landcolor": "#E5ECF6",
           "showlakes": true,
           "showland": true,
           "subunitcolor": "white"
          },
          "hoverlabel": {
           "align": "left"
          },
          "hovermode": "closest",
          "mapbox": {
           "style": "light"
          },
          "paper_bgcolor": "white",
          "plot_bgcolor": "#E5ECF6",
          "polar": {
           "angularaxis": {
            "gridcolor": "white",
            "linecolor": "white",
            "ticks": ""
           },
           "bgcolor": "#E5ECF6",
           "radialaxis": {
            "gridcolor": "white",
            "linecolor": "white",
            "ticks": ""
           }
          },
          "scene": {
           "xaxis": {
            "backgroundcolor": "#E5ECF6",
            "gridcolor": "white",
            "gridwidth": 2,
            "linecolor": "white",
            "showbackground": true,
            "ticks": "",
            "zerolinecolor": "white"
           },
           "yaxis": {
            "backgroundcolor": "#E5ECF6",
            "gridcolor": "white",
            "gridwidth": 2,
            "linecolor": "white",
            "showbackground": true,
            "ticks": "",
            "zerolinecolor": "white"
           },
           "zaxis": {
            "backgroundcolor": "#E5ECF6",
            "gridcolor": "white",
            "gridwidth": 2,
            "linecolor": "white",
            "showbackground": true,
            "ticks": "",
            "zerolinecolor": "white"
           }
          },
          "shapedefaults": {
           "line": {
            "color": "#2a3f5f"
           }
          },
          "ternary": {
           "aaxis": {
            "gridcolor": "white",
            "linecolor": "white",
            "ticks": ""
           },
           "baxis": {
            "gridcolor": "white",
            "linecolor": "white",
            "ticks": ""
           },
           "bgcolor": "#E5ECF6",
           "caxis": {
            "gridcolor": "white",
            "linecolor": "white",
            "ticks": ""
           }
          },
          "title": {
           "x": 0.05
          },
          "xaxis": {
           "automargin": true,
           "gridcolor": "white",
           "linecolor": "white",
           "ticks": "",
           "title": {
            "standoff": 15
           },
           "zerolinecolor": "white",
           "zerolinewidth": 2
          },
          "yaxis": {
           "automargin": true,
           "gridcolor": "white",
           "linecolor": "white",
           "ticks": "",
           "title": {
            "standoff": 15
           },
           "zerolinecolor": "white",
           "zerolinewidth": 2
          }
         }
        },
        "xaxis": {
         "anchor": "y",
         "domain": [
          0,
          0.7363
         ],
         "title": {
          "text": "Productivity"
         }
        },
        "xaxis2": {
         "anchor": "y2",
         "domain": [
          0.7413,
          1
         ],
         "matches": "x2",
         "showgrid": false,
         "showline": false,
         "showticklabels": false,
         "ticks": ""
        },
        "xaxis3": {
         "anchor": "y3",
         "domain": [
          0,
          0.7363
         ],
         "matches": "x",
         "showgrid": true,
         "showticklabels": false
        },
        "xaxis4": {
         "anchor": "y4",
         "domain": [
          0.7413,
          1
         ],
         "matches": "x2",
         "showgrid": false,
         "showline": false,
         "showticklabels": false,
         "ticks": ""
        },
        "yaxis": {
         "anchor": "x",
         "domain": [
          0,
          0.7326
         ],
         "title": {
          "text": "CV"
         }
        },
        "yaxis2": {
         "anchor": "x2",
         "domain": [
          0,
          0.7326
         ],
         "matches": "y",
         "showgrid": true,
         "showticklabels": false
        },
        "yaxis3": {
         "anchor": "x3",
         "domain": [
          0.7426,
          1
         ],
         "matches": "y3",
         "showgrid": false,
         "showline": false,
         "showticklabels": false,
         "ticks": ""
        },
        "yaxis4": {
         "anchor": "x4",
         "domain": [
          0.7426,
          1
         ],
         "matches": "y3",
         "showgrid": true,
         "showline": false,
         "showticklabels": false,
         "ticks": ""
        }
       }
      },
      "text/html": [
       "<div>\n",
       "        \n",
       "        \n",
       "            <div id=\"ec41e714-b3cf-45a8-8d79-493c3c2512d7\" class=\"plotly-graph-div\" style=\"height:525px; width:100%;\"></div>\n",
       "            <script type=\"text/javascript\">\n",
       "                require([\"plotly\"], function(Plotly) {\n",
       "                    window.PLOTLYENV=window.PLOTLYENV || {};\n",
       "                    \n",
       "                if (document.getElementById(\"ec41e714-b3cf-45a8-8d79-493c3c2512d7\")) {\n",
       "                    Plotly.newPlot(\n",
       "                        'ec41e714-b3cf-45a8-8d79-493c3c2512d7',\n",
       "                        [{\"hoverlabel\": {\"namelength\": 0}, \"hovertemplate\": \"<b>%{hovertext}</b><br><br>Team=News<br>Productivity=%{x}<br>CV=%{y}\", \"hovertext\": [\"reporter1\", \"reporter2\", \"reporter3\", \"reporter4\", \"reporter7\", \"reporter10\", \"reporter13\", \"reporter15\", \"reporter17\", \"reporter18\", \"reporter19\", \"reporter21\", \"reporter22\", \"reporter23\", \"reporter24\", \"reporter25\", \"reporter27\", \"reporter29\", \"reporter31\", \"reporter33\", \"reporter35\", \"reporter36\", \"reporter37\", \"reporter38\", \"reporter39\", \"reporter41\", \"reporter42\", \"reporter43\", \"reporter45\", \"reporter47\", \"reporter48\", \"reporter49\", \"reporter50\", \"reporter51\", \"reporter52\", \"reporter53\", \"reporter55\", \"reporter58\", \"reporter63\", \"reporter65\", \"reporter68\", \"reporter69\", \"reporter70\", \"reporter71\", \"reporter74\", \"reporter75\", \"reporter76\", \"reporter77\", \"reporter78\", \"reporter79\", \"reporter81\", \"reporter82\", \"reporter88\", \"reporter89\", \"reporter91\"], \"legendgroup\": \"News\", \"marker\": {\"color\": \"#636efa\", \"symbol\": \"circle\"}, \"mode\": \"markers\", \"name\": \"News\", \"showlegend\": true, \"type\": \"scatter\", \"x\": [1347, 684, 608, 555, 477, 415, 305, 348, 244, 213, 206, 229, 275, 214, 84, 345, 603, 316, 186, 223, 127, 160, 186, 174, 112, 166, 168, 177, 152, 152, 99, 154, 113, 86, 221, 112, 96, 173, 124, 109, 76, 62, 62, 86, 71, 31, 87, 89, 51, 25, 40, 47, 14, 7, 8], \"xaxis\": \"x\", \"y\": [32981448, 15239051, 15227333, 15129163, 11032010, 9931112, 8483893, 7830570, 7423919, 6725939, 6715653, 6581319, 6506326, 6413386, 6271736, 6054364, 5395767, 4746436, 4548830, 4464487, 4315746, 4275258, 4024236, 3995978, 3968698, 3938843, 3889447, 3722741, 3442594, 3247791, 3245435, 3186564, 3120293, 3106786, 3080586, 3076441, 2919604, 2666488, 2298984, 2197694, 2048102, 1494412, 1389167, 1367267, 764832, 732616, 670406, 578632, 429207, 415534, 375587, 350911, 104081, 87367, 31659], \"yaxis\": \"y\"}, {\"alignmentgroup\": \"True\", \"hoverlabel\": {\"namelength\": 0}, \"hovertemplate\": \"<b>%{hovertext}</b><br><br>Team=News<br>Productivity=%{x}\", \"hovertext\": [\"reporter1\", \"reporter2\", \"reporter3\", \"reporter4\", \"reporter7\", \"reporter10\", \"reporter13\", \"reporter15\", \"reporter17\", \"reporter18\", \"reporter19\", \"reporter21\", \"reporter22\", \"reporter23\", \"reporter24\", \"reporter25\", \"reporter27\", \"reporter29\", \"reporter31\", \"reporter33\", \"reporter35\", \"reporter36\", \"reporter37\", \"reporter38\", \"reporter39\", \"reporter41\", \"reporter42\", \"reporter43\", \"reporter45\", \"reporter47\", \"reporter48\", \"reporter49\", \"reporter50\", \"reporter51\", \"reporter52\", \"reporter53\", \"reporter55\", \"reporter58\", \"reporter63\", \"reporter65\", \"reporter68\", \"reporter69\", \"reporter70\", \"reporter71\", \"reporter74\", \"reporter75\", \"reporter76\", \"reporter77\", \"reporter78\", \"reporter79\", \"reporter81\", \"reporter82\", \"reporter88\", \"reporter89\", \"reporter91\"], \"legendgroup\": \"News\", \"marker\": {\"color\": \"#636efa\", \"symbol\": \"circle\"}, \"name\": \"News\", \"notched\": true, \"offsetgroup\": \"News\", \"showlegend\": false, \"type\": \"box\", \"x\": [1347, 684, 608, 555, 477, 415, 305, 348, 244, 213, 206, 229, 275, 214, 84, 345, 603, 316, 186, 223, 127, 160, 186, 174, 112, 166, 168, 177, 152, 152, 99, 154, 113, 86, 221, 112, 96, 173, 124, 109, 76, 62, 62, 86, 71, 31, 87, 89, 51, 25, 40, 47, 14, 7, 8], \"xaxis\": \"x3\", \"yaxis\": \"y3\"}, {\"alignmentgroup\": \"True\", \"hoverlabel\": {\"namelength\": 0}, \"hovertemplate\": \"<b>%{hovertext}</b><br><br>Team=News<br>CV=%{y}\", \"hovertext\": [\"reporter1\", \"reporter2\", \"reporter3\", \"reporter4\", \"reporter7\", \"reporter10\", \"reporter13\", \"reporter15\", \"reporter17\", \"reporter18\", \"reporter19\", \"reporter21\", \"reporter22\", \"reporter23\", \"reporter24\", \"reporter25\", \"reporter27\", \"reporter29\", \"reporter31\", \"reporter33\", \"reporter35\", \"reporter36\", \"reporter37\", \"reporter38\", \"reporter39\", \"reporter41\", \"reporter42\", \"reporter43\", \"reporter45\", \"reporter47\", \"reporter48\", \"reporter49\", \"reporter50\", \"reporter51\", \"reporter52\", \"reporter53\", \"reporter55\", \"reporter58\", \"reporter63\", \"reporter65\", \"reporter68\", \"reporter69\", \"reporter70\", \"reporter71\", \"reporter74\", \"reporter75\", \"reporter76\", \"reporter77\", \"reporter78\", \"reporter79\", \"reporter81\", \"reporter82\", \"reporter88\", \"reporter89\", \"reporter91\"], \"legendgroup\": \"News\", \"marker\": {\"color\": \"#636efa\", \"symbol\": \"circle\"}, \"name\": \"News\", \"offsetgroup\": \"News\", \"scalegroup\": \"y\", \"showlegend\": false, \"type\": \"violin\", \"xaxis\": \"x2\", \"y\": [32981448, 15239051, 15227333, 15129163, 11032010, 9931112, 8483893, 7830570, 7423919, 6725939, 6715653, 6581319, 6506326, 6413386, 6271736, 6054364, 5395767, 4746436, 4548830, 4464487, 4315746, 4275258, 4024236, 3995978, 3968698, 3938843, 3889447, 3722741, 3442594, 3247791, 3245435, 3186564, 3120293, 3106786, 3080586, 3076441, 2919604, 2666488, 2298984, 2197694, 2048102, 1494412, 1389167, 1367267, 764832, 732616, 670406, 578632, 429207, 415534, 375587, 350911, 104081, 87367, 31659], \"yaxis\": \"y2\"}, {\"hoverlabel\": {\"namelength\": 0}, \"hovertemplate\": \"<b>OLS trendline</b><br>CV = 22862 * Productivity + 63403.8<br>R<sup>2</sup>=0.902420<br><br>Team=News<br>Productivity=%{x}<br>CV=%{y} <b>(trend)</b>\", \"legendgroup\": \"News\", \"marker\": {\"color\": \"#636efa\", \"symbol\": \"circle\"}, \"mode\": \"lines\", \"name\": \"News\", \"showlegend\": false, \"type\": \"scatter\", \"x\": [7, 8, 14, 25, 31, 40, 47, 51, 62, 62, 71, 76, 84, 86, 86, 87, 89, 96, 99, 109, 112, 112, 113, 124, 127, 152, 152, 154, 160, 166, 168, 173, 174, 177, 186, 186, 206, 213, 214, 221, 223, 229, 244, 275, 305, 316, 345, 348, 415, 477, 555, 603, 608, 684, 1347], \"xaxis\": \"x\", \"y\": [223437.65589229253, 246299.62888049343, 383471.4668096989, 634953.1696799089, 772125.0076091143, 977882.7645029225, 1137916.5754203289, 1229364.4673731325, 1480846.1702433424, 1480846.1702433424, 1686603.9271371507, 1800913.7920781553, 1983809.5759837625, 2029533.5219601644, 2029533.5219601644, 2052395.4949483653, 2098119.440924767, 2258153.2518421733, 2326739.1708067763, 2555358.900688785, 2623944.819653388, 2623944.819653388, 2646806.792641589, 2898288.4955117987, 2966874.4144764016, 3538423.7391814245, 3538423.7391814245, 3584147.685157826, 3721319.5230870317, 3858491.361016237, 3904215.306992639, 4018525.1719336435, 4041387.1449218444, 4109973.063886447, 4315730.820780255, 4315730.820780255, 4772970.280544274, 4933004.091461679, 4955866.06444988, 5115899.875367288, 5161623.821343688, 5298795.659272894, 5641725.254095908, 6350446.416730136, 7036305.606376164, 7287787.309246372, 7950784.525904199, 8019370.444868803, 9551122.635078264, 10968564.96034672, 12751798.853426391, 13849173.556860035, 13963483.42180104, 15700993.368904307, 30858481.46008151], \"yaxis\": \"y\"}, {\"hoverlabel\": {\"namelength\": 0}, \"hovertemplate\": \"<b>%{hovertext}</b><br><br>Team=Pro Sports<br>Productivity=%{x}<br>CV=%{y}\", \"hovertext\": [\"reporter5\", \"reporter6\", \"reporter8\", \"reporter9\", \"reporter11\", \"reporter12\", \"reporter14\", \"reporter16\", \"reporter20\", \"reporter26\", \"reporter28\", \"reporter30\", \"reporter32\", \"reporter34\", \"reporter46\", \"reporter56\", \"reporter83\"], \"legendgroup\": \"Pro Sports\", \"marker\": {\"color\": \"#EF553B\", \"symbol\": \"circle\"}, \"mode\": \"markers\", \"name\": \"Pro Sports\", \"showlegend\": true, \"type\": \"scatter\", \"x\": [1201, 3009, 1026, 1240, 709, 1055, 883, 1114, 1012, 1246, 1071, 391, 1181, 664, 185, 341, 65], \"xaxis\": \"x\", \"y\": [14449063, 13875398, 10493866, 10100263, 9284465, 8731923, 8308101, 7653566, 6693322, 5971873, 5039634, 4633493, 4485460, 4392585, 3325928, 2897260, 301061], \"yaxis\": \"y\"}, {\"alignmentgroup\": \"True\", \"hoverlabel\": {\"namelength\": 0}, \"hovertemplate\": \"<b>%{hovertext}</b><br><br>Team=Pro Sports<br>Productivity=%{x}\", \"hovertext\": [\"reporter5\", \"reporter6\", \"reporter8\", \"reporter9\", \"reporter11\", \"reporter12\", \"reporter14\", \"reporter16\", \"reporter20\", \"reporter26\", \"reporter28\", \"reporter30\", \"reporter32\", \"reporter34\", \"reporter46\", \"reporter56\", \"reporter83\"], \"legendgroup\": \"Pro Sports\", \"marker\": {\"color\": \"#EF553B\", \"symbol\": \"circle\"}, \"name\": \"Pro Sports\", \"notched\": true, \"offsetgroup\": \"Pro Sports\", \"showlegend\": false, \"type\": \"box\", \"x\": [1201, 3009, 1026, 1240, 709, 1055, 883, 1114, 1012, 1246, 1071, 391, 1181, 664, 185, 341, 65], \"xaxis\": \"x3\", \"yaxis\": \"y3\"}, {\"alignmentgroup\": \"True\", \"hoverlabel\": {\"namelength\": 0}, \"hovertemplate\": \"<b>%{hovertext}</b><br><br>Team=Pro Sports<br>CV=%{y}\", \"hovertext\": [\"reporter5\", \"reporter6\", \"reporter8\", \"reporter9\", \"reporter11\", \"reporter12\", \"reporter14\", \"reporter16\", \"reporter20\", \"reporter26\", \"reporter28\", \"reporter30\", \"reporter32\", \"reporter34\", \"reporter46\", \"reporter56\", \"reporter83\"], \"legendgroup\": \"Pro Sports\", \"marker\": {\"color\": \"#EF553B\", \"symbol\": \"circle\"}, \"name\": \"Pro Sports\", \"offsetgroup\": \"Pro Sports\", \"scalegroup\": \"y\", \"showlegend\": false, \"type\": \"violin\", \"xaxis\": \"x2\", \"y\": [14449063, 13875398, 10493866, 10100263, 9284465, 8731923, 8308101, 7653566, 6693322, 5971873, 5039634, 4633493, 4485460, 4392585, 3325928, 2897260, 301061], \"yaxis\": \"y2\"}, {\"hoverlabel\": {\"namelength\": 0}, \"hovertemplate\": \"<b>OLS trendline</b><br>CV = 4273.27 * Productivity + 2.97562e+06<br>R<sup>2</sup>=0.529964<br><br>Team=Pro Sports<br>Productivity=%{x}<br>CV=%{y} <b>(trend)</b>\", \"legendgroup\": \"Pro Sports\", \"marker\": {\"color\": \"#EF553B\", \"symbol\": \"circle\"}, \"mode\": \"lines\", \"name\": \"Pro Sports\", \"showlegend\": false, \"type\": \"scatter\", \"x\": [65, 185, 341, 391, 664, 709, 883, 1012, 1026, 1055, 1071, 1114, 1181, 1201, 1240, 1246, 3009], \"xaxis\": \"x\", \"y\": [3253386.4388921363, 3766178.366198523, 4432807.871696826, 4646471.174741154, 5813072.8093631845, 6005369.782103078, 6748918.07669734, 7300169.398551705, 7359995.123404117, 7483919.839169827, 7552292.096144012, 7736042.536762134, 8022351.3628415335, 8107816.684059265, 8274474.06043384, 8300113.65679916, 15833881.72214216], \"yaxis\": \"y\"}, {\"hoverlabel\": {\"namelength\": 0}, \"hovertemplate\": \"<b>%{hovertext}</b><br><br>Team=Commerce<br>Productivity=%{x}<br>CV=%{y}\", \"hovertext\": [\"reporter40\"], \"legendgroup\": \"Commerce\", \"marker\": {\"color\": \"#00cc96\", \"symbol\": \"circle\"}, \"mode\": \"markers\", \"name\": \"Commerce\", \"showlegend\": true, \"type\": \"scatter\", \"x\": [209], \"xaxis\": \"x\", \"y\": [3963086], \"yaxis\": \"y\"}, {\"alignmentgroup\": \"True\", \"hoverlabel\": {\"namelength\": 0}, \"hovertemplate\": \"<b>%{hovertext}</b><br><br>Team=Commerce<br>Productivity=%{x}\", \"hovertext\": [\"reporter40\"], \"legendgroup\": \"Commerce\", \"marker\": {\"color\": \"#00cc96\", \"symbol\": \"circle\"}, \"name\": \"Commerce\", \"notched\": true, \"offsetgroup\": \"Commerce\", \"showlegend\": false, \"type\": \"box\", \"x\": [209], \"xaxis\": \"x3\", \"yaxis\": \"y3\"}, {\"alignmentgroup\": \"True\", \"hoverlabel\": {\"namelength\": 0}, \"hovertemplate\": \"<b>%{hovertext}</b><br><br>Team=Commerce<br>CV=%{y}\", \"hovertext\": [\"reporter40\"], \"legendgroup\": \"Commerce\", \"marker\": {\"color\": \"#00cc96\", \"symbol\": \"circle\"}, \"name\": \"Commerce\", \"offsetgroup\": \"Commerce\", \"scalegroup\": \"y\", \"showlegend\": false, \"type\": \"violin\", \"xaxis\": \"x2\", \"y\": [3963086], \"yaxis\": \"y2\"}, {\"hoverlabel\": {\"namelength\": 0}, \"hovertemplate\": \"Team=Commerce\", \"legendgroup\": \"Commerce\", \"marker\": {\"color\": \"#00cc96\", \"symbol\": \"circle\"}, \"mode\": \"lines\", \"name\": \"Commerce\", \"showlegend\": false, \"type\": \"scatter\", \"xaxis\": \"x\", \"yaxis\": \"y\"}, {\"hoverlabel\": {\"namelength\": 0}, \"hovertemplate\": \"<b>%{hovertext}</b><br><br>Team=HS Sports<br>Productivity=%{x}<br>CV=%{y}\", \"hovertext\": [\"reporter44\", \"reporter54\", \"reporter57\", \"reporter59\", \"reporter60\", \"reporter61\", \"reporter62\", \"reporter64\", \"reporter66\", \"reporter67\", \"reporter72\", \"reporter73\", \"reporter80\", \"reporter84\", \"reporter85\", \"reporter86\", \"reporter87\", \"reporter90\", \"reporter92\"], \"legendgroup\": \"HS Sports\", \"marker\": {\"color\": \"#ab63fa\", \"symbol\": \"circle\"}, \"mode\": \"markers\", \"name\": \"HS Sports\", \"showlegend\": true, \"type\": \"scatter\", \"x\": [1744, 896, 1078, 849, 795, 789, 659, 1188, 1017, 806, 969, 941, 655, 39, 226, 111, 205, 267, 53], \"xaxis\": \"x\", \"y\": [3480795, 2973911, 2668679, 2491960, 2331106, 2313381, 2306829, 2276027, 2188947, 2178883, 1123008, 1019768, 390632, 183553, 156464, 133516, 113428, 84589, 29688], \"yaxis\": \"y\"}, {\"alignmentgroup\": \"True\", \"hoverlabel\": {\"namelength\": 0}, \"hovertemplate\": \"<b>%{hovertext}</b><br><br>Team=HS Sports<br>Productivity=%{x}\", \"hovertext\": [\"reporter44\", \"reporter54\", \"reporter57\", \"reporter59\", \"reporter60\", \"reporter61\", \"reporter62\", \"reporter64\", \"reporter66\", \"reporter67\", \"reporter72\", \"reporter73\", \"reporter80\", \"reporter84\", \"reporter85\", \"reporter86\", \"reporter87\", \"reporter90\", \"reporter92\"], \"legendgroup\": \"HS Sports\", \"marker\": {\"color\": \"#ab63fa\", \"symbol\": \"circle\"}, \"name\": \"HS Sports\", \"notched\": true, \"offsetgroup\": \"HS Sports\", \"showlegend\": false, \"type\": \"box\", \"x\": [1744, 896, 1078, 849, 795, 789, 659, 1188, 1017, 806, 969, 941, 655, 39, 226, 111, 205, 267, 53], \"xaxis\": \"x3\", \"yaxis\": \"y3\"}, {\"alignmentgroup\": \"True\", \"hoverlabel\": {\"namelength\": 0}, \"hovertemplate\": \"<b>%{hovertext}</b><br><br>Team=HS Sports<br>CV=%{y}\", \"hovertext\": [\"reporter44\", \"reporter54\", \"reporter57\", \"reporter59\", \"reporter60\", \"reporter61\", \"reporter62\", \"reporter64\", \"reporter66\", \"reporter67\", \"reporter72\", \"reporter73\", \"reporter80\", \"reporter84\", \"reporter85\", \"reporter86\", \"reporter87\", \"reporter90\", \"reporter92\"], \"legendgroup\": \"HS Sports\", \"marker\": {\"color\": \"#ab63fa\", \"symbol\": \"circle\"}, \"name\": \"HS Sports\", \"offsetgroup\": \"HS Sports\", \"scalegroup\": \"y\", \"showlegend\": false, \"type\": \"violin\", \"xaxis\": \"x2\", \"y\": [3480795, 2973911, 2668679, 2491960, 2331106, 2313381, 2306829, 2276027, 2188947, 2178883, 1123008, 1019768, 390632, 183553, 156464, 133516, 113428, 84589, 29688], \"yaxis\": \"y2\"}, {\"hoverlabel\": {\"namelength\": 0}, \"hovertemplate\": \"<b>OLS trendline</b><br>CV = 2224.62 * Productivity + -58600.5<br>R<sup>2</sup>=0.720943<br><br>Team=HS Sports<br>Productivity=%{x}<br>CV=%{y} <b>(trend)</b>\", \"legendgroup\": \"HS Sports\", \"marker\": {\"color\": \"#ab63fa\", \"symbol\": \"circle\"}, \"mode\": \"lines\", \"name\": \"HS Sports\", \"showlegend\": false, \"type\": \"scatter\", \"x\": [39, 53, 111, 205, 226, 267, 655, 659, 789, 795, 806, 849, 896, 941, 969, 1017, 1078, 1188, 1744], \"xaxis\": \"x\", \"y\": [28159.806182700893, 59304.53657927361, 188332.70536507486, 397447.3237420631, 444164.4193369222, 535373.9869268851, 1398527.9436319002, 1407426.4380309212, 1696627.5059990962, 1709975.2475976273, 1734446.1071949345, 1830104.9219844078, 1934662.231172902, 2034770.2931618858, 2097059.753955031, 2203841.686743281, 2339543.7263283473, 2584252.322301419, 3821143.043765307], \"yaxis\": \"y\"}],\n",
       "                        {\"legend\": {\"title\": {\"text\": \"Team\"}, \"tracegroupgap\": 0}, \"margin\": {\"t\": 60}, \"template\": {\"data\": {\"bar\": [{\"error_x\": {\"color\": \"#2a3f5f\"}, \"error_y\": {\"color\": \"#2a3f5f\"}, \"marker\": {\"line\": {\"color\": \"#E5ECF6\", \"width\": 0.5}}, \"type\": \"bar\"}], \"barpolar\": [{\"marker\": {\"line\": {\"color\": \"#E5ECF6\", \"width\": 0.5}}, \"type\": \"barpolar\"}], \"carpet\": [{\"aaxis\": {\"endlinecolor\": \"#2a3f5f\", \"gridcolor\": \"white\", \"linecolor\": \"white\", \"minorgridcolor\": \"white\", \"startlinecolor\": \"#2a3f5f\"}, \"baxis\": {\"endlinecolor\": \"#2a3f5f\", \"gridcolor\": \"white\", \"linecolor\": \"white\", \"minorgridcolor\": \"white\", \"startlinecolor\": \"#2a3f5f\"}, \"type\": \"carpet\"}], \"choropleth\": [{\"colorbar\": {\"outlinewidth\": 0, \"ticks\": \"\"}, \"type\": \"choropleth\"}], \"contour\": [{\"colorbar\": {\"outlinewidth\": 0, \"ticks\": \"\"}, \"colorscale\": [[0.0, \"#0d0887\"], [0.1111111111111111, \"#46039f\"], [0.2222222222222222, \"#7201a8\"], [0.3333333333333333, \"#9c179e\"], [0.4444444444444444, \"#bd3786\"], [0.5555555555555556, \"#d8576b\"], [0.6666666666666666, \"#ed7953\"], [0.7777777777777778, \"#fb9f3a\"], [0.8888888888888888, \"#fdca26\"], [1.0, \"#f0f921\"]], \"type\": \"contour\"}], \"contourcarpet\": [{\"colorbar\": {\"outlinewidth\": 0, \"ticks\": \"\"}, \"type\": \"contourcarpet\"}], \"heatmap\": [{\"colorbar\": {\"outlinewidth\": 0, \"ticks\": \"\"}, \"colorscale\": [[0.0, \"#0d0887\"], [0.1111111111111111, \"#46039f\"], [0.2222222222222222, \"#7201a8\"], [0.3333333333333333, \"#9c179e\"], [0.4444444444444444, \"#bd3786\"], [0.5555555555555556, \"#d8576b\"], [0.6666666666666666, \"#ed7953\"], [0.7777777777777778, \"#fb9f3a\"], [0.8888888888888888, \"#fdca26\"], [1.0, \"#f0f921\"]], \"type\": \"heatmap\"}], \"heatmapgl\": [{\"colorbar\": {\"outlinewidth\": 0, \"ticks\": \"\"}, \"colorscale\": [[0.0, \"#0d0887\"], [0.1111111111111111, \"#46039f\"], [0.2222222222222222, \"#7201a8\"], [0.3333333333333333, \"#9c179e\"], [0.4444444444444444, \"#bd3786\"], [0.5555555555555556, \"#d8576b\"], [0.6666666666666666, \"#ed7953\"], [0.7777777777777778, \"#fb9f3a\"], [0.8888888888888888, \"#fdca26\"], [1.0, \"#f0f921\"]], \"type\": \"heatmapgl\"}], \"histogram\": [{\"marker\": {\"colorbar\": {\"outlinewidth\": 0, \"ticks\": \"\"}}, \"type\": \"histogram\"}], \"histogram2d\": [{\"colorbar\": {\"outlinewidth\": 0, \"ticks\": \"\"}, \"colorscale\": [[0.0, \"#0d0887\"], [0.1111111111111111, \"#46039f\"], [0.2222222222222222, \"#7201a8\"], [0.3333333333333333, \"#9c179e\"], [0.4444444444444444, \"#bd3786\"], [0.5555555555555556, \"#d8576b\"], [0.6666666666666666, \"#ed7953\"], [0.7777777777777778, \"#fb9f3a\"], [0.8888888888888888, \"#fdca26\"], [1.0, \"#f0f921\"]], \"type\": \"histogram2d\"}], \"histogram2dcontour\": [{\"colorbar\": {\"outlinewidth\": 0, \"ticks\": \"\"}, \"colorscale\": [[0.0, \"#0d0887\"], [0.1111111111111111, \"#46039f\"], [0.2222222222222222, \"#7201a8\"], [0.3333333333333333, \"#9c179e\"], [0.4444444444444444, \"#bd3786\"], [0.5555555555555556, \"#d8576b\"], [0.6666666666666666, \"#ed7953\"], [0.7777777777777778, \"#fb9f3a\"], [0.8888888888888888, \"#fdca26\"], [1.0, \"#f0f921\"]], \"type\": \"histogram2dcontour\"}], \"mesh3d\": [{\"colorbar\": {\"outlinewidth\": 0, \"ticks\": \"\"}, \"type\": \"mesh3d\"}], \"parcoords\": [{\"line\": {\"colorbar\": {\"outlinewidth\": 0, \"ticks\": \"\"}}, \"type\": \"parcoords\"}], \"pie\": [{\"automargin\": true, \"type\": \"pie\"}], \"scatter\": [{\"marker\": {\"colorbar\": {\"outlinewidth\": 0, \"ticks\": \"\"}}, \"type\": \"scatter\"}], \"scatter3d\": [{\"line\": {\"colorbar\": {\"outlinewidth\": 0, \"ticks\": \"\"}}, \"marker\": {\"colorbar\": {\"outlinewidth\": 0, \"ticks\": \"\"}}, \"type\": \"scatter3d\"}], \"scattercarpet\": [{\"marker\": {\"colorbar\": {\"outlinewidth\": 0, \"ticks\": \"\"}}, \"type\": \"scattercarpet\"}], \"scattergeo\": [{\"marker\": {\"colorbar\": {\"outlinewidth\": 0, \"ticks\": \"\"}}, \"type\": \"scattergeo\"}], \"scattergl\": [{\"marker\": {\"colorbar\": {\"outlinewidth\": 0, \"ticks\": \"\"}}, \"type\": \"scattergl\"}], \"scattermapbox\": [{\"marker\": {\"colorbar\": {\"outlinewidth\": 0, \"ticks\": \"\"}}, \"type\": \"scattermapbox\"}], \"scatterpolar\": [{\"marker\": {\"colorbar\": {\"outlinewidth\": 0, \"ticks\": \"\"}}, \"type\": \"scatterpolar\"}], \"scatterpolargl\": [{\"marker\": {\"colorbar\": {\"outlinewidth\": 0, \"ticks\": \"\"}}, \"type\": \"scatterpolargl\"}], \"scatterternary\": [{\"marker\": {\"colorbar\": {\"outlinewidth\": 0, \"ticks\": \"\"}}, \"type\": \"scatterternary\"}], \"surface\": [{\"colorbar\": {\"outlinewidth\": 0, \"ticks\": \"\"}, \"colorscale\": [[0.0, \"#0d0887\"], [0.1111111111111111, \"#46039f\"], [0.2222222222222222, \"#7201a8\"], [0.3333333333333333, \"#9c179e\"], [0.4444444444444444, \"#bd3786\"], [0.5555555555555556, \"#d8576b\"], [0.6666666666666666, \"#ed7953\"], [0.7777777777777778, \"#fb9f3a\"], [0.8888888888888888, \"#fdca26\"], [1.0, \"#f0f921\"]], \"type\": \"surface\"}], \"table\": [{\"cells\": {\"fill\": {\"color\": \"#EBF0F8\"}, \"line\": {\"color\": \"white\"}}, \"header\": {\"fill\": {\"color\": \"#C8D4E3\"}, \"line\": {\"color\": \"white\"}}, \"type\": \"table\"}]}, \"layout\": {\"annotationdefaults\": {\"arrowcolor\": \"#2a3f5f\", \"arrowhead\": 0, \"arrowwidth\": 1}, \"coloraxis\": {\"colorbar\": {\"outlinewidth\": 0, \"ticks\": \"\"}}, \"colorscale\": {\"diverging\": [[0, \"#8e0152\"], [0.1, \"#c51b7d\"], [0.2, \"#de77ae\"], [0.3, \"#f1b6da\"], [0.4, \"#fde0ef\"], [0.5, \"#f7f7f7\"], [0.6, \"#e6f5d0\"], [0.7, \"#b8e186\"], [0.8, \"#7fbc41\"], [0.9, \"#4d9221\"], [1, \"#276419\"]], \"sequential\": [[0.0, \"#0d0887\"], [0.1111111111111111, \"#46039f\"], [0.2222222222222222, \"#7201a8\"], [0.3333333333333333, \"#9c179e\"], [0.4444444444444444, \"#bd3786\"], [0.5555555555555556, \"#d8576b\"], [0.6666666666666666, \"#ed7953\"], [0.7777777777777778, \"#fb9f3a\"], [0.8888888888888888, \"#fdca26\"], [1.0, \"#f0f921\"]], \"sequentialminus\": [[0.0, \"#0d0887\"], [0.1111111111111111, \"#46039f\"], [0.2222222222222222, \"#7201a8\"], [0.3333333333333333, \"#9c179e\"], [0.4444444444444444, \"#bd3786\"], [0.5555555555555556, \"#d8576b\"], [0.6666666666666666, \"#ed7953\"], [0.7777777777777778, \"#fb9f3a\"], [0.8888888888888888, \"#fdca26\"], [1.0, \"#f0f921\"]]}, \"colorway\": [\"#636efa\", \"#EF553B\", \"#00cc96\", \"#ab63fa\", \"#FFA15A\", \"#19d3f3\", \"#FF6692\", \"#B6E880\", \"#FF97FF\", \"#FECB52\"], \"font\": {\"color\": \"#2a3f5f\"}, \"geo\": {\"bgcolor\": \"white\", \"lakecolor\": \"white\", \"landcolor\": \"#E5ECF6\", \"showlakes\": true, \"showland\": true, \"subunitcolor\": \"white\"}, \"hoverlabel\": {\"align\": \"left\"}, \"hovermode\": \"closest\", \"mapbox\": {\"style\": \"light\"}, \"paper_bgcolor\": \"white\", \"plot_bgcolor\": \"#E5ECF6\", \"polar\": {\"angularaxis\": {\"gridcolor\": \"white\", \"linecolor\": \"white\", \"ticks\": \"\"}, \"bgcolor\": \"#E5ECF6\", \"radialaxis\": {\"gridcolor\": \"white\", \"linecolor\": \"white\", \"ticks\": \"\"}}, \"scene\": {\"xaxis\": {\"backgroundcolor\": \"#E5ECF6\", \"gridcolor\": \"white\", \"gridwidth\": 2, \"linecolor\": \"white\", \"showbackground\": true, \"ticks\": \"\", \"zerolinecolor\": \"white\"}, \"yaxis\": {\"backgroundcolor\": \"#E5ECF6\", \"gridcolor\": \"white\", \"gridwidth\": 2, \"linecolor\": \"white\", \"showbackground\": true, \"ticks\": \"\", \"zerolinecolor\": \"white\"}, \"zaxis\": {\"backgroundcolor\": \"#E5ECF6\", \"gridcolor\": \"white\", \"gridwidth\": 2, \"linecolor\": \"white\", \"showbackground\": true, \"ticks\": \"\", \"zerolinecolor\": \"white\"}}, \"shapedefaults\": {\"line\": {\"color\": \"#2a3f5f\"}}, \"ternary\": {\"aaxis\": {\"gridcolor\": \"white\", \"linecolor\": \"white\", \"ticks\": \"\"}, \"baxis\": {\"gridcolor\": \"white\", \"linecolor\": \"white\", \"ticks\": \"\"}, \"bgcolor\": \"#E5ECF6\", \"caxis\": {\"gridcolor\": \"white\", \"linecolor\": \"white\", \"ticks\": \"\"}}, \"title\": {\"x\": 0.05}, \"xaxis\": {\"automargin\": true, \"gridcolor\": \"white\", \"linecolor\": \"white\", \"ticks\": \"\", \"title\": {\"standoff\": 15}, \"zerolinecolor\": \"white\", \"zerolinewidth\": 2}, \"yaxis\": {\"automargin\": true, \"gridcolor\": \"white\", \"linecolor\": \"white\", \"ticks\": \"\", \"title\": {\"standoff\": 15}, \"zerolinecolor\": \"white\", \"zerolinewidth\": 2}}}, \"xaxis\": {\"anchor\": \"y\", \"domain\": [0.0, 0.7363], \"title\": {\"text\": \"Productivity\"}}, \"xaxis2\": {\"anchor\": \"y2\", \"domain\": [0.7413, 1.0], \"matches\": \"x2\", \"showgrid\": false, \"showline\": false, \"showticklabels\": false, \"ticks\": \"\"}, \"xaxis3\": {\"anchor\": \"y3\", \"domain\": [0.0, 0.7363], \"matches\": \"x\", \"showgrid\": true, \"showticklabels\": false}, \"xaxis4\": {\"anchor\": \"y4\", \"domain\": [0.7413, 1.0], \"matches\": \"x2\", \"showgrid\": false, \"showline\": false, \"showticklabels\": false, \"ticks\": \"\"}, \"yaxis\": {\"anchor\": \"x\", \"domain\": [0.0, 0.7326], \"title\": {\"text\": \"CV\"}}, \"yaxis2\": {\"anchor\": \"x2\", \"domain\": [0.0, 0.7326], \"matches\": \"y\", \"showgrid\": true, \"showticklabels\": false}, \"yaxis3\": {\"anchor\": \"x3\", \"domain\": [0.7426, 1.0], \"matches\": \"y3\", \"showgrid\": false, \"showline\": false, \"showticklabels\": false, \"ticks\": \"\"}, \"yaxis4\": {\"anchor\": \"x4\", \"domain\": [0.7426, 1.0], \"matches\": \"y3\", \"showgrid\": true, \"showline\": false, \"showticklabels\": false, \"ticks\": \"\"}},\n",
       "                        {\"responsive\": true}\n",
       "                    ).then(function(){\n",
       "                            \n",
       "var gd = document.getElementById('ec41e714-b3cf-45a8-8d79-493c3c2512d7');\n",
       "var x = new MutationObserver(function (mutations, observer) {{\n",
       "        var display = window.getComputedStyle(gd).display;\n",
       "        if (!display || display === 'none') {{\n",
       "            console.log([gd, 'removed!']);\n",
       "            Plotly.purge(gd);\n",
       "            observer.disconnect();\n",
       "        }}\n",
       "}});\n",
       "\n",
       "// Listen for the removal of the full notebook cells\n",
       "var notebookContainer = gd.closest('#notebook-container');\n",
       "if (notebookContainer) {{\n",
       "    x.observe(notebookContainer, {childList: true});\n",
       "}}\n",
       "\n",
       "// Listen for the clearing of the current output cell\n",
       "var outputEl = gd.closest('.output');\n",
       "if (outputEl) {{\n",
       "    x.observe(outputEl, {childList: true});\n",
       "}}\n",
       "\n",
       "                        })\n",
       "                };\n",
       "                });\n",
       "            </script>\n",
       "        </div>"
      ]
     },
     "metadata": {},
     "output_type": "display_data"
    }
   ],
   "source": [
    "# Scatter with R squared, box plots, violin plots\n",
    "\n",
    "fig = px.scatter(df, x=\"Productivity\", y=\"CV\", hover_name=\"ID Match\", color=\"Team\", marginal_y=\"violin\",\n",
    "           marginal_x=\"box\", trendline=\"ols\")\n",
    "fig.show()"
   ]
  },
  {
   "cell_type": "code",
   "execution_count": 30,
   "metadata": {},
   "outputs": [
    {
     "data": {
      "application/vnd.plotly.v1+json": {
       "config": {
        "plotlyServerURL": "https://plot.ly"
       },
       "data": [
        {
         "hoverlabel": {
          "namelength": 0
         },
         "hovertemplate": "<b>%{hovertext}</b><br><br>Team=News<br>Productivity=%{x}<br>CV=%{y}",
         "hovertext": [
          "reporter2",
          "reporter3",
          "reporter4",
          "reporter7",
          "reporter10",
          "reporter13",
          "reporter15",
          "reporter17",
          "reporter18",
          "reporter19",
          "reporter21",
          "reporter22",
          "reporter23",
          "reporter24",
          "reporter25",
          "reporter27",
          "reporter29",
          "reporter31",
          "reporter33",
          "reporter35",
          "reporter36",
          "reporter37",
          "reporter38",
          "reporter39",
          "reporter41",
          "reporter42",
          "reporter43",
          "reporter45",
          "reporter47",
          "reporter48",
          "reporter49",
          "reporter50",
          "reporter51",
          "reporter52",
          "reporter53",
          "reporter55",
          "reporter58",
          "reporter63",
          "reporter65",
          "reporter68",
          "reporter69",
          "reporter70",
          "reporter71",
          "reporter74",
          "reporter75",
          "reporter76",
          "reporter77",
          "reporter78",
          "reporter79",
          "reporter81",
          "reporter82",
          "reporter88",
          "reporter89",
          "reporter91"
         ],
         "legendgroup": "News",
         "marker": {
          "color": "#636efa",
          "symbol": "circle"
         },
         "mode": "markers",
         "name": "News",
         "showlegend": true,
         "type": "scatter",
         "x": [
          684,
          608,
          555,
          477,
          415,
          305,
          348,
          244,
          213,
          206,
          229,
          275,
          214,
          84,
          345,
          603,
          316,
          186,
          223,
          127,
          160,
          186,
          174,
          112,
          166,
          168,
          177,
          152,
          152,
          99,
          154,
          113,
          86,
          221,
          112,
          96,
          173,
          124,
          109,
          76,
          62,
          62,
          86,
          71,
          31,
          87,
          89,
          51,
          25,
          40,
          47,
          14,
          7,
          8
         ],
         "xaxis": "x",
         "y": [
          15239051,
          15227333,
          15129163,
          11032010,
          9931112,
          8483893,
          7830570,
          7423919,
          6725939,
          6715653,
          6581319,
          6506326,
          6413386,
          6271736,
          6054364,
          5395767,
          4746436,
          4548830,
          4464487,
          4315746,
          4275258,
          4024236,
          3995978,
          3968698,
          3938843,
          3889447,
          3722741,
          3442594,
          3247791,
          3245435,
          3186564,
          3120293,
          3106786,
          3080586,
          3076441,
          2919604,
          2666488,
          2298984,
          2197694,
          2048102,
          1494412,
          1389167,
          1367267,
          764832,
          732616,
          670406,
          578632,
          429207,
          415534,
          375587,
          350911,
          104081,
          87367,
          31659
         ],
         "yaxis": "y"
        },
        {
         "alignmentgroup": "True",
         "hoverlabel": {
          "namelength": 0
         },
         "hovertemplate": "<b>%{hovertext}</b><br><br>Team=News<br>Productivity=%{x}",
         "hovertext": [
          "reporter2",
          "reporter3",
          "reporter4",
          "reporter7",
          "reporter10",
          "reporter13",
          "reporter15",
          "reporter17",
          "reporter18",
          "reporter19",
          "reporter21",
          "reporter22",
          "reporter23",
          "reporter24",
          "reporter25",
          "reporter27",
          "reporter29",
          "reporter31",
          "reporter33",
          "reporter35",
          "reporter36",
          "reporter37",
          "reporter38",
          "reporter39",
          "reporter41",
          "reporter42",
          "reporter43",
          "reporter45",
          "reporter47",
          "reporter48",
          "reporter49",
          "reporter50",
          "reporter51",
          "reporter52",
          "reporter53",
          "reporter55",
          "reporter58",
          "reporter63",
          "reporter65",
          "reporter68",
          "reporter69",
          "reporter70",
          "reporter71",
          "reporter74",
          "reporter75",
          "reporter76",
          "reporter77",
          "reporter78",
          "reporter79",
          "reporter81",
          "reporter82",
          "reporter88",
          "reporter89",
          "reporter91"
         ],
         "legendgroup": "News",
         "marker": {
          "color": "#636efa",
          "symbol": "circle"
         },
         "name": "News",
         "notched": true,
         "offsetgroup": "News",
         "showlegend": false,
         "type": "box",
         "x": [
          684,
          608,
          555,
          477,
          415,
          305,
          348,
          244,
          213,
          206,
          229,
          275,
          214,
          84,
          345,
          603,
          316,
          186,
          223,
          127,
          160,
          186,
          174,
          112,
          166,
          168,
          177,
          152,
          152,
          99,
          154,
          113,
          86,
          221,
          112,
          96,
          173,
          124,
          109,
          76,
          62,
          62,
          86,
          71,
          31,
          87,
          89,
          51,
          25,
          40,
          47,
          14,
          7,
          8
         ],
         "xaxis": "x3",
         "yaxis": "y3"
        },
        {
         "alignmentgroup": "True",
         "hoverlabel": {
          "namelength": 0
         },
         "hovertemplate": "<b>%{hovertext}</b><br><br>Team=News<br>CV=%{y}",
         "hovertext": [
          "reporter2",
          "reporter3",
          "reporter4",
          "reporter7",
          "reporter10",
          "reporter13",
          "reporter15",
          "reporter17",
          "reporter18",
          "reporter19",
          "reporter21",
          "reporter22",
          "reporter23",
          "reporter24",
          "reporter25",
          "reporter27",
          "reporter29",
          "reporter31",
          "reporter33",
          "reporter35",
          "reporter36",
          "reporter37",
          "reporter38",
          "reporter39",
          "reporter41",
          "reporter42",
          "reporter43",
          "reporter45",
          "reporter47",
          "reporter48",
          "reporter49",
          "reporter50",
          "reporter51",
          "reporter52",
          "reporter53",
          "reporter55",
          "reporter58",
          "reporter63",
          "reporter65",
          "reporter68",
          "reporter69",
          "reporter70",
          "reporter71",
          "reporter74",
          "reporter75",
          "reporter76",
          "reporter77",
          "reporter78",
          "reporter79",
          "reporter81",
          "reporter82",
          "reporter88",
          "reporter89",
          "reporter91"
         ],
         "legendgroup": "News",
         "marker": {
          "color": "#636efa",
          "symbol": "circle"
         },
         "name": "News",
         "offsetgroup": "News",
         "scalegroup": "y",
         "showlegend": false,
         "type": "violin",
         "xaxis": "x2",
         "y": [
          15239051,
          15227333,
          15129163,
          11032010,
          9931112,
          8483893,
          7830570,
          7423919,
          6725939,
          6715653,
          6581319,
          6506326,
          6413386,
          6271736,
          6054364,
          5395767,
          4746436,
          4548830,
          4464487,
          4315746,
          4275258,
          4024236,
          3995978,
          3968698,
          3938843,
          3889447,
          3722741,
          3442594,
          3247791,
          3245435,
          3186564,
          3120293,
          3106786,
          3080586,
          3076441,
          2919604,
          2666488,
          2298984,
          2197694,
          2048102,
          1494412,
          1389167,
          1367267,
          764832,
          732616,
          670406,
          578632,
          429207,
          415534,
          375587,
          350911,
          104081,
          87367,
          31659
         ],
         "yaxis": "y2"
        },
        {
         "hoverlabel": {
          "namelength": 0
         },
         "hovertemplate": "<b>OLS trendline</b><br>CV = 21013.8 * Productivity + 371375<br>R<sup>2</sup>=0.806942<br><br>Team=News<br>Productivity=%{x}<br>CV=%{y} <b>(trend)</b>",
         "legendgroup": "News",
         "marker": {
          "color": "#636efa",
          "symbol": "circle"
         },
         "mode": "lines",
         "name": "News",
         "showlegend": false,
         "type": "scatter",
         "x": [
          7,
          8,
          14,
          25,
          31,
          40,
          47,
          51,
          62,
          62,
          71,
          76,
          84,
          86,
          86,
          87,
          89,
          96,
          99,
          109,
          112,
          112,
          113,
          124,
          127,
          152,
          152,
          154,
          160,
          166,
          168,
          173,
          174,
          177,
          186,
          186,
          206,
          213,
          214,
          221,
          223,
          229,
          244,
          275,
          305,
          316,
          345,
          348,
          415,
          477,
          555,
          603,
          608,
          684
         ],
         "xaxis": "x",
         "y": [
          518471.2558682224,
          539485.0580161512,
          665567.8709037236,
          896719.6945309399,
          1022802.5074185126,
          1211926.7267498714,
          1359023.3417853727,
          1443078.5503770877,
          1674230.374004304,
          1674230.374004304,
          1863354.5933356627,
          1968423.6040753066,
          2136534.0212587365,
          2178561.625554594,
          2178561.625554594,
          2199575.427702523,
          2241603.0319983806,
          2388699.647033882,
          2451741.053477668,
          2661879.074956956,
          2724920.481400742,
          2724920.481400742,
          2745934.283548671,
          2977086.107175887,
          3040127.5136196734,
          3565472.5673178923,
          3565472.5673178923,
          3607500.1716137496,
          3733582.9845013223,
          3859665.797388895,
          3901693.401684752,
          4006762.4124243963,
          4027776.214572325,
          4090817.621016111,
          4279941.84034747,
          4279941.84034747,
          4700217.883306045,
          4847314.498341546,
          4868328.300489475,
          5015424.915524976,
          5057452.519820834,
          5183535.332708406,
          5498742.3649273375,
          6150170.23151313,
          6780584.295950992,
          7011736.119578208,
          7621136.381868143,
          7684177.7883119285,
          9092102.532223154,
          10394958.265394738,
          12034034.83293318,
          13042697.33603376,
          13147766.346773405,
          14744815.31001599
         ],
         "yaxis": "y"
        },
        {
         "hoverlabel": {
          "namelength": 0
         },
         "hovertemplate": "<b>%{hovertext}</b><br><br>Team=Pro Sports<br>Productivity=%{x}<br>CV=%{y}",
         "hovertext": [
          "reporter5",
          "reporter6",
          "reporter8",
          "reporter9",
          "reporter11",
          "reporter12",
          "reporter14",
          "reporter16",
          "reporter20",
          "reporter26",
          "reporter28",
          "reporter30",
          "reporter32",
          "reporter34",
          "reporter46",
          "reporter56",
          "reporter83"
         ],
         "legendgroup": "Pro Sports",
         "marker": {
          "color": "#EF553B",
          "symbol": "circle"
         },
         "mode": "markers",
         "name": "Pro Sports",
         "showlegend": true,
         "type": "scatter",
         "x": [
          1201,
          3009,
          1026,
          1240,
          709,
          1055,
          883,
          1114,
          1012,
          1246,
          1071,
          391,
          1181,
          664,
          185,
          341,
          65
         ],
         "xaxis": "x",
         "y": [
          14449063,
          13875398,
          10493866,
          10100263,
          9284465,
          8731923,
          8308101,
          7653566,
          6693322,
          5971873,
          5039634,
          4633493,
          4485460,
          4392585,
          3325928,
          2897260,
          301061
         ],
         "yaxis": "y"
        },
        {
         "alignmentgroup": "True",
         "hoverlabel": {
          "namelength": 0
         },
         "hovertemplate": "<b>%{hovertext}</b><br><br>Team=Pro Sports<br>Productivity=%{x}",
         "hovertext": [
          "reporter5",
          "reporter6",
          "reporter8",
          "reporter9",
          "reporter11",
          "reporter12",
          "reporter14",
          "reporter16",
          "reporter20",
          "reporter26",
          "reporter28",
          "reporter30",
          "reporter32",
          "reporter34",
          "reporter46",
          "reporter56",
          "reporter83"
         ],
         "legendgroup": "Pro Sports",
         "marker": {
          "color": "#EF553B",
          "symbol": "circle"
         },
         "name": "Pro Sports",
         "notched": true,
         "offsetgroup": "Pro Sports",
         "showlegend": false,
         "type": "box",
         "x": [
          1201,
          3009,
          1026,
          1240,
          709,
          1055,
          883,
          1114,
          1012,
          1246,
          1071,
          391,
          1181,
          664,
          185,
          341,
          65
         ],
         "xaxis": "x3",
         "yaxis": "y3"
        },
        {
         "alignmentgroup": "True",
         "hoverlabel": {
          "namelength": 0
         },
         "hovertemplate": "<b>%{hovertext}</b><br><br>Team=Pro Sports<br>CV=%{y}",
         "hovertext": [
          "reporter5",
          "reporter6",
          "reporter8",
          "reporter9",
          "reporter11",
          "reporter12",
          "reporter14",
          "reporter16",
          "reporter20",
          "reporter26",
          "reporter28",
          "reporter30",
          "reporter32",
          "reporter34",
          "reporter46",
          "reporter56",
          "reporter83"
         ],
         "legendgroup": "Pro Sports",
         "marker": {
          "color": "#EF553B",
          "symbol": "circle"
         },
         "name": "Pro Sports",
         "offsetgroup": "Pro Sports",
         "scalegroup": "y",
         "showlegend": false,
         "type": "violin",
         "xaxis": "x2",
         "y": [
          14449063,
          13875398,
          10493866,
          10100263,
          9284465,
          8731923,
          8308101,
          7653566,
          6693322,
          5971873,
          5039634,
          4633493,
          4485460,
          4392585,
          3325928,
          2897260,
          301061
         ],
         "yaxis": "y2"
        },
        {
         "hoverlabel": {
          "namelength": 0
         },
         "hovertemplate": "<b>OLS trendline</b><br>CV = 4273.27 * Productivity + 2.97562e+06<br>R<sup>2</sup>=0.529964<br><br>Team=Pro Sports<br>Productivity=%{x}<br>CV=%{y} <b>(trend)</b>",
         "legendgroup": "Pro Sports",
         "marker": {
          "color": "#EF553B",
          "symbol": "circle"
         },
         "mode": "lines",
         "name": "Pro Sports",
         "showlegend": false,
         "type": "scatter",
         "x": [
          65,
          185,
          341,
          391,
          664,
          709,
          883,
          1012,
          1026,
          1055,
          1071,
          1114,
          1181,
          1201,
          1240,
          1246,
          3009
         ],
         "xaxis": "x",
         "y": [
          3253386.4388921363,
          3766178.366198523,
          4432807.871696826,
          4646471.174741154,
          5813072.8093631845,
          6005369.782103078,
          6748918.07669734,
          7300169.398551705,
          7359995.123404117,
          7483919.839169827,
          7552292.096144012,
          7736042.536762134,
          8022351.3628415335,
          8107816.684059265,
          8274474.06043384,
          8300113.65679916,
          15833881.72214216
         ],
         "yaxis": "y"
        },
        {
         "hoverlabel": {
          "namelength": 0
         },
         "hovertemplate": "<b>%{hovertext}</b><br><br>Team=Commerce<br>Productivity=%{x}<br>CV=%{y}",
         "hovertext": [
          "reporter40"
         ],
         "legendgroup": "Commerce",
         "marker": {
          "color": "#00cc96",
          "symbol": "circle"
         },
         "mode": "markers",
         "name": "Commerce",
         "showlegend": true,
         "type": "scatter",
         "x": [
          209
         ],
         "xaxis": "x",
         "y": [
          3963086
         ],
         "yaxis": "y"
        },
        {
         "alignmentgroup": "True",
         "hoverlabel": {
          "namelength": 0
         },
         "hovertemplate": "<b>%{hovertext}</b><br><br>Team=Commerce<br>Productivity=%{x}",
         "hovertext": [
          "reporter40"
         ],
         "legendgroup": "Commerce",
         "marker": {
          "color": "#00cc96",
          "symbol": "circle"
         },
         "name": "Commerce",
         "notched": true,
         "offsetgroup": "Commerce",
         "showlegend": false,
         "type": "box",
         "x": [
          209
         ],
         "xaxis": "x3",
         "yaxis": "y3"
        },
        {
         "alignmentgroup": "True",
         "hoverlabel": {
          "namelength": 0
         },
         "hovertemplate": "<b>%{hovertext}</b><br><br>Team=Commerce<br>CV=%{y}",
         "hovertext": [
          "reporter40"
         ],
         "legendgroup": "Commerce",
         "marker": {
          "color": "#00cc96",
          "symbol": "circle"
         },
         "name": "Commerce",
         "offsetgroup": "Commerce",
         "scalegroup": "y",
         "showlegend": false,
         "type": "violin",
         "xaxis": "x2",
         "y": [
          3963086
         ],
         "yaxis": "y2"
        },
        {
         "hoverlabel": {
          "namelength": 0
         },
         "hovertemplate": "Team=Commerce",
         "legendgroup": "Commerce",
         "marker": {
          "color": "#00cc96",
          "symbol": "circle"
         },
         "mode": "lines",
         "name": "Commerce",
         "showlegend": false,
         "type": "scatter",
         "xaxis": "x",
         "yaxis": "y"
        },
        {
         "hoverlabel": {
          "namelength": 0
         },
         "hovertemplate": "<b>%{hovertext}</b><br><br>Team=HS Sports<br>Productivity=%{x}<br>CV=%{y}",
         "hovertext": [
          "reporter44",
          "reporter54",
          "reporter57",
          "reporter59",
          "reporter60",
          "reporter61",
          "reporter62",
          "reporter64",
          "reporter66",
          "reporter67",
          "reporter72",
          "reporter73",
          "reporter80",
          "reporter84",
          "reporter85",
          "reporter86",
          "reporter87",
          "reporter90",
          "reporter92"
         ],
         "legendgroup": "HS Sports",
         "marker": {
          "color": "#ab63fa",
          "symbol": "circle"
         },
         "mode": "markers",
         "name": "HS Sports",
         "showlegend": true,
         "type": "scatter",
         "x": [
          1744,
          896,
          1078,
          849,
          795,
          789,
          659,
          1188,
          1017,
          806,
          969,
          941,
          655,
          39,
          226,
          111,
          205,
          267,
          53
         ],
         "xaxis": "x",
         "y": [
          3480795,
          2973911,
          2668679,
          2491960,
          2331106,
          2313381,
          2306829,
          2276027,
          2188947,
          2178883,
          1123008,
          1019768,
          390632,
          183553,
          156464,
          133516,
          113428,
          84589,
          29688
         ],
         "yaxis": "y"
        },
        {
         "alignmentgroup": "True",
         "hoverlabel": {
          "namelength": 0
         },
         "hovertemplate": "<b>%{hovertext}</b><br><br>Team=HS Sports<br>Productivity=%{x}",
         "hovertext": [
          "reporter44",
          "reporter54",
          "reporter57",
          "reporter59",
          "reporter60",
          "reporter61",
          "reporter62",
          "reporter64",
          "reporter66",
          "reporter67",
          "reporter72",
          "reporter73",
          "reporter80",
          "reporter84",
          "reporter85",
          "reporter86",
          "reporter87",
          "reporter90",
          "reporter92"
         ],
         "legendgroup": "HS Sports",
         "marker": {
          "color": "#ab63fa",
          "symbol": "circle"
         },
         "name": "HS Sports",
         "notched": true,
         "offsetgroup": "HS Sports",
         "showlegend": false,
         "type": "box",
         "x": [
          1744,
          896,
          1078,
          849,
          795,
          789,
          659,
          1188,
          1017,
          806,
          969,
          941,
          655,
          39,
          226,
          111,
          205,
          267,
          53
         ],
         "xaxis": "x3",
         "yaxis": "y3"
        },
        {
         "alignmentgroup": "True",
         "hoverlabel": {
          "namelength": 0
         },
         "hovertemplate": "<b>%{hovertext}</b><br><br>Team=HS Sports<br>CV=%{y}",
         "hovertext": [
          "reporter44",
          "reporter54",
          "reporter57",
          "reporter59",
          "reporter60",
          "reporter61",
          "reporter62",
          "reporter64",
          "reporter66",
          "reporter67",
          "reporter72",
          "reporter73",
          "reporter80",
          "reporter84",
          "reporter85",
          "reporter86",
          "reporter87",
          "reporter90",
          "reporter92"
         ],
         "legendgroup": "HS Sports",
         "marker": {
          "color": "#ab63fa",
          "symbol": "circle"
         },
         "name": "HS Sports",
         "offsetgroup": "HS Sports",
         "scalegroup": "y",
         "showlegend": false,
         "type": "violin",
         "xaxis": "x2",
         "y": [
          3480795,
          2973911,
          2668679,
          2491960,
          2331106,
          2313381,
          2306829,
          2276027,
          2188947,
          2178883,
          1123008,
          1019768,
          390632,
          183553,
          156464,
          133516,
          113428,
          84589,
          29688
         ],
         "yaxis": "y2"
        },
        {
         "hoverlabel": {
          "namelength": 0
         },
         "hovertemplate": "<b>OLS trendline</b><br>CV = 2224.62 * Productivity + -58600.5<br>R<sup>2</sup>=0.720943<br><br>Team=HS Sports<br>Productivity=%{x}<br>CV=%{y} <b>(trend)</b>",
         "legendgroup": "HS Sports",
         "marker": {
          "color": "#ab63fa",
          "symbol": "circle"
         },
         "mode": "lines",
         "name": "HS Sports",
         "showlegend": false,
         "type": "scatter",
         "x": [
          39,
          53,
          111,
          205,
          226,
          267,
          655,
          659,
          789,
          795,
          806,
          849,
          896,
          941,
          969,
          1017,
          1078,
          1188,
          1744
         ],
         "xaxis": "x",
         "y": [
          28159.806182700893,
          59304.53657927361,
          188332.70536507486,
          397447.3237420631,
          444164.4193369222,
          535373.9869268851,
          1398527.9436319002,
          1407426.4380309212,
          1696627.5059990962,
          1709975.2475976273,
          1734446.1071949345,
          1830104.9219844078,
          1934662.231172902,
          2034770.2931618858,
          2097059.753955031,
          2203841.686743281,
          2339543.7263283473,
          2584252.322301419,
          3821143.043765307
         ],
         "yaxis": "y"
        }
       ],
       "layout": {
        "legend": {
         "title": {
          "text": "Team"
         },
         "tracegroupgap": 0
        },
        "margin": {
         "t": 60
        },
        "template": {
         "data": {
          "bar": [
           {
            "error_x": {
             "color": "#2a3f5f"
            },
            "error_y": {
             "color": "#2a3f5f"
            },
            "marker": {
             "line": {
              "color": "#E5ECF6",
              "width": 0.5
             }
            },
            "type": "bar"
           }
          ],
          "barpolar": [
           {
            "marker": {
             "line": {
              "color": "#E5ECF6",
              "width": 0.5
             }
            },
            "type": "barpolar"
           }
          ],
          "carpet": [
           {
            "aaxis": {
             "endlinecolor": "#2a3f5f",
             "gridcolor": "white",
             "linecolor": "white",
             "minorgridcolor": "white",
             "startlinecolor": "#2a3f5f"
            },
            "baxis": {
             "endlinecolor": "#2a3f5f",
             "gridcolor": "white",
             "linecolor": "white",
             "minorgridcolor": "white",
             "startlinecolor": "#2a3f5f"
            },
            "type": "carpet"
           }
          ],
          "choropleth": [
           {
            "colorbar": {
             "outlinewidth": 0,
             "ticks": ""
            },
            "type": "choropleth"
           }
          ],
          "contour": [
           {
            "colorbar": {
             "outlinewidth": 0,
             "ticks": ""
            },
            "colorscale": [
             [
              0,
              "#0d0887"
             ],
             [
              0.1111111111111111,
              "#46039f"
             ],
             [
              0.2222222222222222,
              "#7201a8"
             ],
             [
              0.3333333333333333,
              "#9c179e"
             ],
             [
              0.4444444444444444,
              "#bd3786"
             ],
             [
              0.5555555555555556,
              "#d8576b"
             ],
             [
              0.6666666666666666,
              "#ed7953"
             ],
             [
              0.7777777777777778,
              "#fb9f3a"
             ],
             [
              0.8888888888888888,
              "#fdca26"
             ],
             [
              1,
              "#f0f921"
             ]
            ],
            "type": "contour"
           }
          ],
          "contourcarpet": [
           {
            "colorbar": {
             "outlinewidth": 0,
             "ticks": ""
            },
            "type": "contourcarpet"
           }
          ],
          "heatmap": [
           {
            "colorbar": {
             "outlinewidth": 0,
             "ticks": ""
            },
            "colorscale": [
             [
              0,
              "#0d0887"
             ],
             [
              0.1111111111111111,
              "#46039f"
             ],
             [
              0.2222222222222222,
              "#7201a8"
             ],
             [
              0.3333333333333333,
              "#9c179e"
             ],
             [
              0.4444444444444444,
              "#bd3786"
             ],
             [
              0.5555555555555556,
              "#d8576b"
             ],
             [
              0.6666666666666666,
              "#ed7953"
             ],
             [
              0.7777777777777778,
              "#fb9f3a"
             ],
             [
              0.8888888888888888,
              "#fdca26"
             ],
             [
              1,
              "#f0f921"
             ]
            ],
            "type": "heatmap"
           }
          ],
          "heatmapgl": [
           {
            "colorbar": {
             "outlinewidth": 0,
             "ticks": ""
            },
            "colorscale": [
             [
              0,
              "#0d0887"
             ],
             [
              0.1111111111111111,
              "#46039f"
             ],
             [
              0.2222222222222222,
              "#7201a8"
             ],
             [
              0.3333333333333333,
              "#9c179e"
             ],
             [
              0.4444444444444444,
              "#bd3786"
             ],
             [
              0.5555555555555556,
              "#d8576b"
             ],
             [
              0.6666666666666666,
              "#ed7953"
             ],
             [
              0.7777777777777778,
              "#fb9f3a"
             ],
             [
              0.8888888888888888,
              "#fdca26"
             ],
             [
              1,
              "#f0f921"
             ]
            ],
            "type": "heatmapgl"
           }
          ],
          "histogram": [
           {
            "marker": {
             "colorbar": {
              "outlinewidth": 0,
              "ticks": ""
             }
            },
            "type": "histogram"
           }
          ],
          "histogram2d": [
           {
            "colorbar": {
             "outlinewidth": 0,
             "ticks": ""
            },
            "colorscale": [
             [
              0,
              "#0d0887"
             ],
             [
              0.1111111111111111,
              "#46039f"
             ],
             [
              0.2222222222222222,
              "#7201a8"
             ],
             [
              0.3333333333333333,
              "#9c179e"
             ],
             [
              0.4444444444444444,
              "#bd3786"
             ],
             [
              0.5555555555555556,
              "#d8576b"
             ],
             [
              0.6666666666666666,
              "#ed7953"
             ],
             [
              0.7777777777777778,
              "#fb9f3a"
             ],
             [
              0.8888888888888888,
              "#fdca26"
             ],
             [
              1,
              "#f0f921"
             ]
            ],
            "type": "histogram2d"
           }
          ],
          "histogram2dcontour": [
           {
            "colorbar": {
             "outlinewidth": 0,
             "ticks": ""
            },
            "colorscale": [
             [
              0,
              "#0d0887"
             ],
             [
              0.1111111111111111,
              "#46039f"
             ],
             [
              0.2222222222222222,
              "#7201a8"
             ],
             [
              0.3333333333333333,
              "#9c179e"
             ],
             [
              0.4444444444444444,
              "#bd3786"
             ],
             [
              0.5555555555555556,
              "#d8576b"
             ],
             [
              0.6666666666666666,
              "#ed7953"
             ],
             [
              0.7777777777777778,
              "#fb9f3a"
             ],
             [
              0.8888888888888888,
              "#fdca26"
             ],
             [
              1,
              "#f0f921"
             ]
            ],
            "type": "histogram2dcontour"
           }
          ],
          "mesh3d": [
           {
            "colorbar": {
             "outlinewidth": 0,
             "ticks": ""
            },
            "type": "mesh3d"
           }
          ],
          "parcoords": [
           {
            "line": {
             "colorbar": {
              "outlinewidth": 0,
              "ticks": ""
             }
            },
            "type": "parcoords"
           }
          ],
          "pie": [
           {
            "automargin": true,
            "type": "pie"
           }
          ],
          "scatter": [
           {
            "marker": {
             "colorbar": {
              "outlinewidth": 0,
              "ticks": ""
             }
            },
            "type": "scatter"
           }
          ],
          "scatter3d": [
           {
            "line": {
             "colorbar": {
              "outlinewidth": 0,
              "ticks": ""
             }
            },
            "marker": {
             "colorbar": {
              "outlinewidth": 0,
              "ticks": ""
             }
            },
            "type": "scatter3d"
           }
          ],
          "scattercarpet": [
           {
            "marker": {
             "colorbar": {
              "outlinewidth": 0,
              "ticks": ""
             }
            },
            "type": "scattercarpet"
           }
          ],
          "scattergeo": [
           {
            "marker": {
             "colorbar": {
              "outlinewidth": 0,
              "ticks": ""
             }
            },
            "type": "scattergeo"
           }
          ],
          "scattergl": [
           {
            "marker": {
             "colorbar": {
              "outlinewidth": 0,
              "ticks": ""
             }
            },
            "type": "scattergl"
           }
          ],
          "scattermapbox": [
           {
            "marker": {
             "colorbar": {
              "outlinewidth": 0,
              "ticks": ""
             }
            },
            "type": "scattermapbox"
           }
          ],
          "scatterpolar": [
           {
            "marker": {
             "colorbar": {
              "outlinewidth": 0,
              "ticks": ""
             }
            },
            "type": "scatterpolar"
           }
          ],
          "scatterpolargl": [
           {
            "marker": {
             "colorbar": {
              "outlinewidth": 0,
              "ticks": ""
             }
            },
            "type": "scatterpolargl"
           }
          ],
          "scatterternary": [
           {
            "marker": {
             "colorbar": {
              "outlinewidth": 0,
              "ticks": ""
             }
            },
            "type": "scatterternary"
           }
          ],
          "surface": [
           {
            "colorbar": {
             "outlinewidth": 0,
             "ticks": ""
            },
            "colorscale": [
             [
              0,
              "#0d0887"
             ],
             [
              0.1111111111111111,
              "#46039f"
             ],
             [
              0.2222222222222222,
              "#7201a8"
             ],
             [
              0.3333333333333333,
              "#9c179e"
             ],
             [
              0.4444444444444444,
              "#bd3786"
             ],
             [
              0.5555555555555556,
              "#d8576b"
             ],
             [
              0.6666666666666666,
              "#ed7953"
             ],
             [
              0.7777777777777778,
              "#fb9f3a"
             ],
             [
              0.8888888888888888,
              "#fdca26"
             ],
             [
              1,
              "#f0f921"
             ]
            ],
            "type": "surface"
           }
          ],
          "table": [
           {
            "cells": {
             "fill": {
              "color": "#EBF0F8"
             },
             "line": {
              "color": "white"
             }
            },
            "header": {
             "fill": {
              "color": "#C8D4E3"
             },
             "line": {
              "color": "white"
             }
            },
            "type": "table"
           }
          ]
         },
         "layout": {
          "annotationdefaults": {
           "arrowcolor": "#2a3f5f",
           "arrowhead": 0,
           "arrowwidth": 1
          },
          "coloraxis": {
           "colorbar": {
            "outlinewidth": 0,
            "ticks": ""
           }
          },
          "colorscale": {
           "diverging": [
            [
             0,
             "#8e0152"
            ],
            [
             0.1,
             "#c51b7d"
            ],
            [
             0.2,
             "#de77ae"
            ],
            [
             0.3,
             "#f1b6da"
            ],
            [
             0.4,
             "#fde0ef"
            ],
            [
             0.5,
             "#f7f7f7"
            ],
            [
             0.6,
             "#e6f5d0"
            ],
            [
             0.7,
             "#b8e186"
            ],
            [
             0.8,
             "#7fbc41"
            ],
            [
             0.9,
             "#4d9221"
            ],
            [
             1,
             "#276419"
            ]
           ],
           "sequential": [
            [
             0,
             "#0d0887"
            ],
            [
             0.1111111111111111,
             "#46039f"
            ],
            [
             0.2222222222222222,
             "#7201a8"
            ],
            [
             0.3333333333333333,
             "#9c179e"
            ],
            [
             0.4444444444444444,
             "#bd3786"
            ],
            [
             0.5555555555555556,
             "#d8576b"
            ],
            [
             0.6666666666666666,
             "#ed7953"
            ],
            [
             0.7777777777777778,
             "#fb9f3a"
            ],
            [
             0.8888888888888888,
             "#fdca26"
            ],
            [
             1,
             "#f0f921"
            ]
           ],
           "sequentialminus": [
            [
             0,
             "#0d0887"
            ],
            [
             0.1111111111111111,
             "#46039f"
            ],
            [
             0.2222222222222222,
             "#7201a8"
            ],
            [
             0.3333333333333333,
             "#9c179e"
            ],
            [
             0.4444444444444444,
             "#bd3786"
            ],
            [
             0.5555555555555556,
             "#d8576b"
            ],
            [
             0.6666666666666666,
             "#ed7953"
            ],
            [
             0.7777777777777778,
             "#fb9f3a"
            ],
            [
             0.8888888888888888,
             "#fdca26"
            ],
            [
             1,
             "#f0f921"
            ]
           ]
          },
          "colorway": [
           "#636efa",
           "#EF553B",
           "#00cc96",
           "#ab63fa",
           "#FFA15A",
           "#19d3f3",
           "#FF6692",
           "#B6E880",
           "#FF97FF",
           "#FECB52"
          ],
          "font": {
           "color": "#2a3f5f"
          },
          "geo": {
           "bgcolor": "white",
           "lakecolor": "white",
           "landcolor": "#E5ECF6",
           "showlakes": true,
           "showland": true,
           "subunitcolor": "white"
          },
          "hoverlabel": {
           "align": "left"
          },
          "hovermode": "closest",
          "mapbox": {
           "style": "light"
          },
          "paper_bgcolor": "white",
          "plot_bgcolor": "#E5ECF6",
          "polar": {
           "angularaxis": {
            "gridcolor": "white",
            "linecolor": "white",
            "ticks": ""
           },
           "bgcolor": "#E5ECF6",
           "radialaxis": {
            "gridcolor": "white",
            "linecolor": "white",
            "ticks": ""
           }
          },
          "scene": {
           "xaxis": {
            "backgroundcolor": "#E5ECF6",
            "gridcolor": "white",
            "gridwidth": 2,
            "linecolor": "white",
            "showbackground": true,
            "ticks": "",
            "zerolinecolor": "white"
           },
           "yaxis": {
            "backgroundcolor": "#E5ECF6",
            "gridcolor": "white",
            "gridwidth": 2,
            "linecolor": "white",
            "showbackground": true,
            "ticks": "",
            "zerolinecolor": "white"
           },
           "zaxis": {
            "backgroundcolor": "#E5ECF6",
            "gridcolor": "white",
            "gridwidth": 2,
            "linecolor": "white",
            "showbackground": true,
            "ticks": "",
            "zerolinecolor": "white"
           }
          },
          "shapedefaults": {
           "line": {
            "color": "#2a3f5f"
           }
          },
          "ternary": {
           "aaxis": {
            "gridcolor": "white",
            "linecolor": "white",
            "ticks": ""
           },
           "baxis": {
            "gridcolor": "white",
            "linecolor": "white",
            "ticks": ""
           },
           "bgcolor": "#E5ECF6",
           "caxis": {
            "gridcolor": "white",
            "linecolor": "white",
            "ticks": ""
           }
          },
          "title": {
           "x": 0.05
          },
          "xaxis": {
           "automargin": true,
           "gridcolor": "white",
           "linecolor": "white",
           "ticks": "",
           "title": {
            "standoff": 15
           },
           "zerolinecolor": "white",
           "zerolinewidth": 2
          },
          "yaxis": {
           "automargin": true,
           "gridcolor": "white",
           "linecolor": "white",
           "ticks": "",
           "title": {
            "standoff": 15
           },
           "zerolinecolor": "white",
           "zerolinewidth": 2
          }
         }
        },
        "xaxis": {
         "anchor": "y",
         "domain": [
          0,
          0.7363
         ],
         "title": {
          "text": "Productivity"
         }
        },
        "xaxis2": {
         "anchor": "y2",
         "domain": [
          0.7413,
          1
         ],
         "matches": "x2",
         "showgrid": false,
         "showline": false,
         "showticklabels": false,
         "ticks": ""
        },
        "xaxis3": {
         "anchor": "y3",
         "domain": [
          0,
          0.7363
         ],
         "matches": "x",
         "showgrid": true,
         "showticklabels": false
        },
        "xaxis4": {
         "anchor": "y4",
         "domain": [
          0.7413,
          1
         ],
         "matches": "x2",
         "showgrid": false,
         "showline": false,
         "showticklabels": false,
         "ticks": ""
        },
        "yaxis": {
         "anchor": "x",
         "domain": [
          0,
          0.7326
         ],
         "title": {
          "text": "CV"
         }
        },
        "yaxis2": {
         "anchor": "x2",
         "domain": [
          0,
          0.7326
         ],
         "matches": "y",
         "showgrid": true,
         "showticklabels": false
        },
        "yaxis3": {
         "anchor": "x3",
         "domain": [
          0.7426,
          1
         ],
         "matches": "y3",
         "showgrid": false,
         "showline": false,
         "showticklabels": false,
         "ticks": ""
        },
        "yaxis4": {
         "anchor": "x4",
         "domain": [
          0.7426,
          1
         ],
         "matches": "y3",
         "showgrid": true,
         "showline": false,
         "showticklabels": false,
         "ticks": ""
        }
       }
      },
      "text/html": [
       "<div>\n",
       "        \n",
       "        \n",
       "            <div id=\"64d40958-f7cc-48b3-98f7-4dd77d3d7fcc\" class=\"plotly-graph-div\" style=\"height:525px; width:100%;\"></div>\n",
       "            <script type=\"text/javascript\">\n",
       "                require([\"plotly\"], function(Plotly) {\n",
       "                    window.PLOTLYENV=window.PLOTLYENV || {};\n",
       "                    \n",
       "                if (document.getElementById(\"64d40958-f7cc-48b3-98f7-4dd77d3d7fcc\")) {\n",
       "                    Plotly.newPlot(\n",
       "                        '64d40958-f7cc-48b3-98f7-4dd77d3d7fcc',\n",
       "                        [{\"hoverlabel\": {\"namelength\": 0}, \"hovertemplate\": \"<b>%{hovertext}</b><br><br>Team=News<br>Productivity=%{x}<br>CV=%{y}\", \"hovertext\": [\"reporter2\", \"reporter3\", \"reporter4\", \"reporter7\", \"reporter10\", \"reporter13\", \"reporter15\", \"reporter17\", \"reporter18\", \"reporter19\", \"reporter21\", \"reporter22\", \"reporter23\", \"reporter24\", \"reporter25\", \"reporter27\", \"reporter29\", \"reporter31\", \"reporter33\", \"reporter35\", \"reporter36\", \"reporter37\", \"reporter38\", \"reporter39\", \"reporter41\", \"reporter42\", \"reporter43\", \"reporter45\", \"reporter47\", \"reporter48\", \"reporter49\", \"reporter50\", \"reporter51\", \"reporter52\", \"reporter53\", \"reporter55\", \"reporter58\", \"reporter63\", \"reporter65\", \"reporter68\", \"reporter69\", \"reporter70\", \"reporter71\", \"reporter74\", \"reporter75\", \"reporter76\", \"reporter77\", \"reporter78\", \"reporter79\", \"reporter81\", \"reporter82\", \"reporter88\", \"reporter89\", \"reporter91\"], \"legendgroup\": \"News\", \"marker\": {\"color\": \"#636efa\", \"symbol\": \"circle\"}, \"mode\": \"markers\", \"name\": \"News\", \"showlegend\": true, \"type\": \"scatter\", \"x\": [684, 608, 555, 477, 415, 305, 348, 244, 213, 206, 229, 275, 214, 84, 345, 603, 316, 186, 223, 127, 160, 186, 174, 112, 166, 168, 177, 152, 152, 99, 154, 113, 86, 221, 112, 96, 173, 124, 109, 76, 62, 62, 86, 71, 31, 87, 89, 51, 25, 40, 47, 14, 7, 8], \"xaxis\": \"x\", \"y\": [15239051, 15227333, 15129163, 11032010, 9931112, 8483893, 7830570, 7423919, 6725939, 6715653, 6581319, 6506326, 6413386, 6271736, 6054364, 5395767, 4746436, 4548830, 4464487, 4315746, 4275258, 4024236, 3995978, 3968698, 3938843, 3889447, 3722741, 3442594, 3247791, 3245435, 3186564, 3120293, 3106786, 3080586, 3076441, 2919604, 2666488, 2298984, 2197694, 2048102, 1494412, 1389167, 1367267, 764832, 732616, 670406, 578632, 429207, 415534, 375587, 350911, 104081, 87367, 31659], \"yaxis\": \"y\"}, {\"alignmentgroup\": \"True\", \"hoverlabel\": {\"namelength\": 0}, \"hovertemplate\": \"<b>%{hovertext}</b><br><br>Team=News<br>Productivity=%{x}\", \"hovertext\": [\"reporter2\", \"reporter3\", \"reporter4\", \"reporter7\", \"reporter10\", \"reporter13\", \"reporter15\", \"reporter17\", \"reporter18\", \"reporter19\", \"reporter21\", \"reporter22\", \"reporter23\", \"reporter24\", \"reporter25\", \"reporter27\", \"reporter29\", \"reporter31\", \"reporter33\", \"reporter35\", \"reporter36\", \"reporter37\", \"reporter38\", \"reporter39\", \"reporter41\", \"reporter42\", \"reporter43\", \"reporter45\", \"reporter47\", \"reporter48\", \"reporter49\", \"reporter50\", \"reporter51\", \"reporter52\", \"reporter53\", \"reporter55\", \"reporter58\", \"reporter63\", \"reporter65\", \"reporter68\", \"reporter69\", \"reporter70\", \"reporter71\", \"reporter74\", \"reporter75\", \"reporter76\", \"reporter77\", \"reporter78\", \"reporter79\", \"reporter81\", \"reporter82\", \"reporter88\", \"reporter89\", \"reporter91\"], \"legendgroup\": \"News\", \"marker\": {\"color\": \"#636efa\", \"symbol\": \"circle\"}, \"name\": \"News\", \"notched\": true, \"offsetgroup\": \"News\", \"showlegend\": false, \"type\": \"box\", \"x\": [684, 608, 555, 477, 415, 305, 348, 244, 213, 206, 229, 275, 214, 84, 345, 603, 316, 186, 223, 127, 160, 186, 174, 112, 166, 168, 177, 152, 152, 99, 154, 113, 86, 221, 112, 96, 173, 124, 109, 76, 62, 62, 86, 71, 31, 87, 89, 51, 25, 40, 47, 14, 7, 8], \"xaxis\": \"x3\", \"yaxis\": \"y3\"}, {\"alignmentgroup\": \"True\", \"hoverlabel\": {\"namelength\": 0}, \"hovertemplate\": \"<b>%{hovertext}</b><br><br>Team=News<br>CV=%{y}\", \"hovertext\": [\"reporter2\", \"reporter3\", \"reporter4\", \"reporter7\", \"reporter10\", \"reporter13\", \"reporter15\", \"reporter17\", \"reporter18\", \"reporter19\", \"reporter21\", \"reporter22\", \"reporter23\", \"reporter24\", \"reporter25\", \"reporter27\", \"reporter29\", \"reporter31\", \"reporter33\", \"reporter35\", \"reporter36\", \"reporter37\", \"reporter38\", \"reporter39\", \"reporter41\", \"reporter42\", \"reporter43\", \"reporter45\", \"reporter47\", \"reporter48\", \"reporter49\", \"reporter50\", \"reporter51\", \"reporter52\", \"reporter53\", \"reporter55\", \"reporter58\", \"reporter63\", \"reporter65\", \"reporter68\", \"reporter69\", \"reporter70\", \"reporter71\", \"reporter74\", \"reporter75\", \"reporter76\", \"reporter77\", \"reporter78\", \"reporter79\", \"reporter81\", \"reporter82\", \"reporter88\", \"reporter89\", \"reporter91\"], \"legendgroup\": \"News\", \"marker\": {\"color\": \"#636efa\", \"symbol\": \"circle\"}, \"name\": \"News\", \"offsetgroup\": \"News\", \"scalegroup\": \"y\", \"showlegend\": false, \"type\": \"violin\", \"xaxis\": \"x2\", \"y\": [15239051, 15227333, 15129163, 11032010, 9931112, 8483893, 7830570, 7423919, 6725939, 6715653, 6581319, 6506326, 6413386, 6271736, 6054364, 5395767, 4746436, 4548830, 4464487, 4315746, 4275258, 4024236, 3995978, 3968698, 3938843, 3889447, 3722741, 3442594, 3247791, 3245435, 3186564, 3120293, 3106786, 3080586, 3076441, 2919604, 2666488, 2298984, 2197694, 2048102, 1494412, 1389167, 1367267, 764832, 732616, 670406, 578632, 429207, 415534, 375587, 350911, 104081, 87367, 31659], \"yaxis\": \"y2\"}, {\"hoverlabel\": {\"namelength\": 0}, \"hovertemplate\": \"<b>OLS trendline</b><br>CV = 21013.8 * Productivity + 371375<br>R<sup>2</sup>=0.806942<br><br>Team=News<br>Productivity=%{x}<br>CV=%{y} <b>(trend)</b>\", \"legendgroup\": \"News\", \"marker\": {\"color\": \"#636efa\", \"symbol\": \"circle\"}, \"mode\": \"lines\", \"name\": \"News\", \"showlegend\": false, \"type\": \"scatter\", \"x\": [7, 8, 14, 25, 31, 40, 47, 51, 62, 62, 71, 76, 84, 86, 86, 87, 89, 96, 99, 109, 112, 112, 113, 124, 127, 152, 152, 154, 160, 166, 168, 173, 174, 177, 186, 186, 206, 213, 214, 221, 223, 229, 244, 275, 305, 316, 345, 348, 415, 477, 555, 603, 608, 684], \"xaxis\": \"x\", \"y\": [518471.2558682224, 539485.0580161512, 665567.8709037236, 896719.6945309399, 1022802.5074185126, 1211926.7267498714, 1359023.3417853727, 1443078.5503770877, 1674230.374004304, 1674230.374004304, 1863354.5933356627, 1968423.6040753066, 2136534.0212587365, 2178561.625554594, 2178561.625554594, 2199575.427702523, 2241603.0319983806, 2388699.647033882, 2451741.053477668, 2661879.074956956, 2724920.481400742, 2724920.481400742, 2745934.283548671, 2977086.107175887, 3040127.5136196734, 3565472.5673178923, 3565472.5673178923, 3607500.1716137496, 3733582.9845013223, 3859665.797388895, 3901693.401684752, 4006762.4124243963, 4027776.214572325, 4090817.621016111, 4279941.84034747, 4279941.84034747, 4700217.883306045, 4847314.498341546, 4868328.300489475, 5015424.915524976, 5057452.519820834, 5183535.332708406, 5498742.3649273375, 6150170.23151313, 6780584.295950992, 7011736.119578208, 7621136.381868143, 7684177.7883119285, 9092102.532223154, 10394958.265394738, 12034034.83293318, 13042697.33603376, 13147766.346773405, 14744815.31001599], \"yaxis\": \"y\"}, {\"hoverlabel\": {\"namelength\": 0}, \"hovertemplate\": \"<b>%{hovertext}</b><br><br>Team=Pro Sports<br>Productivity=%{x}<br>CV=%{y}\", \"hovertext\": [\"reporter5\", \"reporter6\", \"reporter8\", \"reporter9\", \"reporter11\", \"reporter12\", \"reporter14\", \"reporter16\", \"reporter20\", \"reporter26\", \"reporter28\", \"reporter30\", \"reporter32\", \"reporter34\", \"reporter46\", \"reporter56\", \"reporter83\"], \"legendgroup\": \"Pro Sports\", \"marker\": {\"color\": \"#EF553B\", \"symbol\": \"circle\"}, \"mode\": \"markers\", \"name\": \"Pro Sports\", \"showlegend\": true, \"type\": \"scatter\", \"x\": [1201, 3009, 1026, 1240, 709, 1055, 883, 1114, 1012, 1246, 1071, 391, 1181, 664, 185, 341, 65], \"xaxis\": \"x\", \"y\": [14449063, 13875398, 10493866, 10100263, 9284465, 8731923, 8308101, 7653566, 6693322, 5971873, 5039634, 4633493, 4485460, 4392585, 3325928, 2897260, 301061], \"yaxis\": \"y\"}, {\"alignmentgroup\": \"True\", \"hoverlabel\": {\"namelength\": 0}, \"hovertemplate\": \"<b>%{hovertext}</b><br><br>Team=Pro Sports<br>Productivity=%{x}\", \"hovertext\": [\"reporter5\", \"reporter6\", \"reporter8\", \"reporter9\", \"reporter11\", \"reporter12\", \"reporter14\", \"reporter16\", \"reporter20\", \"reporter26\", \"reporter28\", \"reporter30\", \"reporter32\", \"reporter34\", \"reporter46\", \"reporter56\", \"reporter83\"], \"legendgroup\": \"Pro Sports\", \"marker\": {\"color\": \"#EF553B\", \"symbol\": \"circle\"}, \"name\": \"Pro Sports\", \"notched\": true, \"offsetgroup\": \"Pro Sports\", \"showlegend\": false, \"type\": \"box\", \"x\": [1201, 3009, 1026, 1240, 709, 1055, 883, 1114, 1012, 1246, 1071, 391, 1181, 664, 185, 341, 65], \"xaxis\": \"x3\", \"yaxis\": \"y3\"}, {\"alignmentgroup\": \"True\", \"hoverlabel\": {\"namelength\": 0}, \"hovertemplate\": \"<b>%{hovertext}</b><br><br>Team=Pro Sports<br>CV=%{y}\", \"hovertext\": [\"reporter5\", \"reporter6\", \"reporter8\", \"reporter9\", \"reporter11\", \"reporter12\", \"reporter14\", \"reporter16\", \"reporter20\", \"reporter26\", \"reporter28\", \"reporter30\", \"reporter32\", \"reporter34\", \"reporter46\", \"reporter56\", \"reporter83\"], \"legendgroup\": \"Pro Sports\", \"marker\": {\"color\": \"#EF553B\", \"symbol\": \"circle\"}, \"name\": \"Pro Sports\", \"offsetgroup\": \"Pro Sports\", \"scalegroup\": \"y\", \"showlegend\": false, \"type\": \"violin\", \"xaxis\": \"x2\", \"y\": [14449063, 13875398, 10493866, 10100263, 9284465, 8731923, 8308101, 7653566, 6693322, 5971873, 5039634, 4633493, 4485460, 4392585, 3325928, 2897260, 301061], \"yaxis\": \"y2\"}, {\"hoverlabel\": {\"namelength\": 0}, \"hovertemplate\": \"<b>OLS trendline</b><br>CV = 4273.27 * Productivity + 2.97562e+06<br>R<sup>2</sup>=0.529964<br><br>Team=Pro Sports<br>Productivity=%{x}<br>CV=%{y} <b>(trend)</b>\", \"legendgroup\": \"Pro Sports\", \"marker\": {\"color\": \"#EF553B\", \"symbol\": \"circle\"}, \"mode\": \"lines\", \"name\": \"Pro Sports\", \"showlegend\": false, \"type\": \"scatter\", \"x\": [65, 185, 341, 391, 664, 709, 883, 1012, 1026, 1055, 1071, 1114, 1181, 1201, 1240, 1246, 3009], \"xaxis\": \"x\", \"y\": [3253386.4388921363, 3766178.366198523, 4432807.871696826, 4646471.174741154, 5813072.8093631845, 6005369.782103078, 6748918.07669734, 7300169.398551705, 7359995.123404117, 7483919.839169827, 7552292.096144012, 7736042.536762134, 8022351.3628415335, 8107816.684059265, 8274474.06043384, 8300113.65679916, 15833881.72214216], \"yaxis\": \"y\"}, {\"hoverlabel\": {\"namelength\": 0}, \"hovertemplate\": \"<b>%{hovertext}</b><br><br>Team=Commerce<br>Productivity=%{x}<br>CV=%{y}\", \"hovertext\": [\"reporter40\"], \"legendgroup\": \"Commerce\", \"marker\": {\"color\": \"#00cc96\", \"symbol\": \"circle\"}, \"mode\": \"markers\", \"name\": \"Commerce\", \"showlegend\": true, \"type\": \"scatter\", \"x\": [209], \"xaxis\": \"x\", \"y\": [3963086], \"yaxis\": \"y\"}, {\"alignmentgroup\": \"True\", \"hoverlabel\": {\"namelength\": 0}, \"hovertemplate\": \"<b>%{hovertext}</b><br><br>Team=Commerce<br>Productivity=%{x}\", \"hovertext\": [\"reporter40\"], \"legendgroup\": \"Commerce\", \"marker\": {\"color\": \"#00cc96\", \"symbol\": \"circle\"}, \"name\": \"Commerce\", \"notched\": true, \"offsetgroup\": \"Commerce\", \"showlegend\": false, \"type\": \"box\", \"x\": [209], \"xaxis\": \"x3\", \"yaxis\": \"y3\"}, {\"alignmentgroup\": \"True\", \"hoverlabel\": {\"namelength\": 0}, \"hovertemplate\": \"<b>%{hovertext}</b><br><br>Team=Commerce<br>CV=%{y}\", \"hovertext\": [\"reporter40\"], \"legendgroup\": \"Commerce\", \"marker\": {\"color\": \"#00cc96\", \"symbol\": \"circle\"}, \"name\": \"Commerce\", \"offsetgroup\": \"Commerce\", \"scalegroup\": \"y\", \"showlegend\": false, \"type\": \"violin\", \"xaxis\": \"x2\", \"y\": [3963086], \"yaxis\": \"y2\"}, {\"hoverlabel\": {\"namelength\": 0}, \"hovertemplate\": \"Team=Commerce\", \"legendgroup\": \"Commerce\", \"marker\": {\"color\": \"#00cc96\", \"symbol\": \"circle\"}, \"mode\": \"lines\", \"name\": \"Commerce\", \"showlegend\": false, \"type\": \"scatter\", \"xaxis\": \"x\", \"yaxis\": \"y\"}, {\"hoverlabel\": {\"namelength\": 0}, \"hovertemplate\": \"<b>%{hovertext}</b><br><br>Team=HS Sports<br>Productivity=%{x}<br>CV=%{y}\", \"hovertext\": [\"reporter44\", \"reporter54\", \"reporter57\", \"reporter59\", \"reporter60\", \"reporter61\", \"reporter62\", \"reporter64\", \"reporter66\", \"reporter67\", \"reporter72\", \"reporter73\", \"reporter80\", \"reporter84\", \"reporter85\", \"reporter86\", \"reporter87\", \"reporter90\", \"reporter92\"], \"legendgroup\": \"HS Sports\", \"marker\": {\"color\": \"#ab63fa\", \"symbol\": \"circle\"}, \"mode\": \"markers\", \"name\": \"HS Sports\", \"showlegend\": true, \"type\": \"scatter\", \"x\": [1744, 896, 1078, 849, 795, 789, 659, 1188, 1017, 806, 969, 941, 655, 39, 226, 111, 205, 267, 53], \"xaxis\": \"x\", \"y\": [3480795, 2973911, 2668679, 2491960, 2331106, 2313381, 2306829, 2276027, 2188947, 2178883, 1123008, 1019768, 390632, 183553, 156464, 133516, 113428, 84589, 29688], \"yaxis\": \"y\"}, {\"alignmentgroup\": \"True\", \"hoverlabel\": {\"namelength\": 0}, \"hovertemplate\": \"<b>%{hovertext}</b><br><br>Team=HS Sports<br>Productivity=%{x}\", \"hovertext\": [\"reporter44\", \"reporter54\", \"reporter57\", \"reporter59\", \"reporter60\", \"reporter61\", \"reporter62\", \"reporter64\", \"reporter66\", \"reporter67\", \"reporter72\", \"reporter73\", \"reporter80\", \"reporter84\", \"reporter85\", \"reporter86\", \"reporter87\", \"reporter90\", \"reporter92\"], \"legendgroup\": \"HS Sports\", \"marker\": {\"color\": \"#ab63fa\", \"symbol\": \"circle\"}, \"name\": \"HS Sports\", \"notched\": true, \"offsetgroup\": \"HS Sports\", \"showlegend\": false, \"type\": \"box\", \"x\": [1744, 896, 1078, 849, 795, 789, 659, 1188, 1017, 806, 969, 941, 655, 39, 226, 111, 205, 267, 53], \"xaxis\": \"x3\", \"yaxis\": \"y3\"}, {\"alignmentgroup\": \"True\", \"hoverlabel\": {\"namelength\": 0}, \"hovertemplate\": \"<b>%{hovertext}</b><br><br>Team=HS Sports<br>CV=%{y}\", \"hovertext\": [\"reporter44\", \"reporter54\", \"reporter57\", \"reporter59\", \"reporter60\", \"reporter61\", \"reporter62\", \"reporter64\", \"reporter66\", \"reporter67\", \"reporter72\", \"reporter73\", \"reporter80\", \"reporter84\", \"reporter85\", \"reporter86\", \"reporter87\", \"reporter90\", \"reporter92\"], \"legendgroup\": \"HS Sports\", \"marker\": {\"color\": \"#ab63fa\", \"symbol\": \"circle\"}, \"name\": \"HS Sports\", \"offsetgroup\": \"HS Sports\", \"scalegroup\": \"y\", \"showlegend\": false, \"type\": \"violin\", \"xaxis\": \"x2\", \"y\": [3480795, 2973911, 2668679, 2491960, 2331106, 2313381, 2306829, 2276027, 2188947, 2178883, 1123008, 1019768, 390632, 183553, 156464, 133516, 113428, 84589, 29688], \"yaxis\": \"y2\"}, {\"hoverlabel\": {\"namelength\": 0}, \"hovertemplate\": \"<b>OLS trendline</b><br>CV = 2224.62 * Productivity + -58600.5<br>R<sup>2</sup>=0.720943<br><br>Team=HS Sports<br>Productivity=%{x}<br>CV=%{y} <b>(trend)</b>\", \"legendgroup\": \"HS Sports\", \"marker\": {\"color\": \"#ab63fa\", \"symbol\": \"circle\"}, \"mode\": \"lines\", \"name\": \"HS Sports\", \"showlegend\": false, \"type\": \"scatter\", \"x\": [39, 53, 111, 205, 226, 267, 655, 659, 789, 795, 806, 849, 896, 941, 969, 1017, 1078, 1188, 1744], \"xaxis\": \"x\", \"y\": [28159.806182700893, 59304.53657927361, 188332.70536507486, 397447.3237420631, 444164.4193369222, 535373.9869268851, 1398527.9436319002, 1407426.4380309212, 1696627.5059990962, 1709975.2475976273, 1734446.1071949345, 1830104.9219844078, 1934662.231172902, 2034770.2931618858, 2097059.753955031, 2203841.686743281, 2339543.7263283473, 2584252.322301419, 3821143.043765307], \"yaxis\": \"y\"}],\n",
       "                        {\"legend\": {\"title\": {\"text\": \"Team\"}, \"tracegroupgap\": 0}, \"margin\": {\"t\": 60}, \"template\": {\"data\": {\"bar\": [{\"error_x\": {\"color\": \"#2a3f5f\"}, \"error_y\": {\"color\": \"#2a3f5f\"}, \"marker\": {\"line\": {\"color\": \"#E5ECF6\", \"width\": 0.5}}, \"type\": \"bar\"}], \"barpolar\": [{\"marker\": {\"line\": {\"color\": \"#E5ECF6\", \"width\": 0.5}}, \"type\": \"barpolar\"}], \"carpet\": [{\"aaxis\": {\"endlinecolor\": \"#2a3f5f\", \"gridcolor\": \"white\", \"linecolor\": \"white\", \"minorgridcolor\": \"white\", \"startlinecolor\": \"#2a3f5f\"}, \"baxis\": {\"endlinecolor\": \"#2a3f5f\", \"gridcolor\": \"white\", \"linecolor\": \"white\", \"minorgridcolor\": \"white\", \"startlinecolor\": \"#2a3f5f\"}, \"type\": \"carpet\"}], \"choropleth\": [{\"colorbar\": {\"outlinewidth\": 0, \"ticks\": \"\"}, \"type\": \"choropleth\"}], \"contour\": [{\"colorbar\": {\"outlinewidth\": 0, \"ticks\": \"\"}, \"colorscale\": [[0.0, \"#0d0887\"], [0.1111111111111111, \"#46039f\"], [0.2222222222222222, \"#7201a8\"], [0.3333333333333333, \"#9c179e\"], [0.4444444444444444, \"#bd3786\"], [0.5555555555555556, \"#d8576b\"], [0.6666666666666666, \"#ed7953\"], [0.7777777777777778, \"#fb9f3a\"], [0.8888888888888888, \"#fdca26\"], [1.0, \"#f0f921\"]], \"type\": \"contour\"}], \"contourcarpet\": [{\"colorbar\": {\"outlinewidth\": 0, \"ticks\": \"\"}, \"type\": \"contourcarpet\"}], \"heatmap\": [{\"colorbar\": {\"outlinewidth\": 0, \"ticks\": \"\"}, \"colorscale\": [[0.0, \"#0d0887\"], [0.1111111111111111, \"#46039f\"], [0.2222222222222222, \"#7201a8\"], [0.3333333333333333, \"#9c179e\"], [0.4444444444444444, \"#bd3786\"], [0.5555555555555556, \"#d8576b\"], [0.6666666666666666, \"#ed7953\"], [0.7777777777777778, \"#fb9f3a\"], [0.8888888888888888, \"#fdca26\"], [1.0, \"#f0f921\"]], \"type\": \"heatmap\"}], \"heatmapgl\": [{\"colorbar\": {\"outlinewidth\": 0, \"ticks\": \"\"}, \"colorscale\": [[0.0, \"#0d0887\"], [0.1111111111111111, \"#46039f\"], [0.2222222222222222, \"#7201a8\"], [0.3333333333333333, \"#9c179e\"], [0.4444444444444444, \"#bd3786\"], [0.5555555555555556, \"#d8576b\"], [0.6666666666666666, \"#ed7953\"], [0.7777777777777778, \"#fb9f3a\"], [0.8888888888888888, \"#fdca26\"], [1.0, \"#f0f921\"]], \"type\": \"heatmapgl\"}], \"histogram\": [{\"marker\": {\"colorbar\": {\"outlinewidth\": 0, \"ticks\": \"\"}}, \"type\": \"histogram\"}], \"histogram2d\": [{\"colorbar\": {\"outlinewidth\": 0, \"ticks\": \"\"}, \"colorscale\": [[0.0, \"#0d0887\"], [0.1111111111111111, \"#46039f\"], [0.2222222222222222, \"#7201a8\"], [0.3333333333333333, \"#9c179e\"], [0.4444444444444444, \"#bd3786\"], [0.5555555555555556, \"#d8576b\"], [0.6666666666666666, \"#ed7953\"], [0.7777777777777778, \"#fb9f3a\"], [0.8888888888888888, \"#fdca26\"], [1.0, \"#f0f921\"]], \"type\": \"histogram2d\"}], \"histogram2dcontour\": [{\"colorbar\": {\"outlinewidth\": 0, \"ticks\": \"\"}, \"colorscale\": [[0.0, \"#0d0887\"], [0.1111111111111111, \"#46039f\"], [0.2222222222222222, \"#7201a8\"], [0.3333333333333333, \"#9c179e\"], [0.4444444444444444, \"#bd3786\"], [0.5555555555555556, \"#d8576b\"], [0.6666666666666666, \"#ed7953\"], [0.7777777777777778, \"#fb9f3a\"], [0.8888888888888888, \"#fdca26\"], [1.0, \"#f0f921\"]], \"type\": \"histogram2dcontour\"}], \"mesh3d\": [{\"colorbar\": {\"outlinewidth\": 0, \"ticks\": \"\"}, \"type\": \"mesh3d\"}], \"parcoords\": [{\"line\": {\"colorbar\": {\"outlinewidth\": 0, \"ticks\": \"\"}}, \"type\": \"parcoords\"}], \"pie\": [{\"automargin\": true, \"type\": \"pie\"}], \"scatter\": [{\"marker\": {\"colorbar\": {\"outlinewidth\": 0, \"ticks\": \"\"}}, \"type\": \"scatter\"}], \"scatter3d\": [{\"line\": {\"colorbar\": {\"outlinewidth\": 0, \"ticks\": \"\"}}, \"marker\": {\"colorbar\": {\"outlinewidth\": 0, \"ticks\": \"\"}}, \"type\": \"scatter3d\"}], \"scattercarpet\": [{\"marker\": {\"colorbar\": {\"outlinewidth\": 0, \"ticks\": \"\"}}, \"type\": \"scattercarpet\"}], \"scattergeo\": [{\"marker\": {\"colorbar\": {\"outlinewidth\": 0, \"ticks\": \"\"}}, \"type\": \"scattergeo\"}], \"scattergl\": [{\"marker\": {\"colorbar\": {\"outlinewidth\": 0, \"ticks\": \"\"}}, \"type\": \"scattergl\"}], \"scattermapbox\": [{\"marker\": {\"colorbar\": {\"outlinewidth\": 0, \"ticks\": \"\"}}, \"type\": \"scattermapbox\"}], \"scatterpolar\": [{\"marker\": {\"colorbar\": {\"outlinewidth\": 0, \"ticks\": \"\"}}, \"type\": \"scatterpolar\"}], \"scatterpolargl\": [{\"marker\": {\"colorbar\": {\"outlinewidth\": 0, \"ticks\": \"\"}}, \"type\": \"scatterpolargl\"}], \"scatterternary\": [{\"marker\": {\"colorbar\": {\"outlinewidth\": 0, \"ticks\": \"\"}}, \"type\": \"scatterternary\"}], \"surface\": [{\"colorbar\": {\"outlinewidth\": 0, \"ticks\": \"\"}, \"colorscale\": [[0.0, \"#0d0887\"], [0.1111111111111111, \"#46039f\"], [0.2222222222222222, \"#7201a8\"], [0.3333333333333333, \"#9c179e\"], [0.4444444444444444, \"#bd3786\"], [0.5555555555555556, \"#d8576b\"], [0.6666666666666666, \"#ed7953\"], [0.7777777777777778, \"#fb9f3a\"], [0.8888888888888888, \"#fdca26\"], [1.0, \"#f0f921\"]], \"type\": \"surface\"}], \"table\": [{\"cells\": {\"fill\": {\"color\": \"#EBF0F8\"}, \"line\": {\"color\": \"white\"}}, \"header\": {\"fill\": {\"color\": \"#C8D4E3\"}, \"line\": {\"color\": \"white\"}}, \"type\": \"table\"}]}, \"layout\": {\"annotationdefaults\": {\"arrowcolor\": \"#2a3f5f\", \"arrowhead\": 0, \"arrowwidth\": 1}, \"coloraxis\": {\"colorbar\": {\"outlinewidth\": 0, \"ticks\": \"\"}}, \"colorscale\": {\"diverging\": [[0, \"#8e0152\"], [0.1, \"#c51b7d\"], [0.2, \"#de77ae\"], [0.3, \"#f1b6da\"], [0.4, \"#fde0ef\"], [0.5, \"#f7f7f7\"], [0.6, \"#e6f5d0\"], [0.7, \"#b8e186\"], [0.8, \"#7fbc41\"], [0.9, \"#4d9221\"], [1, \"#276419\"]], \"sequential\": [[0.0, \"#0d0887\"], [0.1111111111111111, \"#46039f\"], [0.2222222222222222, \"#7201a8\"], [0.3333333333333333, \"#9c179e\"], [0.4444444444444444, \"#bd3786\"], [0.5555555555555556, \"#d8576b\"], [0.6666666666666666, \"#ed7953\"], [0.7777777777777778, \"#fb9f3a\"], [0.8888888888888888, \"#fdca26\"], [1.0, \"#f0f921\"]], \"sequentialminus\": [[0.0, \"#0d0887\"], [0.1111111111111111, \"#46039f\"], [0.2222222222222222, \"#7201a8\"], [0.3333333333333333, \"#9c179e\"], [0.4444444444444444, \"#bd3786\"], [0.5555555555555556, \"#d8576b\"], [0.6666666666666666, \"#ed7953\"], [0.7777777777777778, \"#fb9f3a\"], [0.8888888888888888, \"#fdca26\"], [1.0, \"#f0f921\"]]}, \"colorway\": [\"#636efa\", \"#EF553B\", \"#00cc96\", \"#ab63fa\", \"#FFA15A\", \"#19d3f3\", \"#FF6692\", \"#B6E880\", \"#FF97FF\", \"#FECB52\"], \"font\": {\"color\": \"#2a3f5f\"}, \"geo\": {\"bgcolor\": \"white\", \"lakecolor\": \"white\", \"landcolor\": \"#E5ECF6\", \"showlakes\": true, \"showland\": true, \"subunitcolor\": \"white\"}, \"hoverlabel\": {\"align\": \"left\"}, \"hovermode\": \"closest\", \"mapbox\": {\"style\": \"light\"}, \"paper_bgcolor\": \"white\", \"plot_bgcolor\": \"#E5ECF6\", \"polar\": {\"angularaxis\": {\"gridcolor\": \"white\", \"linecolor\": \"white\", \"ticks\": \"\"}, \"bgcolor\": \"#E5ECF6\", \"radialaxis\": {\"gridcolor\": \"white\", \"linecolor\": \"white\", \"ticks\": \"\"}}, \"scene\": {\"xaxis\": {\"backgroundcolor\": \"#E5ECF6\", \"gridcolor\": \"white\", \"gridwidth\": 2, \"linecolor\": \"white\", \"showbackground\": true, \"ticks\": \"\", \"zerolinecolor\": \"white\"}, \"yaxis\": {\"backgroundcolor\": \"#E5ECF6\", \"gridcolor\": \"white\", \"gridwidth\": 2, \"linecolor\": \"white\", \"showbackground\": true, \"ticks\": \"\", \"zerolinecolor\": \"white\"}, \"zaxis\": {\"backgroundcolor\": \"#E5ECF6\", \"gridcolor\": \"white\", \"gridwidth\": 2, \"linecolor\": \"white\", \"showbackground\": true, \"ticks\": \"\", \"zerolinecolor\": \"white\"}}, \"shapedefaults\": {\"line\": {\"color\": \"#2a3f5f\"}}, \"ternary\": {\"aaxis\": {\"gridcolor\": \"white\", \"linecolor\": \"white\", \"ticks\": \"\"}, \"baxis\": {\"gridcolor\": \"white\", \"linecolor\": \"white\", \"ticks\": \"\"}, \"bgcolor\": \"#E5ECF6\", \"caxis\": {\"gridcolor\": \"white\", \"linecolor\": \"white\", \"ticks\": \"\"}}, \"title\": {\"x\": 0.05}, \"xaxis\": {\"automargin\": true, \"gridcolor\": \"white\", \"linecolor\": \"white\", \"ticks\": \"\", \"title\": {\"standoff\": 15}, \"zerolinecolor\": \"white\", \"zerolinewidth\": 2}, \"yaxis\": {\"automargin\": true, \"gridcolor\": \"white\", \"linecolor\": \"white\", \"ticks\": \"\", \"title\": {\"standoff\": 15}, \"zerolinecolor\": \"white\", \"zerolinewidth\": 2}}}, \"xaxis\": {\"anchor\": \"y\", \"domain\": [0.0, 0.7363], \"title\": {\"text\": \"Productivity\"}}, \"xaxis2\": {\"anchor\": \"y2\", \"domain\": [0.7413, 1.0], \"matches\": \"x2\", \"showgrid\": false, \"showline\": false, \"showticklabels\": false, \"ticks\": \"\"}, \"xaxis3\": {\"anchor\": \"y3\", \"domain\": [0.0, 0.7363], \"matches\": \"x\", \"showgrid\": true, \"showticklabels\": false}, \"xaxis4\": {\"anchor\": \"y4\", \"domain\": [0.7413, 1.0], \"matches\": \"x2\", \"showgrid\": false, \"showline\": false, \"showticklabels\": false, \"ticks\": \"\"}, \"yaxis\": {\"anchor\": \"x\", \"domain\": [0.0, 0.7326], \"title\": {\"text\": \"CV\"}}, \"yaxis2\": {\"anchor\": \"x2\", \"domain\": [0.0, 0.7326], \"matches\": \"y\", \"showgrid\": true, \"showticklabels\": false}, \"yaxis3\": {\"anchor\": \"x3\", \"domain\": [0.7426, 1.0], \"matches\": \"y3\", \"showgrid\": false, \"showline\": false, \"showticklabels\": false, \"ticks\": \"\"}, \"yaxis4\": {\"anchor\": \"x4\", \"domain\": [0.7426, 1.0], \"matches\": \"y3\", \"showgrid\": true, \"showline\": false, \"showticklabels\": false, \"ticks\": \"\"}},\n",
       "                        {\"responsive\": true}\n",
       "                    ).then(function(){\n",
       "                            \n",
       "var gd = document.getElementById('64d40958-f7cc-48b3-98f7-4dd77d3d7fcc');\n",
       "var x = new MutationObserver(function (mutations, observer) {{\n",
       "        var display = window.getComputedStyle(gd).display;\n",
       "        if (!display || display === 'none') {{\n",
       "            console.log([gd, 'removed!']);\n",
       "            Plotly.purge(gd);\n",
       "            observer.disconnect();\n",
       "        }}\n",
       "}});\n",
       "\n",
       "// Listen for the removal of the full notebook cells\n",
       "var notebookContainer = gd.closest('#notebook-container');\n",
       "if (notebookContainer) {{\n",
       "    x.observe(notebookContainer, {childList: true});\n",
       "}}\n",
       "\n",
       "// Listen for the clearing of the current output cell\n",
       "var outputEl = gd.closest('.output');\n",
       "if (outputEl) {{\n",
       "    x.observe(outputEl, {childList: true});\n",
       "}}\n",
       "\n",
       "                        })\n",
       "                };\n",
       "                });\n",
       "            </script>\n",
       "        </div>"
      ]
     },
     "metadata": {},
     "output_type": "display_data"
    }
   ],
   "source": [
    "# Scatters exclude reporter1\n",
    "# df_exclreporter1\n",
    "\n",
    "fig = px.scatter(df_exclreporter1, x=\"Productivity\", y=\"CV\", hover_name=\"ID Match\", color=\"Team\", marginal_y=\"violin\",\n",
    "           marginal_x=\"box\", trendline=\"ols\")\n",
    "fig.show()"
   ]
  },
  {
   "cell_type": "code",
   "execution_count": 31,
   "metadata": {
    "scrolled": false
   },
   "outputs": [
    {
     "data": {
      "application/vnd.plotly.v1+json": {
       "config": {
        "plotlyServerURL": "https://plot.ly"
       },
       "data": [
        {
         "hoverlabel": {
          "namelength": 0
         },
         "hovertemplate": "<b>%{hovertext}</b><br><br>Team=News<br>Productivity=%{x}<br>CV=%{y}<br>Users=%{marker.size}",
         "hovertext": [
          "reporter1",
          "reporter2",
          "reporter3",
          "reporter4",
          "reporter7",
          "reporter10",
          "reporter13",
          "reporter15",
          "reporter17",
          "reporter18",
          "reporter19",
          "reporter21",
          "reporter22",
          "reporter23",
          "reporter24",
          "reporter25",
          "reporter27",
          "reporter29",
          "reporter31",
          "reporter33",
          "reporter35",
          "reporter36",
          "reporter37",
          "reporter38",
          "reporter39",
          "reporter41",
          "reporter42",
          "reporter43",
          "reporter45",
          "reporter47",
          "reporter48",
          "reporter49",
          "reporter50",
          "reporter51",
          "reporter52",
          "reporter53",
          "reporter55",
          "reporter58",
          "reporter63",
          "reporter65",
          "reporter68",
          "reporter69",
          "reporter70",
          "reporter71",
          "reporter74",
          "reporter75",
          "reporter76",
          "reporter77",
          "reporter78",
          "reporter79",
          "reporter81",
          "reporter82",
          "reporter88",
          "reporter89",
          "reporter91"
         ],
         "legendgroup": "News",
         "marker": {
          "color": "#636efa",
          "size": [
           8397483,
           8602754,
           5605578,
           4806779,
           4602489,
           3759147,
           3838321,
           3337093,
           4338116,
           278516,
           3507308,
           3462339,
           3067761,
           3515539,
           3101578,
           3071640,
           2474047,
           1942461,
           2335376,
           2210381,
           2360551,
           2330972,
           1929330,
           2226304,
           1858928,
           1829373,
           1826552,
           1921500,
           2775037,
           1690020,
           1589114,
           1495599,
           1487155,
           1529913,
           1046106,
           1811427,
           1616449,
           1655880,
           1228829,
           1239268,
           925595,
           744130,
           771380,
           635576,
           697417,
           403281,
           478358,
           425223,
           616370,
           298286,
           224412,
           316740,
           877868,
           100292,
           31197
          ],
          "sizemode": "area",
          "sizeref": 2907.2891666666665,
          "symbol": "circle"
         },
         "mode": "markers",
         "name": "News",
         "showlegend": true,
         "type": "scatter",
         "x": [
          1347,
          684,
          608,
          555,
          477,
          415,
          305,
          348,
          244,
          213,
          206,
          229,
          275,
          214,
          84,
          345,
          603,
          316,
          186,
          223,
          127,
          160,
          186,
          174,
          112,
          166,
          168,
          177,
          152,
          152,
          99,
          154,
          113,
          86,
          221,
          112,
          96,
          173,
          124,
          109,
          76,
          62,
          62,
          86,
          71,
          31,
          87,
          89,
          51,
          25,
          40,
          47,
          14,
          7,
          8
         ],
         "xaxis": "x",
         "y": [
          32981448,
          15239051,
          15227333,
          15129163,
          11032010,
          9931112,
          8483893,
          7830570,
          7423919,
          6725939,
          6715653,
          6581319,
          6506326,
          6413386,
          6271736,
          6054364,
          5395767,
          4746436,
          4548830,
          4464487,
          4315746,
          4275258,
          4024236,
          3995978,
          3968698,
          3938843,
          3889447,
          3722741,
          3442594,
          3247791,
          3245435,
          3186564,
          3120293,
          3106786,
          3080586,
          3076441,
          2919604,
          2666488,
          2298984,
          2197694,
          2048102,
          1494412,
          1389167,
          1367267,
          764832,
          732616,
          670406,
          578632,
          429207,
          415534,
          375587,
          350911,
          104081,
          87367,
          31659
         ],
         "yaxis": "y"
        },
        {
         "hoverlabel": {
          "namelength": 0
         },
         "hovertemplate": "<b>%{hovertext}</b><br><br>Team=Pro Sports<br>Productivity=%{x}<br>CV=%{y}<br>Users=%{marker.size}",
         "hovertext": [
          "reporter5",
          "reporter6",
          "reporter8",
          "reporter9",
          "reporter11",
          "reporter12",
          "reporter14",
          "reporter16",
          "reporter20",
          "reporter26",
          "reporter28",
          "reporter30",
          "reporter32",
          "reporter34",
          "reporter46",
          "reporter56",
          "reporter83"
         ],
         "legendgroup": "Pro Sports",
         "marker": {
          "color": "#EF553B",
          "size": [
           2912920,
           10466241,
           3992132,
           8205363,
           5137170,
           2119223,
           2031770,
           4249110,
           3570942,
           3087026,
           2020916,
           2126480,
           1965884,
           1260584,
           1710315,
           3296669,
           264598
          ],
          "sizemode": "area",
          "sizeref": 2907.2891666666665,
          "symbol": "circle"
         },
         "mode": "markers",
         "name": "Pro Sports",
         "showlegend": true,
         "type": "scatter",
         "x": [
          1201,
          3009,
          1026,
          1240,
          709,
          1055,
          883,
          1114,
          1012,
          1246,
          1071,
          391,
          1181,
          664,
          185,
          341,
          65
         ],
         "xaxis": "x",
         "y": [
          14449063,
          13875398,
          10493866,
          10100263,
          9284465,
          8731923,
          8308101,
          7653566,
          6693322,
          5971873,
          5039634,
          4633493,
          4485460,
          4392585,
          3325928,
          2897260,
          301061
         ],
         "yaxis": "y"
        },
        {
         "hoverlabel": {
          "namelength": 0
         },
         "hovertemplate": "<b>%{hovertext}</b><br><br>Team=Commerce<br>Productivity=%{x}<br>CV=%{y}<br>Users=%{marker.size}",
         "hovertext": [
          "reporter40"
         ],
         "legendgroup": "Commerce",
         "marker": {
          "color": "#00cc96",
          "size": [
           2316126
          ],
          "sizemode": "area",
          "sizeref": 2907.2891666666665,
          "symbol": "circle"
         },
         "mode": "markers",
         "name": "Commerce",
         "showlegend": true,
         "type": "scatter",
         "x": [
          209
         ],
         "xaxis": "x",
         "y": [
          3963086
         ],
         "yaxis": "y"
        },
        {
         "hoverlabel": {
          "namelength": 0
         },
         "hovertemplate": "<b>%{hovertext}</b><br><br>Team=HS Sports<br>Productivity=%{x}<br>CV=%{y}<br>Users=%{marker.size}",
         "hovertext": [
          "reporter44",
          "reporter54",
          "reporter57",
          "reporter59",
          "reporter60",
          "reporter61",
          "reporter62",
          "reporter64",
          "reporter66",
          "reporter67",
          "reporter72",
          "reporter73",
          "reporter80",
          "reporter84",
          "reporter85",
          "reporter86",
          "reporter87",
          "reporter90",
          "reporter92"
         ],
         "legendgroup": "HS Sports",
         "marker": {
          "color": "#ab63fa",
          "size": [
           655071,
           870837,
           600362,
           756696,
           817105,
           645025,
           576991,
           400044,
           504970,
           541620,
           297039,
           224646,
           215624,
           215568,
           122367,
           296829,
           186926,
           58568,
           29805
          ],
          "sizemode": "area",
          "sizeref": 2907.2891666666665,
          "symbol": "circle"
         },
         "mode": "markers",
         "name": "HS Sports",
         "showlegend": true,
         "type": "scatter",
         "x": [
          1744,
          896,
          1078,
          849,
          795,
          789,
          659,
          1188,
          1017,
          806,
          969,
          941,
          655,
          39,
          226,
          111,
          205,
          267,
          53
         ],
         "xaxis": "x",
         "y": [
          3480795,
          2973911,
          2668679,
          2491960,
          2331106,
          2313381,
          2306829,
          2276027,
          2188947,
          2178883,
          1123008,
          1019768,
          390632,
          183553,
          156464,
          133516,
          113428,
          84589,
          29688
         ],
         "yaxis": "y"
        }
       ],
       "layout": {
        "legend": {
         "itemsizing": "constant",
         "title": {
          "text": "Team"
         },
         "tracegroupgap": 0
        },
        "margin": {
         "t": 60
        },
        "template": {
         "data": {
          "bar": [
           {
            "error_x": {
             "color": "#2a3f5f"
            },
            "error_y": {
             "color": "#2a3f5f"
            },
            "marker": {
             "line": {
              "color": "#E5ECF6",
              "width": 0.5
             }
            },
            "type": "bar"
           }
          ],
          "barpolar": [
           {
            "marker": {
             "line": {
              "color": "#E5ECF6",
              "width": 0.5
             }
            },
            "type": "barpolar"
           }
          ],
          "carpet": [
           {
            "aaxis": {
             "endlinecolor": "#2a3f5f",
             "gridcolor": "white",
             "linecolor": "white",
             "minorgridcolor": "white",
             "startlinecolor": "#2a3f5f"
            },
            "baxis": {
             "endlinecolor": "#2a3f5f",
             "gridcolor": "white",
             "linecolor": "white",
             "minorgridcolor": "white",
             "startlinecolor": "#2a3f5f"
            },
            "type": "carpet"
           }
          ],
          "choropleth": [
           {
            "colorbar": {
             "outlinewidth": 0,
             "ticks": ""
            },
            "type": "choropleth"
           }
          ],
          "contour": [
           {
            "colorbar": {
             "outlinewidth": 0,
             "ticks": ""
            },
            "colorscale": [
             [
              0,
              "#0d0887"
             ],
             [
              0.1111111111111111,
              "#46039f"
             ],
             [
              0.2222222222222222,
              "#7201a8"
             ],
             [
              0.3333333333333333,
              "#9c179e"
             ],
             [
              0.4444444444444444,
              "#bd3786"
             ],
             [
              0.5555555555555556,
              "#d8576b"
             ],
             [
              0.6666666666666666,
              "#ed7953"
             ],
             [
              0.7777777777777778,
              "#fb9f3a"
             ],
             [
              0.8888888888888888,
              "#fdca26"
             ],
             [
              1,
              "#f0f921"
             ]
            ],
            "type": "contour"
           }
          ],
          "contourcarpet": [
           {
            "colorbar": {
             "outlinewidth": 0,
             "ticks": ""
            },
            "type": "contourcarpet"
           }
          ],
          "heatmap": [
           {
            "colorbar": {
             "outlinewidth": 0,
             "ticks": ""
            },
            "colorscale": [
             [
              0,
              "#0d0887"
             ],
             [
              0.1111111111111111,
              "#46039f"
             ],
             [
              0.2222222222222222,
              "#7201a8"
             ],
             [
              0.3333333333333333,
              "#9c179e"
             ],
             [
              0.4444444444444444,
              "#bd3786"
             ],
             [
              0.5555555555555556,
              "#d8576b"
             ],
             [
              0.6666666666666666,
              "#ed7953"
             ],
             [
              0.7777777777777778,
              "#fb9f3a"
             ],
             [
              0.8888888888888888,
              "#fdca26"
             ],
             [
              1,
              "#f0f921"
             ]
            ],
            "type": "heatmap"
           }
          ],
          "heatmapgl": [
           {
            "colorbar": {
             "outlinewidth": 0,
             "ticks": ""
            },
            "colorscale": [
             [
              0,
              "#0d0887"
             ],
             [
              0.1111111111111111,
              "#46039f"
             ],
             [
              0.2222222222222222,
              "#7201a8"
             ],
             [
              0.3333333333333333,
              "#9c179e"
             ],
             [
              0.4444444444444444,
              "#bd3786"
             ],
             [
              0.5555555555555556,
              "#d8576b"
             ],
             [
              0.6666666666666666,
              "#ed7953"
             ],
             [
              0.7777777777777778,
              "#fb9f3a"
             ],
             [
              0.8888888888888888,
              "#fdca26"
             ],
             [
              1,
              "#f0f921"
             ]
            ],
            "type": "heatmapgl"
           }
          ],
          "histogram": [
           {
            "marker": {
             "colorbar": {
              "outlinewidth": 0,
              "ticks": ""
             }
            },
            "type": "histogram"
           }
          ],
          "histogram2d": [
           {
            "colorbar": {
             "outlinewidth": 0,
             "ticks": ""
            },
            "colorscale": [
             [
              0,
              "#0d0887"
             ],
             [
              0.1111111111111111,
              "#46039f"
             ],
             [
              0.2222222222222222,
              "#7201a8"
             ],
             [
              0.3333333333333333,
              "#9c179e"
             ],
             [
              0.4444444444444444,
              "#bd3786"
             ],
             [
              0.5555555555555556,
              "#d8576b"
             ],
             [
              0.6666666666666666,
              "#ed7953"
             ],
             [
              0.7777777777777778,
              "#fb9f3a"
             ],
             [
              0.8888888888888888,
              "#fdca26"
             ],
             [
              1,
              "#f0f921"
             ]
            ],
            "type": "histogram2d"
           }
          ],
          "histogram2dcontour": [
           {
            "colorbar": {
             "outlinewidth": 0,
             "ticks": ""
            },
            "colorscale": [
             [
              0,
              "#0d0887"
             ],
             [
              0.1111111111111111,
              "#46039f"
             ],
             [
              0.2222222222222222,
              "#7201a8"
             ],
             [
              0.3333333333333333,
              "#9c179e"
             ],
             [
              0.4444444444444444,
              "#bd3786"
             ],
             [
              0.5555555555555556,
              "#d8576b"
             ],
             [
              0.6666666666666666,
              "#ed7953"
             ],
             [
              0.7777777777777778,
              "#fb9f3a"
             ],
             [
              0.8888888888888888,
              "#fdca26"
             ],
             [
              1,
              "#f0f921"
             ]
            ],
            "type": "histogram2dcontour"
           }
          ],
          "mesh3d": [
           {
            "colorbar": {
             "outlinewidth": 0,
             "ticks": ""
            },
            "type": "mesh3d"
           }
          ],
          "parcoords": [
           {
            "line": {
             "colorbar": {
              "outlinewidth": 0,
              "ticks": ""
             }
            },
            "type": "parcoords"
           }
          ],
          "pie": [
           {
            "automargin": true,
            "type": "pie"
           }
          ],
          "scatter": [
           {
            "marker": {
             "colorbar": {
              "outlinewidth": 0,
              "ticks": ""
             }
            },
            "type": "scatter"
           }
          ],
          "scatter3d": [
           {
            "line": {
             "colorbar": {
              "outlinewidth": 0,
              "ticks": ""
             }
            },
            "marker": {
             "colorbar": {
              "outlinewidth": 0,
              "ticks": ""
             }
            },
            "type": "scatter3d"
           }
          ],
          "scattercarpet": [
           {
            "marker": {
             "colorbar": {
              "outlinewidth": 0,
              "ticks": ""
             }
            },
            "type": "scattercarpet"
           }
          ],
          "scattergeo": [
           {
            "marker": {
             "colorbar": {
              "outlinewidth": 0,
              "ticks": ""
             }
            },
            "type": "scattergeo"
           }
          ],
          "scattergl": [
           {
            "marker": {
             "colorbar": {
              "outlinewidth": 0,
              "ticks": ""
             }
            },
            "type": "scattergl"
           }
          ],
          "scattermapbox": [
           {
            "marker": {
             "colorbar": {
              "outlinewidth": 0,
              "ticks": ""
             }
            },
            "type": "scattermapbox"
           }
          ],
          "scatterpolar": [
           {
            "marker": {
             "colorbar": {
              "outlinewidth": 0,
              "ticks": ""
             }
            },
            "type": "scatterpolar"
           }
          ],
          "scatterpolargl": [
           {
            "marker": {
             "colorbar": {
              "outlinewidth": 0,
              "ticks": ""
             }
            },
            "type": "scatterpolargl"
           }
          ],
          "scatterternary": [
           {
            "marker": {
             "colorbar": {
              "outlinewidth": 0,
              "ticks": ""
             }
            },
            "type": "scatterternary"
           }
          ],
          "surface": [
           {
            "colorbar": {
             "outlinewidth": 0,
             "ticks": ""
            },
            "colorscale": [
             [
              0,
              "#0d0887"
             ],
             [
              0.1111111111111111,
              "#46039f"
             ],
             [
              0.2222222222222222,
              "#7201a8"
             ],
             [
              0.3333333333333333,
              "#9c179e"
             ],
             [
              0.4444444444444444,
              "#bd3786"
             ],
             [
              0.5555555555555556,
              "#d8576b"
             ],
             [
              0.6666666666666666,
              "#ed7953"
             ],
             [
              0.7777777777777778,
              "#fb9f3a"
             ],
             [
              0.8888888888888888,
              "#fdca26"
             ],
             [
              1,
              "#f0f921"
             ]
            ],
            "type": "surface"
           }
          ],
          "table": [
           {
            "cells": {
             "fill": {
              "color": "#EBF0F8"
             },
             "line": {
              "color": "white"
             }
            },
            "header": {
             "fill": {
              "color": "#C8D4E3"
             },
             "line": {
              "color": "white"
             }
            },
            "type": "table"
           }
          ]
         },
         "layout": {
          "annotationdefaults": {
           "arrowcolor": "#2a3f5f",
           "arrowhead": 0,
           "arrowwidth": 1
          },
          "coloraxis": {
           "colorbar": {
            "outlinewidth": 0,
            "ticks": ""
           }
          },
          "colorscale": {
           "diverging": [
            [
             0,
             "#8e0152"
            ],
            [
             0.1,
             "#c51b7d"
            ],
            [
             0.2,
             "#de77ae"
            ],
            [
             0.3,
             "#f1b6da"
            ],
            [
             0.4,
             "#fde0ef"
            ],
            [
             0.5,
             "#f7f7f7"
            ],
            [
             0.6,
             "#e6f5d0"
            ],
            [
             0.7,
             "#b8e186"
            ],
            [
             0.8,
             "#7fbc41"
            ],
            [
             0.9,
             "#4d9221"
            ],
            [
             1,
             "#276419"
            ]
           ],
           "sequential": [
            [
             0,
             "#0d0887"
            ],
            [
             0.1111111111111111,
             "#46039f"
            ],
            [
             0.2222222222222222,
             "#7201a8"
            ],
            [
             0.3333333333333333,
             "#9c179e"
            ],
            [
             0.4444444444444444,
             "#bd3786"
            ],
            [
             0.5555555555555556,
             "#d8576b"
            ],
            [
             0.6666666666666666,
             "#ed7953"
            ],
            [
             0.7777777777777778,
             "#fb9f3a"
            ],
            [
             0.8888888888888888,
             "#fdca26"
            ],
            [
             1,
             "#f0f921"
            ]
           ],
           "sequentialminus": [
            [
             0,
             "#0d0887"
            ],
            [
             0.1111111111111111,
             "#46039f"
            ],
            [
             0.2222222222222222,
             "#7201a8"
            ],
            [
             0.3333333333333333,
             "#9c179e"
            ],
            [
             0.4444444444444444,
             "#bd3786"
            ],
            [
             0.5555555555555556,
             "#d8576b"
            ],
            [
             0.6666666666666666,
             "#ed7953"
            ],
            [
             0.7777777777777778,
             "#fb9f3a"
            ],
            [
             0.8888888888888888,
             "#fdca26"
            ],
            [
             1,
             "#f0f921"
            ]
           ]
          },
          "colorway": [
           "#636efa",
           "#EF553B",
           "#00cc96",
           "#ab63fa",
           "#FFA15A",
           "#19d3f3",
           "#FF6692",
           "#B6E880",
           "#FF97FF",
           "#FECB52"
          ],
          "font": {
           "color": "#2a3f5f"
          },
          "geo": {
           "bgcolor": "white",
           "lakecolor": "white",
           "landcolor": "#E5ECF6",
           "showlakes": true,
           "showland": true,
           "subunitcolor": "white"
          },
          "hoverlabel": {
           "align": "left"
          },
          "hovermode": "closest",
          "mapbox": {
           "style": "light"
          },
          "paper_bgcolor": "white",
          "plot_bgcolor": "#E5ECF6",
          "polar": {
           "angularaxis": {
            "gridcolor": "white",
            "linecolor": "white",
            "ticks": ""
           },
           "bgcolor": "#E5ECF6",
           "radialaxis": {
            "gridcolor": "white",
            "linecolor": "white",
            "ticks": ""
           }
          },
          "scene": {
           "xaxis": {
            "backgroundcolor": "#E5ECF6",
            "gridcolor": "white",
            "gridwidth": 2,
            "linecolor": "white",
            "showbackground": true,
            "ticks": "",
            "zerolinecolor": "white"
           },
           "yaxis": {
            "backgroundcolor": "#E5ECF6",
            "gridcolor": "white",
            "gridwidth": 2,
            "linecolor": "white",
            "showbackground": true,
            "ticks": "",
            "zerolinecolor": "white"
           },
           "zaxis": {
            "backgroundcolor": "#E5ECF6",
            "gridcolor": "white",
            "gridwidth": 2,
            "linecolor": "white",
            "showbackground": true,
            "ticks": "",
            "zerolinecolor": "white"
           }
          },
          "shapedefaults": {
           "line": {
            "color": "#2a3f5f"
           }
          },
          "ternary": {
           "aaxis": {
            "gridcolor": "white",
            "linecolor": "white",
            "ticks": ""
           },
           "baxis": {
            "gridcolor": "white",
            "linecolor": "white",
            "ticks": ""
           },
           "bgcolor": "#E5ECF6",
           "caxis": {
            "gridcolor": "white",
            "linecolor": "white",
            "ticks": ""
           }
          },
          "title": {
           "x": 0.05
          },
          "xaxis": {
           "automargin": true,
           "gridcolor": "white",
           "linecolor": "white",
           "ticks": "",
           "title": {
            "standoff": 15
           },
           "zerolinecolor": "white",
           "zerolinewidth": 2
          },
          "yaxis": {
           "automargin": true,
           "gridcolor": "white",
           "linecolor": "white",
           "ticks": "",
           "title": {
            "standoff": 15
           },
           "zerolinecolor": "white",
           "zerolinewidth": 2
          }
         }
        },
        "xaxis": {
         "anchor": "y",
         "domain": [
          0,
          1
         ],
         "title": {
          "text": "Productivity"
         },
         "type": "log"
        },
        "yaxis": {
         "anchor": "x",
         "domain": [
          0,
          1
         ],
         "title": {
          "text": "CV"
         }
        }
       }
      },
      "text/html": [
       "<div>\n",
       "        \n",
       "        \n",
       "            <div id=\"6bc98f80-d246-49c5-ae0c-0786f43ed8c4\" class=\"plotly-graph-div\" style=\"height:525px; width:100%;\"></div>\n",
       "            <script type=\"text/javascript\">\n",
       "                require([\"plotly\"], function(Plotly) {\n",
       "                    window.PLOTLYENV=window.PLOTLYENV || {};\n",
       "                    \n",
       "                if (document.getElementById(\"6bc98f80-d246-49c5-ae0c-0786f43ed8c4\")) {\n",
       "                    Plotly.newPlot(\n",
       "                        '6bc98f80-d246-49c5-ae0c-0786f43ed8c4',\n",
       "                        [{\"hoverlabel\": {\"namelength\": 0}, \"hovertemplate\": \"<b>%{hovertext}</b><br><br>Team=News<br>Productivity=%{x}<br>CV=%{y}<br>Users=%{marker.size}\", \"hovertext\": [\"reporter1\", \"reporter2\", \"reporter3\", \"reporter4\", \"reporter7\", \"reporter10\", \"reporter13\", \"reporter15\", \"reporter17\", \"reporter18\", \"reporter19\", \"reporter21\", \"reporter22\", \"reporter23\", \"reporter24\", \"reporter25\", \"reporter27\", \"reporter29\", \"reporter31\", \"reporter33\", \"reporter35\", \"reporter36\", \"reporter37\", \"reporter38\", \"reporter39\", \"reporter41\", \"reporter42\", \"reporter43\", \"reporter45\", \"reporter47\", \"reporter48\", \"reporter49\", \"reporter50\", \"reporter51\", \"reporter52\", \"reporter53\", \"reporter55\", \"reporter58\", \"reporter63\", \"reporter65\", \"reporter68\", \"reporter69\", \"reporter70\", \"reporter71\", \"reporter74\", \"reporter75\", \"reporter76\", \"reporter77\", \"reporter78\", \"reporter79\", \"reporter81\", \"reporter82\", \"reporter88\", \"reporter89\", \"reporter91\"], \"legendgroup\": \"News\", \"marker\": {\"color\": \"#636efa\", \"size\": [8397483, 8602754, 5605578, 4806779, 4602489, 3759147, 3838321, 3337093, 4338116, 278516, 3507308, 3462339, 3067761, 3515539, 3101578, 3071640, 2474047, 1942461, 2335376, 2210381, 2360551, 2330972, 1929330, 2226304, 1858928, 1829373, 1826552, 1921500, 2775037, 1690020, 1589114, 1495599, 1487155, 1529913, 1046106, 1811427, 1616449, 1655880, 1228829, 1239268, 925595, 744130, 771380, 635576, 697417, 403281, 478358, 425223, 616370, 298286, 224412, 316740, 877868, 100292, 31197], \"sizemode\": \"area\", \"sizeref\": 2907.2891666666665, \"symbol\": \"circle\"}, \"mode\": \"markers\", \"name\": \"News\", \"showlegend\": true, \"type\": \"scatter\", \"x\": [1347, 684, 608, 555, 477, 415, 305, 348, 244, 213, 206, 229, 275, 214, 84, 345, 603, 316, 186, 223, 127, 160, 186, 174, 112, 166, 168, 177, 152, 152, 99, 154, 113, 86, 221, 112, 96, 173, 124, 109, 76, 62, 62, 86, 71, 31, 87, 89, 51, 25, 40, 47, 14, 7, 8], \"xaxis\": \"x\", \"y\": [32981448, 15239051, 15227333, 15129163, 11032010, 9931112, 8483893, 7830570, 7423919, 6725939, 6715653, 6581319, 6506326, 6413386, 6271736, 6054364, 5395767, 4746436, 4548830, 4464487, 4315746, 4275258, 4024236, 3995978, 3968698, 3938843, 3889447, 3722741, 3442594, 3247791, 3245435, 3186564, 3120293, 3106786, 3080586, 3076441, 2919604, 2666488, 2298984, 2197694, 2048102, 1494412, 1389167, 1367267, 764832, 732616, 670406, 578632, 429207, 415534, 375587, 350911, 104081, 87367, 31659], \"yaxis\": \"y\"}, {\"hoverlabel\": {\"namelength\": 0}, \"hovertemplate\": \"<b>%{hovertext}</b><br><br>Team=Pro Sports<br>Productivity=%{x}<br>CV=%{y}<br>Users=%{marker.size}\", \"hovertext\": [\"reporter5\", \"reporter6\", \"reporter8\", \"reporter9\", \"reporter11\", \"reporter12\", \"reporter14\", \"reporter16\", \"reporter20\", \"reporter26\", \"reporter28\", \"reporter30\", \"reporter32\", \"reporter34\", \"reporter46\", \"reporter56\", \"reporter83\"], \"legendgroup\": \"Pro Sports\", \"marker\": {\"color\": \"#EF553B\", \"size\": [2912920, 10466241, 3992132, 8205363, 5137170, 2119223, 2031770, 4249110, 3570942, 3087026, 2020916, 2126480, 1965884, 1260584, 1710315, 3296669, 264598], \"sizemode\": \"area\", \"sizeref\": 2907.2891666666665, \"symbol\": \"circle\"}, \"mode\": \"markers\", \"name\": \"Pro Sports\", \"showlegend\": true, \"type\": \"scatter\", \"x\": [1201, 3009, 1026, 1240, 709, 1055, 883, 1114, 1012, 1246, 1071, 391, 1181, 664, 185, 341, 65], \"xaxis\": \"x\", \"y\": [14449063, 13875398, 10493866, 10100263, 9284465, 8731923, 8308101, 7653566, 6693322, 5971873, 5039634, 4633493, 4485460, 4392585, 3325928, 2897260, 301061], \"yaxis\": \"y\"}, {\"hoverlabel\": {\"namelength\": 0}, \"hovertemplate\": \"<b>%{hovertext}</b><br><br>Team=Commerce<br>Productivity=%{x}<br>CV=%{y}<br>Users=%{marker.size}\", \"hovertext\": [\"reporter40\"], \"legendgroup\": \"Commerce\", \"marker\": {\"color\": \"#00cc96\", \"size\": [2316126], \"sizemode\": \"area\", \"sizeref\": 2907.2891666666665, \"symbol\": \"circle\"}, \"mode\": \"markers\", \"name\": \"Commerce\", \"showlegend\": true, \"type\": \"scatter\", \"x\": [209], \"xaxis\": \"x\", \"y\": [3963086], \"yaxis\": \"y\"}, {\"hoverlabel\": {\"namelength\": 0}, \"hovertemplate\": \"<b>%{hovertext}</b><br><br>Team=HS Sports<br>Productivity=%{x}<br>CV=%{y}<br>Users=%{marker.size}\", \"hovertext\": [\"reporter44\", \"reporter54\", \"reporter57\", \"reporter59\", \"reporter60\", \"reporter61\", \"reporter62\", \"reporter64\", \"reporter66\", \"reporter67\", \"reporter72\", \"reporter73\", \"reporter80\", \"reporter84\", \"reporter85\", \"reporter86\", \"reporter87\", \"reporter90\", \"reporter92\"], \"legendgroup\": \"HS Sports\", \"marker\": {\"color\": \"#ab63fa\", \"size\": [655071, 870837, 600362, 756696, 817105, 645025, 576991, 400044, 504970, 541620, 297039, 224646, 215624, 215568, 122367, 296829, 186926, 58568, 29805], \"sizemode\": \"area\", \"sizeref\": 2907.2891666666665, \"symbol\": \"circle\"}, \"mode\": \"markers\", \"name\": \"HS Sports\", \"showlegend\": true, \"type\": \"scatter\", \"x\": [1744, 896, 1078, 849, 795, 789, 659, 1188, 1017, 806, 969, 941, 655, 39, 226, 111, 205, 267, 53], \"xaxis\": \"x\", \"y\": [3480795, 2973911, 2668679, 2491960, 2331106, 2313381, 2306829, 2276027, 2188947, 2178883, 1123008, 1019768, 390632, 183553, 156464, 133516, 113428, 84589, 29688], \"yaxis\": \"y\"}],\n",
       "                        {\"legend\": {\"itemsizing\": \"constant\", \"title\": {\"text\": \"Team\"}, \"tracegroupgap\": 0}, \"margin\": {\"t\": 60}, \"template\": {\"data\": {\"bar\": [{\"error_x\": {\"color\": \"#2a3f5f\"}, \"error_y\": {\"color\": \"#2a3f5f\"}, \"marker\": {\"line\": {\"color\": \"#E5ECF6\", \"width\": 0.5}}, \"type\": \"bar\"}], \"barpolar\": [{\"marker\": {\"line\": {\"color\": \"#E5ECF6\", \"width\": 0.5}}, \"type\": \"barpolar\"}], \"carpet\": [{\"aaxis\": {\"endlinecolor\": \"#2a3f5f\", \"gridcolor\": \"white\", \"linecolor\": \"white\", \"minorgridcolor\": \"white\", \"startlinecolor\": \"#2a3f5f\"}, \"baxis\": {\"endlinecolor\": \"#2a3f5f\", \"gridcolor\": \"white\", \"linecolor\": \"white\", \"minorgridcolor\": \"white\", \"startlinecolor\": \"#2a3f5f\"}, \"type\": \"carpet\"}], \"choropleth\": [{\"colorbar\": {\"outlinewidth\": 0, \"ticks\": \"\"}, \"type\": \"choropleth\"}], \"contour\": [{\"colorbar\": {\"outlinewidth\": 0, \"ticks\": \"\"}, \"colorscale\": [[0.0, \"#0d0887\"], [0.1111111111111111, \"#46039f\"], [0.2222222222222222, \"#7201a8\"], [0.3333333333333333, \"#9c179e\"], [0.4444444444444444, \"#bd3786\"], [0.5555555555555556, \"#d8576b\"], [0.6666666666666666, \"#ed7953\"], [0.7777777777777778, \"#fb9f3a\"], [0.8888888888888888, \"#fdca26\"], [1.0, \"#f0f921\"]], \"type\": \"contour\"}], \"contourcarpet\": [{\"colorbar\": {\"outlinewidth\": 0, \"ticks\": \"\"}, \"type\": \"contourcarpet\"}], \"heatmap\": [{\"colorbar\": {\"outlinewidth\": 0, \"ticks\": \"\"}, \"colorscale\": [[0.0, \"#0d0887\"], [0.1111111111111111, \"#46039f\"], [0.2222222222222222, \"#7201a8\"], [0.3333333333333333, \"#9c179e\"], [0.4444444444444444, \"#bd3786\"], [0.5555555555555556, \"#d8576b\"], [0.6666666666666666, \"#ed7953\"], [0.7777777777777778, \"#fb9f3a\"], [0.8888888888888888, \"#fdca26\"], [1.0, \"#f0f921\"]], \"type\": \"heatmap\"}], \"heatmapgl\": [{\"colorbar\": {\"outlinewidth\": 0, \"ticks\": \"\"}, \"colorscale\": [[0.0, \"#0d0887\"], [0.1111111111111111, \"#46039f\"], [0.2222222222222222, \"#7201a8\"], [0.3333333333333333, \"#9c179e\"], [0.4444444444444444, \"#bd3786\"], [0.5555555555555556, \"#d8576b\"], [0.6666666666666666, \"#ed7953\"], [0.7777777777777778, \"#fb9f3a\"], [0.8888888888888888, \"#fdca26\"], [1.0, \"#f0f921\"]], \"type\": \"heatmapgl\"}], \"histogram\": [{\"marker\": {\"colorbar\": {\"outlinewidth\": 0, \"ticks\": \"\"}}, \"type\": \"histogram\"}], \"histogram2d\": [{\"colorbar\": {\"outlinewidth\": 0, \"ticks\": \"\"}, \"colorscale\": [[0.0, \"#0d0887\"], [0.1111111111111111, \"#46039f\"], [0.2222222222222222, \"#7201a8\"], [0.3333333333333333, \"#9c179e\"], [0.4444444444444444, \"#bd3786\"], [0.5555555555555556, \"#d8576b\"], [0.6666666666666666, \"#ed7953\"], [0.7777777777777778, \"#fb9f3a\"], [0.8888888888888888, \"#fdca26\"], [1.0, \"#f0f921\"]], \"type\": \"histogram2d\"}], \"histogram2dcontour\": [{\"colorbar\": {\"outlinewidth\": 0, \"ticks\": \"\"}, \"colorscale\": [[0.0, \"#0d0887\"], [0.1111111111111111, \"#46039f\"], [0.2222222222222222, \"#7201a8\"], [0.3333333333333333, \"#9c179e\"], [0.4444444444444444, \"#bd3786\"], [0.5555555555555556, \"#d8576b\"], [0.6666666666666666, \"#ed7953\"], [0.7777777777777778, \"#fb9f3a\"], [0.8888888888888888, \"#fdca26\"], [1.0, \"#f0f921\"]], \"type\": \"histogram2dcontour\"}], \"mesh3d\": [{\"colorbar\": {\"outlinewidth\": 0, \"ticks\": \"\"}, \"type\": \"mesh3d\"}], \"parcoords\": [{\"line\": {\"colorbar\": {\"outlinewidth\": 0, \"ticks\": \"\"}}, \"type\": \"parcoords\"}], \"pie\": [{\"automargin\": true, \"type\": \"pie\"}], \"scatter\": [{\"marker\": {\"colorbar\": {\"outlinewidth\": 0, \"ticks\": \"\"}}, \"type\": \"scatter\"}], \"scatter3d\": [{\"line\": {\"colorbar\": {\"outlinewidth\": 0, \"ticks\": \"\"}}, \"marker\": {\"colorbar\": {\"outlinewidth\": 0, \"ticks\": \"\"}}, \"type\": \"scatter3d\"}], \"scattercarpet\": [{\"marker\": {\"colorbar\": {\"outlinewidth\": 0, \"ticks\": \"\"}}, \"type\": \"scattercarpet\"}], \"scattergeo\": [{\"marker\": {\"colorbar\": {\"outlinewidth\": 0, \"ticks\": \"\"}}, \"type\": \"scattergeo\"}], \"scattergl\": [{\"marker\": {\"colorbar\": {\"outlinewidth\": 0, \"ticks\": \"\"}}, \"type\": \"scattergl\"}], \"scattermapbox\": [{\"marker\": {\"colorbar\": {\"outlinewidth\": 0, \"ticks\": \"\"}}, \"type\": \"scattermapbox\"}], \"scatterpolar\": [{\"marker\": {\"colorbar\": {\"outlinewidth\": 0, \"ticks\": \"\"}}, \"type\": \"scatterpolar\"}], \"scatterpolargl\": [{\"marker\": {\"colorbar\": {\"outlinewidth\": 0, \"ticks\": \"\"}}, \"type\": \"scatterpolargl\"}], \"scatterternary\": [{\"marker\": {\"colorbar\": {\"outlinewidth\": 0, \"ticks\": \"\"}}, \"type\": \"scatterternary\"}], \"surface\": [{\"colorbar\": {\"outlinewidth\": 0, \"ticks\": \"\"}, \"colorscale\": [[0.0, \"#0d0887\"], [0.1111111111111111, \"#46039f\"], [0.2222222222222222, \"#7201a8\"], [0.3333333333333333, \"#9c179e\"], [0.4444444444444444, \"#bd3786\"], [0.5555555555555556, \"#d8576b\"], [0.6666666666666666, \"#ed7953\"], [0.7777777777777778, \"#fb9f3a\"], [0.8888888888888888, \"#fdca26\"], [1.0, \"#f0f921\"]], \"type\": \"surface\"}], \"table\": [{\"cells\": {\"fill\": {\"color\": \"#EBF0F8\"}, \"line\": {\"color\": \"white\"}}, \"header\": {\"fill\": {\"color\": \"#C8D4E3\"}, \"line\": {\"color\": \"white\"}}, \"type\": \"table\"}]}, \"layout\": {\"annotationdefaults\": {\"arrowcolor\": \"#2a3f5f\", \"arrowhead\": 0, \"arrowwidth\": 1}, \"coloraxis\": {\"colorbar\": {\"outlinewidth\": 0, \"ticks\": \"\"}}, \"colorscale\": {\"diverging\": [[0, \"#8e0152\"], [0.1, \"#c51b7d\"], [0.2, \"#de77ae\"], [0.3, \"#f1b6da\"], [0.4, \"#fde0ef\"], [0.5, \"#f7f7f7\"], [0.6, \"#e6f5d0\"], [0.7, \"#b8e186\"], [0.8, \"#7fbc41\"], [0.9, \"#4d9221\"], [1, \"#276419\"]], \"sequential\": [[0.0, \"#0d0887\"], [0.1111111111111111, \"#46039f\"], [0.2222222222222222, \"#7201a8\"], [0.3333333333333333, \"#9c179e\"], [0.4444444444444444, \"#bd3786\"], [0.5555555555555556, \"#d8576b\"], [0.6666666666666666, \"#ed7953\"], [0.7777777777777778, \"#fb9f3a\"], [0.8888888888888888, \"#fdca26\"], [1.0, \"#f0f921\"]], \"sequentialminus\": [[0.0, \"#0d0887\"], [0.1111111111111111, \"#46039f\"], [0.2222222222222222, \"#7201a8\"], [0.3333333333333333, \"#9c179e\"], [0.4444444444444444, \"#bd3786\"], [0.5555555555555556, \"#d8576b\"], [0.6666666666666666, \"#ed7953\"], [0.7777777777777778, \"#fb9f3a\"], [0.8888888888888888, \"#fdca26\"], [1.0, \"#f0f921\"]]}, \"colorway\": [\"#636efa\", \"#EF553B\", \"#00cc96\", \"#ab63fa\", \"#FFA15A\", \"#19d3f3\", \"#FF6692\", \"#B6E880\", \"#FF97FF\", \"#FECB52\"], \"font\": {\"color\": \"#2a3f5f\"}, \"geo\": {\"bgcolor\": \"white\", \"lakecolor\": \"white\", \"landcolor\": \"#E5ECF6\", \"showlakes\": true, \"showland\": true, \"subunitcolor\": \"white\"}, \"hoverlabel\": {\"align\": \"left\"}, \"hovermode\": \"closest\", \"mapbox\": {\"style\": \"light\"}, \"paper_bgcolor\": \"white\", \"plot_bgcolor\": \"#E5ECF6\", \"polar\": {\"angularaxis\": {\"gridcolor\": \"white\", \"linecolor\": \"white\", \"ticks\": \"\"}, \"bgcolor\": \"#E5ECF6\", \"radialaxis\": {\"gridcolor\": \"white\", \"linecolor\": \"white\", \"ticks\": \"\"}}, \"scene\": {\"xaxis\": {\"backgroundcolor\": \"#E5ECF6\", \"gridcolor\": \"white\", \"gridwidth\": 2, \"linecolor\": \"white\", \"showbackground\": true, \"ticks\": \"\", \"zerolinecolor\": \"white\"}, \"yaxis\": {\"backgroundcolor\": \"#E5ECF6\", \"gridcolor\": \"white\", \"gridwidth\": 2, \"linecolor\": \"white\", \"showbackground\": true, \"ticks\": \"\", \"zerolinecolor\": \"white\"}, \"zaxis\": {\"backgroundcolor\": \"#E5ECF6\", \"gridcolor\": \"white\", \"gridwidth\": 2, \"linecolor\": \"white\", \"showbackground\": true, \"ticks\": \"\", \"zerolinecolor\": \"white\"}}, \"shapedefaults\": {\"line\": {\"color\": \"#2a3f5f\"}}, \"ternary\": {\"aaxis\": {\"gridcolor\": \"white\", \"linecolor\": \"white\", \"ticks\": \"\"}, \"baxis\": {\"gridcolor\": \"white\", \"linecolor\": \"white\", \"ticks\": \"\"}, \"bgcolor\": \"#E5ECF6\", \"caxis\": {\"gridcolor\": \"white\", \"linecolor\": \"white\", \"ticks\": \"\"}}, \"title\": {\"x\": 0.05}, \"xaxis\": {\"automargin\": true, \"gridcolor\": \"white\", \"linecolor\": \"white\", \"ticks\": \"\", \"title\": {\"standoff\": 15}, \"zerolinecolor\": \"white\", \"zerolinewidth\": 2}, \"yaxis\": {\"automargin\": true, \"gridcolor\": \"white\", \"linecolor\": \"white\", \"ticks\": \"\", \"title\": {\"standoff\": 15}, \"zerolinecolor\": \"white\", \"zerolinewidth\": 2}}}, \"xaxis\": {\"anchor\": \"y\", \"domain\": [0.0, 1.0], \"title\": {\"text\": \"Productivity\"}, \"type\": \"log\"}, \"yaxis\": {\"anchor\": \"x\", \"domain\": [0.0, 1.0], \"title\": {\"text\": \"CV\"}}},\n",
       "                        {\"responsive\": true}\n",
       "                    ).then(function(){\n",
       "                            \n",
       "var gd = document.getElementById('6bc98f80-d246-49c5-ae0c-0786f43ed8c4');\n",
       "var x = new MutationObserver(function (mutations, observer) {{\n",
       "        var display = window.getComputedStyle(gd).display;\n",
       "        if (!display || display === 'none') {{\n",
       "            console.log([gd, 'removed!']);\n",
       "            Plotly.purge(gd);\n",
       "            observer.disconnect();\n",
       "        }}\n",
       "}});\n",
       "\n",
       "// Listen for the removal of the full notebook cells\n",
       "var notebookContainer = gd.closest('#notebook-container');\n",
       "if (notebookContainer) {{\n",
       "    x.observe(notebookContainer, {childList: true});\n",
       "}}\n",
       "\n",
       "// Listen for the clearing of the current output cell\n",
       "var outputEl = gd.closest('.output');\n",
       "if (outputEl) {{\n",
       "    x.observe(outputEl, {childList: true});\n",
       "}}\n",
       "\n",
       "                        })\n",
       "                };\n",
       "                });\n",
       "            </script>\n",
       "        </div>"
      ]
     },
     "metadata": {},
     "output_type": "display_data"
    },
    {
     "data": {
      "text/plain": [
       "'Project 6- B- Studying employee performance bubble chart.html'"
      ]
     },
     "execution_count": 31,
     "metadata": {},
     "output_type": "execute_result"
    }
   ],
   "source": [
    "# Bubble chart\n",
    "\n",
    "fig = px.scatter(df, x=\"Productivity\", y=\"CV\", size='Users', color=\"Team\",\n",
    "           hover_name=\"ID Match\", log_x=True, size_max=60)\n",
    "fig.show()\n",
    "plotly.offline.plot(fig, filename='Project 6- B- Studying employee performance bubble chart.html')"
   ]
  },
  {
   "cell_type": "code",
   "execution_count": 32,
   "metadata": {},
   "outputs": [
    {
     "data": {
      "application/vnd.plotly.v1+json": {
       "config": {
        "plotlyServerURL": "https://plot.ly"
       },
       "data": [
        {
         "hoverlabel": {
          "namelength": 0
         },
         "hovertemplate": "<b>%{hovertext}</b><br><br>Team=News<br>Productivity=%{x}<br>CV=%{y}<br>Users=%{marker.size}",
         "hovertext": [
          "reporter2",
          "reporter3",
          "reporter4",
          "reporter7",
          "reporter10",
          "reporter13",
          "reporter15",
          "reporter17",
          "reporter18",
          "reporter19",
          "reporter21",
          "reporter22",
          "reporter23",
          "reporter24",
          "reporter25",
          "reporter27",
          "reporter29",
          "reporter31",
          "reporter33",
          "reporter35",
          "reporter36",
          "reporter37",
          "reporter38",
          "reporter39",
          "reporter41",
          "reporter42",
          "reporter43",
          "reporter45",
          "reporter47",
          "reporter48",
          "reporter49",
          "reporter50",
          "reporter51",
          "reporter52",
          "reporter53",
          "reporter55",
          "reporter58",
          "reporter63",
          "reporter65",
          "reporter68",
          "reporter69",
          "reporter70",
          "reporter71",
          "reporter74",
          "reporter75",
          "reporter76",
          "reporter77",
          "reporter78",
          "reporter79",
          "reporter81",
          "reporter82",
          "reporter88",
          "reporter89",
          "reporter91"
         ],
         "legendgroup": "News",
         "marker": {
          "color": "#636efa",
          "size": [
           8602754,
           5605578,
           4806779,
           4602489,
           3759147,
           3838321,
           3337093,
           4338116,
           278516,
           3507308,
           3462339,
           3067761,
           3515539,
           3101578,
           3071640,
           2474047,
           1942461,
           2335376,
           2210381,
           2360551,
           2330972,
           1929330,
           2226304,
           1858928,
           1829373,
           1826552,
           1921500,
           2775037,
           1690020,
           1589114,
           1495599,
           1487155,
           1529913,
           1046106,
           1811427,
           1616449,
           1655880,
           1228829,
           1239268,
           925595,
           744130,
           771380,
           635576,
           697417,
           403281,
           478358,
           425223,
           616370,
           298286,
           224412,
           316740,
           877868,
           100292,
           31197
          ],
          "sizemode": "area",
          "sizeref": 2907.2891666666665,
          "symbol": "circle"
         },
         "mode": "markers",
         "name": "News",
         "showlegend": true,
         "type": "scatter",
         "x": [
          684,
          608,
          555,
          477,
          415,
          305,
          348,
          244,
          213,
          206,
          229,
          275,
          214,
          84,
          345,
          603,
          316,
          186,
          223,
          127,
          160,
          186,
          174,
          112,
          166,
          168,
          177,
          152,
          152,
          99,
          154,
          113,
          86,
          221,
          112,
          96,
          173,
          124,
          109,
          76,
          62,
          62,
          86,
          71,
          31,
          87,
          89,
          51,
          25,
          40,
          47,
          14,
          7,
          8
         ],
         "xaxis": "x",
         "y": [
          15239051,
          15227333,
          15129163,
          11032010,
          9931112,
          8483893,
          7830570,
          7423919,
          6725939,
          6715653,
          6581319,
          6506326,
          6413386,
          6271736,
          6054364,
          5395767,
          4746436,
          4548830,
          4464487,
          4315746,
          4275258,
          4024236,
          3995978,
          3968698,
          3938843,
          3889447,
          3722741,
          3442594,
          3247791,
          3245435,
          3186564,
          3120293,
          3106786,
          3080586,
          3076441,
          2919604,
          2666488,
          2298984,
          2197694,
          2048102,
          1494412,
          1389167,
          1367267,
          764832,
          732616,
          670406,
          578632,
          429207,
          415534,
          375587,
          350911,
          104081,
          87367,
          31659
         ],
         "yaxis": "y"
        },
        {
         "hoverlabel": {
          "namelength": 0
         },
         "hovertemplate": "<b>%{hovertext}</b><br><br>Team=Pro Sports<br>Productivity=%{x}<br>CV=%{y}<br>Users=%{marker.size}",
         "hovertext": [
          "reporter5",
          "reporter6",
          "reporter8",
          "reporter9",
          "reporter11",
          "reporter12",
          "reporter14",
          "reporter16",
          "reporter20",
          "reporter26",
          "reporter28",
          "reporter30",
          "reporter32",
          "reporter34",
          "reporter46",
          "reporter56",
          "reporter83"
         ],
         "legendgroup": "Pro Sports",
         "marker": {
          "color": "#EF553B",
          "size": [
           2912920,
           10466241,
           3992132,
           8205363,
           5137170,
           2119223,
           2031770,
           4249110,
           3570942,
           3087026,
           2020916,
           2126480,
           1965884,
           1260584,
           1710315,
           3296669,
           264598
          ],
          "sizemode": "area",
          "sizeref": 2907.2891666666665,
          "symbol": "circle"
         },
         "mode": "markers",
         "name": "Pro Sports",
         "showlegend": true,
         "type": "scatter",
         "x": [
          1201,
          3009,
          1026,
          1240,
          709,
          1055,
          883,
          1114,
          1012,
          1246,
          1071,
          391,
          1181,
          664,
          185,
          341,
          65
         ],
         "xaxis": "x",
         "y": [
          14449063,
          13875398,
          10493866,
          10100263,
          9284465,
          8731923,
          8308101,
          7653566,
          6693322,
          5971873,
          5039634,
          4633493,
          4485460,
          4392585,
          3325928,
          2897260,
          301061
         ],
         "yaxis": "y"
        },
        {
         "hoverlabel": {
          "namelength": 0
         },
         "hovertemplate": "<b>%{hovertext}</b><br><br>Team=Commerce<br>Productivity=%{x}<br>CV=%{y}<br>Users=%{marker.size}",
         "hovertext": [
          "reporter40"
         ],
         "legendgroup": "Commerce",
         "marker": {
          "color": "#00cc96",
          "size": [
           2316126
          ],
          "sizemode": "area",
          "sizeref": 2907.2891666666665,
          "symbol": "circle"
         },
         "mode": "markers",
         "name": "Commerce",
         "showlegend": true,
         "type": "scatter",
         "x": [
          209
         ],
         "xaxis": "x",
         "y": [
          3963086
         ],
         "yaxis": "y"
        },
        {
         "hoverlabel": {
          "namelength": 0
         },
         "hovertemplate": "<b>%{hovertext}</b><br><br>Team=HS Sports<br>Productivity=%{x}<br>CV=%{y}<br>Users=%{marker.size}",
         "hovertext": [
          "reporter44",
          "reporter54",
          "reporter57",
          "reporter59",
          "reporter60",
          "reporter61",
          "reporter62",
          "reporter64",
          "reporter66",
          "reporter67",
          "reporter72",
          "reporter73",
          "reporter80",
          "reporter84",
          "reporter85",
          "reporter86",
          "reporter87",
          "reporter90",
          "reporter92"
         ],
         "legendgroup": "HS Sports",
         "marker": {
          "color": "#ab63fa",
          "size": [
           655071,
           870837,
           600362,
           756696,
           817105,
           645025,
           576991,
           400044,
           504970,
           541620,
           297039,
           224646,
           215624,
           215568,
           122367,
           296829,
           186926,
           58568,
           29805
          ],
          "sizemode": "area",
          "sizeref": 2907.2891666666665,
          "symbol": "circle"
         },
         "mode": "markers",
         "name": "HS Sports",
         "showlegend": true,
         "type": "scatter",
         "x": [
          1744,
          896,
          1078,
          849,
          795,
          789,
          659,
          1188,
          1017,
          806,
          969,
          941,
          655,
          39,
          226,
          111,
          205,
          267,
          53
         ],
         "xaxis": "x",
         "y": [
          3480795,
          2973911,
          2668679,
          2491960,
          2331106,
          2313381,
          2306829,
          2276027,
          2188947,
          2178883,
          1123008,
          1019768,
          390632,
          183553,
          156464,
          133516,
          113428,
          84589,
          29688
         ],
         "yaxis": "y"
        }
       ],
       "layout": {
        "legend": {
         "itemsizing": "constant",
         "title": {
          "text": "Team"
         },
         "tracegroupgap": 0
        },
        "margin": {
         "t": 60
        },
        "template": {
         "data": {
          "bar": [
           {
            "error_x": {
             "color": "#2a3f5f"
            },
            "error_y": {
             "color": "#2a3f5f"
            },
            "marker": {
             "line": {
              "color": "#E5ECF6",
              "width": 0.5
             }
            },
            "type": "bar"
           }
          ],
          "barpolar": [
           {
            "marker": {
             "line": {
              "color": "#E5ECF6",
              "width": 0.5
             }
            },
            "type": "barpolar"
           }
          ],
          "carpet": [
           {
            "aaxis": {
             "endlinecolor": "#2a3f5f",
             "gridcolor": "white",
             "linecolor": "white",
             "minorgridcolor": "white",
             "startlinecolor": "#2a3f5f"
            },
            "baxis": {
             "endlinecolor": "#2a3f5f",
             "gridcolor": "white",
             "linecolor": "white",
             "minorgridcolor": "white",
             "startlinecolor": "#2a3f5f"
            },
            "type": "carpet"
           }
          ],
          "choropleth": [
           {
            "colorbar": {
             "outlinewidth": 0,
             "ticks": ""
            },
            "type": "choropleth"
           }
          ],
          "contour": [
           {
            "colorbar": {
             "outlinewidth": 0,
             "ticks": ""
            },
            "colorscale": [
             [
              0,
              "#0d0887"
             ],
             [
              0.1111111111111111,
              "#46039f"
             ],
             [
              0.2222222222222222,
              "#7201a8"
             ],
             [
              0.3333333333333333,
              "#9c179e"
             ],
             [
              0.4444444444444444,
              "#bd3786"
             ],
             [
              0.5555555555555556,
              "#d8576b"
             ],
             [
              0.6666666666666666,
              "#ed7953"
             ],
             [
              0.7777777777777778,
              "#fb9f3a"
             ],
             [
              0.8888888888888888,
              "#fdca26"
             ],
             [
              1,
              "#f0f921"
             ]
            ],
            "type": "contour"
           }
          ],
          "contourcarpet": [
           {
            "colorbar": {
             "outlinewidth": 0,
             "ticks": ""
            },
            "type": "contourcarpet"
           }
          ],
          "heatmap": [
           {
            "colorbar": {
             "outlinewidth": 0,
             "ticks": ""
            },
            "colorscale": [
             [
              0,
              "#0d0887"
             ],
             [
              0.1111111111111111,
              "#46039f"
             ],
             [
              0.2222222222222222,
              "#7201a8"
             ],
             [
              0.3333333333333333,
              "#9c179e"
             ],
             [
              0.4444444444444444,
              "#bd3786"
             ],
             [
              0.5555555555555556,
              "#d8576b"
             ],
             [
              0.6666666666666666,
              "#ed7953"
             ],
             [
              0.7777777777777778,
              "#fb9f3a"
             ],
             [
              0.8888888888888888,
              "#fdca26"
             ],
             [
              1,
              "#f0f921"
             ]
            ],
            "type": "heatmap"
           }
          ],
          "heatmapgl": [
           {
            "colorbar": {
             "outlinewidth": 0,
             "ticks": ""
            },
            "colorscale": [
             [
              0,
              "#0d0887"
             ],
             [
              0.1111111111111111,
              "#46039f"
             ],
             [
              0.2222222222222222,
              "#7201a8"
             ],
             [
              0.3333333333333333,
              "#9c179e"
             ],
             [
              0.4444444444444444,
              "#bd3786"
             ],
             [
              0.5555555555555556,
              "#d8576b"
             ],
             [
              0.6666666666666666,
              "#ed7953"
             ],
             [
              0.7777777777777778,
              "#fb9f3a"
             ],
             [
              0.8888888888888888,
              "#fdca26"
             ],
             [
              1,
              "#f0f921"
             ]
            ],
            "type": "heatmapgl"
           }
          ],
          "histogram": [
           {
            "marker": {
             "colorbar": {
              "outlinewidth": 0,
              "ticks": ""
             }
            },
            "type": "histogram"
           }
          ],
          "histogram2d": [
           {
            "colorbar": {
             "outlinewidth": 0,
             "ticks": ""
            },
            "colorscale": [
             [
              0,
              "#0d0887"
             ],
             [
              0.1111111111111111,
              "#46039f"
             ],
             [
              0.2222222222222222,
              "#7201a8"
             ],
             [
              0.3333333333333333,
              "#9c179e"
             ],
             [
              0.4444444444444444,
              "#bd3786"
             ],
             [
              0.5555555555555556,
              "#d8576b"
             ],
             [
              0.6666666666666666,
              "#ed7953"
             ],
             [
              0.7777777777777778,
              "#fb9f3a"
             ],
             [
              0.8888888888888888,
              "#fdca26"
             ],
             [
              1,
              "#f0f921"
             ]
            ],
            "type": "histogram2d"
           }
          ],
          "histogram2dcontour": [
           {
            "colorbar": {
             "outlinewidth": 0,
             "ticks": ""
            },
            "colorscale": [
             [
              0,
              "#0d0887"
             ],
             [
              0.1111111111111111,
              "#46039f"
             ],
             [
              0.2222222222222222,
              "#7201a8"
             ],
             [
              0.3333333333333333,
              "#9c179e"
             ],
             [
              0.4444444444444444,
              "#bd3786"
             ],
             [
              0.5555555555555556,
              "#d8576b"
             ],
             [
              0.6666666666666666,
              "#ed7953"
             ],
             [
              0.7777777777777778,
              "#fb9f3a"
             ],
             [
              0.8888888888888888,
              "#fdca26"
             ],
             [
              1,
              "#f0f921"
             ]
            ],
            "type": "histogram2dcontour"
           }
          ],
          "mesh3d": [
           {
            "colorbar": {
             "outlinewidth": 0,
             "ticks": ""
            },
            "type": "mesh3d"
           }
          ],
          "parcoords": [
           {
            "line": {
             "colorbar": {
              "outlinewidth": 0,
              "ticks": ""
             }
            },
            "type": "parcoords"
           }
          ],
          "pie": [
           {
            "automargin": true,
            "type": "pie"
           }
          ],
          "scatter": [
           {
            "marker": {
             "colorbar": {
              "outlinewidth": 0,
              "ticks": ""
             }
            },
            "type": "scatter"
           }
          ],
          "scatter3d": [
           {
            "line": {
             "colorbar": {
              "outlinewidth": 0,
              "ticks": ""
             }
            },
            "marker": {
             "colorbar": {
              "outlinewidth": 0,
              "ticks": ""
             }
            },
            "type": "scatter3d"
           }
          ],
          "scattercarpet": [
           {
            "marker": {
             "colorbar": {
              "outlinewidth": 0,
              "ticks": ""
             }
            },
            "type": "scattercarpet"
           }
          ],
          "scattergeo": [
           {
            "marker": {
             "colorbar": {
              "outlinewidth": 0,
              "ticks": ""
             }
            },
            "type": "scattergeo"
           }
          ],
          "scattergl": [
           {
            "marker": {
             "colorbar": {
              "outlinewidth": 0,
              "ticks": ""
             }
            },
            "type": "scattergl"
           }
          ],
          "scattermapbox": [
           {
            "marker": {
             "colorbar": {
              "outlinewidth": 0,
              "ticks": ""
             }
            },
            "type": "scattermapbox"
           }
          ],
          "scatterpolar": [
           {
            "marker": {
             "colorbar": {
              "outlinewidth": 0,
              "ticks": ""
             }
            },
            "type": "scatterpolar"
           }
          ],
          "scatterpolargl": [
           {
            "marker": {
             "colorbar": {
              "outlinewidth": 0,
              "ticks": ""
             }
            },
            "type": "scatterpolargl"
           }
          ],
          "scatterternary": [
           {
            "marker": {
             "colorbar": {
              "outlinewidth": 0,
              "ticks": ""
             }
            },
            "type": "scatterternary"
           }
          ],
          "surface": [
           {
            "colorbar": {
             "outlinewidth": 0,
             "ticks": ""
            },
            "colorscale": [
             [
              0,
              "#0d0887"
             ],
             [
              0.1111111111111111,
              "#46039f"
             ],
             [
              0.2222222222222222,
              "#7201a8"
             ],
             [
              0.3333333333333333,
              "#9c179e"
             ],
             [
              0.4444444444444444,
              "#bd3786"
             ],
             [
              0.5555555555555556,
              "#d8576b"
             ],
             [
              0.6666666666666666,
              "#ed7953"
             ],
             [
              0.7777777777777778,
              "#fb9f3a"
             ],
             [
              0.8888888888888888,
              "#fdca26"
             ],
             [
              1,
              "#f0f921"
             ]
            ],
            "type": "surface"
           }
          ],
          "table": [
           {
            "cells": {
             "fill": {
              "color": "#EBF0F8"
             },
             "line": {
              "color": "white"
             }
            },
            "header": {
             "fill": {
              "color": "#C8D4E3"
             },
             "line": {
              "color": "white"
             }
            },
            "type": "table"
           }
          ]
         },
         "layout": {
          "annotationdefaults": {
           "arrowcolor": "#2a3f5f",
           "arrowhead": 0,
           "arrowwidth": 1
          },
          "coloraxis": {
           "colorbar": {
            "outlinewidth": 0,
            "ticks": ""
           }
          },
          "colorscale": {
           "diverging": [
            [
             0,
             "#8e0152"
            ],
            [
             0.1,
             "#c51b7d"
            ],
            [
             0.2,
             "#de77ae"
            ],
            [
             0.3,
             "#f1b6da"
            ],
            [
             0.4,
             "#fde0ef"
            ],
            [
             0.5,
             "#f7f7f7"
            ],
            [
             0.6,
             "#e6f5d0"
            ],
            [
             0.7,
             "#b8e186"
            ],
            [
             0.8,
             "#7fbc41"
            ],
            [
             0.9,
             "#4d9221"
            ],
            [
             1,
             "#276419"
            ]
           ],
           "sequential": [
            [
             0,
             "#0d0887"
            ],
            [
             0.1111111111111111,
             "#46039f"
            ],
            [
             0.2222222222222222,
             "#7201a8"
            ],
            [
             0.3333333333333333,
             "#9c179e"
            ],
            [
             0.4444444444444444,
             "#bd3786"
            ],
            [
             0.5555555555555556,
             "#d8576b"
            ],
            [
             0.6666666666666666,
             "#ed7953"
            ],
            [
             0.7777777777777778,
             "#fb9f3a"
            ],
            [
             0.8888888888888888,
             "#fdca26"
            ],
            [
             1,
             "#f0f921"
            ]
           ],
           "sequentialminus": [
            [
             0,
             "#0d0887"
            ],
            [
             0.1111111111111111,
             "#46039f"
            ],
            [
             0.2222222222222222,
             "#7201a8"
            ],
            [
             0.3333333333333333,
             "#9c179e"
            ],
            [
             0.4444444444444444,
             "#bd3786"
            ],
            [
             0.5555555555555556,
             "#d8576b"
            ],
            [
             0.6666666666666666,
             "#ed7953"
            ],
            [
             0.7777777777777778,
             "#fb9f3a"
            ],
            [
             0.8888888888888888,
             "#fdca26"
            ],
            [
             1,
             "#f0f921"
            ]
           ]
          },
          "colorway": [
           "#636efa",
           "#EF553B",
           "#00cc96",
           "#ab63fa",
           "#FFA15A",
           "#19d3f3",
           "#FF6692",
           "#B6E880",
           "#FF97FF",
           "#FECB52"
          ],
          "font": {
           "color": "#2a3f5f"
          },
          "geo": {
           "bgcolor": "white",
           "lakecolor": "white",
           "landcolor": "#E5ECF6",
           "showlakes": true,
           "showland": true,
           "subunitcolor": "white"
          },
          "hoverlabel": {
           "align": "left"
          },
          "hovermode": "closest",
          "mapbox": {
           "style": "light"
          },
          "paper_bgcolor": "white",
          "plot_bgcolor": "#E5ECF6",
          "polar": {
           "angularaxis": {
            "gridcolor": "white",
            "linecolor": "white",
            "ticks": ""
           },
           "bgcolor": "#E5ECF6",
           "radialaxis": {
            "gridcolor": "white",
            "linecolor": "white",
            "ticks": ""
           }
          },
          "scene": {
           "xaxis": {
            "backgroundcolor": "#E5ECF6",
            "gridcolor": "white",
            "gridwidth": 2,
            "linecolor": "white",
            "showbackground": true,
            "ticks": "",
            "zerolinecolor": "white"
           },
           "yaxis": {
            "backgroundcolor": "#E5ECF6",
            "gridcolor": "white",
            "gridwidth": 2,
            "linecolor": "white",
            "showbackground": true,
            "ticks": "",
            "zerolinecolor": "white"
           },
           "zaxis": {
            "backgroundcolor": "#E5ECF6",
            "gridcolor": "white",
            "gridwidth": 2,
            "linecolor": "white",
            "showbackground": true,
            "ticks": "",
            "zerolinecolor": "white"
           }
          },
          "shapedefaults": {
           "line": {
            "color": "#2a3f5f"
           }
          },
          "ternary": {
           "aaxis": {
            "gridcolor": "white",
            "linecolor": "white",
            "ticks": ""
           },
           "baxis": {
            "gridcolor": "white",
            "linecolor": "white",
            "ticks": ""
           },
           "bgcolor": "#E5ECF6",
           "caxis": {
            "gridcolor": "white",
            "linecolor": "white",
            "ticks": ""
           }
          },
          "title": {
           "x": 0.05
          },
          "xaxis": {
           "automargin": true,
           "gridcolor": "white",
           "linecolor": "white",
           "ticks": "",
           "title": {
            "standoff": 15
           },
           "zerolinecolor": "white",
           "zerolinewidth": 2
          },
          "yaxis": {
           "automargin": true,
           "gridcolor": "white",
           "linecolor": "white",
           "ticks": "",
           "title": {
            "standoff": 15
           },
           "zerolinecolor": "white",
           "zerolinewidth": 2
          }
         }
        },
        "xaxis": {
         "anchor": "y",
         "domain": [
          0,
          1
         ],
         "title": {
          "text": "Productivity"
         },
         "type": "log"
        },
        "yaxis": {
         "anchor": "x",
         "domain": [
          0,
          1
         ],
         "title": {
          "text": "CV"
         }
        }
       }
      },
      "text/html": [
       "<div>\n",
       "        \n",
       "        \n",
       "            <div id=\"22d3d7b4-5919-484e-b300-fa21334d3b38\" class=\"plotly-graph-div\" style=\"height:525px; width:100%;\"></div>\n",
       "            <script type=\"text/javascript\">\n",
       "                require([\"plotly\"], function(Plotly) {\n",
       "                    window.PLOTLYENV=window.PLOTLYENV || {};\n",
       "                    \n",
       "                if (document.getElementById(\"22d3d7b4-5919-484e-b300-fa21334d3b38\")) {\n",
       "                    Plotly.newPlot(\n",
       "                        '22d3d7b4-5919-484e-b300-fa21334d3b38',\n",
       "                        [{\"hoverlabel\": {\"namelength\": 0}, \"hovertemplate\": \"<b>%{hovertext}</b><br><br>Team=News<br>Productivity=%{x}<br>CV=%{y}<br>Users=%{marker.size}\", \"hovertext\": [\"reporter2\", \"reporter3\", \"reporter4\", \"reporter7\", \"reporter10\", \"reporter13\", \"reporter15\", \"reporter17\", \"reporter18\", \"reporter19\", \"reporter21\", \"reporter22\", \"reporter23\", \"reporter24\", \"reporter25\", \"reporter27\", \"reporter29\", \"reporter31\", \"reporter33\", \"reporter35\", \"reporter36\", \"reporter37\", \"reporter38\", \"reporter39\", \"reporter41\", \"reporter42\", \"reporter43\", \"reporter45\", \"reporter47\", \"reporter48\", \"reporter49\", \"reporter50\", \"reporter51\", \"reporter52\", \"reporter53\", \"reporter55\", \"reporter58\", \"reporter63\", \"reporter65\", \"reporter68\", \"reporter69\", \"reporter70\", \"reporter71\", \"reporter74\", \"reporter75\", \"reporter76\", \"reporter77\", \"reporter78\", \"reporter79\", \"reporter81\", \"reporter82\", \"reporter88\", \"reporter89\", \"reporter91\"], \"legendgroup\": \"News\", \"marker\": {\"color\": \"#636efa\", \"size\": [8602754, 5605578, 4806779, 4602489, 3759147, 3838321, 3337093, 4338116, 278516, 3507308, 3462339, 3067761, 3515539, 3101578, 3071640, 2474047, 1942461, 2335376, 2210381, 2360551, 2330972, 1929330, 2226304, 1858928, 1829373, 1826552, 1921500, 2775037, 1690020, 1589114, 1495599, 1487155, 1529913, 1046106, 1811427, 1616449, 1655880, 1228829, 1239268, 925595, 744130, 771380, 635576, 697417, 403281, 478358, 425223, 616370, 298286, 224412, 316740, 877868, 100292, 31197], \"sizemode\": \"area\", \"sizeref\": 2907.2891666666665, \"symbol\": \"circle\"}, \"mode\": \"markers\", \"name\": \"News\", \"showlegend\": true, \"type\": \"scatter\", \"x\": [684, 608, 555, 477, 415, 305, 348, 244, 213, 206, 229, 275, 214, 84, 345, 603, 316, 186, 223, 127, 160, 186, 174, 112, 166, 168, 177, 152, 152, 99, 154, 113, 86, 221, 112, 96, 173, 124, 109, 76, 62, 62, 86, 71, 31, 87, 89, 51, 25, 40, 47, 14, 7, 8], \"xaxis\": \"x\", \"y\": [15239051, 15227333, 15129163, 11032010, 9931112, 8483893, 7830570, 7423919, 6725939, 6715653, 6581319, 6506326, 6413386, 6271736, 6054364, 5395767, 4746436, 4548830, 4464487, 4315746, 4275258, 4024236, 3995978, 3968698, 3938843, 3889447, 3722741, 3442594, 3247791, 3245435, 3186564, 3120293, 3106786, 3080586, 3076441, 2919604, 2666488, 2298984, 2197694, 2048102, 1494412, 1389167, 1367267, 764832, 732616, 670406, 578632, 429207, 415534, 375587, 350911, 104081, 87367, 31659], \"yaxis\": \"y\"}, {\"hoverlabel\": {\"namelength\": 0}, \"hovertemplate\": \"<b>%{hovertext}</b><br><br>Team=Pro Sports<br>Productivity=%{x}<br>CV=%{y}<br>Users=%{marker.size}\", \"hovertext\": [\"reporter5\", \"reporter6\", \"reporter8\", \"reporter9\", \"reporter11\", \"reporter12\", \"reporter14\", \"reporter16\", \"reporter20\", \"reporter26\", \"reporter28\", \"reporter30\", \"reporter32\", \"reporter34\", \"reporter46\", \"reporter56\", \"reporter83\"], \"legendgroup\": \"Pro Sports\", \"marker\": {\"color\": \"#EF553B\", \"size\": [2912920, 10466241, 3992132, 8205363, 5137170, 2119223, 2031770, 4249110, 3570942, 3087026, 2020916, 2126480, 1965884, 1260584, 1710315, 3296669, 264598], \"sizemode\": \"area\", \"sizeref\": 2907.2891666666665, \"symbol\": \"circle\"}, \"mode\": \"markers\", \"name\": \"Pro Sports\", \"showlegend\": true, \"type\": \"scatter\", \"x\": [1201, 3009, 1026, 1240, 709, 1055, 883, 1114, 1012, 1246, 1071, 391, 1181, 664, 185, 341, 65], \"xaxis\": \"x\", \"y\": [14449063, 13875398, 10493866, 10100263, 9284465, 8731923, 8308101, 7653566, 6693322, 5971873, 5039634, 4633493, 4485460, 4392585, 3325928, 2897260, 301061], \"yaxis\": \"y\"}, {\"hoverlabel\": {\"namelength\": 0}, \"hovertemplate\": \"<b>%{hovertext}</b><br><br>Team=Commerce<br>Productivity=%{x}<br>CV=%{y}<br>Users=%{marker.size}\", \"hovertext\": [\"reporter40\"], \"legendgroup\": \"Commerce\", \"marker\": {\"color\": \"#00cc96\", \"size\": [2316126], \"sizemode\": \"area\", \"sizeref\": 2907.2891666666665, \"symbol\": \"circle\"}, \"mode\": \"markers\", \"name\": \"Commerce\", \"showlegend\": true, \"type\": \"scatter\", \"x\": [209], \"xaxis\": \"x\", \"y\": [3963086], \"yaxis\": \"y\"}, {\"hoverlabel\": {\"namelength\": 0}, \"hovertemplate\": \"<b>%{hovertext}</b><br><br>Team=HS Sports<br>Productivity=%{x}<br>CV=%{y}<br>Users=%{marker.size}\", \"hovertext\": [\"reporter44\", \"reporter54\", \"reporter57\", \"reporter59\", \"reporter60\", \"reporter61\", \"reporter62\", \"reporter64\", \"reporter66\", \"reporter67\", \"reporter72\", \"reporter73\", \"reporter80\", \"reporter84\", \"reporter85\", \"reporter86\", \"reporter87\", \"reporter90\", \"reporter92\"], \"legendgroup\": \"HS Sports\", \"marker\": {\"color\": \"#ab63fa\", \"size\": [655071, 870837, 600362, 756696, 817105, 645025, 576991, 400044, 504970, 541620, 297039, 224646, 215624, 215568, 122367, 296829, 186926, 58568, 29805], \"sizemode\": \"area\", \"sizeref\": 2907.2891666666665, \"symbol\": \"circle\"}, \"mode\": \"markers\", \"name\": \"HS Sports\", \"showlegend\": true, \"type\": \"scatter\", \"x\": [1744, 896, 1078, 849, 795, 789, 659, 1188, 1017, 806, 969, 941, 655, 39, 226, 111, 205, 267, 53], \"xaxis\": \"x\", \"y\": [3480795, 2973911, 2668679, 2491960, 2331106, 2313381, 2306829, 2276027, 2188947, 2178883, 1123008, 1019768, 390632, 183553, 156464, 133516, 113428, 84589, 29688], \"yaxis\": \"y\"}],\n",
       "                        {\"legend\": {\"itemsizing\": \"constant\", \"title\": {\"text\": \"Team\"}, \"tracegroupgap\": 0}, \"margin\": {\"t\": 60}, \"template\": {\"data\": {\"bar\": [{\"error_x\": {\"color\": \"#2a3f5f\"}, \"error_y\": {\"color\": \"#2a3f5f\"}, \"marker\": {\"line\": {\"color\": \"#E5ECF6\", \"width\": 0.5}}, \"type\": \"bar\"}], \"barpolar\": [{\"marker\": {\"line\": {\"color\": \"#E5ECF6\", \"width\": 0.5}}, \"type\": \"barpolar\"}], \"carpet\": [{\"aaxis\": {\"endlinecolor\": \"#2a3f5f\", \"gridcolor\": \"white\", \"linecolor\": \"white\", \"minorgridcolor\": \"white\", \"startlinecolor\": \"#2a3f5f\"}, \"baxis\": {\"endlinecolor\": \"#2a3f5f\", \"gridcolor\": \"white\", \"linecolor\": \"white\", \"minorgridcolor\": \"white\", \"startlinecolor\": \"#2a3f5f\"}, \"type\": \"carpet\"}], \"choropleth\": [{\"colorbar\": {\"outlinewidth\": 0, \"ticks\": \"\"}, \"type\": \"choropleth\"}], \"contour\": [{\"colorbar\": {\"outlinewidth\": 0, \"ticks\": \"\"}, \"colorscale\": [[0.0, \"#0d0887\"], [0.1111111111111111, \"#46039f\"], [0.2222222222222222, \"#7201a8\"], [0.3333333333333333, \"#9c179e\"], [0.4444444444444444, \"#bd3786\"], [0.5555555555555556, \"#d8576b\"], [0.6666666666666666, \"#ed7953\"], [0.7777777777777778, \"#fb9f3a\"], [0.8888888888888888, \"#fdca26\"], [1.0, \"#f0f921\"]], \"type\": \"contour\"}], \"contourcarpet\": [{\"colorbar\": {\"outlinewidth\": 0, \"ticks\": \"\"}, \"type\": \"contourcarpet\"}], \"heatmap\": [{\"colorbar\": {\"outlinewidth\": 0, \"ticks\": \"\"}, \"colorscale\": [[0.0, \"#0d0887\"], [0.1111111111111111, \"#46039f\"], [0.2222222222222222, \"#7201a8\"], [0.3333333333333333, \"#9c179e\"], [0.4444444444444444, \"#bd3786\"], [0.5555555555555556, \"#d8576b\"], [0.6666666666666666, \"#ed7953\"], [0.7777777777777778, \"#fb9f3a\"], [0.8888888888888888, \"#fdca26\"], [1.0, \"#f0f921\"]], \"type\": \"heatmap\"}], \"heatmapgl\": [{\"colorbar\": {\"outlinewidth\": 0, \"ticks\": \"\"}, \"colorscale\": [[0.0, \"#0d0887\"], [0.1111111111111111, \"#46039f\"], [0.2222222222222222, \"#7201a8\"], [0.3333333333333333, \"#9c179e\"], [0.4444444444444444, \"#bd3786\"], [0.5555555555555556, \"#d8576b\"], [0.6666666666666666, \"#ed7953\"], [0.7777777777777778, \"#fb9f3a\"], [0.8888888888888888, \"#fdca26\"], [1.0, \"#f0f921\"]], \"type\": \"heatmapgl\"}], \"histogram\": [{\"marker\": {\"colorbar\": {\"outlinewidth\": 0, \"ticks\": \"\"}}, \"type\": \"histogram\"}], \"histogram2d\": [{\"colorbar\": {\"outlinewidth\": 0, \"ticks\": \"\"}, \"colorscale\": [[0.0, \"#0d0887\"], [0.1111111111111111, \"#46039f\"], [0.2222222222222222, \"#7201a8\"], [0.3333333333333333, \"#9c179e\"], [0.4444444444444444, \"#bd3786\"], [0.5555555555555556, \"#d8576b\"], [0.6666666666666666, \"#ed7953\"], [0.7777777777777778, \"#fb9f3a\"], [0.8888888888888888, \"#fdca26\"], [1.0, \"#f0f921\"]], \"type\": \"histogram2d\"}], \"histogram2dcontour\": [{\"colorbar\": {\"outlinewidth\": 0, \"ticks\": \"\"}, \"colorscale\": [[0.0, \"#0d0887\"], [0.1111111111111111, \"#46039f\"], [0.2222222222222222, \"#7201a8\"], [0.3333333333333333, \"#9c179e\"], [0.4444444444444444, \"#bd3786\"], [0.5555555555555556, \"#d8576b\"], [0.6666666666666666, \"#ed7953\"], [0.7777777777777778, \"#fb9f3a\"], [0.8888888888888888, \"#fdca26\"], [1.0, \"#f0f921\"]], \"type\": \"histogram2dcontour\"}], \"mesh3d\": [{\"colorbar\": {\"outlinewidth\": 0, \"ticks\": \"\"}, \"type\": \"mesh3d\"}], \"parcoords\": [{\"line\": {\"colorbar\": {\"outlinewidth\": 0, \"ticks\": \"\"}}, \"type\": \"parcoords\"}], \"pie\": [{\"automargin\": true, \"type\": \"pie\"}], \"scatter\": [{\"marker\": {\"colorbar\": {\"outlinewidth\": 0, \"ticks\": \"\"}}, \"type\": \"scatter\"}], \"scatter3d\": [{\"line\": {\"colorbar\": {\"outlinewidth\": 0, \"ticks\": \"\"}}, \"marker\": {\"colorbar\": {\"outlinewidth\": 0, \"ticks\": \"\"}}, \"type\": \"scatter3d\"}], \"scattercarpet\": [{\"marker\": {\"colorbar\": {\"outlinewidth\": 0, \"ticks\": \"\"}}, \"type\": \"scattercarpet\"}], \"scattergeo\": [{\"marker\": {\"colorbar\": {\"outlinewidth\": 0, \"ticks\": \"\"}}, \"type\": \"scattergeo\"}], \"scattergl\": [{\"marker\": {\"colorbar\": {\"outlinewidth\": 0, \"ticks\": \"\"}}, \"type\": \"scattergl\"}], \"scattermapbox\": [{\"marker\": {\"colorbar\": {\"outlinewidth\": 0, \"ticks\": \"\"}}, \"type\": \"scattermapbox\"}], \"scatterpolar\": [{\"marker\": {\"colorbar\": {\"outlinewidth\": 0, \"ticks\": \"\"}}, \"type\": \"scatterpolar\"}], \"scatterpolargl\": [{\"marker\": {\"colorbar\": {\"outlinewidth\": 0, \"ticks\": \"\"}}, \"type\": \"scatterpolargl\"}], \"scatterternary\": [{\"marker\": {\"colorbar\": {\"outlinewidth\": 0, \"ticks\": \"\"}}, \"type\": \"scatterternary\"}], \"surface\": [{\"colorbar\": {\"outlinewidth\": 0, \"ticks\": \"\"}, \"colorscale\": [[0.0, \"#0d0887\"], [0.1111111111111111, \"#46039f\"], [0.2222222222222222, \"#7201a8\"], [0.3333333333333333, \"#9c179e\"], [0.4444444444444444, \"#bd3786\"], [0.5555555555555556, \"#d8576b\"], [0.6666666666666666, \"#ed7953\"], [0.7777777777777778, \"#fb9f3a\"], [0.8888888888888888, \"#fdca26\"], [1.0, \"#f0f921\"]], \"type\": \"surface\"}], \"table\": [{\"cells\": {\"fill\": {\"color\": \"#EBF0F8\"}, \"line\": {\"color\": \"white\"}}, \"header\": {\"fill\": {\"color\": \"#C8D4E3\"}, \"line\": {\"color\": \"white\"}}, \"type\": \"table\"}]}, \"layout\": {\"annotationdefaults\": {\"arrowcolor\": \"#2a3f5f\", \"arrowhead\": 0, \"arrowwidth\": 1}, \"coloraxis\": {\"colorbar\": {\"outlinewidth\": 0, \"ticks\": \"\"}}, \"colorscale\": {\"diverging\": [[0, \"#8e0152\"], [0.1, \"#c51b7d\"], [0.2, \"#de77ae\"], [0.3, \"#f1b6da\"], [0.4, \"#fde0ef\"], [0.5, \"#f7f7f7\"], [0.6, \"#e6f5d0\"], [0.7, \"#b8e186\"], [0.8, \"#7fbc41\"], [0.9, \"#4d9221\"], [1, \"#276419\"]], \"sequential\": [[0.0, \"#0d0887\"], [0.1111111111111111, \"#46039f\"], [0.2222222222222222, \"#7201a8\"], [0.3333333333333333, \"#9c179e\"], [0.4444444444444444, \"#bd3786\"], [0.5555555555555556, \"#d8576b\"], [0.6666666666666666, \"#ed7953\"], [0.7777777777777778, \"#fb9f3a\"], [0.8888888888888888, \"#fdca26\"], [1.0, \"#f0f921\"]], \"sequentialminus\": [[0.0, \"#0d0887\"], [0.1111111111111111, \"#46039f\"], [0.2222222222222222, \"#7201a8\"], [0.3333333333333333, \"#9c179e\"], [0.4444444444444444, \"#bd3786\"], [0.5555555555555556, \"#d8576b\"], [0.6666666666666666, \"#ed7953\"], [0.7777777777777778, \"#fb9f3a\"], [0.8888888888888888, \"#fdca26\"], [1.0, \"#f0f921\"]]}, \"colorway\": [\"#636efa\", \"#EF553B\", \"#00cc96\", \"#ab63fa\", \"#FFA15A\", \"#19d3f3\", \"#FF6692\", \"#B6E880\", \"#FF97FF\", \"#FECB52\"], \"font\": {\"color\": \"#2a3f5f\"}, \"geo\": {\"bgcolor\": \"white\", \"lakecolor\": \"white\", \"landcolor\": \"#E5ECF6\", \"showlakes\": true, \"showland\": true, \"subunitcolor\": \"white\"}, \"hoverlabel\": {\"align\": \"left\"}, \"hovermode\": \"closest\", \"mapbox\": {\"style\": \"light\"}, \"paper_bgcolor\": \"white\", \"plot_bgcolor\": \"#E5ECF6\", \"polar\": {\"angularaxis\": {\"gridcolor\": \"white\", \"linecolor\": \"white\", \"ticks\": \"\"}, \"bgcolor\": \"#E5ECF6\", \"radialaxis\": {\"gridcolor\": \"white\", \"linecolor\": \"white\", \"ticks\": \"\"}}, \"scene\": {\"xaxis\": {\"backgroundcolor\": \"#E5ECF6\", \"gridcolor\": \"white\", \"gridwidth\": 2, \"linecolor\": \"white\", \"showbackground\": true, \"ticks\": \"\", \"zerolinecolor\": \"white\"}, \"yaxis\": {\"backgroundcolor\": \"#E5ECF6\", \"gridcolor\": \"white\", \"gridwidth\": 2, \"linecolor\": \"white\", \"showbackground\": true, \"ticks\": \"\", \"zerolinecolor\": \"white\"}, \"zaxis\": {\"backgroundcolor\": \"#E5ECF6\", \"gridcolor\": \"white\", \"gridwidth\": 2, \"linecolor\": \"white\", \"showbackground\": true, \"ticks\": \"\", \"zerolinecolor\": \"white\"}}, \"shapedefaults\": {\"line\": {\"color\": \"#2a3f5f\"}}, \"ternary\": {\"aaxis\": {\"gridcolor\": \"white\", \"linecolor\": \"white\", \"ticks\": \"\"}, \"baxis\": {\"gridcolor\": \"white\", \"linecolor\": \"white\", \"ticks\": \"\"}, \"bgcolor\": \"#E5ECF6\", \"caxis\": {\"gridcolor\": \"white\", \"linecolor\": \"white\", \"ticks\": \"\"}}, \"title\": {\"x\": 0.05}, \"xaxis\": {\"automargin\": true, \"gridcolor\": \"white\", \"linecolor\": \"white\", \"ticks\": \"\", \"title\": {\"standoff\": 15}, \"zerolinecolor\": \"white\", \"zerolinewidth\": 2}, \"yaxis\": {\"automargin\": true, \"gridcolor\": \"white\", \"linecolor\": \"white\", \"ticks\": \"\", \"title\": {\"standoff\": 15}, \"zerolinecolor\": \"white\", \"zerolinewidth\": 2}}}, \"xaxis\": {\"anchor\": \"y\", \"domain\": [0.0, 1.0], \"title\": {\"text\": \"Productivity\"}, \"type\": \"log\"}, \"yaxis\": {\"anchor\": \"x\", \"domain\": [0.0, 1.0], \"title\": {\"text\": \"CV\"}}},\n",
       "                        {\"responsive\": true}\n",
       "                    ).then(function(){\n",
       "                            \n",
       "var gd = document.getElementById('22d3d7b4-5919-484e-b300-fa21334d3b38');\n",
       "var x = new MutationObserver(function (mutations, observer) {{\n",
       "        var display = window.getComputedStyle(gd).display;\n",
       "        if (!display || display === 'none') {{\n",
       "            console.log([gd, 'removed!']);\n",
       "            Plotly.purge(gd);\n",
       "            observer.disconnect();\n",
       "        }}\n",
       "}});\n",
       "\n",
       "// Listen for the removal of the full notebook cells\n",
       "var notebookContainer = gd.closest('#notebook-container');\n",
       "if (notebookContainer) {{\n",
       "    x.observe(notebookContainer, {childList: true});\n",
       "}}\n",
       "\n",
       "// Listen for the clearing of the current output cell\n",
       "var outputEl = gd.closest('.output');\n",
       "if (outputEl) {{\n",
       "    x.observe(outputEl, {childList: true});\n",
       "}}\n",
       "\n",
       "                        })\n",
       "                };\n",
       "                });\n",
       "            </script>\n",
       "        </div>"
      ]
     },
     "metadata": {},
     "output_type": "display_data"
    }
   ],
   "source": [
    "# Bubble plot excludes reporter1\n",
    "\n",
    "fig = px.scatter(df_exclreporter1, x=\"Productivity\", y=\"CV\", size='Users', color=\"Team\",\n",
    "           hover_name=\"ID Match\", log_x=True, size_max=60)\n",
    "fig.show()\n"
   ]
  },
  {
   "cell_type": "code",
   "execution_count": 33,
   "metadata": {},
   "outputs": [
    {
     "data": {
      "application/vnd.plotly.v1+json": {
       "config": {
        "plotlyServerURL": "https://plot.ly"
       },
       "data": [
        {
         "dimensions": [
          {
           "axis": {
            "matches": true
           },
           "label": "CV",
           "values": [
            32981448,
            15239051,
            15227333,
            15129163,
            11032010,
            9931112,
            8483893,
            7830570,
            7423919,
            6725939,
            6715653,
            6581319,
            6506326,
            6413386,
            6271736,
            6054364,
            5395767,
            4746436,
            4548830,
            4464487,
            4315746,
            4275258,
            4024236,
            3995978,
            3968698,
            3938843,
            3889447,
            3722741,
            3442594,
            3247791,
            3245435,
            3186564,
            3120293,
            3106786,
            3080586,
            3076441,
            2919604,
            2666488,
            2298984,
            2197694,
            2048102,
            1494412,
            1389167,
            1367267,
            764832,
            732616,
            670406,
            578632,
            429207,
            415534,
            375587,
            350911,
            104081,
            87367,
            31659
           ]
          },
          {
           "axis": {
            "matches": true
           },
           "label": "Users",
           "values": [
            8397483,
            8602754,
            5605578,
            4806779,
            4602489,
            3759147,
            3838321,
            3337093,
            4338116,
            278516,
            3507308,
            3462339,
            3067761,
            3515539,
            3101578,
            3071640,
            2474047,
            1942461,
            2335376,
            2210381,
            2360551,
            2330972,
            1929330,
            2226304,
            1858928,
            1829373,
            1826552,
            1921500,
            2775037,
            1690020,
            1589114,
            1495599,
            1487155,
            1529913,
            1046106,
            1811427,
            1616449,
            1655880,
            1228829,
            1239268,
            925595,
            744130,
            771380,
            635576,
            697417,
            403281,
            478358,
            425223,
            616370,
            298286,
            224412,
            316740,
            877868,
            100292,
            31197
           ]
          },
          {
           "axis": {
            "matches": true
           },
           "label": "Productivity",
           "values": [
            1347,
            684,
            608,
            555,
            477,
            415,
            305,
            348,
            244,
            213,
            206,
            229,
            275,
            214,
            84,
            345,
            603,
            316,
            186,
            223,
            127,
            160,
            186,
            174,
            112,
            166,
            168,
            177,
            152,
            152,
            99,
            154,
            113,
            86,
            221,
            112,
            96,
            173,
            124,
            109,
            76,
            62,
            62,
            86,
            71,
            31,
            87,
            89,
            51,
            25,
            40,
            47,
            14,
            7,
            8
           ]
          }
         ],
         "hoverlabel": {
          "namelength": 0
         },
         "hovertemplate": "<b>%{hovertext}</b><br><br>Team=News<br>%{xaxis.title.text}=%{x}<br>%{yaxis.title.text}=%{y}",
         "hovertext": [
          "reporter1",
          "reporter2",
          "reporter3",
          "reporter4",
          "reporter7",
          "reporter10",
          "reporter13",
          "reporter15",
          "reporter17",
          "reporter18",
          "reporter19",
          "reporter21",
          "reporter22",
          "reporter23",
          "reporter24",
          "reporter25",
          "reporter27",
          "reporter29",
          "reporter31",
          "reporter33",
          "reporter35",
          "reporter36",
          "reporter37",
          "reporter38",
          "reporter39",
          "reporter41",
          "reporter42",
          "reporter43",
          "reporter45",
          "reporter47",
          "reporter48",
          "reporter49",
          "reporter50",
          "reporter51",
          "reporter52",
          "reporter53",
          "reporter55",
          "reporter58",
          "reporter63",
          "reporter65",
          "reporter68",
          "reporter69",
          "reporter70",
          "reporter71",
          "reporter74",
          "reporter75",
          "reporter76",
          "reporter77",
          "reporter78",
          "reporter79",
          "reporter81",
          "reporter82",
          "reporter88",
          "reporter89",
          "reporter91"
         ],
         "legendgroup": "News",
         "marker": {
          "color": "#636efa",
          "symbol": "circle"
         },
         "name": "News",
         "showlegend": true,
         "type": "splom"
        },
        {
         "dimensions": [
          {
           "axis": {
            "matches": true
           },
           "label": "CV",
           "values": [
            14449063,
            13875398,
            10493866,
            10100263,
            9284465,
            8731923,
            8308101,
            7653566,
            6693322,
            5971873,
            5039634,
            4633493,
            4485460,
            4392585,
            3325928,
            2897260,
            301061
           ]
          },
          {
           "axis": {
            "matches": true
           },
           "label": "Users",
           "values": [
            2912920,
            10466241,
            3992132,
            8205363,
            5137170,
            2119223,
            2031770,
            4249110,
            3570942,
            3087026,
            2020916,
            2126480,
            1965884,
            1260584,
            1710315,
            3296669,
            264598
           ]
          },
          {
           "axis": {
            "matches": true
           },
           "label": "Productivity",
           "values": [
            1201,
            3009,
            1026,
            1240,
            709,
            1055,
            883,
            1114,
            1012,
            1246,
            1071,
            391,
            1181,
            664,
            185,
            341,
            65
           ]
          }
         ],
         "hoverlabel": {
          "namelength": 0
         },
         "hovertemplate": "<b>%{hovertext}</b><br><br>Team=Pro Sports<br>%{xaxis.title.text}=%{x}<br>%{yaxis.title.text}=%{y}",
         "hovertext": [
          "reporter5",
          "reporter6",
          "reporter8",
          "reporter9",
          "reporter11",
          "reporter12",
          "reporter14",
          "reporter16",
          "reporter20",
          "reporter26",
          "reporter28",
          "reporter30",
          "reporter32",
          "reporter34",
          "reporter46",
          "reporter56",
          "reporter83"
         ],
         "legendgroup": "Pro Sports",
         "marker": {
          "color": "#EF553B",
          "symbol": "circle"
         },
         "name": "Pro Sports",
         "showlegend": true,
         "type": "splom"
        },
        {
         "dimensions": [
          {
           "axis": {
            "matches": true
           },
           "label": "CV",
           "values": [
            3963086
           ]
          },
          {
           "axis": {
            "matches": true
           },
           "label": "Users",
           "values": [
            2316126
           ]
          },
          {
           "axis": {
            "matches": true
           },
           "label": "Productivity",
           "values": [
            209
           ]
          }
         ],
         "hoverlabel": {
          "namelength": 0
         },
         "hovertemplate": "<b>%{hovertext}</b><br><br>Team=Commerce<br>%{xaxis.title.text}=%{x}<br>%{yaxis.title.text}=%{y}",
         "hovertext": [
          "reporter40"
         ],
         "legendgroup": "Commerce",
         "marker": {
          "color": "#00cc96",
          "symbol": "circle"
         },
         "name": "Commerce",
         "showlegend": true,
         "type": "splom"
        },
        {
         "dimensions": [
          {
           "axis": {
            "matches": true
           },
           "label": "CV",
           "values": [
            3480795,
            2973911,
            2668679,
            2491960,
            2331106,
            2313381,
            2306829,
            2276027,
            2188947,
            2178883,
            1123008,
            1019768,
            390632,
            183553,
            156464,
            133516,
            113428,
            84589,
            29688
           ]
          },
          {
           "axis": {
            "matches": true
           },
           "label": "Users",
           "values": [
            655071,
            870837,
            600362,
            756696,
            817105,
            645025,
            576991,
            400044,
            504970,
            541620,
            297039,
            224646,
            215624,
            215568,
            122367,
            296829,
            186926,
            58568,
            29805
           ]
          },
          {
           "axis": {
            "matches": true
           },
           "label": "Productivity",
           "values": [
            1744,
            896,
            1078,
            849,
            795,
            789,
            659,
            1188,
            1017,
            806,
            969,
            941,
            655,
            39,
            226,
            111,
            205,
            267,
            53
           ]
          }
         ],
         "hoverlabel": {
          "namelength": 0
         },
         "hovertemplate": "<b>%{hovertext}</b><br><br>Team=HS Sports<br>%{xaxis.title.text}=%{x}<br>%{yaxis.title.text}=%{y}",
         "hovertext": [
          "reporter44",
          "reporter54",
          "reporter57",
          "reporter59",
          "reporter60",
          "reporter61",
          "reporter62",
          "reporter64",
          "reporter66",
          "reporter67",
          "reporter72",
          "reporter73",
          "reporter80",
          "reporter84",
          "reporter85",
          "reporter86",
          "reporter87",
          "reporter90",
          "reporter92"
         ],
         "legendgroup": "HS Sports",
         "marker": {
          "color": "#ab63fa",
          "symbol": "circle"
         },
         "name": "HS Sports",
         "showlegend": true,
         "type": "splom"
        }
       ],
       "layout": {
        "dragmode": "select",
        "legend": {
         "title": {
          "text": "Team"
         },
         "tracegroupgap": 0
        },
        "margin": {
         "t": 60
        },
        "template": {
         "data": {
          "bar": [
           {
            "error_x": {
             "color": "#2a3f5f"
            },
            "error_y": {
             "color": "#2a3f5f"
            },
            "marker": {
             "line": {
              "color": "#E5ECF6",
              "width": 0.5
             }
            },
            "type": "bar"
           }
          ],
          "barpolar": [
           {
            "marker": {
             "line": {
              "color": "#E5ECF6",
              "width": 0.5
             }
            },
            "type": "barpolar"
           }
          ],
          "carpet": [
           {
            "aaxis": {
             "endlinecolor": "#2a3f5f",
             "gridcolor": "white",
             "linecolor": "white",
             "minorgridcolor": "white",
             "startlinecolor": "#2a3f5f"
            },
            "baxis": {
             "endlinecolor": "#2a3f5f",
             "gridcolor": "white",
             "linecolor": "white",
             "minorgridcolor": "white",
             "startlinecolor": "#2a3f5f"
            },
            "type": "carpet"
           }
          ],
          "choropleth": [
           {
            "colorbar": {
             "outlinewidth": 0,
             "ticks": ""
            },
            "type": "choropleth"
           }
          ],
          "contour": [
           {
            "colorbar": {
             "outlinewidth": 0,
             "ticks": ""
            },
            "colorscale": [
             [
              0,
              "#0d0887"
             ],
             [
              0.1111111111111111,
              "#46039f"
             ],
             [
              0.2222222222222222,
              "#7201a8"
             ],
             [
              0.3333333333333333,
              "#9c179e"
             ],
             [
              0.4444444444444444,
              "#bd3786"
             ],
             [
              0.5555555555555556,
              "#d8576b"
             ],
             [
              0.6666666666666666,
              "#ed7953"
             ],
             [
              0.7777777777777778,
              "#fb9f3a"
             ],
             [
              0.8888888888888888,
              "#fdca26"
             ],
             [
              1,
              "#f0f921"
             ]
            ],
            "type": "contour"
           }
          ],
          "contourcarpet": [
           {
            "colorbar": {
             "outlinewidth": 0,
             "ticks": ""
            },
            "type": "contourcarpet"
           }
          ],
          "heatmap": [
           {
            "colorbar": {
             "outlinewidth": 0,
             "ticks": ""
            },
            "colorscale": [
             [
              0,
              "#0d0887"
             ],
             [
              0.1111111111111111,
              "#46039f"
             ],
             [
              0.2222222222222222,
              "#7201a8"
             ],
             [
              0.3333333333333333,
              "#9c179e"
             ],
             [
              0.4444444444444444,
              "#bd3786"
             ],
             [
              0.5555555555555556,
              "#d8576b"
             ],
             [
              0.6666666666666666,
              "#ed7953"
             ],
             [
              0.7777777777777778,
              "#fb9f3a"
             ],
             [
              0.8888888888888888,
              "#fdca26"
             ],
             [
              1,
              "#f0f921"
             ]
            ],
            "type": "heatmap"
           }
          ],
          "heatmapgl": [
           {
            "colorbar": {
             "outlinewidth": 0,
             "ticks": ""
            },
            "colorscale": [
             [
              0,
              "#0d0887"
             ],
             [
              0.1111111111111111,
              "#46039f"
             ],
             [
              0.2222222222222222,
              "#7201a8"
             ],
             [
              0.3333333333333333,
              "#9c179e"
             ],
             [
              0.4444444444444444,
              "#bd3786"
             ],
             [
              0.5555555555555556,
              "#d8576b"
             ],
             [
              0.6666666666666666,
              "#ed7953"
             ],
             [
              0.7777777777777778,
              "#fb9f3a"
             ],
             [
              0.8888888888888888,
              "#fdca26"
             ],
             [
              1,
              "#f0f921"
             ]
            ],
            "type": "heatmapgl"
           }
          ],
          "histogram": [
           {
            "marker": {
             "colorbar": {
              "outlinewidth": 0,
              "ticks": ""
             }
            },
            "type": "histogram"
           }
          ],
          "histogram2d": [
           {
            "colorbar": {
             "outlinewidth": 0,
             "ticks": ""
            },
            "colorscale": [
             [
              0,
              "#0d0887"
             ],
             [
              0.1111111111111111,
              "#46039f"
             ],
             [
              0.2222222222222222,
              "#7201a8"
             ],
             [
              0.3333333333333333,
              "#9c179e"
             ],
             [
              0.4444444444444444,
              "#bd3786"
             ],
             [
              0.5555555555555556,
              "#d8576b"
             ],
             [
              0.6666666666666666,
              "#ed7953"
             ],
             [
              0.7777777777777778,
              "#fb9f3a"
             ],
             [
              0.8888888888888888,
              "#fdca26"
             ],
             [
              1,
              "#f0f921"
             ]
            ],
            "type": "histogram2d"
           }
          ],
          "histogram2dcontour": [
           {
            "colorbar": {
             "outlinewidth": 0,
             "ticks": ""
            },
            "colorscale": [
             [
              0,
              "#0d0887"
             ],
             [
              0.1111111111111111,
              "#46039f"
             ],
             [
              0.2222222222222222,
              "#7201a8"
             ],
             [
              0.3333333333333333,
              "#9c179e"
             ],
             [
              0.4444444444444444,
              "#bd3786"
             ],
             [
              0.5555555555555556,
              "#d8576b"
             ],
             [
              0.6666666666666666,
              "#ed7953"
             ],
             [
              0.7777777777777778,
              "#fb9f3a"
             ],
             [
              0.8888888888888888,
              "#fdca26"
             ],
             [
              1,
              "#f0f921"
             ]
            ],
            "type": "histogram2dcontour"
           }
          ],
          "mesh3d": [
           {
            "colorbar": {
             "outlinewidth": 0,
             "ticks": ""
            },
            "type": "mesh3d"
           }
          ],
          "parcoords": [
           {
            "line": {
             "colorbar": {
              "outlinewidth": 0,
              "ticks": ""
             }
            },
            "type": "parcoords"
           }
          ],
          "pie": [
           {
            "automargin": true,
            "type": "pie"
           }
          ],
          "scatter": [
           {
            "marker": {
             "colorbar": {
              "outlinewidth": 0,
              "ticks": ""
             }
            },
            "type": "scatter"
           }
          ],
          "scatter3d": [
           {
            "line": {
             "colorbar": {
              "outlinewidth": 0,
              "ticks": ""
             }
            },
            "marker": {
             "colorbar": {
              "outlinewidth": 0,
              "ticks": ""
             }
            },
            "type": "scatter3d"
           }
          ],
          "scattercarpet": [
           {
            "marker": {
             "colorbar": {
              "outlinewidth": 0,
              "ticks": ""
             }
            },
            "type": "scattercarpet"
           }
          ],
          "scattergeo": [
           {
            "marker": {
             "colorbar": {
              "outlinewidth": 0,
              "ticks": ""
             }
            },
            "type": "scattergeo"
           }
          ],
          "scattergl": [
           {
            "marker": {
             "colorbar": {
              "outlinewidth": 0,
              "ticks": ""
             }
            },
            "type": "scattergl"
           }
          ],
          "scattermapbox": [
           {
            "marker": {
             "colorbar": {
              "outlinewidth": 0,
              "ticks": ""
             }
            },
            "type": "scattermapbox"
           }
          ],
          "scatterpolar": [
           {
            "marker": {
             "colorbar": {
              "outlinewidth": 0,
              "ticks": ""
             }
            },
            "type": "scatterpolar"
           }
          ],
          "scatterpolargl": [
           {
            "marker": {
             "colorbar": {
              "outlinewidth": 0,
              "ticks": ""
             }
            },
            "type": "scatterpolargl"
           }
          ],
          "scatterternary": [
           {
            "marker": {
             "colorbar": {
              "outlinewidth": 0,
              "ticks": ""
             }
            },
            "type": "scatterternary"
           }
          ],
          "surface": [
           {
            "colorbar": {
             "outlinewidth": 0,
             "ticks": ""
            },
            "colorscale": [
             [
              0,
              "#0d0887"
             ],
             [
              0.1111111111111111,
              "#46039f"
             ],
             [
              0.2222222222222222,
              "#7201a8"
             ],
             [
              0.3333333333333333,
              "#9c179e"
             ],
             [
              0.4444444444444444,
              "#bd3786"
             ],
             [
              0.5555555555555556,
              "#d8576b"
             ],
             [
              0.6666666666666666,
              "#ed7953"
             ],
             [
              0.7777777777777778,
              "#fb9f3a"
             ],
             [
              0.8888888888888888,
              "#fdca26"
             ],
             [
              1,
              "#f0f921"
             ]
            ],
            "type": "surface"
           }
          ],
          "table": [
           {
            "cells": {
             "fill": {
              "color": "#EBF0F8"
             },
             "line": {
              "color": "white"
             }
            },
            "header": {
             "fill": {
              "color": "#C8D4E3"
             },
             "line": {
              "color": "white"
             }
            },
            "type": "table"
           }
          ]
         },
         "layout": {
          "annotationdefaults": {
           "arrowcolor": "#2a3f5f",
           "arrowhead": 0,
           "arrowwidth": 1
          },
          "coloraxis": {
           "colorbar": {
            "outlinewidth": 0,
            "ticks": ""
           }
          },
          "colorscale": {
           "diverging": [
            [
             0,
             "#8e0152"
            ],
            [
             0.1,
             "#c51b7d"
            ],
            [
             0.2,
             "#de77ae"
            ],
            [
             0.3,
             "#f1b6da"
            ],
            [
             0.4,
             "#fde0ef"
            ],
            [
             0.5,
             "#f7f7f7"
            ],
            [
             0.6,
             "#e6f5d0"
            ],
            [
             0.7,
             "#b8e186"
            ],
            [
             0.8,
             "#7fbc41"
            ],
            [
             0.9,
             "#4d9221"
            ],
            [
             1,
             "#276419"
            ]
           ],
           "sequential": [
            [
             0,
             "#0d0887"
            ],
            [
             0.1111111111111111,
             "#46039f"
            ],
            [
             0.2222222222222222,
             "#7201a8"
            ],
            [
             0.3333333333333333,
             "#9c179e"
            ],
            [
             0.4444444444444444,
             "#bd3786"
            ],
            [
             0.5555555555555556,
             "#d8576b"
            ],
            [
             0.6666666666666666,
             "#ed7953"
            ],
            [
             0.7777777777777778,
             "#fb9f3a"
            ],
            [
             0.8888888888888888,
             "#fdca26"
            ],
            [
             1,
             "#f0f921"
            ]
           ],
           "sequentialminus": [
            [
             0,
             "#0d0887"
            ],
            [
             0.1111111111111111,
             "#46039f"
            ],
            [
             0.2222222222222222,
             "#7201a8"
            ],
            [
             0.3333333333333333,
             "#9c179e"
            ],
            [
             0.4444444444444444,
             "#bd3786"
            ],
            [
             0.5555555555555556,
             "#d8576b"
            ],
            [
             0.6666666666666666,
             "#ed7953"
            ],
            [
             0.7777777777777778,
             "#fb9f3a"
            ],
            [
             0.8888888888888888,
             "#fdca26"
            ],
            [
             1,
             "#f0f921"
            ]
           ]
          },
          "colorway": [
           "#636efa",
           "#EF553B",
           "#00cc96",
           "#ab63fa",
           "#FFA15A",
           "#19d3f3",
           "#FF6692",
           "#B6E880",
           "#FF97FF",
           "#FECB52"
          ],
          "font": {
           "color": "#2a3f5f"
          },
          "geo": {
           "bgcolor": "white",
           "lakecolor": "white",
           "landcolor": "#E5ECF6",
           "showlakes": true,
           "showland": true,
           "subunitcolor": "white"
          },
          "hoverlabel": {
           "align": "left"
          },
          "hovermode": "closest",
          "mapbox": {
           "style": "light"
          },
          "paper_bgcolor": "white",
          "plot_bgcolor": "#E5ECF6",
          "polar": {
           "angularaxis": {
            "gridcolor": "white",
            "linecolor": "white",
            "ticks": ""
           },
           "bgcolor": "#E5ECF6",
           "radialaxis": {
            "gridcolor": "white",
            "linecolor": "white",
            "ticks": ""
           }
          },
          "scene": {
           "xaxis": {
            "backgroundcolor": "#E5ECF6",
            "gridcolor": "white",
            "gridwidth": 2,
            "linecolor": "white",
            "showbackground": true,
            "ticks": "",
            "zerolinecolor": "white"
           },
           "yaxis": {
            "backgroundcolor": "#E5ECF6",
            "gridcolor": "white",
            "gridwidth": 2,
            "linecolor": "white",
            "showbackground": true,
            "ticks": "",
            "zerolinecolor": "white"
           },
           "zaxis": {
            "backgroundcolor": "#E5ECF6",
            "gridcolor": "white",
            "gridwidth": 2,
            "linecolor": "white",
            "showbackground": true,
            "ticks": "",
            "zerolinecolor": "white"
           }
          },
          "shapedefaults": {
           "line": {
            "color": "#2a3f5f"
           }
          },
          "ternary": {
           "aaxis": {
            "gridcolor": "white",
            "linecolor": "white",
            "ticks": ""
           },
           "baxis": {
            "gridcolor": "white",
            "linecolor": "white",
            "ticks": ""
           },
           "bgcolor": "#E5ECF6",
           "caxis": {
            "gridcolor": "white",
            "linecolor": "white",
            "ticks": ""
           }
          },
          "title": {
           "x": 0.05
          },
          "xaxis": {
           "automargin": true,
           "gridcolor": "white",
           "linecolor": "white",
           "ticks": "",
           "title": {
            "standoff": 15
           },
           "zerolinecolor": "white",
           "zerolinewidth": 2
          },
          "yaxis": {
           "automargin": true,
           "gridcolor": "white",
           "linecolor": "white",
           "ticks": "",
           "title": {
            "standoff": 15
           },
           "zerolinecolor": "white",
           "zerolinewidth": 2
          }
         }
        }
       }
      },
      "text/html": [
       "<div>\n",
       "        \n",
       "        \n",
       "            <div id=\"a11b8c6a-3478-413e-9f5a-da6d53797588\" class=\"plotly-graph-div\" style=\"height:525px; width:100%;\"></div>\n",
       "            <script type=\"text/javascript\">\n",
       "                require([\"plotly\"], function(Plotly) {\n",
       "                    window.PLOTLYENV=window.PLOTLYENV || {};\n",
       "                    \n",
       "                if (document.getElementById(\"a11b8c6a-3478-413e-9f5a-da6d53797588\")) {\n",
       "                    Plotly.newPlot(\n",
       "                        'a11b8c6a-3478-413e-9f5a-da6d53797588',\n",
       "                        [{\"dimensions\": [{\"axis\": {\"matches\": true}, \"label\": \"CV\", \"values\": [32981448, 15239051, 15227333, 15129163, 11032010, 9931112, 8483893, 7830570, 7423919, 6725939, 6715653, 6581319, 6506326, 6413386, 6271736, 6054364, 5395767, 4746436, 4548830, 4464487, 4315746, 4275258, 4024236, 3995978, 3968698, 3938843, 3889447, 3722741, 3442594, 3247791, 3245435, 3186564, 3120293, 3106786, 3080586, 3076441, 2919604, 2666488, 2298984, 2197694, 2048102, 1494412, 1389167, 1367267, 764832, 732616, 670406, 578632, 429207, 415534, 375587, 350911, 104081, 87367, 31659]}, {\"axis\": {\"matches\": true}, \"label\": \"Users\", \"values\": [8397483, 8602754, 5605578, 4806779, 4602489, 3759147, 3838321, 3337093, 4338116, 278516, 3507308, 3462339, 3067761, 3515539, 3101578, 3071640, 2474047, 1942461, 2335376, 2210381, 2360551, 2330972, 1929330, 2226304, 1858928, 1829373, 1826552, 1921500, 2775037, 1690020, 1589114, 1495599, 1487155, 1529913, 1046106, 1811427, 1616449, 1655880, 1228829, 1239268, 925595, 744130, 771380, 635576, 697417, 403281, 478358, 425223, 616370, 298286, 224412, 316740, 877868, 100292, 31197]}, {\"axis\": {\"matches\": true}, \"label\": \"Productivity\", \"values\": [1347, 684, 608, 555, 477, 415, 305, 348, 244, 213, 206, 229, 275, 214, 84, 345, 603, 316, 186, 223, 127, 160, 186, 174, 112, 166, 168, 177, 152, 152, 99, 154, 113, 86, 221, 112, 96, 173, 124, 109, 76, 62, 62, 86, 71, 31, 87, 89, 51, 25, 40, 47, 14, 7, 8]}], \"hoverlabel\": {\"namelength\": 0}, \"hovertemplate\": \"<b>%{hovertext}</b><br><br>Team=News<br>%{xaxis.title.text}=%{x}<br>%{yaxis.title.text}=%{y}\", \"hovertext\": [\"reporter1\", \"reporter2\", \"reporter3\", \"reporter4\", \"reporter7\", \"reporter10\", \"reporter13\", \"reporter15\", \"reporter17\", \"reporter18\", \"reporter19\", \"reporter21\", \"reporter22\", \"reporter23\", \"reporter24\", \"reporter25\", \"reporter27\", \"reporter29\", \"reporter31\", \"reporter33\", \"reporter35\", \"reporter36\", \"reporter37\", \"reporter38\", \"reporter39\", \"reporter41\", \"reporter42\", \"reporter43\", \"reporter45\", \"reporter47\", \"reporter48\", \"reporter49\", \"reporter50\", \"reporter51\", \"reporter52\", \"reporter53\", \"reporter55\", \"reporter58\", \"reporter63\", \"reporter65\", \"reporter68\", \"reporter69\", \"reporter70\", \"reporter71\", \"reporter74\", \"reporter75\", \"reporter76\", \"reporter77\", \"reporter78\", \"reporter79\", \"reporter81\", \"reporter82\", \"reporter88\", \"reporter89\", \"reporter91\"], \"legendgroup\": \"News\", \"marker\": {\"color\": \"#636efa\", \"symbol\": \"circle\"}, \"name\": \"News\", \"showlegend\": true, \"type\": \"splom\"}, {\"dimensions\": [{\"axis\": {\"matches\": true}, \"label\": \"CV\", \"values\": [14449063, 13875398, 10493866, 10100263, 9284465, 8731923, 8308101, 7653566, 6693322, 5971873, 5039634, 4633493, 4485460, 4392585, 3325928, 2897260, 301061]}, {\"axis\": {\"matches\": true}, \"label\": \"Users\", \"values\": [2912920, 10466241, 3992132, 8205363, 5137170, 2119223, 2031770, 4249110, 3570942, 3087026, 2020916, 2126480, 1965884, 1260584, 1710315, 3296669, 264598]}, {\"axis\": {\"matches\": true}, \"label\": \"Productivity\", \"values\": [1201, 3009, 1026, 1240, 709, 1055, 883, 1114, 1012, 1246, 1071, 391, 1181, 664, 185, 341, 65]}], \"hoverlabel\": {\"namelength\": 0}, \"hovertemplate\": \"<b>%{hovertext}</b><br><br>Team=Pro Sports<br>%{xaxis.title.text}=%{x}<br>%{yaxis.title.text}=%{y}\", \"hovertext\": [\"reporter5\", \"reporter6\", \"reporter8\", \"reporter9\", \"reporter11\", \"reporter12\", \"reporter14\", \"reporter16\", \"reporter20\", \"reporter26\", \"reporter28\", \"reporter30\", \"reporter32\", \"reporter34\", \"reporter46\", \"reporter56\", \"reporter83\"], \"legendgroup\": \"Pro Sports\", \"marker\": {\"color\": \"#EF553B\", \"symbol\": \"circle\"}, \"name\": \"Pro Sports\", \"showlegend\": true, \"type\": \"splom\"}, {\"dimensions\": [{\"axis\": {\"matches\": true}, \"label\": \"CV\", \"values\": [3963086]}, {\"axis\": {\"matches\": true}, \"label\": \"Users\", \"values\": [2316126]}, {\"axis\": {\"matches\": true}, \"label\": \"Productivity\", \"values\": [209]}], \"hoverlabel\": {\"namelength\": 0}, \"hovertemplate\": \"<b>%{hovertext}</b><br><br>Team=Commerce<br>%{xaxis.title.text}=%{x}<br>%{yaxis.title.text}=%{y}\", \"hovertext\": [\"reporter40\"], \"legendgroup\": \"Commerce\", \"marker\": {\"color\": \"#00cc96\", \"symbol\": \"circle\"}, \"name\": \"Commerce\", \"showlegend\": true, \"type\": \"splom\"}, {\"dimensions\": [{\"axis\": {\"matches\": true}, \"label\": \"CV\", \"values\": [3480795, 2973911, 2668679, 2491960, 2331106, 2313381, 2306829, 2276027, 2188947, 2178883, 1123008, 1019768, 390632, 183553, 156464, 133516, 113428, 84589, 29688]}, {\"axis\": {\"matches\": true}, \"label\": \"Users\", \"values\": [655071, 870837, 600362, 756696, 817105, 645025, 576991, 400044, 504970, 541620, 297039, 224646, 215624, 215568, 122367, 296829, 186926, 58568, 29805]}, {\"axis\": {\"matches\": true}, \"label\": \"Productivity\", \"values\": [1744, 896, 1078, 849, 795, 789, 659, 1188, 1017, 806, 969, 941, 655, 39, 226, 111, 205, 267, 53]}], \"hoverlabel\": {\"namelength\": 0}, \"hovertemplate\": \"<b>%{hovertext}</b><br><br>Team=HS Sports<br>%{xaxis.title.text}=%{x}<br>%{yaxis.title.text}=%{y}\", \"hovertext\": [\"reporter44\", \"reporter54\", \"reporter57\", \"reporter59\", \"reporter60\", \"reporter61\", \"reporter62\", \"reporter64\", \"reporter66\", \"reporter67\", \"reporter72\", \"reporter73\", \"reporter80\", \"reporter84\", \"reporter85\", \"reporter86\", \"reporter87\", \"reporter90\", \"reporter92\"], \"legendgroup\": \"HS Sports\", \"marker\": {\"color\": \"#ab63fa\", \"symbol\": \"circle\"}, \"name\": \"HS Sports\", \"showlegend\": true, \"type\": \"splom\"}],\n",
       "                        {\"dragmode\": \"select\", \"legend\": {\"title\": {\"text\": \"Team\"}, \"tracegroupgap\": 0}, \"margin\": {\"t\": 60}, \"template\": {\"data\": {\"bar\": [{\"error_x\": {\"color\": \"#2a3f5f\"}, \"error_y\": {\"color\": \"#2a3f5f\"}, \"marker\": {\"line\": {\"color\": \"#E5ECF6\", \"width\": 0.5}}, \"type\": \"bar\"}], \"barpolar\": [{\"marker\": {\"line\": {\"color\": \"#E5ECF6\", \"width\": 0.5}}, \"type\": \"barpolar\"}], \"carpet\": [{\"aaxis\": {\"endlinecolor\": \"#2a3f5f\", \"gridcolor\": \"white\", \"linecolor\": \"white\", \"minorgridcolor\": \"white\", \"startlinecolor\": \"#2a3f5f\"}, \"baxis\": {\"endlinecolor\": \"#2a3f5f\", \"gridcolor\": \"white\", \"linecolor\": \"white\", \"minorgridcolor\": \"white\", \"startlinecolor\": \"#2a3f5f\"}, \"type\": \"carpet\"}], \"choropleth\": [{\"colorbar\": {\"outlinewidth\": 0, \"ticks\": \"\"}, \"type\": \"choropleth\"}], \"contour\": [{\"colorbar\": {\"outlinewidth\": 0, \"ticks\": \"\"}, \"colorscale\": [[0.0, \"#0d0887\"], [0.1111111111111111, \"#46039f\"], [0.2222222222222222, \"#7201a8\"], [0.3333333333333333, \"#9c179e\"], [0.4444444444444444, \"#bd3786\"], [0.5555555555555556, \"#d8576b\"], [0.6666666666666666, \"#ed7953\"], [0.7777777777777778, \"#fb9f3a\"], [0.8888888888888888, \"#fdca26\"], [1.0, \"#f0f921\"]], \"type\": \"contour\"}], \"contourcarpet\": [{\"colorbar\": {\"outlinewidth\": 0, \"ticks\": \"\"}, \"type\": \"contourcarpet\"}], \"heatmap\": [{\"colorbar\": {\"outlinewidth\": 0, \"ticks\": \"\"}, \"colorscale\": [[0.0, \"#0d0887\"], [0.1111111111111111, \"#46039f\"], [0.2222222222222222, \"#7201a8\"], [0.3333333333333333, \"#9c179e\"], [0.4444444444444444, \"#bd3786\"], [0.5555555555555556, \"#d8576b\"], [0.6666666666666666, \"#ed7953\"], [0.7777777777777778, \"#fb9f3a\"], [0.8888888888888888, \"#fdca26\"], [1.0, \"#f0f921\"]], \"type\": \"heatmap\"}], \"heatmapgl\": [{\"colorbar\": {\"outlinewidth\": 0, \"ticks\": \"\"}, \"colorscale\": [[0.0, \"#0d0887\"], [0.1111111111111111, \"#46039f\"], [0.2222222222222222, \"#7201a8\"], [0.3333333333333333, \"#9c179e\"], [0.4444444444444444, \"#bd3786\"], [0.5555555555555556, \"#d8576b\"], [0.6666666666666666, \"#ed7953\"], [0.7777777777777778, \"#fb9f3a\"], [0.8888888888888888, \"#fdca26\"], [1.0, \"#f0f921\"]], \"type\": \"heatmapgl\"}], \"histogram\": [{\"marker\": {\"colorbar\": {\"outlinewidth\": 0, \"ticks\": \"\"}}, \"type\": \"histogram\"}], \"histogram2d\": [{\"colorbar\": {\"outlinewidth\": 0, \"ticks\": \"\"}, \"colorscale\": [[0.0, \"#0d0887\"], [0.1111111111111111, \"#46039f\"], [0.2222222222222222, \"#7201a8\"], [0.3333333333333333, \"#9c179e\"], [0.4444444444444444, \"#bd3786\"], [0.5555555555555556, \"#d8576b\"], [0.6666666666666666, \"#ed7953\"], [0.7777777777777778, \"#fb9f3a\"], [0.8888888888888888, \"#fdca26\"], [1.0, \"#f0f921\"]], \"type\": \"histogram2d\"}], \"histogram2dcontour\": [{\"colorbar\": {\"outlinewidth\": 0, \"ticks\": \"\"}, \"colorscale\": [[0.0, \"#0d0887\"], [0.1111111111111111, \"#46039f\"], [0.2222222222222222, \"#7201a8\"], [0.3333333333333333, \"#9c179e\"], [0.4444444444444444, \"#bd3786\"], [0.5555555555555556, \"#d8576b\"], [0.6666666666666666, \"#ed7953\"], [0.7777777777777778, \"#fb9f3a\"], [0.8888888888888888, \"#fdca26\"], [1.0, \"#f0f921\"]], \"type\": \"histogram2dcontour\"}], \"mesh3d\": [{\"colorbar\": {\"outlinewidth\": 0, \"ticks\": \"\"}, \"type\": \"mesh3d\"}], \"parcoords\": [{\"line\": {\"colorbar\": {\"outlinewidth\": 0, \"ticks\": \"\"}}, \"type\": \"parcoords\"}], \"pie\": [{\"automargin\": true, \"type\": \"pie\"}], \"scatter\": [{\"marker\": {\"colorbar\": {\"outlinewidth\": 0, \"ticks\": \"\"}}, \"type\": \"scatter\"}], \"scatter3d\": [{\"line\": {\"colorbar\": {\"outlinewidth\": 0, \"ticks\": \"\"}}, \"marker\": {\"colorbar\": {\"outlinewidth\": 0, \"ticks\": \"\"}}, \"type\": \"scatter3d\"}], \"scattercarpet\": [{\"marker\": {\"colorbar\": {\"outlinewidth\": 0, \"ticks\": \"\"}}, \"type\": \"scattercarpet\"}], \"scattergeo\": [{\"marker\": {\"colorbar\": {\"outlinewidth\": 0, \"ticks\": \"\"}}, \"type\": \"scattergeo\"}], \"scattergl\": [{\"marker\": {\"colorbar\": {\"outlinewidth\": 0, \"ticks\": \"\"}}, \"type\": \"scattergl\"}], \"scattermapbox\": [{\"marker\": {\"colorbar\": {\"outlinewidth\": 0, \"ticks\": \"\"}}, \"type\": \"scattermapbox\"}], \"scatterpolar\": [{\"marker\": {\"colorbar\": {\"outlinewidth\": 0, \"ticks\": \"\"}}, \"type\": \"scatterpolar\"}], \"scatterpolargl\": [{\"marker\": {\"colorbar\": {\"outlinewidth\": 0, \"ticks\": \"\"}}, \"type\": \"scatterpolargl\"}], \"scatterternary\": [{\"marker\": {\"colorbar\": {\"outlinewidth\": 0, \"ticks\": \"\"}}, \"type\": \"scatterternary\"}], \"surface\": [{\"colorbar\": {\"outlinewidth\": 0, \"ticks\": \"\"}, \"colorscale\": [[0.0, \"#0d0887\"], [0.1111111111111111, \"#46039f\"], [0.2222222222222222, \"#7201a8\"], [0.3333333333333333, \"#9c179e\"], [0.4444444444444444, \"#bd3786\"], [0.5555555555555556, \"#d8576b\"], [0.6666666666666666, \"#ed7953\"], [0.7777777777777778, \"#fb9f3a\"], [0.8888888888888888, \"#fdca26\"], [1.0, \"#f0f921\"]], \"type\": \"surface\"}], \"table\": [{\"cells\": {\"fill\": {\"color\": \"#EBF0F8\"}, \"line\": {\"color\": \"white\"}}, \"header\": {\"fill\": {\"color\": \"#C8D4E3\"}, \"line\": {\"color\": \"white\"}}, \"type\": \"table\"}]}, \"layout\": {\"annotationdefaults\": {\"arrowcolor\": \"#2a3f5f\", \"arrowhead\": 0, \"arrowwidth\": 1}, \"coloraxis\": {\"colorbar\": {\"outlinewidth\": 0, \"ticks\": \"\"}}, \"colorscale\": {\"diverging\": [[0, \"#8e0152\"], [0.1, \"#c51b7d\"], [0.2, \"#de77ae\"], [0.3, \"#f1b6da\"], [0.4, \"#fde0ef\"], [0.5, \"#f7f7f7\"], [0.6, \"#e6f5d0\"], [0.7, \"#b8e186\"], [0.8, \"#7fbc41\"], [0.9, \"#4d9221\"], [1, \"#276419\"]], \"sequential\": [[0.0, \"#0d0887\"], [0.1111111111111111, \"#46039f\"], [0.2222222222222222, \"#7201a8\"], [0.3333333333333333, \"#9c179e\"], [0.4444444444444444, \"#bd3786\"], [0.5555555555555556, \"#d8576b\"], [0.6666666666666666, \"#ed7953\"], [0.7777777777777778, \"#fb9f3a\"], [0.8888888888888888, \"#fdca26\"], [1.0, \"#f0f921\"]], \"sequentialminus\": [[0.0, \"#0d0887\"], [0.1111111111111111, \"#46039f\"], [0.2222222222222222, \"#7201a8\"], [0.3333333333333333, \"#9c179e\"], [0.4444444444444444, \"#bd3786\"], [0.5555555555555556, \"#d8576b\"], [0.6666666666666666, \"#ed7953\"], [0.7777777777777778, \"#fb9f3a\"], [0.8888888888888888, \"#fdca26\"], [1.0, \"#f0f921\"]]}, \"colorway\": [\"#636efa\", \"#EF553B\", \"#00cc96\", \"#ab63fa\", \"#FFA15A\", \"#19d3f3\", \"#FF6692\", \"#B6E880\", \"#FF97FF\", \"#FECB52\"], \"font\": {\"color\": \"#2a3f5f\"}, \"geo\": {\"bgcolor\": \"white\", \"lakecolor\": \"white\", \"landcolor\": \"#E5ECF6\", \"showlakes\": true, \"showland\": true, \"subunitcolor\": \"white\"}, \"hoverlabel\": {\"align\": \"left\"}, \"hovermode\": \"closest\", \"mapbox\": {\"style\": \"light\"}, \"paper_bgcolor\": \"white\", \"plot_bgcolor\": \"#E5ECF6\", \"polar\": {\"angularaxis\": {\"gridcolor\": \"white\", \"linecolor\": \"white\", \"ticks\": \"\"}, \"bgcolor\": \"#E5ECF6\", \"radialaxis\": {\"gridcolor\": \"white\", \"linecolor\": \"white\", \"ticks\": \"\"}}, \"scene\": {\"xaxis\": {\"backgroundcolor\": \"#E5ECF6\", \"gridcolor\": \"white\", \"gridwidth\": 2, \"linecolor\": \"white\", \"showbackground\": true, \"ticks\": \"\", \"zerolinecolor\": \"white\"}, \"yaxis\": {\"backgroundcolor\": \"#E5ECF6\", \"gridcolor\": \"white\", \"gridwidth\": 2, \"linecolor\": \"white\", \"showbackground\": true, \"ticks\": \"\", \"zerolinecolor\": \"white\"}, \"zaxis\": {\"backgroundcolor\": \"#E5ECF6\", \"gridcolor\": \"white\", \"gridwidth\": 2, \"linecolor\": \"white\", \"showbackground\": true, \"ticks\": \"\", \"zerolinecolor\": \"white\"}}, \"shapedefaults\": {\"line\": {\"color\": \"#2a3f5f\"}}, \"ternary\": {\"aaxis\": {\"gridcolor\": \"white\", \"linecolor\": \"white\", \"ticks\": \"\"}, \"baxis\": {\"gridcolor\": \"white\", \"linecolor\": \"white\", \"ticks\": \"\"}, \"bgcolor\": \"#E5ECF6\", \"caxis\": {\"gridcolor\": \"white\", \"linecolor\": \"white\", \"ticks\": \"\"}}, \"title\": {\"x\": 0.05}, \"xaxis\": {\"automargin\": true, \"gridcolor\": \"white\", \"linecolor\": \"white\", \"ticks\": \"\", \"title\": {\"standoff\": 15}, \"zerolinecolor\": \"white\", \"zerolinewidth\": 2}, \"yaxis\": {\"automargin\": true, \"gridcolor\": \"white\", \"linecolor\": \"white\", \"ticks\": \"\", \"title\": {\"standoff\": 15}, \"zerolinecolor\": \"white\", \"zerolinewidth\": 2}}}},\n",
       "                        {\"responsive\": true}\n",
       "                    ).then(function(){\n",
       "                            \n",
       "var gd = document.getElementById('a11b8c6a-3478-413e-9f5a-da6d53797588');\n",
       "var x = new MutationObserver(function (mutations, observer) {{\n",
       "        var display = window.getComputedStyle(gd).display;\n",
       "        if (!display || display === 'none') {{\n",
       "            console.log([gd, 'removed!']);\n",
       "            Plotly.purge(gd);\n",
       "            observer.disconnect();\n",
       "        }}\n",
       "}});\n",
       "\n",
       "// Listen for the removal of the full notebook cells\n",
       "var notebookContainer = gd.closest('#notebook-container');\n",
       "if (notebookContainer) {{\n",
       "    x.observe(notebookContainer, {childList: true});\n",
       "}}\n",
       "\n",
       "// Listen for the clearing of the current output cell\n",
       "var outputEl = gd.closest('.output');\n",
       "if (outputEl) {{\n",
       "    x.observe(outputEl, {childList: true});\n",
       "}}\n",
       "\n",
       "                        })\n",
       "                };\n",
       "                });\n",
       "            </script>\n",
       "        </div>"
      ]
     },
     "metadata": {},
     "output_type": "display_data"
    }
   ],
   "source": [
    "# Scatterplot Matrix\n",
    "\n",
    "fig = px.scatter_matrix(df, dimensions=[\"CV\", \"Users\", \"Productivity\"],hover_name=\"ID Match\", color=\"Team\")\n",
    "fig.show()"
   ]
  },
  {
   "cell_type": "code",
   "execution_count": 34,
   "metadata": {},
   "outputs": [
    {
     "data": {
      "application/vnd.plotly.v1+json": {
       "config": {
        "plotlyServerURL": "https://plot.ly"
       },
       "data": [
        {
         "alignmentgroup": "True",
         "boxpoints": "all",
         "hoverlabel": {
          "namelength": 0
         },
         "hovertemplate": "<b>%{hovertext}</b><br><br>Team=%{x}<br>CV=%{y}",
         "hovertext": [
          "reporter1",
          "reporter2",
          "reporter3",
          "reporter4",
          "reporter5",
          "reporter6",
          "reporter7",
          "reporter8",
          "reporter9",
          "reporter10",
          "reporter11",
          "reporter12",
          "reporter13",
          "reporter14",
          "reporter15",
          "reporter16",
          "reporter17",
          "reporter18",
          "reporter19",
          "reporter20",
          "reporter21",
          "reporter22",
          "reporter23",
          "reporter24",
          "reporter25",
          "reporter26",
          "reporter27",
          "reporter28",
          "reporter29",
          "reporter30",
          "reporter31",
          "reporter32",
          "reporter33",
          "reporter34",
          "reporter35",
          "reporter36",
          "reporter37",
          "reporter38",
          "reporter39",
          "reporter40",
          "reporter41",
          "reporter42",
          "reporter43",
          "reporter44",
          "reporter45",
          "reporter46",
          "reporter47",
          "reporter48",
          "reporter49",
          "reporter50",
          "reporter51",
          "reporter52",
          "reporter53",
          "reporter54",
          "reporter55",
          "reporter56",
          "reporter57",
          "reporter58",
          "reporter59",
          "reporter60",
          "reporter61",
          "reporter62",
          "reporter63",
          "reporter64",
          "reporter65",
          "reporter66",
          "reporter67",
          "reporter68",
          "reporter69",
          "reporter70",
          "reporter71",
          "reporter72",
          "reporter73",
          "reporter74",
          "reporter75",
          "reporter76",
          "reporter77",
          "reporter78",
          "reporter79",
          "reporter80",
          "reporter81",
          "reporter82",
          "reporter83",
          "reporter84",
          "reporter85",
          "reporter86",
          "reporter87",
          "reporter88",
          "reporter89",
          "reporter90",
          "reporter91",
          "reporter92"
         ],
         "legendgroup": "",
         "marker": {
          "color": "#636efa"
         },
         "name": "",
         "notched": false,
         "offsetgroup": "",
         "orientation": "v",
         "showlegend": false,
         "type": "box",
         "x": [
          "News",
          "News",
          "News",
          "News",
          "Pro Sports",
          "Pro Sports",
          "News",
          "Pro Sports",
          "Pro Sports",
          "News",
          "Pro Sports",
          "Pro Sports",
          "News",
          "Pro Sports",
          "News",
          "Pro Sports",
          "News",
          "News",
          "News",
          "Pro Sports",
          "News",
          "News",
          "News",
          "News",
          "News",
          "Pro Sports",
          "News",
          "Pro Sports",
          "News",
          "Pro Sports",
          "News",
          "Pro Sports",
          "News",
          "Pro Sports",
          "News",
          "News",
          "News",
          "News",
          "News",
          "Commerce",
          "News",
          "News",
          "News",
          "HS Sports",
          "News",
          "Pro Sports",
          "News",
          "News",
          "News",
          "News",
          "News",
          "News",
          "News",
          "HS Sports",
          "News",
          "Pro Sports",
          "HS Sports",
          "News",
          "HS Sports",
          "HS Sports",
          "HS Sports",
          "HS Sports",
          "News",
          "HS Sports",
          "News",
          "HS Sports",
          "HS Sports",
          "News",
          "News",
          "News",
          "News",
          "HS Sports",
          "HS Sports",
          "News",
          "News",
          "News",
          "News",
          "News",
          "News",
          "HS Sports",
          "News",
          "News",
          "Pro Sports",
          "HS Sports",
          "HS Sports",
          "HS Sports",
          "HS Sports",
          "News",
          "News",
          "HS Sports",
          "News",
          "HS Sports"
         ],
         "x0": " ",
         "xaxis": "x",
         "y": [
          32981448,
          15239051,
          15227333,
          15129163,
          14449063,
          13875398,
          11032010,
          10493866,
          10100263,
          9931112,
          9284465,
          8731923,
          8483893,
          8308101,
          7830570,
          7653566,
          7423919,
          6725939,
          6715653,
          6693322,
          6581319,
          6506326,
          6413386,
          6271736,
          6054364,
          5971873,
          5395767,
          5039634,
          4746436,
          4633493,
          4548830,
          4485460,
          4464487,
          4392585,
          4315746,
          4275258,
          4024236,
          3995978,
          3968698,
          3963086,
          3938843,
          3889447,
          3722741,
          3480795,
          3442594,
          3325928,
          3247791,
          3245435,
          3186564,
          3120293,
          3106786,
          3080586,
          3076441,
          2973911,
          2919604,
          2897260,
          2668679,
          2666488,
          2491960,
          2331106,
          2313381,
          2306829,
          2298984,
          2276027,
          2197694,
          2188947,
          2178883,
          2048102,
          1494412,
          1389167,
          1367267,
          1123008,
          1019768,
          764832,
          732616,
          670406,
          578632,
          429207,
          415534,
          390632,
          375587,
          350911,
          301061,
          183553,
          156464,
          133516,
          113428,
          104081,
          87367,
          84589,
          31659,
          29688
         ],
         "y0": " ",
         "yaxis": "y"
        }
       ],
       "layout": {
        "boxmode": "group",
        "legend": {
         "tracegroupgap": 0
        },
        "margin": {
         "t": 60
        },
        "template": {
         "data": {
          "bar": [
           {
            "error_x": {
             "color": "#2a3f5f"
            },
            "error_y": {
             "color": "#2a3f5f"
            },
            "marker": {
             "line": {
              "color": "#E5ECF6",
              "width": 0.5
             }
            },
            "type": "bar"
           }
          ],
          "barpolar": [
           {
            "marker": {
             "line": {
              "color": "#E5ECF6",
              "width": 0.5
             }
            },
            "type": "barpolar"
           }
          ],
          "carpet": [
           {
            "aaxis": {
             "endlinecolor": "#2a3f5f",
             "gridcolor": "white",
             "linecolor": "white",
             "minorgridcolor": "white",
             "startlinecolor": "#2a3f5f"
            },
            "baxis": {
             "endlinecolor": "#2a3f5f",
             "gridcolor": "white",
             "linecolor": "white",
             "minorgridcolor": "white",
             "startlinecolor": "#2a3f5f"
            },
            "type": "carpet"
           }
          ],
          "choropleth": [
           {
            "colorbar": {
             "outlinewidth": 0,
             "ticks": ""
            },
            "type": "choropleth"
           }
          ],
          "contour": [
           {
            "colorbar": {
             "outlinewidth": 0,
             "ticks": ""
            },
            "colorscale": [
             [
              0,
              "#0d0887"
             ],
             [
              0.1111111111111111,
              "#46039f"
             ],
             [
              0.2222222222222222,
              "#7201a8"
             ],
             [
              0.3333333333333333,
              "#9c179e"
             ],
             [
              0.4444444444444444,
              "#bd3786"
             ],
             [
              0.5555555555555556,
              "#d8576b"
             ],
             [
              0.6666666666666666,
              "#ed7953"
             ],
             [
              0.7777777777777778,
              "#fb9f3a"
             ],
             [
              0.8888888888888888,
              "#fdca26"
             ],
             [
              1,
              "#f0f921"
             ]
            ],
            "type": "contour"
           }
          ],
          "contourcarpet": [
           {
            "colorbar": {
             "outlinewidth": 0,
             "ticks": ""
            },
            "type": "contourcarpet"
           }
          ],
          "heatmap": [
           {
            "colorbar": {
             "outlinewidth": 0,
             "ticks": ""
            },
            "colorscale": [
             [
              0,
              "#0d0887"
             ],
             [
              0.1111111111111111,
              "#46039f"
             ],
             [
              0.2222222222222222,
              "#7201a8"
             ],
             [
              0.3333333333333333,
              "#9c179e"
             ],
             [
              0.4444444444444444,
              "#bd3786"
             ],
             [
              0.5555555555555556,
              "#d8576b"
             ],
             [
              0.6666666666666666,
              "#ed7953"
             ],
             [
              0.7777777777777778,
              "#fb9f3a"
             ],
             [
              0.8888888888888888,
              "#fdca26"
             ],
             [
              1,
              "#f0f921"
             ]
            ],
            "type": "heatmap"
           }
          ],
          "heatmapgl": [
           {
            "colorbar": {
             "outlinewidth": 0,
             "ticks": ""
            },
            "colorscale": [
             [
              0,
              "#0d0887"
             ],
             [
              0.1111111111111111,
              "#46039f"
             ],
             [
              0.2222222222222222,
              "#7201a8"
             ],
             [
              0.3333333333333333,
              "#9c179e"
             ],
             [
              0.4444444444444444,
              "#bd3786"
             ],
             [
              0.5555555555555556,
              "#d8576b"
             ],
             [
              0.6666666666666666,
              "#ed7953"
             ],
             [
              0.7777777777777778,
              "#fb9f3a"
             ],
             [
              0.8888888888888888,
              "#fdca26"
             ],
             [
              1,
              "#f0f921"
             ]
            ],
            "type": "heatmapgl"
           }
          ],
          "histogram": [
           {
            "marker": {
             "colorbar": {
              "outlinewidth": 0,
              "ticks": ""
             }
            },
            "type": "histogram"
           }
          ],
          "histogram2d": [
           {
            "colorbar": {
             "outlinewidth": 0,
             "ticks": ""
            },
            "colorscale": [
             [
              0,
              "#0d0887"
             ],
             [
              0.1111111111111111,
              "#46039f"
             ],
             [
              0.2222222222222222,
              "#7201a8"
             ],
             [
              0.3333333333333333,
              "#9c179e"
             ],
             [
              0.4444444444444444,
              "#bd3786"
             ],
             [
              0.5555555555555556,
              "#d8576b"
             ],
             [
              0.6666666666666666,
              "#ed7953"
             ],
             [
              0.7777777777777778,
              "#fb9f3a"
             ],
             [
              0.8888888888888888,
              "#fdca26"
             ],
             [
              1,
              "#f0f921"
             ]
            ],
            "type": "histogram2d"
           }
          ],
          "histogram2dcontour": [
           {
            "colorbar": {
             "outlinewidth": 0,
             "ticks": ""
            },
            "colorscale": [
             [
              0,
              "#0d0887"
             ],
             [
              0.1111111111111111,
              "#46039f"
             ],
             [
              0.2222222222222222,
              "#7201a8"
             ],
             [
              0.3333333333333333,
              "#9c179e"
             ],
             [
              0.4444444444444444,
              "#bd3786"
             ],
             [
              0.5555555555555556,
              "#d8576b"
             ],
             [
              0.6666666666666666,
              "#ed7953"
             ],
             [
              0.7777777777777778,
              "#fb9f3a"
             ],
             [
              0.8888888888888888,
              "#fdca26"
             ],
             [
              1,
              "#f0f921"
             ]
            ],
            "type": "histogram2dcontour"
           }
          ],
          "mesh3d": [
           {
            "colorbar": {
             "outlinewidth": 0,
             "ticks": ""
            },
            "type": "mesh3d"
           }
          ],
          "parcoords": [
           {
            "line": {
             "colorbar": {
              "outlinewidth": 0,
              "ticks": ""
             }
            },
            "type": "parcoords"
           }
          ],
          "pie": [
           {
            "automargin": true,
            "type": "pie"
           }
          ],
          "scatter": [
           {
            "marker": {
             "colorbar": {
              "outlinewidth": 0,
              "ticks": ""
             }
            },
            "type": "scatter"
           }
          ],
          "scatter3d": [
           {
            "line": {
             "colorbar": {
              "outlinewidth": 0,
              "ticks": ""
             }
            },
            "marker": {
             "colorbar": {
              "outlinewidth": 0,
              "ticks": ""
             }
            },
            "type": "scatter3d"
           }
          ],
          "scattercarpet": [
           {
            "marker": {
             "colorbar": {
              "outlinewidth": 0,
              "ticks": ""
             }
            },
            "type": "scattercarpet"
           }
          ],
          "scattergeo": [
           {
            "marker": {
             "colorbar": {
              "outlinewidth": 0,
              "ticks": ""
             }
            },
            "type": "scattergeo"
           }
          ],
          "scattergl": [
           {
            "marker": {
             "colorbar": {
              "outlinewidth": 0,
              "ticks": ""
             }
            },
            "type": "scattergl"
           }
          ],
          "scattermapbox": [
           {
            "marker": {
             "colorbar": {
              "outlinewidth": 0,
              "ticks": ""
             }
            },
            "type": "scattermapbox"
           }
          ],
          "scatterpolar": [
           {
            "marker": {
             "colorbar": {
              "outlinewidth": 0,
              "ticks": ""
             }
            },
            "type": "scatterpolar"
           }
          ],
          "scatterpolargl": [
           {
            "marker": {
             "colorbar": {
              "outlinewidth": 0,
              "ticks": ""
             }
            },
            "type": "scatterpolargl"
           }
          ],
          "scatterternary": [
           {
            "marker": {
             "colorbar": {
              "outlinewidth": 0,
              "ticks": ""
             }
            },
            "type": "scatterternary"
           }
          ],
          "surface": [
           {
            "colorbar": {
             "outlinewidth": 0,
             "ticks": ""
            },
            "colorscale": [
             [
              0,
              "#0d0887"
             ],
             [
              0.1111111111111111,
              "#46039f"
             ],
             [
              0.2222222222222222,
              "#7201a8"
             ],
             [
              0.3333333333333333,
              "#9c179e"
             ],
             [
              0.4444444444444444,
              "#bd3786"
             ],
             [
              0.5555555555555556,
              "#d8576b"
             ],
             [
              0.6666666666666666,
              "#ed7953"
             ],
             [
              0.7777777777777778,
              "#fb9f3a"
             ],
             [
              0.8888888888888888,
              "#fdca26"
             ],
             [
              1,
              "#f0f921"
             ]
            ],
            "type": "surface"
           }
          ],
          "table": [
           {
            "cells": {
             "fill": {
              "color": "#EBF0F8"
             },
             "line": {
              "color": "white"
             }
            },
            "header": {
             "fill": {
              "color": "#C8D4E3"
             },
             "line": {
              "color": "white"
             }
            },
            "type": "table"
           }
          ]
         },
         "layout": {
          "annotationdefaults": {
           "arrowcolor": "#2a3f5f",
           "arrowhead": 0,
           "arrowwidth": 1
          },
          "coloraxis": {
           "colorbar": {
            "outlinewidth": 0,
            "ticks": ""
           }
          },
          "colorscale": {
           "diverging": [
            [
             0,
             "#8e0152"
            ],
            [
             0.1,
             "#c51b7d"
            ],
            [
             0.2,
             "#de77ae"
            ],
            [
             0.3,
             "#f1b6da"
            ],
            [
             0.4,
             "#fde0ef"
            ],
            [
             0.5,
             "#f7f7f7"
            ],
            [
             0.6,
             "#e6f5d0"
            ],
            [
             0.7,
             "#b8e186"
            ],
            [
             0.8,
             "#7fbc41"
            ],
            [
             0.9,
             "#4d9221"
            ],
            [
             1,
             "#276419"
            ]
           ],
           "sequential": [
            [
             0,
             "#0d0887"
            ],
            [
             0.1111111111111111,
             "#46039f"
            ],
            [
             0.2222222222222222,
             "#7201a8"
            ],
            [
             0.3333333333333333,
             "#9c179e"
            ],
            [
             0.4444444444444444,
             "#bd3786"
            ],
            [
             0.5555555555555556,
             "#d8576b"
            ],
            [
             0.6666666666666666,
             "#ed7953"
            ],
            [
             0.7777777777777778,
             "#fb9f3a"
            ],
            [
             0.8888888888888888,
             "#fdca26"
            ],
            [
             1,
             "#f0f921"
            ]
           ],
           "sequentialminus": [
            [
             0,
             "#0d0887"
            ],
            [
             0.1111111111111111,
             "#46039f"
            ],
            [
             0.2222222222222222,
             "#7201a8"
            ],
            [
             0.3333333333333333,
             "#9c179e"
            ],
            [
             0.4444444444444444,
             "#bd3786"
            ],
            [
             0.5555555555555556,
             "#d8576b"
            ],
            [
             0.6666666666666666,
             "#ed7953"
            ],
            [
             0.7777777777777778,
             "#fb9f3a"
            ],
            [
             0.8888888888888888,
             "#fdca26"
            ],
            [
             1,
             "#f0f921"
            ]
           ]
          },
          "colorway": [
           "#636efa",
           "#EF553B",
           "#00cc96",
           "#ab63fa",
           "#FFA15A",
           "#19d3f3",
           "#FF6692",
           "#B6E880",
           "#FF97FF",
           "#FECB52"
          ],
          "font": {
           "color": "#2a3f5f"
          },
          "geo": {
           "bgcolor": "white",
           "lakecolor": "white",
           "landcolor": "#E5ECF6",
           "showlakes": true,
           "showland": true,
           "subunitcolor": "white"
          },
          "hoverlabel": {
           "align": "left"
          },
          "hovermode": "closest",
          "mapbox": {
           "style": "light"
          },
          "paper_bgcolor": "white",
          "plot_bgcolor": "#E5ECF6",
          "polar": {
           "angularaxis": {
            "gridcolor": "white",
            "linecolor": "white",
            "ticks": ""
           },
           "bgcolor": "#E5ECF6",
           "radialaxis": {
            "gridcolor": "white",
            "linecolor": "white",
            "ticks": ""
           }
          },
          "scene": {
           "xaxis": {
            "backgroundcolor": "#E5ECF6",
            "gridcolor": "white",
            "gridwidth": 2,
            "linecolor": "white",
            "showbackground": true,
            "ticks": "",
            "zerolinecolor": "white"
           },
           "yaxis": {
            "backgroundcolor": "#E5ECF6",
            "gridcolor": "white",
            "gridwidth": 2,
            "linecolor": "white",
            "showbackground": true,
            "ticks": "",
            "zerolinecolor": "white"
           },
           "zaxis": {
            "backgroundcolor": "#E5ECF6",
            "gridcolor": "white",
            "gridwidth": 2,
            "linecolor": "white",
            "showbackground": true,
            "ticks": "",
            "zerolinecolor": "white"
           }
          },
          "shapedefaults": {
           "line": {
            "color": "#2a3f5f"
           }
          },
          "ternary": {
           "aaxis": {
            "gridcolor": "white",
            "linecolor": "white",
            "ticks": ""
           },
           "baxis": {
            "gridcolor": "white",
            "linecolor": "white",
            "ticks": ""
           },
           "bgcolor": "#E5ECF6",
           "caxis": {
            "gridcolor": "white",
            "linecolor": "white",
            "ticks": ""
           }
          },
          "title": {
           "x": 0.05
          },
          "xaxis": {
           "automargin": true,
           "gridcolor": "white",
           "linecolor": "white",
           "ticks": "",
           "title": {
            "standoff": 15
           },
           "zerolinecolor": "white",
           "zerolinewidth": 2
          },
          "yaxis": {
           "automargin": true,
           "gridcolor": "white",
           "linecolor": "white",
           "ticks": "",
           "title": {
            "standoff": 15
           },
           "zerolinecolor": "white",
           "zerolinewidth": 2
          }
         }
        },
        "xaxis": {
         "anchor": "y",
         "domain": [
          0,
          1
         ],
         "title": {
          "text": "Team"
         }
        },
        "yaxis": {
         "anchor": "x",
         "domain": [
          0,
          1
         ],
         "title": {
          "text": "CV"
         }
        }
       }
      },
      "text/html": [
       "<div>\n",
       "        \n",
       "        \n",
       "            <div id=\"921ce2ab-70ed-40c5-86c1-f07fe982950b\" class=\"plotly-graph-div\" style=\"height:525px; width:100%;\"></div>\n",
       "            <script type=\"text/javascript\">\n",
       "                require([\"plotly\"], function(Plotly) {\n",
       "                    window.PLOTLYENV=window.PLOTLYENV || {};\n",
       "                    \n",
       "                if (document.getElementById(\"921ce2ab-70ed-40c5-86c1-f07fe982950b\")) {\n",
       "                    Plotly.newPlot(\n",
       "                        '921ce2ab-70ed-40c5-86c1-f07fe982950b',\n",
       "                        [{\"alignmentgroup\": \"True\", \"boxpoints\": \"all\", \"hoverlabel\": {\"namelength\": 0}, \"hovertemplate\": \"<b>%{hovertext}</b><br><br>Team=%{x}<br>CV=%{y}\", \"hovertext\": [\"reporter1\", \"reporter2\", \"reporter3\", \"reporter4\", \"reporter5\", \"reporter6\", \"reporter7\", \"reporter8\", \"reporter9\", \"reporter10\", \"reporter11\", \"reporter12\", \"reporter13\", \"reporter14\", \"reporter15\", \"reporter16\", \"reporter17\", \"reporter18\", \"reporter19\", \"reporter20\", \"reporter21\", \"reporter22\", \"reporter23\", \"reporter24\", \"reporter25\", \"reporter26\", \"reporter27\", \"reporter28\", \"reporter29\", \"reporter30\", \"reporter31\", \"reporter32\", \"reporter33\", \"reporter34\", \"reporter35\", \"reporter36\", \"reporter37\", \"reporter38\", \"reporter39\", \"reporter40\", \"reporter41\", \"reporter42\", \"reporter43\", \"reporter44\", \"reporter45\", \"reporter46\", \"reporter47\", \"reporter48\", \"reporter49\", \"reporter50\", \"reporter51\", \"reporter52\", \"reporter53\", \"reporter54\", \"reporter55\", \"reporter56\", \"reporter57\", \"reporter58\", \"reporter59\", \"reporter60\", \"reporter61\", \"reporter62\", \"reporter63\", \"reporter64\", \"reporter65\", \"reporter66\", \"reporter67\", \"reporter68\", \"reporter69\", \"reporter70\", \"reporter71\", \"reporter72\", \"reporter73\", \"reporter74\", \"reporter75\", \"reporter76\", \"reporter77\", \"reporter78\", \"reporter79\", \"reporter80\", \"reporter81\", \"reporter82\", \"reporter83\", \"reporter84\", \"reporter85\", \"reporter86\", \"reporter87\", \"reporter88\", \"reporter89\", \"reporter90\", \"reporter91\", \"reporter92\"], \"legendgroup\": \"\", \"marker\": {\"color\": \"#636efa\"}, \"name\": \"\", \"notched\": false, \"offsetgroup\": \"\", \"orientation\": \"v\", \"showlegend\": false, \"type\": \"box\", \"x\": [\"News\", \"News\", \"News\", \"News\", \"Pro Sports\", \"Pro Sports\", \"News\", \"Pro Sports\", \"Pro Sports\", \"News\", \"Pro Sports\", \"Pro Sports\", \"News\", \"Pro Sports\", \"News\", \"Pro Sports\", \"News\", \"News\", \"News\", \"Pro Sports\", \"News\", \"News\", \"News\", \"News\", \"News\", \"Pro Sports\", \"News\", \"Pro Sports\", \"News\", \"Pro Sports\", \"News\", \"Pro Sports\", \"News\", \"Pro Sports\", \"News\", \"News\", \"News\", \"News\", \"News\", \"Commerce\", \"News\", \"News\", \"News\", \"HS Sports\", \"News\", \"Pro Sports\", \"News\", \"News\", \"News\", \"News\", \"News\", \"News\", \"News\", \"HS Sports\", \"News\", \"Pro Sports\", \"HS Sports\", \"News\", \"HS Sports\", \"HS Sports\", \"HS Sports\", \"HS Sports\", \"News\", \"HS Sports\", \"News\", \"HS Sports\", \"HS Sports\", \"News\", \"News\", \"News\", \"News\", \"HS Sports\", \"HS Sports\", \"News\", \"News\", \"News\", \"News\", \"News\", \"News\", \"HS Sports\", \"News\", \"News\", \"Pro Sports\", \"HS Sports\", \"HS Sports\", \"HS Sports\", \"HS Sports\", \"News\", \"News\", \"HS Sports\", \"News\", \"HS Sports\"], \"x0\": \" \", \"xaxis\": \"x\", \"y\": [32981448, 15239051, 15227333, 15129163, 14449063, 13875398, 11032010, 10493866, 10100263, 9931112, 9284465, 8731923, 8483893, 8308101, 7830570, 7653566, 7423919, 6725939, 6715653, 6693322, 6581319, 6506326, 6413386, 6271736, 6054364, 5971873, 5395767, 5039634, 4746436, 4633493, 4548830, 4485460, 4464487, 4392585, 4315746, 4275258, 4024236, 3995978, 3968698, 3963086, 3938843, 3889447, 3722741, 3480795, 3442594, 3325928, 3247791, 3245435, 3186564, 3120293, 3106786, 3080586, 3076441, 2973911, 2919604, 2897260, 2668679, 2666488, 2491960, 2331106, 2313381, 2306829, 2298984, 2276027, 2197694, 2188947, 2178883, 2048102, 1494412, 1389167, 1367267, 1123008, 1019768, 764832, 732616, 670406, 578632, 429207, 415534, 390632, 375587, 350911, 301061, 183553, 156464, 133516, 113428, 104081, 87367, 84589, 31659, 29688], \"y0\": \" \", \"yaxis\": \"y\"}],\n",
       "                        {\"boxmode\": \"group\", \"legend\": {\"tracegroupgap\": 0}, \"margin\": {\"t\": 60}, \"template\": {\"data\": {\"bar\": [{\"error_x\": {\"color\": \"#2a3f5f\"}, \"error_y\": {\"color\": \"#2a3f5f\"}, \"marker\": {\"line\": {\"color\": \"#E5ECF6\", \"width\": 0.5}}, \"type\": \"bar\"}], \"barpolar\": [{\"marker\": {\"line\": {\"color\": \"#E5ECF6\", \"width\": 0.5}}, \"type\": \"barpolar\"}], \"carpet\": [{\"aaxis\": {\"endlinecolor\": \"#2a3f5f\", \"gridcolor\": \"white\", \"linecolor\": \"white\", \"minorgridcolor\": \"white\", \"startlinecolor\": \"#2a3f5f\"}, \"baxis\": {\"endlinecolor\": \"#2a3f5f\", \"gridcolor\": \"white\", \"linecolor\": \"white\", \"minorgridcolor\": \"white\", \"startlinecolor\": \"#2a3f5f\"}, \"type\": \"carpet\"}], \"choropleth\": [{\"colorbar\": {\"outlinewidth\": 0, \"ticks\": \"\"}, \"type\": \"choropleth\"}], \"contour\": [{\"colorbar\": {\"outlinewidth\": 0, \"ticks\": \"\"}, \"colorscale\": [[0.0, \"#0d0887\"], [0.1111111111111111, \"#46039f\"], [0.2222222222222222, \"#7201a8\"], [0.3333333333333333, \"#9c179e\"], [0.4444444444444444, \"#bd3786\"], [0.5555555555555556, \"#d8576b\"], [0.6666666666666666, \"#ed7953\"], [0.7777777777777778, \"#fb9f3a\"], [0.8888888888888888, \"#fdca26\"], [1.0, \"#f0f921\"]], \"type\": \"contour\"}], \"contourcarpet\": [{\"colorbar\": {\"outlinewidth\": 0, \"ticks\": \"\"}, \"type\": \"contourcarpet\"}], \"heatmap\": [{\"colorbar\": {\"outlinewidth\": 0, \"ticks\": \"\"}, \"colorscale\": [[0.0, \"#0d0887\"], [0.1111111111111111, \"#46039f\"], [0.2222222222222222, \"#7201a8\"], [0.3333333333333333, \"#9c179e\"], [0.4444444444444444, \"#bd3786\"], [0.5555555555555556, \"#d8576b\"], [0.6666666666666666, \"#ed7953\"], [0.7777777777777778, \"#fb9f3a\"], [0.8888888888888888, \"#fdca26\"], [1.0, \"#f0f921\"]], \"type\": \"heatmap\"}], \"heatmapgl\": [{\"colorbar\": {\"outlinewidth\": 0, \"ticks\": \"\"}, \"colorscale\": [[0.0, \"#0d0887\"], [0.1111111111111111, \"#46039f\"], [0.2222222222222222, \"#7201a8\"], [0.3333333333333333, \"#9c179e\"], [0.4444444444444444, \"#bd3786\"], [0.5555555555555556, \"#d8576b\"], [0.6666666666666666, \"#ed7953\"], [0.7777777777777778, \"#fb9f3a\"], [0.8888888888888888, \"#fdca26\"], [1.0, \"#f0f921\"]], \"type\": \"heatmapgl\"}], \"histogram\": [{\"marker\": {\"colorbar\": {\"outlinewidth\": 0, \"ticks\": \"\"}}, \"type\": \"histogram\"}], \"histogram2d\": [{\"colorbar\": {\"outlinewidth\": 0, \"ticks\": \"\"}, \"colorscale\": [[0.0, \"#0d0887\"], [0.1111111111111111, \"#46039f\"], [0.2222222222222222, \"#7201a8\"], [0.3333333333333333, \"#9c179e\"], [0.4444444444444444, \"#bd3786\"], [0.5555555555555556, \"#d8576b\"], [0.6666666666666666, \"#ed7953\"], [0.7777777777777778, \"#fb9f3a\"], [0.8888888888888888, \"#fdca26\"], [1.0, \"#f0f921\"]], \"type\": \"histogram2d\"}], \"histogram2dcontour\": [{\"colorbar\": {\"outlinewidth\": 0, \"ticks\": \"\"}, \"colorscale\": [[0.0, \"#0d0887\"], [0.1111111111111111, \"#46039f\"], [0.2222222222222222, \"#7201a8\"], [0.3333333333333333, \"#9c179e\"], [0.4444444444444444, \"#bd3786\"], [0.5555555555555556, \"#d8576b\"], [0.6666666666666666, \"#ed7953\"], [0.7777777777777778, \"#fb9f3a\"], [0.8888888888888888, \"#fdca26\"], [1.0, \"#f0f921\"]], \"type\": \"histogram2dcontour\"}], \"mesh3d\": [{\"colorbar\": {\"outlinewidth\": 0, \"ticks\": \"\"}, \"type\": \"mesh3d\"}], \"parcoords\": [{\"line\": {\"colorbar\": {\"outlinewidth\": 0, \"ticks\": \"\"}}, \"type\": \"parcoords\"}], \"pie\": [{\"automargin\": true, \"type\": \"pie\"}], \"scatter\": [{\"marker\": {\"colorbar\": {\"outlinewidth\": 0, \"ticks\": \"\"}}, \"type\": \"scatter\"}], \"scatter3d\": [{\"line\": {\"colorbar\": {\"outlinewidth\": 0, \"ticks\": \"\"}}, \"marker\": {\"colorbar\": {\"outlinewidth\": 0, \"ticks\": \"\"}}, \"type\": \"scatter3d\"}], \"scattercarpet\": [{\"marker\": {\"colorbar\": {\"outlinewidth\": 0, \"ticks\": \"\"}}, \"type\": \"scattercarpet\"}], \"scattergeo\": [{\"marker\": {\"colorbar\": {\"outlinewidth\": 0, \"ticks\": \"\"}}, \"type\": \"scattergeo\"}], \"scattergl\": [{\"marker\": {\"colorbar\": {\"outlinewidth\": 0, \"ticks\": \"\"}}, \"type\": \"scattergl\"}], \"scattermapbox\": [{\"marker\": {\"colorbar\": {\"outlinewidth\": 0, \"ticks\": \"\"}}, \"type\": \"scattermapbox\"}], \"scatterpolar\": [{\"marker\": {\"colorbar\": {\"outlinewidth\": 0, \"ticks\": \"\"}}, \"type\": \"scatterpolar\"}], \"scatterpolargl\": [{\"marker\": {\"colorbar\": {\"outlinewidth\": 0, \"ticks\": \"\"}}, \"type\": \"scatterpolargl\"}], \"scatterternary\": [{\"marker\": {\"colorbar\": {\"outlinewidth\": 0, \"ticks\": \"\"}}, \"type\": \"scatterternary\"}], \"surface\": [{\"colorbar\": {\"outlinewidth\": 0, \"ticks\": \"\"}, \"colorscale\": [[0.0, \"#0d0887\"], [0.1111111111111111, \"#46039f\"], [0.2222222222222222, \"#7201a8\"], [0.3333333333333333, \"#9c179e\"], [0.4444444444444444, \"#bd3786\"], [0.5555555555555556, \"#d8576b\"], [0.6666666666666666, \"#ed7953\"], [0.7777777777777778, \"#fb9f3a\"], [0.8888888888888888, \"#fdca26\"], [1.0, \"#f0f921\"]], \"type\": \"surface\"}], \"table\": [{\"cells\": {\"fill\": {\"color\": \"#EBF0F8\"}, \"line\": {\"color\": \"white\"}}, \"header\": {\"fill\": {\"color\": \"#C8D4E3\"}, \"line\": {\"color\": \"white\"}}, \"type\": \"table\"}]}, \"layout\": {\"annotationdefaults\": {\"arrowcolor\": \"#2a3f5f\", \"arrowhead\": 0, \"arrowwidth\": 1}, \"coloraxis\": {\"colorbar\": {\"outlinewidth\": 0, \"ticks\": \"\"}}, \"colorscale\": {\"diverging\": [[0, \"#8e0152\"], [0.1, \"#c51b7d\"], [0.2, \"#de77ae\"], [0.3, \"#f1b6da\"], [0.4, \"#fde0ef\"], [0.5, \"#f7f7f7\"], [0.6, \"#e6f5d0\"], [0.7, \"#b8e186\"], [0.8, \"#7fbc41\"], [0.9, \"#4d9221\"], [1, \"#276419\"]], \"sequential\": [[0.0, \"#0d0887\"], [0.1111111111111111, \"#46039f\"], [0.2222222222222222, \"#7201a8\"], [0.3333333333333333, \"#9c179e\"], [0.4444444444444444, \"#bd3786\"], [0.5555555555555556, \"#d8576b\"], [0.6666666666666666, \"#ed7953\"], [0.7777777777777778, \"#fb9f3a\"], [0.8888888888888888, \"#fdca26\"], [1.0, \"#f0f921\"]], \"sequentialminus\": [[0.0, \"#0d0887\"], [0.1111111111111111, \"#46039f\"], [0.2222222222222222, \"#7201a8\"], [0.3333333333333333, \"#9c179e\"], [0.4444444444444444, \"#bd3786\"], [0.5555555555555556, \"#d8576b\"], [0.6666666666666666, \"#ed7953\"], [0.7777777777777778, \"#fb9f3a\"], [0.8888888888888888, \"#fdca26\"], [1.0, \"#f0f921\"]]}, \"colorway\": [\"#636efa\", \"#EF553B\", \"#00cc96\", \"#ab63fa\", \"#FFA15A\", \"#19d3f3\", \"#FF6692\", \"#B6E880\", \"#FF97FF\", \"#FECB52\"], \"font\": {\"color\": \"#2a3f5f\"}, \"geo\": {\"bgcolor\": \"white\", \"lakecolor\": \"white\", \"landcolor\": \"#E5ECF6\", \"showlakes\": true, \"showland\": true, \"subunitcolor\": \"white\"}, \"hoverlabel\": {\"align\": \"left\"}, \"hovermode\": \"closest\", \"mapbox\": {\"style\": \"light\"}, \"paper_bgcolor\": \"white\", \"plot_bgcolor\": \"#E5ECF6\", \"polar\": {\"angularaxis\": {\"gridcolor\": \"white\", \"linecolor\": \"white\", \"ticks\": \"\"}, \"bgcolor\": \"#E5ECF6\", \"radialaxis\": {\"gridcolor\": \"white\", \"linecolor\": \"white\", \"ticks\": \"\"}}, \"scene\": {\"xaxis\": {\"backgroundcolor\": \"#E5ECF6\", \"gridcolor\": \"white\", \"gridwidth\": 2, \"linecolor\": \"white\", \"showbackground\": true, \"ticks\": \"\", \"zerolinecolor\": \"white\"}, \"yaxis\": {\"backgroundcolor\": \"#E5ECF6\", \"gridcolor\": \"white\", \"gridwidth\": 2, \"linecolor\": \"white\", \"showbackground\": true, \"ticks\": \"\", \"zerolinecolor\": \"white\"}, \"zaxis\": {\"backgroundcolor\": \"#E5ECF6\", \"gridcolor\": \"white\", \"gridwidth\": 2, \"linecolor\": \"white\", \"showbackground\": true, \"ticks\": \"\", \"zerolinecolor\": \"white\"}}, \"shapedefaults\": {\"line\": {\"color\": \"#2a3f5f\"}}, \"ternary\": {\"aaxis\": {\"gridcolor\": \"white\", \"linecolor\": \"white\", \"ticks\": \"\"}, \"baxis\": {\"gridcolor\": \"white\", \"linecolor\": \"white\", \"ticks\": \"\"}, \"bgcolor\": \"#E5ECF6\", \"caxis\": {\"gridcolor\": \"white\", \"linecolor\": \"white\", \"ticks\": \"\"}}, \"title\": {\"x\": 0.05}, \"xaxis\": {\"automargin\": true, \"gridcolor\": \"white\", \"linecolor\": \"white\", \"ticks\": \"\", \"title\": {\"standoff\": 15}, \"zerolinecolor\": \"white\", \"zerolinewidth\": 2}, \"yaxis\": {\"automargin\": true, \"gridcolor\": \"white\", \"linecolor\": \"white\", \"ticks\": \"\", \"title\": {\"standoff\": 15}, \"zerolinecolor\": \"white\", \"zerolinewidth\": 2}}}, \"xaxis\": {\"anchor\": \"y\", \"domain\": [0.0, 1.0], \"title\": {\"text\": \"Team\"}}, \"yaxis\": {\"anchor\": \"x\", \"domain\": [0.0, 1.0], \"title\": {\"text\": \"CV\"}}},\n",
       "                        {\"responsive\": true}\n",
       "                    ).then(function(){\n",
       "                            \n",
       "var gd = document.getElementById('921ce2ab-70ed-40c5-86c1-f07fe982950b');\n",
       "var x = new MutationObserver(function (mutations, observer) {{\n",
       "        var display = window.getComputedStyle(gd).display;\n",
       "        if (!display || display === 'none') {{\n",
       "            console.log([gd, 'removed!']);\n",
       "            Plotly.purge(gd);\n",
       "            observer.disconnect();\n",
       "        }}\n",
       "}});\n",
       "\n",
       "// Listen for the removal of the full notebook cells\n",
       "var notebookContainer = gd.closest('#notebook-container');\n",
       "if (notebookContainer) {{\n",
       "    x.observe(notebookContainer, {childList: true});\n",
       "}}\n",
       "\n",
       "// Listen for the clearing of the current output cell\n",
       "var outputEl = gd.closest('.output');\n",
       "if (outputEl) {{\n",
       "    x.observe(outputEl, {childList: true});\n",
       "}}\n",
       "\n",
       "                        })\n",
       "                };\n",
       "                });\n",
       "            </script>\n",
       "        </div>"
      ]
     },
     "metadata": {},
     "output_type": "display_data"
    }
   ],
   "source": [
    "# CV Box plots \n",
    "\n",
    "fig = px.box(df, x=\"Team\", y=\"CV\", points=\"all\",hover_name=\"ID Match\",)\n",
    "fig.show()"
   ]
  },
  {
   "cell_type": "code",
   "execution_count": 35,
   "metadata": {},
   "outputs": [
    {
     "data": {
      "application/vnd.plotly.v1+json": {
       "config": {
        "plotlyServerURL": "https://plot.ly"
       },
       "data": [
        {
         "alignmentgroup": "True",
         "boxpoints": "all",
         "hoverlabel": {
          "namelength": 0
         },
         "hovertemplate": "<b>%{hovertext}</b><br><br>Team=%{x}<br>Users=%{y}",
         "hovertext": [
          "reporter1",
          "reporter2",
          "reporter3",
          "reporter4",
          "reporter5",
          "reporter6",
          "reporter7",
          "reporter8",
          "reporter9",
          "reporter10",
          "reporter11",
          "reporter12",
          "reporter13",
          "reporter14",
          "reporter15",
          "reporter16",
          "reporter17",
          "reporter18",
          "reporter19",
          "reporter20",
          "reporter21",
          "reporter22",
          "reporter23",
          "reporter24",
          "reporter25",
          "reporter26",
          "reporter27",
          "reporter28",
          "reporter29",
          "reporter30",
          "reporter31",
          "reporter32",
          "reporter33",
          "reporter34",
          "reporter35",
          "reporter36",
          "reporter37",
          "reporter38",
          "reporter39",
          "reporter40",
          "reporter41",
          "reporter42",
          "reporter43",
          "reporter44",
          "reporter45",
          "reporter46",
          "reporter47",
          "reporter48",
          "reporter49",
          "reporter50",
          "reporter51",
          "reporter52",
          "reporter53",
          "reporter54",
          "reporter55",
          "reporter56",
          "reporter57",
          "reporter58",
          "reporter59",
          "reporter60",
          "reporter61",
          "reporter62",
          "reporter63",
          "reporter64",
          "reporter65",
          "reporter66",
          "reporter67",
          "reporter68",
          "reporter69",
          "reporter70",
          "reporter71",
          "reporter72",
          "reporter73",
          "reporter74",
          "reporter75",
          "reporter76",
          "reporter77",
          "reporter78",
          "reporter79",
          "reporter80",
          "reporter81",
          "reporter82",
          "reporter83",
          "reporter84",
          "reporter85",
          "reporter86",
          "reporter87",
          "reporter88",
          "reporter89",
          "reporter90",
          "reporter91",
          "reporter92"
         ],
         "legendgroup": "",
         "marker": {
          "color": "#636efa"
         },
         "name": "",
         "notched": false,
         "offsetgroup": "",
         "orientation": "v",
         "showlegend": false,
         "type": "box",
         "x": [
          "News",
          "News",
          "News",
          "News",
          "Pro Sports",
          "Pro Sports",
          "News",
          "Pro Sports",
          "Pro Sports",
          "News",
          "Pro Sports",
          "Pro Sports",
          "News",
          "Pro Sports",
          "News",
          "Pro Sports",
          "News",
          "News",
          "News",
          "Pro Sports",
          "News",
          "News",
          "News",
          "News",
          "News",
          "Pro Sports",
          "News",
          "Pro Sports",
          "News",
          "Pro Sports",
          "News",
          "Pro Sports",
          "News",
          "Pro Sports",
          "News",
          "News",
          "News",
          "News",
          "News",
          "Commerce",
          "News",
          "News",
          "News",
          "HS Sports",
          "News",
          "Pro Sports",
          "News",
          "News",
          "News",
          "News",
          "News",
          "News",
          "News",
          "HS Sports",
          "News",
          "Pro Sports",
          "HS Sports",
          "News",
          "HS Sports",
          "HS Sports",
          "HS Sports",
          "HS Sports",
          "News",
          "HS Sports",
          "News",
          "HS Sports",
          "HS Sports",
          "News",
          "News",
          "News",
          "News",
          "HS Sports",
          "HS Sports",
          "News",
          "News",
          "News",
          "News",
          "News",
          "News",
          "HS Sports",
          "News",
          "News",
          "Pro Sports",
          "HS Sports",
          "HS Sports",
          "HS Sports",
          "HS Sports",
          "News",
          "News",
          "HS Sports",
          "News",
          "HS Sports"
         ],
         "x0": " ",
         "xaxis": "x",
         "y": [
          8397483,
          8602754,
          5605578,
          4806779,
          2912920,
          10466241,
          4602489,
          3992132,
          8205363,
          3759147,
          5137170,
          2119223,
          3838321,
          2031770,
          3337093,
          4249110,
          4338116,
          278516,
          3507308,
          3570942,
          3462339,
          3067761,
          3515539,
          3101578,
          3071640,
          3087026,
          2474047,
          2020916,
          1942461,
          2126480,
          2335376,
          1965884,
          2210381,
          1260584,
          2360551,
          2330972,
          1929330,
          2226304,
          1858928,
          2316126,
          1829373,
          1826552,
          1921500,
          655071,
          2775037,
          1710315,
          1690020,
          1589114,
          1495599,
          1487155,
          1529913,
          1046106,
          1811427,
          870837,
          1616449,
          3296669,
          600362,
          1655880,
          756696,
          817105,
          645025,
          576991,
          1228829,
          400044,
          1239268,
          504970,
          541620,
          925595,
          744130,
          771380,
          635576,
          297039,
          224646,
          697417,
          403281,
          478358,
          425223,
          616370,
          298286,
          215624,
          224412,
          316740,
          264598,
          215568,
          122367,
          296829,
          186926,
          877868,
          100292,
          58568,
          31197,
          29805
         ],
         "y0": " ",
         "yaxis": "y"
        }
       ],
       "layout": {
        "boxmode": "group",
        "legend": {
         "tracegroupgap": 0
        },
        "margin": {
         "t": 60
        },
        "template": {
         "data": {
          "bar": [
           {
            "error_x": {
             "color": "#2a3f5f"
            },
            "error_y": {
             "color": "#2a3f5f"
            },
            "marker": {
             "line": {
              "color": "#E5ECF6",
              "width": 0.5
             }
            },
            "type": "bar"
           }
          ],
          "barpolar": [
           {
            "marker": {
             "line": {
              "color": "#E5ECF6",
              "width": 0.5
             }
            },
            "type": "barpolar"
           }
          ],
          "carpet": [
           {
            "aaxis": {
             "endlinecolor": "#2a3f5f",
             "gridcolor": "white",
             "linecolor": "white",
             "minorgridcolor": "white",
             "startlinecolor": "#2a3f5f"
            },
            "baxis": {
             "endlinecolor": "#2a3f5f",
             "gridcolor": "white",
             "linecolor": "white",
             "minorgridcolor": "white",
             "startlinecolor": "#2a3f5f"
            },
            "type": "carpet"
           }
          ],
          "choropleth": [
           {
            "colorbar": {
             "outlinewidth": 0,
             "ticks": ""
            },
            "type": "choropleth"
           }
          ],
          "contour": [
           {
            "colorbar": {
             "outlinewidth": 0,
             "ticks": ""
            },
            "colorscale": [
             [
              0,
              "#0d0887"
             ],
             [
              0.1111111111111111,
              "#46039f"
             ],
             [
              0.2222222222222222,
              "#7201a8"
             ],
             [
              0.3333333333333333,
              "#9c179e"
             ],
             [
              0.4444444444444444,
              "#bd3786"
             ],
             [
              0.5555555555555556,
              "#d8576b"
             ],
             [
              0.6666666666666666,
              "#ed7953"
             ],
             [
              0.7777777777777778,
              "#fb9f3a"
             ],
             [
              0.8888888888888888,
              "#fdca26"
             ],
             [
              1,
              "#f0f921"
             ]
            ],
            "type": "contour"
           }
          ],
          "contourcarpet": [
           {
            "colorbar": {
             "outlinewidth": 0,
             "ticks": ""
            },
            "type": "contourcarpet"
           }
          ],
          "heatmap": [
           {
            "colorbar": {
             "outlinewidth": 0,
             "ticks": ""
            },
            "colorscale": [
             [
              0,
              "#0d0887"
             ],
             [
              0.1111111111111111,
              "#46039f"
             ],
             [
              0.2222222222222222,
              "#7201a8"
             ],
             [
              0.3333333333333333,
              "#9c179e"
             ],
             [
              0.4444444444444444,
              "#bd3786"
             ],
             [
              0.5555555555555556,
              "#d8576b"
             ],
             [
              0.6666666666666666,
              "#ed7953"
             ],
             [
              0.7777777777777778,
              "#fb9f3a"
             ],
             [
              0.8888888888888888,
              "#fdca26"
             ],
             [
              1,
              "#f0f921"
             ]
            ],
            "type": "heatmap"
           }
          ],
          "heatmapgl": [
           {
            "colorbar": {
             "outlinewidth": 0,
             "ticks": ""
            },
            "colorscale": [
             [
              0,
              "#0d0887"
             ],
             [
              0.1111111111111111,
              "#46039f"
             ],
             [
              0.2222222222222222,
              "#7201a8"
             ],
             [
              0.3333333333333333,
              "#9c179e"
             ],
             [
              0.4444444444444444,
              "#bd3786"
             ],
             [
              0.5555555555555556,
              "#d8576b"
             ],
             [
              0.6666666666666666,
              "#ed7953"
             ],
             [
              0.7777777777777778,
              "#fb9f3a"
             ],
             [
              0.8888888888888888,
              "#fdca26"
             ],
             [
              1,
              "#f0f921"
             ]
            ],
            "type": "heatmapgl"
           }
          ],
          "histogram": [
           {
            "marker": {
             "colorbar": {
              "outlinewidth": 0,
              "ticks": ""
             }
            },
            "type": "histogram"
           }
          ],
          "histogram2d": [
           {
            "colorbar": {
             "outlinewidth": 0,
             "ticks": ""
            },
            "colorscale": [
             [
              0,
              "#0d0887"
             ],
             [
              0.1111111111111111,
              "#46039f"
             ],
             [
              0.2222222222222222,
              "#7201a8"
             ],
             [
              0.3333333333333333,
              "#9c179e"
             ],
             [
              0.4444444444444444,
              "#bd3786"
             ],
             [
              0.5555555555555556,
              "#d8576b"
             ],
             [
              0.6666666666666666,
              "#ed7953"
             ],
             [
              0.7777777777777778,
              "#fb9f3a"
             ],
             [
              0.8888888888888888,
              "#fdca26"
             ],
             [
              1,
              "#f0f921"
             ]
            ],
            "type": "histogram2d"
           }
          ],
          "histogram2dcontour": [
           {
            "colorbar": {
             "outlinewidth": 0,
             "ticks": ""
            },
            "colorscale": [
             [
              0,
              "#0d0887"
             ],
             [
              0.1111111111111111,
              "#46039f"
             ],
             [
              0.2222222222222222,
              "#7201a8"
             ],
             [
              0.3333333333333333,
              "#9c179e"
             ],
             [
              0.4444444444444444,
              "#bd3786"
             ],
             [
              0.5555555555555556,
              "#d8576b"
             ],
             [
              0.6666666666666666,
              "#ed7953"
             ],
             [
              0.7777777777777778,
              "#fb9f3a"
             ],
             [
              0.8888888888888888,
              "#fdca26"
             ],
             [
              1,
              "#f0f921"
             ]
            ],
            "type": "histogram2dcontour"
           }
          ],
          "mesh3d": [
           {
            "colorbar": {
             "outlinewidth": 0,
             "ticks": ""
            },
            "type": "mesh3d"
           }
          ],
          "parcoords": [
           {
            "line": {
             "colorbar": {
              "outlinewidth": 0,
              "ticks": ""
             }
            },
            "type": "parcoords"
           }
          ],
          "pie": [
           {
            "automargin": true,
            "type": "pie"
           }
          ],
          "scatter": [
           {
            "marker": {
             "colorbar": {
              "outlinewidth": 0,
              "ticks": ""
             }
            },
            "type": "scatter"
           }
          ],
          "scatter3d": [
           {
            "line": {
             "colorbar": {
              "outlinewidth": 0,
              "ticks": ""
             }
            },
            "marker": {
             "colorbar": {
              "outlinewidth": 0,
              "ticks": ""
             }
            },
            "type": "scatter3d"
           }
          ],
          "scattercarpet": [
           {
            "marker": {
             "colorbar": {
              "outlinewidth": 0,
              "ticks": ""
             }
            },
            "type": "scattercarpet"
           }
          ],
          "scattergeo": [
           {
            "marker": {
             "colorbar": {
              "outlinewidth": 0,
              "ticks": ""
             }
            },
            "type": "scattergeo"
           }
          ],
          "scattergl": [
           {
            "marker": {
             "colorbar": {
              "outlinewidth": 0,
              "ticks": ""
             }
            },
            "type": "scattergl"
           }
          ],
          "scattermapbox": [
           {
            "marker": {
             "colorbar": {
              "outlinewidth": 0,
              "ticks": ""
             }
            },
            "type": "scattermapbox"
           }
          ],
          "scatterpolar": [
           {
            "marker": {
             "colorbar": {
              "outlinewidth": 0,
              "ticks": ""
             }
            },
            "type": "scatterpolar"
           }
          ],
          "scatterpolargl": [
           {
            "marker": {
             "colorbar": {
              "outlinewidth": 0,
              "ticks": ""
             }
            },
            "type": "scatterpolargl"
           }
          ],
          "scatterternary": [
           {
            "marker": {
             "colorbar": {
              "outlinewidth": 0,
              "ticks": ""
             }
            },
            "type": "scatterternary"
           }
          ],
          "surface": [
           {
            "colorbar": {
             "outlinewidth": 0,
             "ticks": ""
            },
            "colorscale": [
             [
              0,
              "#0d0887"
             ],
             [
              0.1111111111111111,
              "#46039f"
             ],
             [
              0.2222222222222222,
              "#7201a8"
             ],
             [
              0.3333333333333333,
              "#9c179e"
             ],
             [
              0.4444444444444444,
              "#bd3786"
             ],
             [
              0.5555555555555556,
              "#d8576b"
             ],
             [
              0.6666666666666666,
              "#ed7953"
             ],
             [
              0.7777777777777778,
              "#fb9f3a"
             ],
             [
              0.8888888888888888,
              "#fdca26"
             ],
             [
              1,
              "#f0f921"
             ]
            ],
            "type": "surface"
           }
          ],
          "table": [
           {
            "cells": {
             "fill": {
              "color": "#EBF0F8"
             },
             "line": {
              "color": "white"
             }
            },
            "header": {
             "fill": {
              "color": "#C8D4E3"
             },
             "line": {
              "color": "white"
             }
            },
            "type": "table"
           }
          ]
         },
         "layout": {
          "annotationdefaults": {
           "arrowcolor": "#2a3f5f",
           "arrowhead": 0,
           "arrowwidth": 1
          },
          "coloraxis": {
           "colorbar": {
            "outlinewidth": 0,
            "ticks": ""
           }
          },
          "colorscale": {
           "diverging": [
            [
             0,
             "#8e0152"
            ],
            [
             0.1,
             "#c51b7d"
            ],
            [
             0.2,
             "#de77ae"
            ],
            [
             0.3,
             "#f1b6da"
            ],
            [
             0.4,
             "#fde0ef"
            ],
            [
             0.5,
             "#f7f7f7"
            ],
            [
             0.6,
             "#e6f5d0"
            ],
            [
             0.7,
             "#b8e186"
            ],
            [
             0.8,
             "#7fbc41"
            ],
            [
             0.9,
             "#4d9221"
            ],
            [
             1,
             "#276419"
            ]
           ],
           "sequential": [
            [
             0,
             "#0d0887"
            ],
            [
             0.1111111111111111,
             "#46039f"
            ],
            [
             0.2222222222222222,
             "#7201a8"
            ],
            [
             0.3333333333333333,
             "#9c179e"
            ],
            [
             0.4444444444444444,
             "#bd3786"
            ],
            [
             0.5555555555555556,
             "#d8576b"
            ],
            [
             0.6666666666666666,
             "#ed7953"
            ],
            [
             0.7777777777777778,
             "#fb9f3a"
            ],
            [
             0.8888888888888888,
             "#fdca26"
            ],
            [
             1,
             "#f0f921"
            ]
           ],
           "sequentialminus": [
            [
             0,
             "#0d0887"
            ],
            [
             0.1111111111111111,
             "#46039f"
            ],
            [
             0.2222222222222222,
             "#7201a8"
            ],
            [
             0.3333333333333333,
             "#9c179e"
            ],
            [
             0.4444444444444444,
             "#bd3786"
            ],
            [
             0.5555555555555556,
             "#d8576b"
            ],
            [
             0.6666666666666666,
             "#ed7953"
            ],
            [
             0.7777777777777778,
             "#fb9f3a"
            ],
            [
             0.8888888888888888,
             "#fdca26"
            ],
            [
             1,
             "#f0f921"
            ]
           ]
          },
          "colorway": [
           "#636efa",
           "#EF553B",
           "#00cc96",
           "#ab63fa",
           "#FFA15A",
           "#19d3f3",
           "#FF6692",
           "#B6E880",
           "#FF97FF",
           "#FECB52"
          ],
          "font": {
           "color": "#2a3f5f"
          },
          "geo": {
           "bgcolor": "white",
           "lakecolor": "white",
           "landcolor": "#E5ECF6",
           "showlakes": true,
           "showland": true,
           "subunitcolor": "white"
          },
          "hoverlabel": {
           "align": "left"
          },
          "hovermode": "closest",
          "mapbox": {
           "style": "light"
          },
          "paper_bgcolor": "white",
          "plot_bgcolor": "#E5ECF6",
          "polar": {
           "angularaxis": {
            "gridcolor": "white",
            "linecolor": "white",
            "ticks": ""
           },
           "bgcolor": "#E5ECF6",
           "radialaxis": {
            "gridcolor": "white",
            "linecolor": "white",
            "ticks": ""
           }
          },
          "scene": {
           "xaxis": {
            "backgroundcolor": "#E5ECF6",
            "gridcolor": "white",
            "gridwidth": 2,
            "linecolor": "white",
            "showbackground": true,
            "ticks": "",
            "zerolinecolor": "white"
           },
           "yaxis": {
            "backgroundcolor": "#E5ECF6",
            "gridcolor": "white",
            "gridwidth": 2,
            "linecolor": "white",
            "showbackground": true,
            "ticks": "",
            "zerolinecolor": "white"
           },
           "zaxis": {
            "backgroundcolor": "#E5ECF6",
            "gridcolor": "white",
            "gridwidth": 2,
            "linecolor": "white",
            "showbackground": true,
            "ticks": "",
            "zerolinecolor": "white"
           }
          },
          "shapedefaults": {
           "line": {
            "color": "#2a3f5f"
           }
          },
          "ternary": {
           "aaxis": {
            "gridcolor": "white",
            "linecolor": "white",
            "ticks": ""
           },
           "baxis": {
            "gridcolor": "white",
            "linecolor": "white",
            "ticks": ""
           },
           "bgcolor": "#E5ECF6",
           "caxis": {
            "gridcolor": "white",
            "linecolor": "white",
            "ticks": ""
           }
          },
          "title": {
           "x": 0.05
          },
          "xaxis": {
           "automargin": true,
           "gridcolor": "white",
           "linecolor": "white",
           "ticks": "",
           "title": {
            "standoff": 15
           },
           "zerolinecolor": "white",
           "zerolinewidth": 2
          },
          "yaxis": {
           "automargin": true,
           "gridcolor": "white",
           "linecolor": "white",
           "ticks": "",
           "title": {
            "standoff": 15
           },
           "zerolinecolor": "white",
           "zerolinewidth": 2
          }
         }
        },
        "xaxis": {
         "anchor": "y",
         "domain": [
          0,
          1
         ],
         "title": {
          "text": "Team"
         }
        },
        "yaxis": {
         "anchor": "x",
         "domain": [
          0,
          1
         ],
         "title": {
          "text": "Users"
         }
        }
       }
      },
      "text/html": [
       "<div>\n",
       "        \n",
       "        \n",
       "            <div id=\"2bfaa710-54ca-4d25-9ec4-cffef300d01e\" class=\"plotly-graph-div\" style=\"height:525px; width:100%;\"></div>\n",
       "            <script type=\"text/javascript\">\n",
       "                require([\"plotly\"], function(Plotly) {\n",
       "                    window.PLOTLYENV=window.PLOTLYENV || {};\n",
       "                    \n",
       "                if (document.getElementById(\"2bfaa710-54ca-4d25-9ec4-cffef300d01e\")) {\n",
       "                    Plotly.newPlot(\n",
       "                        '2bfaa710-54ca-4d25-9ec4-cffef300d01e',\n",
       "                        [{\"alignmentgroup\": \"True\", \"boxpoints\": \"all\", \"hoverlabel\": {\"namelength\": 0}, \"hovertemplate\": \"<b>%{hovertext}</b><br><br>Team=%{x}<br>Users=%{y}\", \"hovertext\": [\"reporter1\", \"reporter2\", \"reporter3\", \"reporter4\", \"reporter5\", \"reporter6\", \"reporter7\", \"reporter8\", \"reporter9\", \"reporter10\", \"reporter11\", \"reporter12\", \"reporter13\", \"reporter14\", \"reporter15\", \"reporter16\", \"reporter17\", \"reporter18\", \"reporter19\", \"reporter20\", \"reporter21\", \"reporter22\", \"reporter23\", \"reporter24\", \"reporter25\", \"reporter26\", \"reporter27\", \"reporter28\", \"reporter29\", \"reporter30\", \"reporter31\", \"reporter32\", \"reporter33\", \"reporter34\", \"reporter35\", \"reporter36\", \"reporter37\", \"reporter38\", \"reporter39\", \"reporter40\", \"reporter41\", \"reporter42\", \"reporter43\", \"reporter44\", \"reporter45\", \"reporter46\", \"reporter47\", \"reporter48\", \"reporter49\", \"reporter50\", \"reporter51\", \"reporter52\", \"reporter53\", \"reporter54\", \"reporter55\", \"reporter56\", \"reporter57\", \"reporter58\", \"reporter59\", \"reporter60\", \"reporter61\", \"reporter62\", \"reporter63\", \"reporter64\", \"reporter65\", \"reporter66\", \"reporter67\", \"reporter68\", \"reporter69\", \"reporter70\", \"reporter71\", \"reporter72\", \"reporter73\", \"reporter74\", \"reporter75\", \"reporter76\", \"reporter77\", \"reporter78\", \"reporter79\", \"reporter80\", \"reporter81\", \"reporter82\", \"reporter83\", \"reporter84\", \"reporter85\", \"reporter86\", \"reporter87\", \"reporter88\", \"reporter89\", \"reporter90\", \"reporter91\", \"reporter92\"], \"legendgroup\": \"\", \"marker\": {\"color\": \"#636efa\"}, \"name\": \"\", \"notched\": false, \"offsetgroup\": \"\", \"orientation\": \"v\", \"showlegend\": false, \"type\": \"box\", \"x\": [\"News\", \"News\", \"News\", \"News\", \"Pro Sports\", \"Pro Sports\", \"News\", \"Pro Sports\", \"Pro Sports\", \"News\", \"Pro Sports\", \"Pro Sports\", \"News\", \"Pro Sports\", \"News\", \"Pro Sports\", \"News\", \"News\", \"News\", \"Pro Sports\", \"News\", \"News\", \"News\", \"News\", \"News\", \"Pro Sports\", \"News\", \"Pro Sports\", \"News\", \"Pro Sports\", \"News\", \"Pro Sports\", \"News\", \"Pro Sports\", \"News\", \"News\", \"News\", \"News\", \"News\", \"Commerce\", \"News\", \"News\", \"News\", \"HS Sports\", \"News\", \"Pro Sports\", \"News\", \"News\", \"News\", \"News\", \"News\", \"News\", \"News\", \"HS Sports\", \"News\", \"Pro Sports\", \"HS Sports\", \"News\", \"HS Sports\", \"HS Sports\", \"HS Sports\", \"HS Sports\", \"News\", \"HS Sports\", \"News\", \"HS Sports\", \"HS Sports\", \"News\", \"News\", \"News\", \"News\", \"HS Sports\", \"HS Sports\", \"News\", \"News\", \"News\", \"News\", \"News\", \"News\", \"HS Sports\", \"News\", \"News\", \"Pro Sports\", \"HS Sports\", \"HS Sports\", \"HS Sports\", \"HS Sports\", \"News\", \"News\", \"HS Sports\", \"News\", \"HS Sports\"], \"x0\": \" \", \"xaxis\": \"x\", \"y\": [8397483, 8602754, 5605578, 4806779, 2912920, 10466241, 4602489, 3992132, 8205363, 3759147, 5137170, 2119223, 3838321, 2031770, 3337093, 4249110, 4338116, 278516, 3507308, 3570942, 3462339, 3067761, 3515539, 3101578, 3071640, 3087026, 2474047, 2020916, 1942461, 2126480, 2335376, 1965884, 2210381, 1260584, 2360551, 2330972, 1929330, 2226304, 1858928, 2316126, 1829373, 1826552, 1921500, 655071, 2775037, 1710315, 1690020, 1589114, 1495599, 1487155, 1529913, 1046106, 1811427, 870837, 1616449, 3296669, 600362, 1655880, 756696, 817105, 645025, 576991, 1228829, 400044, 1239268, 504970, 541620, 925595, 744130, 771380, 635576, 297039, 224646, 697417, 403281, 478358, 425223, 616370, 298286, 215624, 224412, 316740, 264598, 215568, 122367, 296829, 186926, 877868, 100292, 58568, 31197, 29805], \"y0\": \" \", \"yaxis\": \"y\"}],\n",
       "                        {\"boxmode\": \"group\", \"legend\": {\"tracegroupgap\": 0}, \"margin\": {\"t\": 60}, \"template\": {\"data\": {\"bar\": [{\"error_x\": {\"color\": \"#2a3f5f\"}, \"error_y\": {\"color\": \"#2a3f5f\"}, \"marker\": {\"line\": {\"color\": \"#E5ECF6\", \"width\": 0.5}}, \"type\": \"bar\"}], \"barpolar\": [{\"marker\": {\"line\": {\"color\": \"#E5ECF6\", \"width\": 0.5}}, \"type\": \"barpolar\"}], \"carpet\": [{\"aaxis\": {\"endlinecolor\": \"#2a3f5f\", \"gridcolor\": \"white\", \"linecolor\": \"white\", \"minorgridcolor\": \"white\", \"startlinecolor\": \"#2a3f5f\"}, \"baxis\": {\"endlinecolor\": \"#2a3f5f\", \"gridcolor\": \"white\", \"linecolor\": \"white\", \"minorgridcolor\": \"white\", \"startlinecolor\": \"#2a3f5f\"}, \"type\": \"carpet\"}], \"choropleth\": [{\"colorbar\": {\"outlinewidth\": 0, \"ticks\": \"\"}, \"type\": \"choropleth\"}], \"contour\": [{\"colorbar\": {\"outlinewidth\": 0, \"ticks\": \"\"}, \"colorscale\": [[0.0, \"#0d0887\"], [0.1111111111111111, \"#46039f\"], [0.2222222222222222, \"#7201a8\"], [0.3333333333333333, \"#9c179e\"], [0.4444444444444444, \"#bd3786\"], [0.5555555555555556, \"#d8576b\"], [0.6666666666666666, \"#ed7953\"], [0.7777777777777778, \"#fb9f3a\"], [0.8888888888888888, \"#fdca26\"], [1.0, \"#f0f921\"]], \"type\": \"contour\"}], \"contourcarpet\": [{\"colorbar\": {\"outlinewidth\": 0, \"ticks\": \"\"}, \"type\": \"contourcarpet\"}], \"heatmap\": [{\"colorbar\": {\"outlinewidth\": 0, \"ticks\": \"\"}, \"colorscale\": [[0.0, \"#0d0887\"], [0.1111111111111111, \"#46039f\"], [0.2222222222222222, \"#7201a8\"], [0.3333333333333333, \"#9c179e\"], [0.4444444444444444, \"#bd3786\"], [0.5555555555555556, \"#d8576b\"], [0.6666666666666666, \"#ed7953\"], [0.7777777777777778, \"#fb9f3a\"], [0.8888888888888888, \"#fdca26\"], [1.0, \"#f0f921\"]], \"type\": \"heatmap\"}], \"heatmapgl\": [{\"colorbar\": {\"outlinewidth\": 0, \"ticks\": \"\"}, \"colorscale\": [[0.0, \"#0d0887\"], [0.1111111111111111, \"#46039f\"], [0.2222222222222222, \"#7201a8\"], [0.3333333333333333, \"#9c179e\"], [0.4444444444444444, \"#bd3786\"], [0.5555555555555556, \"#d8576b\"], [0.6666666666666666, \"#ed7953\"], [0.7777777777777778, \"#fb9f3a\"], [0.8888888888888888, \"#fdca26\"], [1.0, \"#f0f921\"]], \"type\": \"heatmapgl\"}], \"histogram\": [{\"marker\": {\"colorbar\": {\"outlinewidth\": 0, \"ticks\": \"\"}}, \"type\": \"histogram\"}], \"histogram2d\": [{\"colorbar\": {\"outlinewidth\": 0, \"ticks\": \"\"}, \"colorscale\": [[0.0, \"#0d0887\"], [0.1111111111111111, \"#46039f\"], [0.2222222222222222, \"#7201a8\"], [0.3333333333333333, \"#9c179e\"], [0.4444444444444444, \"#bd3786\"], [0.5555555555555556, \"#d8576b\"], [0.6666666666666666, \"#ed7953\"], [0.7777777777777778, \"#fb9f3a\"], [0.8888888888888888, \"#fdca26\"], [1.0, \"#f0f921\"]], \"type\": \"histogram2d\"}], \"histogram2dcontour\": [{\"colorbar\": {\"outlinewidth\": 0, \"ticks\": \"\"}, \"colorscale\": [[0.0, \"#0d0887\"], [0.1111111111111111, \"#46039f\"], [0.2222222222222222, \"#7201a8\"], [0.3333333333333333, \"#9c179e\"], [0.4444444444444444, \"#bd3786\"], [0.5555555555555556, \"#d8576b\"], [0.6666666666666666, \"#ed7953\"], [0.7777777777777778, \"#fb9f3a\"], [0.8888888888888888, \"#fdca26\"], [1.0, \"#f0f921\"]], \"type\": \"histogram2dcontour\"}], \"mesh3d\": [{\"colorbar\": {\"outlinewidth\": 0, \"ticks\": \"\"}, \"type\": \"mesh3d\"}], \"parcoords\": [{\"line\": {\"colorbar\": {\"outlinewidth\": 0, \"ticks\": \"\"}}, \"type\": \"parcoords\"}], \"pie\": [{\"automargin\": true, \"type\": \"pie\"}], \"scatter\": [{\"marker\": {\"colorbar\": {\"outlinewidth\": 0, \"ticks\": \"\"}}, \"type\": \"scatter\"}], \"scatter3d\": [{\"line\": {\"colorbar\": {\"outlinewidth\": 0, \"ticks\": \"\"}}, \"marker\": {\"colorbar\": {\"outlinewidth\": 0, \"ticks\": \"\"}}, \"type\": \"scatter3d\"}], \"scattercarpet\": [{\"marker\": {\"colorbar\": {\"outlinewidth\": 0, \"ticks\": \"\"}}, \"type\": \"scattercarpet\"}], \"scattergeo\": [{\"marker\": {\"colorbar\": {\"outlinewidth\": 0, \"ticks\": \"\"}}, \"type\": \"scattergeo\"}], \"scattergl\": [{\"marker\": {\"colorbar\": {\"outlinewidth\": 0, \"ticks\": \"\"}}, \"type\": \"scattergl\"}], \"scattermapbox\": [{\"marker\": {\"colorbar\": {\"outlinewidth\": 0, \"ticks\": \"\"}}, \"type\": \"scattermapbox\"}], \"scatterpolar\": [{\"marker\": {\"colorbar\": {\"outlinewidth\": 0, \"ticks\": \"\"}}, \"type\": \"scatterpolar\"}], \"scatterpolargl\": [{\"marker\": {\"colorbar\": {\"outlinewidth\": 0, \"ticks\": \"\"}}, \"type\": \"scatterpolargl\"}], \"scatterternary\": [{\"marker\": {\"colorbar\": {\"outlinewidth\": 0, \"ticks\": \"\"}}, \"type\": \"scatterternary\"}], \"surface\": [{\"colorbar\": {\"outlinewidth\": 0, \"ticks\": \"\"}, \"colorscale\": [[0.0, \"#0d0887\"], [0.1111111111111111, \"#46039f\"], [0.2222222222222222, \"#7201a8\"], [0.3333333333333333, \"#9c179e\"], [0.4444444444444444, \"#bd3786\"], [0.5555555555555556, \"#d8576b\"], [0.6666666666666666, \"#ed7953\"], [0.7777777777777778, \"#fb9f3a\"], [0.8888888888888888, \"#fdca26\"], [1.0, \"#f0f921\"]], \"type\": \"surface\"}], \"table\": [{\"cells\": {\"fill\": {\"color\": \"#EBF0F8\"}, \"line\": {\"color\": \"white\"}}, \"header\": {\"fill\": {\"color\": \"#C8D4E3\"}, \"line\": {\"color\": \"white\"}}, \"type\": \"table\"}]}, \"layout\": {\"annotationdefaults\": {\"arrowcolor\": \"#2a3f5f\", \"arrowhead\": 0, \"arrowwidth\": 1}, \"coloraxis\": {\"colorbar\": {\"outlinewidth\": 0, \"ticks\": \"\"}}, \"colorscale\": {\"diverging\": [[0, \"#8e0152\"], [0.1, \"#c51b7d\"], [0.2, \"#de77ae\"], [0.3, \"#f1b6da\"], [0.4, \"#fde0ef\"], [0.5, \"#f7f7f7\"], [0.6, \"#e6f5d0\"], [0.7, \"#b8e186\"], [0.8, \"#7fbc41\"], [0.9, \"#4d9221\"], [1, \"#276419\"]], \"sequential\": [[0.0, \"#0d0887\"], [0.1111111111111111, \"#46039f\"], [0.2222222222222222, \"#7201a8\"], [0.3333333333333333, \"#9c179e\"], [0.4444444444444444, \"#bd3786\"], [0.5555555555555556, \"#d8576b\"], [0.6666666666666666, \"#ed7953\"], [0.7777777777777778, \"#fb9f3a\"], [0.8888888888888888, \"#fdca26\"], [1.0, \"#f0f921\"]], \"sequentialminus\": [[0.0, \"#0d0887\"], [0.1111111111111111, \"#46039f\"], [0.2222222222222222, \"#7201a8\"], [0.3333333333333333, \"#9c179e\"], [0.4444444444444444, \"#bd3786\"], [0.5555555555555556, \"#d8576b\"], [0.6666666666666666, \"#ed7953\"], [0.7777777777777778, \"#fb9f3a\"], [0.8888888888888888, \"#fdca26\"], [1.0, \"#f0f921\"]]}, \"colorway\": [\"#636efa\", \"#EF553B\", \"#00cc96\", \"#ab63fa\", \"#FFA15A\", \"#19d3f3\", \"#FF6692\", \"#B6E880\", \"#FF97FF\", \"#FECB52\"], \"font\": {\"color\": \"#2a3f5f\"}, \"geo\": {\"bgcolor\": \"white\", \"lakecolor\": \"white\", \"landcolor\": \"#E5ECF6\", \"showlakes\": true, \"showland\": true, \"subunitcolor\": \"white\"}, \"hoverlabel\": {\"align\": \"left\"}, \"hovermode\": \"closest\", \"mapbox\": {\"style\": \"light\"}, \"paper_bgcolor\": \"white\", \"plot_bgcolor\": \"#E5ECF6\", \"polar\": {\"angularaxis\": {\"gridcolor\": \"white\", \"linecolor\": \"white\", \"ticks\": \"\"}, \"bgcolor\": \"#E5ECF6\", \"radialaxis\": {\"gridcolor\": \"white\", \"linecolor\": \"white\", \"ticks\": \"\"}}, \"scene\": {\"xaxis\": {\"backgroundcolor\": \"#E5ECF6\", \"gridcolor\": \"white\", \"gridwidth\": 2, \"linecolor\": \"white\", \"showbackground\": true, \"ticks\": \"\", \"zerolinecolor\": \"white\"}, \"yaxis\": {\"backgroundcolor\": \"#E5ECF6\", \"gridcolor\": \"white\", \"gridwidth\": 2, \"linecolor\": \"white\", \"showbackground\": true, \"ticks\": \"\", \"zerolinecolor\": \"white\"}, \"zaxis\": {\"backgroundcolor\": \"#E5ECF6\", \"gridcolor\": \"white\", \"gridwidth\": 2, \"linecolor\": \"white\", \"showbackground\": true, \"ticks\": \"\", \"zerolinecolor\": \"white\"}}, \"shapedefaults\": {\"line\": {\"color\": \"#2a3f5f\"}}, \"ternary\": {\"aaxis\": {\"gridcolor\": \"white\", \"linecolor\": \"white\", \"ticks\": \"\"}, \"baxis\": {\"gridcolor\": \"white\", \"linecolor\": \"white\", \"ticks\": \"\"}, \"bgcolor\": \"#E5ECF6\", \"caxis\": {\"gridcolor\": \"white\", \"linecolor\": \"white\", \"ticks\": \"\"}}, \"title\": {\"x\": 0.05}, \"xaxis\": {\"automargin\": true, \"gridcolor\": \"white\", \"linecolor\": \"white\", \"ticks\": \"\", \"title\": {\"standoff\": 15}, \"zerolinecolor\": \"white\", \"zerolinewidth\": 2}, \"yaxis\": {\"automargin\": true, \"gridcolor\": \"white\", \"linecolor\": \"white\", \"ticks\": \"\", \"title\": {\"standoff\": 15}, \"zerolinecolor\": \"white\", \"zerolinewidth\": 2}}}, \"xaxis\": {\"anchor\": \"y\", \"domain\": [0.0, 1.0], \"title\": {\"text\": \"Team\"}}, \"yaxis\": {\"anchor\": \"x\", \"domain\": [0.0, 1.0], \"title\": {\"text\": \"Users\"}}},\n",
       "                        {\"responsive\": true}\n",
       "                    ).then(function(){\n",
       "                            \n",
       "var gd = document.getElementById('2bfaa710-54ca-4d25-9ec4-cffef300d01e');\n",
       "var x = new MutationObserver(function (mutations, observer) {{\n",
       "        var display = window.getComputedStyle(gd).display;\n",
       "        if (!display || display === 'none') {{\n",
       "            console.log([gd, 'removed!']);\n",
       "            Plotly.purge(gd);\n",
       "            observer.disconnect();\n",
       "        }}\n",
       "}});\n",
       "\n",
       "// Listen for the removal of the full notebook cells\n",
       "var notebookContainer = gd.closest('#notebook-container');\n",
       "if (notebookContainer) {{\n",
       "    x.observe(notebookContainer, {childList: true});\n",
       "}}\n",
       "\n",
       "// Listen for the clearing of the current output cell\n",
       "var outputEl = gd.closest('.output');\n",
       "if (outputEl) {{\n",
       "    x.observe(outputEl, {childList: true});\n",
       "}}\n",
       "\n",
       "                        })\n",
       "                };\n",
       "                });\n",
       "            </script>\n",
       "        </div>"
      ]
     },
     "metadata": {},
     "output_type": "display_data"
    }
   ],
   "source": [
    "# Users Box plots \n",
    "\n",
    "fig = px.box(df, x=\"Team\", y=\"Users\", points=\"all\",hover_name=\"ID Match\",)\n",
    "fig.show()"
   ]
  },
  {
   "cell_type": "code",
   "execution_count": 36,
   "metadata": {},
   "outputs": [
    {
     "data": {
      "application/vnd.plotly.v1+json": {
       "config": {
        "plotlyServerURL": "https://plot.ly"
       },
       "data": [
        {
         "alignmentgroup": "True",
         "boxpoints": "all",
         "hoverlabel": {
          "namelength": 0
         },
         "hovertemplate": "<b>%{hovertext}</b><br><br>Team=%{x}<br>Productivity=%{y}",
         "hovertext": [
          "reporter1",
          "reporter2",
          "reporter3",
          "reporter4",
          "reporter5",
          "reporter6",
          "reporter7",
          "reporter8",
          "reporter9",
          "reporter10",
          "reporter11",
          "reporter12",
          "reporter13",
          "reporter14",
          "reporter15",
          "reporter16",
          "reporter17",
          "reporter18",
          "reporter19",
          "reporter20",
          "reporter21",
          "reporter22",
          "reporter23",
          "reporter24",
          "reporter25",
          "reporter26",
          "reporter27",
          "reporter28",
          "reporter29",
          "reporter30",
          "reporter31",
          "reporter32",
          "reporter33",
          "reporter34",
          "reporter35",
          "reporter36",
          "reporter37",
          "reporter38",
          "reporter39",
          "reporter40",
          "reporter41",
          "reporter42",
          "reporter43",
          "reporter44",
          "reporter45",
          "reporter46",
          "reporter47",
          "reporter48",
          "reporter49",
          "reporter50",
          "reporter51",
          "reporter52",
          "reporter53",
          "reporter54",
          "reporter55",
          "reporter56",
          "reporter57",
          "reporter58",
          "reporter59",
          "reporter60",
          "reporter61",
          "reporter62",
          "reporter63",
          "reporter64",
          "reporter65",
          "reporter66",
          "reporter67",
          "reporter68",
          "reporter69",
          "reporter70",
          "reporter71",
          "reporter72",
          "reporter73",
          "reporter74",
          "reporter75",
          "reporter76",
          "reporter77",
          "reporter78",
          "reporter79",
          "reporter80",
          "reporter81",
          "reporter82",
          "reporter83",
          "reporter84",
          "reporter85",
          "reporter86",
          "reporter87",
          "reporter88",
          "reporter89",
          "reporter90",
          "reporter91",
          "reporter92"
         ],
         "legendgroup": "",
         "marker": {
          "color": "#636efa"
         },
         "name": "",
         "notched": false,
         "offsetgroup": "",
         "orientation": "v",
         "showlegend": false,
         "type": "box",
         "x": [
          "News",
          "News",
          "News",
          "News",
          "Pro Sports",
          "Pro Sports",
          "News",
          "Pro Sports",
          "Pro Sports",
          "News",
          "Pro Sports",
          "Pro Sports",
          "News",
          "Pro Sports",
          "News",
          "Pro Sports",
          "News",
          "News",
          "News",
          "Pro Sports",
          "News",
          "News",
          "News",
          "News",
          "News",
          "Pro Sports",
          "News",
          "Pro Sports",
          "News",
          "Pro Sports",
          "News",
          "Pro Sports",
          "News",
          "Pro Sports",
          "News",
          "News",
          "News",
          "News",
          "News",
          "Commerce",
          "News",
          "News",
          "News",
          "HS Sports",
          "News",
          "Pro Sports",
          "News",
          "News",
          "News",
          "News",
          "News",
          "News",
          "News",
          "HS Sports",
          "News",
          "Pro Sports",
          "HS Sports",
          "News",
          "HS Sports",
          "HS Sports",
          "HS Sports",
          "HS Sports",
          "News",
          "HS Sports",
          "News",
          "HS Sports",
          "HS Sports",
          "News",
          "News",
          "News",
          "News",
          "HS Sports",
          "HS Sports",
          "News",
          "News",
          "News",
          "News",
          "News",
          "News",
          "HS Sports",
          "News",
          "News",
          "Pro Sports",
          "HS Sports",
          "HS Sports",
          "HS Sports",
          "HS Sports",
          "News",
          "News",
          "HS Sports",
          "News",
          "HS Sports"
         ],
         "x0": " ",
         "xaxis": "x",
         "y": [
          1347,
          684,
          608,
          555,
          1201,
          3009,
          477,
          1026,
          1240,
          415,
          709,
          1055,
          305,
          883,
          348,
          1114,
          244,
          213,
          206,
          1012,
          229,
          275,
          214,
          84,
          345,
          1246,
          603,
          1071,
          316,
          391,
          186,
          1181,
          223,
          664,
          127,
          160,
          186,
          174,
          112,
          209,
          166,
          168,
          177,
          1744,
          152,
          185,
          152,
          99,
          154,
          113,
          86,
          221,
          112,
          896,
          96,
          341,
          1078,
          173,
          849,
          795,
          789,
          659,
          124,
          1188,
          109,
          1017,
          806,
          76,
          62,
          62,
          86,
          969,
          941,
          71,
          31,
          87,
          89,
          51,
          25,
          655,
          40,
          47,
          65,
          39,
          226,
          111,
          205,
          14,
          7,
          267,
          8,
          53
         ],
         "y0": " ",
         "yaxis": "y"
        }
       ],
       "layout": {
        "boxmode": "group",
        "legend": {
         "tracegroupgap": 0
        },
        "margin": {
         "t": 60
        },
        "template": {
         "data": {
          "bar": [
           {
            "error_x": {
             "color": "#2a3f5f"
            },
            "error_y": {
             "color": "#2a3f5f"
            },
            "marker": {
             "line": {
              "color": "#E5ECF6",
              "width": 0.5
             }
            },
            "type": "bar"
           }
          ],
          "barpolar": [
           {
            "marker": {
             "line": {
              "color": "#E5ECF6",
              "width": 0.5
             }
            },
            "type": "barpolar"
           }
          ],
          "carpet": [
           {
            "aaxis": {
             "endlinecolor": "#2a3f5f",
             "gridcolor": "white",
             "linecolor": "white",
             "minorgridcolor": "white",
             "startlinecolor": "#2a3f5f"
            },
            "baxis": {
             "endlinecolor": "#2a3f5f",
             "gridcolor": "white",
             "linecolor": "white",
             "minorgridcolor": "white",
             "startlinecolor": "#2a3f5f"
            },
            "type": "carpet"
           }
          ],
          "choropleth": [
           {
            "colorbar": {
             "outlinewidth": 0,
             "ticks": ""
            },
            "type": "choropleth"
           }
          ],
          "contour": [
           {
            "colorbar": {
             "outlinewidth": 0,
             "ticks": ""
            },
            "colorscale": [
             [
              0,
              "#0d0887"
             ],
             [
              0.1111111111111111,
              "#46039f"
             ],
             [
              0.2222222222222222,
              "#7201a8"
             ],
             [
              0.3333333333333333,
              "#9c179e"
             ],
             [
              0.4444444444444444,
              "#bd3786"
             ],
             [
              0.5555555555555556,
              "#d8576b"
             ],
             [
              0.6666666666666666,
              "#ed7953"
             ],
             [
              0.7777777777777778,
              "#fb9f3a"
             ],
             [
              0.8888888888888888,
              "#fdca26"
             ],
             [
              1,
              "#f0f921"
             ]
            ],
            "type": "contour"
           }
          ],
          "contourcarpet": [
           {
            "colorbar": {
             "outlinewidth": 0,
             "ticks": ""
            },
            "type": "contourcarpet"
           }
          ],
          "heatmap": [
           {
            "colorbar": {
             "outlinewidth": 0,
             "ticks": ""
            },
            "colorscale": [
             [
              0,
              "#0d0887"
             ],
             [
              0.1111111111111111,
              "#46039f"
             ],
             [
              0.2222222222222222,
              "#7201a8"
             ],
             [
              0.3333333333333333,
              "#9c179e"
             ],
             [
              0.4444444444444444,
              "#bd3786"
             ],
             [
              0.5555555555555556,
              "#d8576b"
             ],
             [
              0.6666666666666666,
              "#ed7953"
             ],
             [
              0.7777777777777778,
              "#fb9f3a"
             ],
             [
              0.8888888888888888,
              "#fdca26"
             ],
             [
              1,
              "#f0f921"
             ]
            ],
            "type": "heatmap"
           }
          ],
          "heatmapgl": [
           {
            "colorbar": {
             "outlinewidth": 0,
             "ticks": ""
            },
            "colorscale": [
             [
              0,
              "#0d0887"
             ],
             [
              0.1111111111111111,
              "#46039f"
             ],
             [
              0.2222222222222222,
              "#7201a8"
             ],
             [
              0.3333333333333333,
              "#9c179e"
             ],
             [
              0.4444444444444444,
              "#bd3786"
             ],
             [
              0.5555555555555556,
              "#d8576b"
             ],
             [
              0.6666666666666666,
              "#ed7953"
             ],
             [
              0.7777777777777778,
              "#fb9f3a"
             ],
             [
              0.8888888888888888,
              "#fdca26"
             ],
             [
              1,
              "#f0f921"
             ]
            ],
            "type": "heatmapgl"
           }
          ],
          "histogram": [
           {
            "marker": {
             "colorbar": {
              "outlinewidth": 0,
              "ticks": ""
             }
            },
            "type": "histogram"
           }
          ],
          "histogram2d": [
           {
            "colorbar": {
             "outlinewidth": 0,
             "ticks": ""
            },
            "colorscale": [
             [
              0,
              "#0d0887"
             ],
             [
              0.1111111111111111,
              "#46039f"
             ],
             [
              0.2222222222222222,
              "#7201a8"
             ],
             [
              0.3333333333333333,
              "#9c179e"
             ],
             [
              0.4444444444444444,
              "#bd3786"
             ],
             [
              0.5555555555555556,
              "#d8576b"
             ],
             [
              0.6666666666666666,
              "#ed7953"
             ],
             [
              0.7777777777777778,
              "#fb9f3a"
             ],
             [
              0.8888888888888888,
              "#fdca26"
             ],
             [
              1,
              "#f0f921"
             ]
            ],
            "type": "histogram2d"
           }
          ],
          "histogram2dcontour": [
           {
            "colorbar": {
             "outlinewidth": 0,
             "ticks": ""
            },
            "colorscale": [
             [
              0,
              "#0d0887"
             ],
             [
              0.1111111111111111,
              "#46039f"
             ],
             [
              0.2222222222222222,
              "#7201a8"
             ],
             [
              0.3333333333333333,
              "#9c179e"
             ],
             [
              0.4444444444444444,
              "#bd3786"
             ],
             [
              0.5555555555555556,
              "#d8576b"
             ],
             [
              0.6666666666666666,
              "#ed7953"
             ],
             [
              0.7777777777777778,
              "#fb9f3a"
             ],
             [
              0.8888888888888888,
              "#fdca26"
             ],
             [
              1,
              "#f0f921"
             ]
            ],
            "type": "histogram2dcontour"
           }
          ],
          "mesh3d": [
           {
            "colorbar": {
             "outlinewidth": 0,
             "ticks": ""
            },
            "type": "mesh3d"
           }
          ],
          "parcoords": [
           {
            "line": {
             "colorbar": {
              "outlinewidth": 0,
              "ticks": ""
             }
            },
            "type": "parcoords"
           }
          ],
          "pie": [
           {
            "automargin": true,
            "type": "pie"
           }
          ],
          "scatter": [
           {
            "marker": {
             "colorbar": {
              "outlinewidth": 0,
              "ticks": ""
             }
            },
            "type": "scatter"
           }
          ],
          "scatter3d": [
           {
            "line": {
             "colorbar": {
              "outlinewidth": 0,
              "ticks": ""
             }
            },
            "marker": {
             "colorbar": {
              "outlinewidth": 0,
              "ticks": ""
             }
            },
            "type": "scatter3d"
           }
          ],
          "scattercarpet": [
           {
            "marker": {
             "colorbar": {
              "outlinewidth": 0,
              "ticks": ""
             }
            },
            "type": "scattercarpet"
           }
          ],
          "scattergeo": [
           {
            "marker": {
             "colorbar": {
              "outlinewidth": 0,
              "ticks": ""
             }
            },
            "type": "scattergeo"
           }
          ],
          "scattergl": [
           {
            "marker": {
             "colorbar": {
              "outlinewidth": 0,
              "ticks": ""
             }
            },
            "type": "scattergl"
           }
          ],
          "scattermapbox": [
           {
            "marker": {
             "colorbar": {
              "outlinewidth": 0,
              "ticks": ""
             }
            },
            "type": "scattermapbox"
           }
          ],
          "scatterpolar": [
           {
            "marker": {
             "colorbar": {
              "outlinewidth": 0,
              "ticks": ""
             }
            },
            "type": "scatterpolar"
           }
          ],
          "scatterpolargl": [
           {
            "marker": {
             "colorbar": {
              "outlinewidth": 0,
              "ticks": ""
             }
            },
            "type": "scatterpolargl"
           }
          ],
          "scatterternary": [
           {
            "marker": {
             "colorbar": {
              "outlinewidth": 0,
              "ticks": ""
             }
            },
            "type": "scatterternary"
           }
          ],
          "surface": [
           {
            "colorbar": {
             "outlinewidth": 0,
             "ticks": ""
            },
            "colorscale": [
             [
              0,
              "#0d0887"
             ],
             [
              0.1111111111111111,
              "#46039f"
             ],
             [
              0.2222222222222222,
              "#7201a8"
             ],
             [
              0.3333333333333333,
              "#9c179e"
             ],
             [
              0.4444444444444444,
              "#bd3786"
             ],
             [
              0.5555555555555556,
              "#d8576b"
             ],
             [
              0.6666666666666666,
              "#ed7953"
             ],
             [
              0.7777777777777778,
              "#fb9f3a"
             ],
             [
              0.8888888888888888,
              "#fdca26"
             ],
             [
              1,
              "#f0f921"
             ]
            ],
            "type": "surface"
           }
          ],
          "table": [
           {
            "cells": {
             "fill": {
              "color": "#EBF0F8"
             },
             "line": {
              "color": "white"
             }
            },
            "header": {
             "fill": {
              "color": "#C8D4E3"
             },
             "line": {
              "color": "white"
             }
            },
            "type": "table"
           }
          ]
         },
         "layout": {
          "annotationdefaults": {
           "arrowcolor": "#2a3f5f",
           "arrowhead": 0,
           "arrowwidth": 1
          },
          "coloraxis": {
           "colorbar": {
            "outlinewidth": 0,
            "ticks": ""
           }
          },
          "colorscale": {
           "diverging": [
            [
             0,
             "#8e0152"
            ],
            [
             0.1,
             "#c51b7d"
            ],
            [
             0.2,
             "#de77ae"
            ],
            [
             0.3,
             "#f1b6da"
            ],
            [
             0.4,
             "#fde0ef"
            ],
            [
             0.5,
             "#f7f7f7"
            ],
            [
             0.6,
             "#e6f5d0"
            ],
            [
             0.7,
             "#b8e186"
            ],
            [
             0.8,
             "#7fbc41"
            ],
            [
             0.9,
             "#4d9221"
            ],
            [
             1,
             "#276419"
            ]
           ],
           "sequential": [
            [
             0,
             "#0d0887"
            ],
            [
             0.1111111111111111,
             "#46039f"
            ],
            [
             0.2222222222222222,
             "#7201a8"
            ],
            [
             0.3333333333333333,
             "#9c179e"
            ],
            [
             0.4444444444444444,
             "#bd3786"
            ],
            [
             0.5555555555555556,
             "#d8576b"
            ],
            [
             0.6666666666666666,
             "#ed7953"
            ],
            [
             0.7777777777777778,
             "#fb9f3a"
            ],
            [
             0.8888888888888888,
             "#fdca26"
            ],
            [
             1,
             "#f0f921"
            ]
           ],
           "sequentialminus": [
            [
             0,
             "#0d0887"
            ],
            [
             0.1111111111111111,
             "#46039f"
            ],
            [
             0.2222222222222222,
             "#7201a8"
            ],
            [
             0.3333333333333333,
             "#9c179e"
            ],
            [
             0.4444444444444444,
             "#bd3786"
            ],
            [
             0.5555555555555556,
             "#d8576b"
            ],
            [
             0.6666666666666666,
             "#ed7953"
            ],
            [
             0.7777777777777778,
             "#fb9f3a"
            ],
            [
             0.8888888888888888,
             "#fdca26"
            ],
            [
             1,
             "#f0f921"
            ]
           ]
          },
          "colorway": [
           "#636efa",
           "#EF553B",
           "#00cc96",
           "#ab63fa",
           "#FFA15A",
           "#19d3f3",
           "#FF6692",
           "#B6E880",
           "#FF97FF",
           "#FECB52"
          ],
          "font": {
           "color": "#2a3f5f"
          },
          "geo": {
           "bgcolor": "white",
           "lakecolor": "white",
           "landcolor": "#E5ECF6",
           "showlakes": true,
           "showland": true,
           "subunitcolor": "white"
          },
          "hoverlabel": {
           "align": "left"
          },
          "hovermode": "closest",
          "mapbox": {
           "style": "light"
          },
          "paper_bgcolor": "white",
          "plot_bgcolor": "#E5ECF6",
          "polar": {
           "angularaxis": {
            "gridcolor": "white",
            "linecolor": "white",
            "ticks": ""
           },
           "bgcolor": "#E5ECF6",
           "radialaxis": {
            "gridcolor": "white",
            "linecolor": "white",
            "ticks": ""
           }
          },
          "scene": {
           "xaxis": {
            "backgroundcolor": "#E5ECF6",
            "gridcolor": "white",
            "gridwidth": 2,
            "linecolor": "white",
            "showbackground": true,
            "ticks": "",
            "zerolinecolor": "white"
           },
           "yaxis": {
            "backgroundcolor": "#E5ECF6",
            "gridcolor": "white",
            "gridwidth": 2,
            "linecolor": "white",
            "showbackground": true,
            "ticks": "",
            "zerolinecolor": "white"
           },
           "zaxis": {
            "backgroundcolor": "#E5ECF6",
            "gridcolor": "white",
            "gridwidth": 2,
            "linecolor": "white",
            "showbackground": true,
            "ticks": "",
            "zerolinecolor": "white"
           }
          },
          "shapedefaults": {
           "line": {
            "color": "#2a3f5f"
           }
          },
          "ternary": {
           "aaxis": {
            "gridcolor": "white",
            "linecolor": "white",
            "ticks": ""
           },
           "baxis": {
            "gridcolor": "white",
            "linecolor": "white",
            "ticks": ""
           },
           "bgcolor": "#E5ECF6",
           "caxis": {
            "gridcolor": "white",
            "linecolor": "white",
            "ticks": ""
           }
          },
          "title": {
           "x": 0.05
          },
          "xaxis": {
           "automargin": true,
           "gridcolor": "white",
           "linecolor": "white",
           "ticks": "",
           "title": {
            "standoff": 15
           },
           "zerolinecolor": "white",
           "zerolinewidth": 2
          },
          "yaxis": {
           "automargin": true,
           "gridcolor": "white",
           "linecolor": "white",
           "ticks": "",
           "title": {
            "standoff": 15
           },
           "zerolinecolor": "white",
           "zerolinewidth": 2
          }
         }
        },
        "xaxis": {
         "anchor": "y",
         "domain": [
          0,
          1
         ],
         "title": {
          "text": "Team"
         }
        },
        "yaxis": {
         "anchor": "x",
         "domain": [
          0,
          1
         ],
         "title": {
          "text": "Productivity"
         }
        }
       }
      },
      "text/html": [
       "<div>\n",
       "        \n",
       "        \n",
       "            <div id=\"0b304c2d-315e-446a-9858-780ff9058874\" class=\"plotly-graph-div\" style=\"height:525px; width:100%;\"></div>\n",
       "            <script type=\"text/javascript\">\n",
       "                require([\"plotly\"], function(Plotly) {\n",
       "                    window.PLOTLYENV=window.PLOTLYENV || {};\n",
       "                    \n",
       "                if (document.getElementById(\"0b304c2d-315e-446a-9858-780ff9058874\")) {\n",
       "                    Plotly.newPlot(\n",
       "                        '0b304c2d-315e-446a-9858-780ff9058874',\n",
       "                        [{\"alignmentgroup\": \"True\", \"boxpoints\": \"all\", \"hoverlabel\": {\"namelength\": 0}, \"hovertemplate\": \"<b>%{hovertext}</b><br><br>Team=%{x}<br>Productivity=%{y}\", \"hovertext\": [\"reporter1\", \"reporter2\", \"reporter3\", \"reporter4\", \"reporter5\", \"reporter6\", \"reporter7\", \"reporter8\", \"reporter9\", \"reporter10\", \"reporter11\", \"reporter12\", \"reporter13\", \"reporter14\", \"reporter15\", \"reporter16\", \"reporter17\", \"reporter18\", \"reporter19\", \"reporter20\", \"reporter21\", \"reporter22\", \"reporter23\", \"reporter24\", \"reporter25\", \"reporter26\", \"reporter27\", \"reporter28\", \"reporter29\", \"reporter30\", \"reporter31\", \"reporter32\", \"reporter33\", \"reporter34\", \"reporter35\", \"reporter36\", \"reporter37\", \"reporter38\", \"reporter39\", \"reporter40\", \"reporter41\", \"reporter42\", \"reporter43\", \"reporter44\", \"reporter45\", \"reporter46\", \"reporter47\", \"reporter48\", \"reporter49\", \"reporter50\", \"reporter51\", \"reporter52\", \"reporter53\", \"reporter54\", \"reporter55\", \"reporter56\", \"reporter57\", \"reporter58\", \"reporter59\", \"reporter60\", \"reporter61\", \"reporter62\", \"reporter63\", \"reporter64\", \"reporter65\", \"reporter66\", \"reporter67\", \"reporter68\", \"reporter69\", \"reporter70\", \"reporter71\", \"reporter72\", \"reporter73\", \"reporter74\", \"reporter75\", \"reporter76\", \"reporter77\", \"reporter78\", \"reporter79\", \"reporter80\", \"reporter81\", \"reporter82\", \"reporter83\", \"reporter84\", \"reporter85\", \"reporter86\", \"reporter87\", \"reporter88\", \"reporter89\", \"reporter90\", \"reporter91\", \"reporter92\"], \"legendgroup\": \"\", \"marker\": {\"color\": \"#636efa\"}, \"name\": \"\", \"notched\": false, \"offsetgroup\": \"\", \"orientation\": \"v\", \"showlegend\": false, \"type\": \"box\", \"x\": [\"News\", \"News\", \"News\", \"News\", \"Pro Sports\", \"Pro Sports\", \"News\", \"Pro Sports\", \"Pro Sports\", \"News\", \"Pro Sports\", \"Pro Sports\", \"News\", \"Pro Sports\", \"News\", \"Pro Sports\", \"News\", \"News\", \"News\", \"Pro Sports\", \"News\", \"News\", \"News\", \"News\", \"News\", \"Pro Sports\", \"News\", \"Pro Sports\", \"News\", \"Pro Sports\", \"News\", \"Pro Sports\", \"News\", \"Pro Sports\", \"News\", \"News\", \"News\", \"News\", \"News\", \"Commerce\", \"News\", \"News\", \"News\", \"HS Sports\", \"News\", \"Pro Sports\", \"News\", \"News\", \"News\", \"News\", \"News\", \"News\", \"News\", \"HS Sports\", \"News\", \"Pro Sports\", \"HS Sports\", \"News\", \"HS Sports\", \"HS Sports\", \"HS Sports\", \"HS Sports\", \"News\", \"HS Sports\", \"News\", \"HS Sports\", \"HS Sports\", \"News\", \"News\", \"News\", \"News\", \"HS Sports\", \"HS Sports\", \"News\", \"News\", \"News\", \"News\", \"News\", \"News\", \"HS Sports\", \"News\", \"News\", \"Pro Sports\", \"HS Sports\", \"HS Sports\", \"HS Sports\", \"HS Sports\", \"News\", \"News\", \"HS Sports\", \"News\", \"HS Sports\"], \"x0\": \" \", \"xaxis\": \"x\", \"y\": [1347, 684, 608, 555, 1201, 3009, 477, 1026, 1240, 415, 709, 1055, 305, 883, 348, 1114, 244, 213, 206, 1012, 229, 275, 214, 84, 345, 1246, 603, 1071, 316, 391, 186, 1181, 223, 664, 127, 160, 186, 174, 112, 209, 166, 168, 177, 1744, 152, 185, 152, 99, 154, 113, 86, 221, 112, 896, 96, 341, 1078, 173, 849, 795, 789, 659, 124, 1188, 109, 1017, 806, 76, 62, 62, 86, 969, 941, 71, 31, 87, 89, 51, 25, 655, 40, 47, 65, 39, 226, 111, 205, 14, 7, 267, 8, 53], \"y0\": \" \", \"yaxis\": \"y\"}],\n",
       "                        {\"boxmode\": \"group\", \"legend\": {\"tracegroupgap\": 0}, \"margin\": {\"t\": 60}, \"template\": {\"data\": {\"bar\": [{\"error_x\": {\"color\": \"#2a3f5f\"}, \"error_y\": {\"color\": \"#2a3f5f\"}, \"marker\": {\"line\": {\"color\": \"#E5ECF6\", \"width\": 0.5}}, \"type\": \"bar\"}], \"barpolar\": [{\"marker\": {\"line\": {\"color\": \"#E5ECF6\", \"width\": 0.5}}, \"type\": \"barpolar\"}], \"carpet\": [{\"aaxis\": {\"endlinecolor\": \"#2a3f5f\", \"gridcolor\": \"white\", \"linecolor\": \"white\", \"minorgridcolor\": \"white\", \"startlinecolor\": \"#2a3f5f\"}, \"baxis\": {\"endlinecolor\": \"#2a3f5f\", \"gridcolor\": \"white\", \"linecolor\": \"white\", \"minorgridcolor\": \"white\", \"startlinecolor\": \"#2a3f5f\"}, \"type\": \"carpet\"}], \"choropleth\": [{\"colorbar\": {\"outlinewidth\": 0, \"ticks\": \"\"}, \"type\": \"choropleth\"}], \"contour\": [{\"colorbar\": {\"outlinewidth\": 0, \"ticks\": \"\"}, \"colorscale\": [[0.0, \"#0d0887\"], [0.1111111111111111, \"#46039f\"], [0.2222222222222222, \"#7201a8\"], [0.3333333333333333, \"#9c179e\"], [0.4444444444444444, \"#bd3786\"], [0.5555555555555556, \"#d8576b\"], [0.6666666666666666, \"#ed7953\"], [0.7777777777777778, \"#fb9f3a\"], [0.8888888888888888, \"#fdca26\"], [1.0, \"#f0f921\"]], \"type\": \"contour\"}], \"contourcarpet\": [{\"colorbar\": {\"outlinewidth\": 0, \"ticks\": \"\"}, \"type\": \"contourcarpet\"}], \"heatmap\": [{\"colorbar\": {\"outlinewidth\": 0, \"ticks\": \"\"}, \"colorscale\": [[0.0, \"#0d0887\"], [0.1111111111111111, \"#46039f\"], [0.2222222222222222, \"#7201a8\"], [0.3333333333333333, \"#9c179e\"], [0.4444444444444444, \"#bd3786\"], [0.5555555555555556, \"#d8576b\"], [0.6666666666666666, \"#ed7953\"], [0.7777777777777778, \"#fb9f3a\"], [0.8888888888888888, \"#fdca26\"], [1.0, \"#f0f921\"]], \"type\": \"heatmap\"}], \"heatmapgl\": [{\"colorbar\": {\"outlinewidth\": 0, \"ticks\": \"\"}, \"colorscale\": [[0.0, \"#0d0887\"], [0.1111111111111111, \"#46039f\"], [0.2222222222222222, \"#7201a8\"], [0.3333333333333333, \"#9c179e\"], [0.4444444444444444, \"#bd3786\"], [0.5555555555555556, \"#d8576b\"], [0.6666666666666666, \"#ed7953\"], [0.7777777777777778, \"#fb9f3a\"], [0.8888888888888888, \"#fdca26\"], [1.0, \"#f0f921\"]], \"type\": \"heatmapgl\"}], \"histogram\": [{\"marker\": {\"colorbar\": {\"outlinewidth\": 0, \"ticks\": \"\"}}, \"type\": \"histogram\"}], \"histogram2d\": [{\"colorbar\": {\"outlinewidth\": 0, \"ticks\": \"\"}, \"colorscale\": [[0.0, \"#0d0887\"], [0.1111111111111111, \"#46039f\"], [0.2222222222222222, \"#7201a8\"], [0.3333333333333333, \"#9c179e\"], [0.4444444444444444, \"#bd3786\"], [0.5555555555555556, \"#d8576b\"], [0.6666666666666666, \"#ed7953\"], [0.7777777777777778, \"#fb9f3a\"], [0.8888888888888888, \"#fdca26\"], [1.0, \"#f0f921\"]], \"type\": \"histogram2d\"}], \"histogram2dcontour\": [{\"colorbar\": {\"outlinewidth\": 0, \"ticks\": \"\"}, \"colorscale\": [[0.0, \"#0d0887\"], [0.1111111111111111, \"#46039f\"], [0.2222222222222222, \"#7201a8\"], [0.3333333333333333, \"#9c179e\"], [0.4444444444444444, \"#bd3786\"], [0.5555555555555556, \"#d8576b\"], [0.6666666666666666, \"#ed7953\"], [0.7777777777777778, \"#fb9f3a\"], [0.8888888888888888, \"#fdca26\"], [1.0, \"#f0f921\"]], \"type\": \"histogram2dcontour\"}], \"mesh3d\": [{\"colorbar\": {\"outlinewidth\": 0, \"ticks\": \"\"}, \"type\": \"mesh3d\"}], \"parcoords\": [{\"line\": {\"colorbar\": {\"outlinewidth\": 0, \"ticks\": \"\"}}, \"type\": \"parcoords\"}], \"pie\": [{\"automargin\": true, \"type\": \"pie\"}], \"scatter\": [{\"marker\": {\"colorbar\": {\"outlinewidth\": 0, \"ticks\": \"\"}}, \"type\": \"scatter\"}], \"scatter3d\": [{\"line\": {\"colorbar\": {\"outlinewidth\": 0, \"ticks\": \"\"}}, \"marker\": {\"colorbar\": {\"outlinewidth\": 0, \"ticks\": \"\"}}, \"type\": \"scatter3d\"}], \"scattercarpet\": [{\"marker\": {\"colorbar\": {\"outlinewidth\": 0, \"ticks\": \"\"}}, \"type\": \"scattercarpet\"}], \"scattergeo\": [{\"marker\": {\"colorbar\": {\"outlinewidth\": 0, \"ticks\": \"\"}}, \"type\": \"scattergeo\"}], \"scattergl\": [{\"marker\": {\"colorbar\": {\"outlinewidth\": 0, \"ticks\": \"\"}}, \"type\": \"scattergl\"}], \"scattermapbox\": [{\"marker\": {\"colorbar\": {\"outlinewidth\": 0, \"ticks\": \"\"}}, \"type\": \"scattermapbox\"}], \"scatterpolar\": [{\"marker\": {\"colorbar\": {\"outlinewidth\": 0, \"ticks\": \"\"}}, \"type\": \"scatterpolar\"}], \"scatterpolargl\": [{\"marker\": {\"colorbar\": {\"outlinewidth\": 0, \"ticks\": \"\"}}, \"type\": \"scatterpolargl\"}], \"scatterternary\": [{\"marker\": {\"colorbar\": {\"outlinewidth\": 0, \"ticks\": \"\"}}, \"type\": \"scatterternary\"}], \"surface\": [{\"colorbar\": {\"outlinewidth\": 0, \"ticks\": \"\"}, \"colorscale\": [[0.0, \"#0d0887\"], [0.1111111111111111, \"#46039f\"], [0.2222222222222222, \"#7201a8\"], [0.3333333333333333, \"#9c179e\"], [0.4444444444444444, \"#bd3786\"], [0.5555555555555556, \"#d8576b\"], [0.6666666666666666, \"#ed7953\"], [0.7777777777777778, \"#fb9f3a\"], [0.8888888888888888, \"#fdca26\"], [1.0, \"#f0f921\"]], \"type\": \"surface\"}], \"table\": [{\"cells\": {\"fill\": {\"color\": \"#EBF0F8\"}, \"line\": {\"color\": \"white\"}}, \"header\": {\"fill\": {\"color\": \"#C8D4E3\"}, \"line\": {\"color\": \"white\"}}, \"type\": \"table\"}]}, \"layout\": {\"annotationdefaults\": {\"arrowcolor\": \"#2a3f5f\", \"arrowhead\": 0, \"arrowwidth\": 1}, \"coloraxis\": {\"colorbar\": {\"outlinewidth\": 0, \"ticks\": \"\"}}, \"colorscale\": {\"diverging\": [[0, \"#8e0152\"], [0.1, \"#c51b7d\"], [0.2, \"#de77ae\"], [0.3, \"#f1b6da\"], [0.4, \"#fde0ef\"], [0.5, \"#f7f7f7\"], [0.6, \"#e6f5d0\"], [0.7, \"#b8e186\"], [0.8, \"#7fbc41\"], [0.9, \"#4d9221\"], [1, \"#276419\"]], \"sequential\": [[0.0, \"#0d0887\"], [0.1111111111111111, \"#46039f\"], [0.2222222222222222, \"#7201a8\"], [0.3333333333333333, \"#9c179e\"], [0.4444444444444444, \"#bd3786\"], [0.5555555555555556, \"#d8576b\"], [0.6666666666666666, \"#ed7953\"], [0.7777777777777778, \"#fb9f3a\"], [0.8888888888888888, \"#fdca26\"], [1.0, \"#f0f921\"]], \"sequentialminus\": [[0.0, \"#0d0887\"], [0.1111111111111111, \"#46039f\"], [0.2222222222222222, \"#7201a8\"], [0.3333333333333333, \"#9c179e\"], [0.4444444444444444, \"#bd3786\"], [0.5555555555555556, \"#d8576b\"], [0.6666666666666666, \"#ed7953\"], [0.7777777777777778, \"#fb9f3a\"], [0.8888888888888888, \"#fdca26\"], [1.0, \"#f0f921\"]]}, \"colorway\": [\"#636efa\", \"#EF553B\", \"#00cc96\", \"#ab63fa\", \"#FFA15A\", \"#19d3f3\", \"#FF6692\", \"#B6E880\", \"#FF97FF\", \"#FECB52\"], \"font\": {\"color\": \"#2a3f5f\"}, \"geo\": {\"bgcolor\": \"white\", \"lakecolor\": \"white\", \"landcolor\": \"#E5ECF6\", \"showlakes\": true, \"showland\": true, \"subunitcolor\": \"white\"}, \"hoverlabel\": {\"align\": \"left\"}, \"hovermode\": \"closest\", \"mapbox\": {\"style\": \"light\"}, \"paper_bgcolor\": \"white\", \"plot_bgcolor\": \"#E5ECF6\", \"polar\": {\"angularaxis\": {\"gridcolor\": \"white\", \"linecolor\": \"white\", \"ticks\": \"\"}, \"bgcolor\": \"#E5ECF6\", \"radialaxis\": {\"gridcolor\": \"white\", \"linecolor\": \"white\", \"ticks\": \"\"}}, \"scene\": {\"xaxis\": {\"backgroundcolor\": \"#E5ECF6\", \"gridcolor\": \"white\", \"gridwidth\": 2, \"linecolor\": \"white\", \"showbackground\": true, \"ticks\": \"\", \"zerolinecolor\": \"white\"}, \"yaxis\": {\"backgroundcolor\": \"#E5ECF6\", \"gridcolor\": \"white\", \"gridwidth\": 2, \"linecolor\": \"white\", \"showbackground\": true, \"ticks\": \"\", \"zerolinecolor\": \"white\"}, \"zaxis\": {\"backgroundcolor\": \"#E5ECF6\", \"gridcolor\": \"white\", \"gridwidth\": 2, \"linecolor\": \"white\", \"showbackground\": true, \"ticks\": \"\", \"zerolinecolor\": \"white\"}}, \"shapedefaults\": {\"line\": {\"color\": \"#2a3f5f\"}}, \"ternary\": {\"aaxis\": {\"gridcolor\": \"white\", \"linecolor\": \"white\", \"ticks\": \"\"}, \"baxis\": {\"gridcolor\": \"white\", \"linecolor\": \"white\", \"ticks\": \"\"}, \"bgcolor\": \"#E5ECF6\", \"caxis\": {\"gridcolor\": \"white\", \"linecolor\": \"white\", \"ticks\": \"\"}}, \"title\": {\"x\": 0.05}, \"xaxis\": {\"automargin\": true, \"gridcolor\": \"white\", \"linecolor\": \"white\", \"ticks\": \"\", \"title\": {\"standoff\": 15}, \"zerolinecolor\": \"white\", \"zerolinewidth\": 2}, \"yaxis\": {\"automargin\": true, \"gridcolor\": \"white\", \"linecolor\": \"white\", \"ticks\": \"\", \"title\": {\"standoff\": 15}, \"zerolinecolor\": \"white\", \"zerolinewidth\": 2}}}, \"xaxis\": {\"anchor\": \"y\", \"domain\": [0.0, 1.0], \"title\": {\"text\": \"Team\"}}, \"yaxis\": {\"anchor\": \"x\", \"domain\": [0.0, 1.0], \"title\": {\"text\": \"Productivity\"}}},\n",
       "                        {\"responsive\": true}\n",
       "                    ).then(function(){\n",
       "                            \n",
       "var gd = document.getElementById('0b304c2d-315e-446a-9858-780ff9058874');\n",
       "var x = new MutationObserver(function (mutations, observer) {{\n",
       "        var display = window.getComputedStyle(gd).display;\n",
       "        if (!display || display === 'none') {{\n",
       "            console.log([gd, 'removed!']);\n",
       "            Plotly.purge(gd);\n",
       "            observer.disconnect();\n",
       "        }}\n",
       "}});\n",
       "\n",
       "// Listen for the removal of the full notebook cells\n",
       "var notebookContainer = gd.closest('#notebook-container');\n",
       "if (notebookContainer) {{\n",
       "    x.observe(notebookContainer, {childList: true});\n",
       "}}\n",
       "\n",
       "// Listen for the clearing of the current output cell\n",
       "var outputEl = gd.closest('.output');\n",
       "if (outputEl) {{\n",
       "    x.observe(outputEl, {childList: true});\n",
       "}}\n",
       "\n",
       "                        })\n",
       "                };\n",
       "                });\n",
       "            </script>\n",
       "        </div>"
      ]
     },
     "metadata": {},
     "output_type": "display_data"
    }
   ],
   "source": [
    "# Productivity Box plots \n",
    "\n",
    "fig = px.box(df, x=\"Team\", y=\"Productivity\", points=\"all\",hover_name=\"ID Match\",)\n",
    "fig.show()"
   ]
  },
  {
   "cell_type": "code",
   "execution_count": null,
   "metadata": {},
   "outputs": [],
   "source": []
  }
 ],
 "metadata": {
  "kernelspec": {
   "display_name": "Python 3",
   "language": "python",
   "name": "python3"
  },
  "language_info": {
   "codemirror_mode": {
    "name": "ipython",
    "version": 3
   },
   "file_extension": ".py",
   "mimetype": "text/x-python",
   "name": "python",
   "nbconvert_exporter": "python",
   "pygments_lexer": "ipython3",
   "version": "3.7.4"
  }
 },
 "nbformat": 4,
 "nbformat_minor": 2
}
